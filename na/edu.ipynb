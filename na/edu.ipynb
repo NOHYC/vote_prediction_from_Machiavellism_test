{
 "metadata": {
  "language_info": {
   "codemirror_mode": {
    "name": "ipython",
    "version": 3
   },
   "file_extension": ".py",
   "mimetype": "text/x-python",
   "name": "python",
   "nbconvert_exporter": "python",
   "pygments_lexer": "ipython3",
   "version": "3.8.5-final"
  },
  "orig_nbformat": 2,
  "kernelspec": {
   "name": "Python 3.8.5 32-bit",
   "display_name": "Python 3.8.5 32-bit",
   "metadata": {
    "interpreter": {
     "hash": "dfe38cf5d4c6d2796b85a89a1485c67b699849fb9e33780f9bd5ec858f0dc3d3"
    }
   }
  }
 },
 "nbformat": 4,
 "nbformat_minor": 2,
 "cells": [
  {
   "cell_type": "code",
   "execution_count": 19,
   "metadata": {},
   "outputs": [],
   "source": [
    "import pandas as pd \n",
    "import numpy as np \n",
    "import matplotlib.pyplot as plt \n",
    "import seaborn as sns \n",
    "sns.set()"
   ]
  },
  {
   "cell_type": "code",
   "execution_count": 20,
   "metadata": {},
   "outputs": [],
   "source": [
    "train = pd.read_csv('C:/Users/nyc15/Desktop/data/train.csv')\n",
    "test = pd.read_csv('C:/Users/nyc15/Desktop/data/test_x.csv')"
   ]
  },
  {
   "cell_type": "code",
   "execution_count": 21,
   "metadata": {},
   "outputs": [],
   "source": [
    "y = train.voted.copy()\n",
    "train = train.drop(columns = 'voted')\n",
    "data = pd.concat([train,test])"
   ]
  },
  {
   "cell_type": "code",
   "execution_count": 22,
   "metadata": {},
   "outputs": [
    {
     "output_type": "execute_result",
     "data": {
      "text/plain": [
       "((56915, 77), (45532,))"
      ]
     },
     "metadata": {},
     "execution_count": 22
    }
   ],
   "source": [
    "data.shape,y.shape"
   ]
  },
  {
   "cell_type": "code",
   "execution_count": 30,
   "metadata": {},
   "outputs": [],
   "source": [
    "data.drop(index= data[data.familysize >=100].index, inplace = True) # 가족 사이즈 3개 열 (2147483647 , 999 , 100) 제거 "
   ]
  },
  {
   "cell_type": "code",
   "execution_count": 33,
   "metadata": {},
   "outputs": [
    {
     "output_type": "execute_result",
     "data": {
      "text/plain": [
       "Empty DataFrame\n",
       "Columns: [index, QaA, QaE, QbA, QbE, QcA, QcE, QdA, QdE, QeA, QeE, QfA, QfE, QgA, QgE, QhA, QhE, QiA, QiE, QjA, QjE, QkA, QkE, QlA, QlE, QmA, QmE, QnA, QnE, QoA, QoE, QpA, QpE, QqA, QqE, QrA, QrE, QsA, QsE, QtA, QtE, age_group, education, engnat, familysize, gender, hand, married, race, religion, tp01, tp02, tp03, tp04, tp05, tp06, tp07, tp08, tp09, tp10, urban, wf_01, wf_02, wf_03, wr_01, wr_02, wr_03, wr_04, wr_05, wr_06, wr_07, wr_08, wr_09, wr_10, wr_11, wr_12, wr_13]\n",
       "Index: []\n",
       "\n",
       "[0 rows x 77 columns]"
      ],
      "text/html": "<div>\n<style scoped>\n    .dataframe tbody tr th:only-of-type {\n        vertical-align: middle;\n    }\n\n    .dataframe tbody tr th {\n        vertical-align: top;\n    }\n\n    .dataframe thead th {\n        text-align: right;\n    }\n</style>\n<table border=\"1\" class=\"dataframe\">\n  <thead>\n    <tr style=\"text-align: right;\">\n      <th></th>\n      <th>index</th>\n      <th>QaA</th>\n      <th>QaE</th>\n      <th>QbA</th>\n      <th>QbE</th>\n      <th>QcA</th>\n      <th>QcE</th>\n      <th>QdA</th>\n      <th>QdE</th>\n      <th>QeA</th>\n      <th>...</th>\n      <th>wr_04</th>\n      <th>wr_05</th>\n      <th>wr_06</th>\n      <th>wr_07</th>\n      <th>wr_08</th>\n      <th>wr_09</th>\n      <th>wr_10</th>\n      <th>wr_11</th>\n      <th>wr_12</th>\n      <th>wr_13</th>\n    </tr>\n  </thead>\n  <tbody>\n  </tbody>\n</table>\n<p>0 rows × 77 columns</p>\n</div>"
     },
     "metadata": {},
     "execution_count": 33
    }
   ],
   "source": [
    "data[data.familysize >=100]"
   ]
  },
  {
   "source": [
    "## 1=Less than high school, 2=High school, 3=University degree, 4=Graduate degree, 0=무응답"
   ],
   "cell_type": "markdown",
   "metadata": {}
  },
  {
   "cell_type": "code",
   "execution_count": 34,
   "metadata": {},
   "outputs": [
    {
     "output_type": "execute_result",
     "data": {
      "text/plain": [
       "2    21068\n",
       "3    19024\n",
       "4     9817\n",
       "1     6352\n",
       "0      650\n",
       "Name: education, dtype: int64"
      ]
     },
     "metadata": {},
     "execution_count": 34
    }
   ],
   "source": [
    "data.education.value_counts()"
   ]
  },
  {
   "cell_type": "code",
   "execution_count": 35,
   "metadata": {},
   "outputs": [
    {
     "output_type": "execute_result",
     "data": {
      "text/plain": [
       "       index  QaA   QaE  QbA   QbE  QcA   QcE  QdA   QdE  QeA  ...  wr_04  \\\n",
       "113      113  3.0   749  3.0   539  4.0   487  2.0   937  3.0  ...      1   \n",
       "262      262  1.0   402  4.0  1117  4.0   676  1.0  1056  1.0  ...      1   \n",
       "439      439  3.0   395  4.0  1700  1.0   664  2.0   562  3.0  ...      1   \n",
       "537      537  1.0   456  5.0  1515  4.0  1312  2.0  3694  5.0  ...      1   \n",
       "715      715  1.0   275  5.0  1307  4.0   861  1.0   615  5.0  ...      1   \n",
       "...      ...  ...   ...  ...   ...  ...   ...  ...   ...  ...  ...    ...   \n",
       "11059  11059  2.0   856  3.0  3621  4.0   932  2.0  1619  4.0  ...      1   \n",
       "11073  11073  1.0   468  1.0  2281  1.0  1474  1.0  1622  4.0  ...      1   \n",
       "11255  11255  3.0   659  4.0  2750  4.0   459  2.0   630  4.0  ...      1   \n",
       "11277  11277  2.0   658  5.0   914  5.0  2102  1.0   476  5.0  ...      1   \n",
       "11359  11359  3.0  1184  4.0  1528  2.0   781  2.0   648  1.0  ...      1   \n",
       "\n",
       "       wr_05  wr_06  wr_07  wr_08  wr_09  wr_10  wr_11  wr_12  wr_13  \n",
       "113        1      0      1      1      0      1      0      1      1  \n",
       "262        1      0      1      1      0      1      0      1      1  \n",
       "439        0      0      1      1      0      1      0      1      1  \n",
       "537        1      0      1      1      0      1      1      1      1  \n",
       "715        1      1      1      1      0      1      0      1      1  \n",
       "...      ...    ...    ...    ...    ...    ...    ...    ...    ...  \n",
       "11059      1      0      1      1      1      1      1      1      1  \n",
       "11073      1      0      1      1      0      1      0      1      1  \n",
       "11255      1      1      1      1      0      1      1      1      1  \n",
       "11277      1      0      1      1      0      1      0      1      1  \n",
       "11359      1      0      1      1      0      1      0      1      1  \n",
       "\n",
       "[650 rows x 77 columns]"
      ],
      "text/html": "<div>\n<style scoped>\n    .dataframe tbody tr th:only-of-type {\n        vertical-align: middle;\n    }\n\n    .dataframe tbody tr th {\n        vertical-align: top;\n    }\n\n    .dataframe thead th {\n        text-align: right;\n    }\n</style>\n<table border=\"1\" class=\"dataframe\">\n  <thead>\n    <tr style=\"text-align: right;\">\n      <th></th>\n      <th>index</th>\n      <th>QaA</th>\n      <th>QaE</th>\n      <th>QbA</th>\n      <th>QbE</th>\n      <th>QcA</th>\n      <th>QcE</th>\n      <th>QdA</th>\n      <th>QdE</th>\n      <th>QeA</th>\n      <th>...</th>\n      <th>wr_04</th>\n      <th>wr_05</th>\n      <th>wr_06</th>\n      <th>wr_07</th>\n      <th>wr_08</th>\n      <th>wr_09</th>\n      <th>wr_10</th>\n      <th>wr_11</th>\n      <th>wr_12</th>\n      <th>wr_13</th>\n    </tr>\n  </thead>\n  <tbody>\n    <tr>\n      <th>113</th>\n      <td>113</td>\n      <td>3.0</td>\n      <td>749</td>\n      <td>3.0</td>\n      <td>539</td>\n      <td>4.0</td>\n      <td>487</td>\n      <td>2.0</td>\n      <td>937</td>\n      <td>3.0</td>\n      <td>...</td>\n      <td>1</td>\n      <td>1</td>\n      <td>0</td>\n      <td>1</td>\n      <td>1</td>\n      <td>0</td>\n      <td>1</td>\n      <td>0</td>\n      <td>1</td>\n      <td>1</td>\n    </tr>\n    <tr>\n      <th>262</th>\n      <td>262</td>\n      <td>1.0</td>\n      <td>402</td>\n      <td>4.0</td>\n      <td>1117</td>\n      <td>4.0</td>\n      <td>676</td>\n      <td>1.0</td>\n      <td>1056</td>\n      <td>1.0</td>\n      <td>...</td>\n      <td>1</td>\n      <td>1</td>\n      <td>0</td>\n      <td>1</td>\n      <td>1</td>\n      <td>0</td>\n      <td>1</td>\n      <td>0</td>\n      <td>1</td>\n      <td>1</td>\n    </tr>\n    <tr>\n      <th>439</th>\n      <td>439</td>\n      <td>3.0</td>\n      <td>395</td>\n      <td>4.0</td>\n      <td>1700</td>\n      <td>1.0</td>\n      <td>664</td>\n      <td>2.0</td>\n      <td>562</td>\n      <td>3.0</td>\n      <td>...</td>\n      <td>1</td>\n      <td>0</td>\n      <td>0</td>\n      <td>1</td>\n      <td>1</td>\n      <td>0</td>\n      <td>1</td>\n      <td>0</td>\n      <td>1</td>\n      <td>1</td>\n    </tr>\n    <tr>\n      <th>537</th>\n      <td>537</td>\n      <td>1.0</td>\n      <td>456</td>\n      <td>5.0</td>\n      <td>1515</td>\n      <td>4.0</td>\n      <td>1312</td>\n      <td>2.0</td>\n      <td>3694</td>\n      <td>5.0</td>\n      <td>...</td>\n      <td>1</td>\n      <td>1</td>\n      <td>0</td>\n      <td>1</td>\n      <td>1</td>\n      <td>0</td>\n      <td>1</td>\n      <td>1</td>\n      <td>1</td>\n      <td>1</td>\n    </tr>\n    <tr>\n      <th>715</th>\n      <td>715</td>\n      <td>1.0</td>\n      <td>275</td>\n      <td>5.0</td>\n      <td>1307</td>\n      <td>4.0</td>\n      <td>861</td>\n      <td>1.0</td>\n      <td>615</td>\n      <td>5.0</td>\n      <td>...</td>\n      <td>1</td>\n      <td>1</td>\n      <td>1</td>\n      <td>1</td>\n      <td>1</td>\n      <td>0</td>\n      <td>1</td>\n      <td>0</td>\n      <td>1</td>\n      <td>1</td>\n    </tr>\n    <tr>\n      <th>...</th>\n      <td>...</td>\n      <td>...</td>\n      <td>...</td>\n      <td>...</td>\n      <td>...</td>\n      <td>...</td>\n      <td>...</td>\n      <td>...</td>\n      <td>...</td>\n      <td>...</td>\n      <td>...</td>\n      <td>...</td>\n      <td>...</td>\n      <td>...</td>\n      <td>...</td>\n      <td>...</td>\n      <td>...</td>\n      <td>...</td>\n      <td>...</td>\n      <td>...</td>\n      <td>...</td>\n    </tr>\n    <tr>\n      <th>11059</th>\n      <td>11059</td>\n      <td>2.0</td>\n      <td>856</td>\n      <td>3.0</td>\n      <td>3621</td>\n      <td>4.0</td>\n      <td>932</td>\n      <td>2.0</td>\n      <td>1619</td>\n      <td>4.0</td>\n      <td>...</td>\n      <td>1</td>\n      <td>1</td>\n      <td>0</td>\n      <td>1</td>\n      <td>1</td>\n      <td>1</td>\n      <td>1</td>\n      <td>1</td>\n      <td>1</td>\n      <td>1</td>\n    </tr>\n    <tr>\n      <th>11073</th>\n      <td>11073</td>\n      <td>1.0</td>\n      <td>468</td>\n      <td>1.0</td>\n      <td>2281</td>\n      <td>1.0</td>\n      <td>1474</td>\n      <td>1.0</td>\n      <td>1622</td>\n      <td>4.0</td>\n      <td>...</td>\n      <td>1</td>\n      <td>1</td>\n      <td>0</td>\n      <td>1</td>\n      <td>1</td>\n      <td>0</td>\n      <td>1</td>\n      <td>0</td>\n      <td>1</td>\n      <td>1</td>\n    </tr>\n    <tr>\n      <th>11255</th>\n      <td>11255</td>\n      <td>3.0</td>\n      <td>659</td>\n      <td>4.0</td>\n      <td>2750</td>\n      <td>4.0</td>\n      <td>459</td>\n      <td>2.0</td>\n      <td>630</td>\n      <td>4.0</td>\n      <td>...</td>\n      <td>1</td>\n      <td>1</td>\n      <td>1</td>\n      <td>1</td>\n      <td>1</td>\n      <td>0</td>\n      <td>1</td>\n      <td>1</td>\n      <td>1</td>\n      <td>1</td>\n    </tr>\n    <tr>\n      <th>11277</th>\n      <td>11277</td>\n      <td>2.0</td>\n      <td>658</td>\n      <td>5.0</td>\n      <td>914</td>\n      <td>5.0</td>\n      <td>2102</td>\n      <td>1.0</td>\n      <td>476</td>\n      <td>5.0</td>\n      <td>...</td>\n      <td>1</td>\n      <td>1</td>\n      <td>0</td>\n      <td>1</td>\n      <td>1</td>\n      <td>0</td>\n      <td>1</td>\n      <td>0</td>\n      <td>1</td>\n      <td>1</td>\n    </tr>\n    <tr>\n      <th>11359</th>\n      <td>11359</td>\n      <td>3.0</td>\n      <td>1184</td>\n      <td>4.0</td>\n      <td>1528</td>\n      <td>2.0</td>\n      <td>781</td>\n      <td>2.0</td>\n      <td>648</td>\n      <td>1.0</td>\n      <td>...</td>\n      <td>1</td>\n      <td>1</td>\n      <td>0</td>\n      <td>1</td>\n      <td>1</td>\n      <td>0</td>\n      <td>1</td>\n      <td>0</td>\n      <td>1</td>\n      <td>1</td>\n    </tr>\n  </tbody>\n</table>\n<p>650 rows × 77 columns</p>\n</div>"
     },
     "metadata": {},
     "execution_count": 35
    }
   ],
   "source": [
    "data[data.education == 0] # train 컬럼에만 결측치 "
   ]
  },
  {
   "cell_type": "code",
   "execution_count": 40,
   "metadata": {},
   "outputs": [
    {
     "output_type": "execute_result",
     "data": {
      "text/plain": [
       "Index(['age_group', 'education', 'engnat', 'familysize', 'gender', 'hand',\n",
       "       'married', 'race', 'religion', 'tp01', 'tp02', 'tp03', 'tp04', 'tp05',\n",
       "       'tp06', 'tp07', 'tp08', 'tp09', 'tp10', 'urban', 'wf_01', 'wf_02',\n",
       "       'wf_03', 'wr_01', 'wr_02', 'wr_03', 'wr_04', 'wr_05', 'wr_06', 'wr_07',\n",
       "       'wr_08', 'wr_09', 'wr_10', 'wr_11', 'wr_12', 'wr_13'],\n",
       "      dtype='object')"
      ]
     },
     "metadata": {},
     "execution_count": 40
    }
   ],
   "source": [
    "data.columns[41:]"
   ]
  },
  {
   "cell_type": "code",
   "execution_count": 73,
   "metadata": {},
   "outputs": [
    {
     "output_type": "execute_result",
     "data": {
      "text/plain": [
       "(array([  650.,     0.,  6352.,     0.,     0., 21068.,     0., 19024.,\n",
       "            0.,  9817.]),\n",
       " array([0. , 0.4, 0.8, 1.2, 1.6, 2. , 2.4, 2.8, 3.2, 3.6, 4. ]),\n",
       " <BarContainer object of 10 artists>)"
      ]
     },
     "metadata": {},
     "execution_count": 73
    },
    {
     "output_type": "display_data",
     "data": {
      "text/plain": "<Figure size 432x288 with 1 Axes>",
      "image/svg+xml": "<?xml version=\"1.0\" encoding=\"utf-8\" standalone=\"no\"?>\r\n<!DOCTYPE svg PUBLIC \"-//W3C//DTD SVG 1.1//EN\"\r\n  \"http://www.w3.org/Graphics/SVG/1.1/DTD/svg11.dtd\">\r\n<!-- Created with matplotlib (https://matplotlib.org/) -->\r\n<svg height=\"251.399844pt\" version=\"1.1\" viewBox=\"0 0 389.285156 251.399844\" width=\"389.285156pt\" xmlns=\"http://www.w3.org/2000/svg\" xmlns:xlink=\"http://www.w3.org/1999/xlink\">\r\n <metadata>\r\n  <rdf:RDF xmlns:cc=\"http://creativecommons.org/ns#\" xmlns:dc=\"http://purl.org/dc/elements/1.1/\" xmlns:rdf=\"http://www.w3.org/1999/02/22-rdf-syntax-ns#\">\r\n   <cc:Work>\r\n    <dc:type rdf:resource=\"http://purl.org/dc/dcmitype/StillImage\"/>\r\n    <dc:date>2020-10-16T15:04:35.460344</dc:date>\r\n    <dc:format>image/svg+xml</dc:format>\r\n    <dc:creator>\r\n     <cc:Agent>\r\n      <dc:title>Matplotlib v3.3.1, https://matplotlib.org/</dc:title>\r\n     </cc:Agent>\r\n    </dc:creator>\r\n   </cc:Work>\r\n  </rdf:RDF>\r\n </metadata>\r\n <defs>\r\n  <style type=\"text/css\">*{stroke-linecap:butt;stroke-linejoin:round;}</style>\r\n </defs>\r\n <g id=\"figure_1\">\r\n  <g id=\"patch_1\">\r\n   <path d=\"M 0 251.399844 \r\nL 389.285156 251.399844 \r\nL 389.285156 0 \r\nL 0 0 \r\nz\r\n\" style=\"fill:#ffffff;\"/>\r\n  </g>\r\n  <g id=\"axes_1\">\r\n   <g id=\"patch_2\">\r\n    <path d=\"M 47.285156 224.64 \r\nL 382.085156 224.64 \r\nL 382.085156 7.2 \r\nL 47.285156 7.2 \r\nz\r\n\" style=\"fill:#eaeaf2;\"/>\r\n   </g>\r\n   <g id=\"matplotlib.axis_1\">\r\n    <g id=\"xtick_1\">\r\n     <g id=\"line2d_1\">\r\n      <path clip-path=\"url(#p23dfddb475)\" d=\"M 62.503338 224.64 \r\nL 62.503338 7.2 \r\n\" style=\"fill:none;stroke:#ffffff;stroke-linecap:round;\"/>\r\n     </g>\r\n     <g id=\"text_1\">\r\n      <!-- 0.0 -->\r\n      <g style=\"fill:#262626;\" transform=\"translate(54.858338 242.013594)scale(0.11 -0.11)\">\r\n       <defs>\r\n        <path d=\"M 4.15625 35.296875 \r\nQ 4.15625 48 6.765625 55.734375 \r\nQ 9.375 63.484375 14.515625 67.671875 \r\nQ 19.671875 71.875 27.484375 71.875 \r\nQ 33.25 71.875 37.59375 69.546875 \r\nQ 41.9375 67.234375 44.765625 62.859375 \r\nQ 47.609375 58.5 49.21875 52.21875 \r\nQ 50.828125 45.953125 50.828125 35.296875 \r\nQ 50.828125 22.703125 48.234375 14.96875 \r\nQ 45.65625 7.234375 40.5 3 \r\nQ 35.359375 -1.21875 27.484375 -1.21875 \r\nQ 17.140625 -1.21875 11.234375 6.203125 \r\nQ 4.15625 15.140625 4.15625 35.296875 \r\nz\r\nM 13.1875 35.296875 \r\nQ 13.1875 17.671875 17.3125 11.828125 \r\nQ 21.4375 6 27.484375 6 \r\nQ 33.546875 6 37.671875 11.859375 \r\nQ 41.796875 17.71875 41.796875 35.296875 \r\nQ 41.796875 52.984375 37.671875 58.78125 \r\nQ 33.546875 64.59375 27.390625 64.59375 \r\nQ 21.34375 64.59375 17.71875 59.46875 \r\nQ 13.1875 52.9375 13.1875 35.296875 \r\nz\r\n\" id=\"ArialMT-48\"/>\r\n        <path d=\"M 9.078125 0 \r\nL 9.078125 10.015625 \r\nL 19.09375 10.015625 \r\nL 19.09375 0 \r\nz\r\n\" id=\"ArialMT-46\"/>\r\n       </defs>\r\n       <use xlink:href=\"#ArialMT-48\"/>\r\n       <use x=\"55.615234\" xlink:href=\"#ArialMT-46\"/>\r\n       <use x=\"83.398438\" xlink:href=\"#ArialMT-48\"/>\r\n      </g>\r\n     </g>\r\n    </g>\r\n    <g id=\"xtick_2\">\r\n     <g id=\"line2d_2\">\r\n      <path clip-path=\"url(#p23dfddb475)\" d=\"M 100.548793 224.64 \r\nL 100.548793 7.2 \r\n\" style=\"fill:none;stroke:#ffffff;stroke-linecap:round;\"/>\r\n     </g>\r\n     <g id=\"text_2\">\r\n      <!-- 0.5 -->\r\n      <g style=\"fill:#262626;\" transform=\"translate(92.903793 242.013594)scale(0.11 -0.11)\">\r\n       <defs>\r\n        <path d=\"M 4.15625 18.75 \r\nL 13.375 19.53125 \r\nQ 14.40625 12.796875 18.140625 9.390625 \r\nQ 21.875 6 27.15625 6 \r\nQ 33.5 6 37.890625 10.78125 \r\nQ 42.28125 15.578125 42.28125 23.484375 \r\nQ 42.28125 31 38.0625 35.34375 \r\nQ 33.84375 39.703125 27 39.703125 \r\nQ 22.75 39.703125 19.328125 37.765625 \r\nQ 15.921875 35.84375 13.96875 32.765625 \r\nL 5.71875 33.84375 \r\nL 12.640625 70.609375 \r\nL 48.25 70.609375 \r\nL 48.25 62.203125 \r\nL 19.671875 62.203125 \r\nL 15.828125 42.96875 \r\nQ 22.265625 47.46875 29.34375 47.46875 \r\nQ 38.71875 47.46875 45.15625 40.96875 \r\nQ 51.609375 34.46875 51.609375 24.265625 \r\nQ 51.609375 14.546875 45.953125 7.46875 \r\nQ 39.0625 -1.21875 27.15625 -1.21875 \r\nQ 17.390625 -1.21875 11.203125 4.25 \r\nQ 5.03125 9.71875 4.15625 18.75 \r\nz\r\n\" id=\"ArialMT-53\"/>\r\n       </defs>\r\n       <use xlink:href=\"#ArialMT-48\"/>\r\n       <use x=\"55.615234\" xlink:href=\"#ArialMT-46\"/>\r\n       <use x=\"83.398438\" xlink:href=\"#ArialMT-53\"/>\r\n      </g>\r\n     </g>\r\n    </g>\r\n    <g id=\"xtick_3\">\r\n     <g id=\"line2d_3\">\r\n      <path clip-path=\"url(#p23dfddb475)\" d=\"M 138.594247 224.64 \r\nL 138.594247 7.2 \r\n\" style=\"fill:none;stroke:#ffffff;stroke-linecap:round;\"/>\r\n     </g>\r\n     <g id=\"text_3\">\r\n      <!-- 1.0 -->\r\n      <g style=\"fill:#262626;\" transform=\"translate(130.949247 242.013594)scale(0.11 -0.11)\">\r\n       <defs>\r\n        <path d=\"M 37.25 0 \r\nL 28.46875 0 \r\nL 28.46875 56 \r\nQ 25.296875 52.984375 20.140625 49.953125 \r\nQ 14.984375 46.921875 10.890625 45.40625 \r\nL 10.890625 53.90625 \r\nQ 18.265625 57.375 23.78125 62.296875 \r\nQ 29.296875 67.234375 31.59375 71.875 \r\nL 37.25 71.875 \r\nz\r\n\" id=\"ArialMT-49\"/>\r\n       </defs>\r\n       <use xlink:href=\"#ArialMT-49\"/>\r\n       <use x=\"55.615234\" xlink:href=\"#ArialMT-46\"/>\r\n       <use x=\"83.398438\" xlink:href=\"#ArialMT-48\"/>\r\n      </g>\r\n     </g>\r\n    </g>\r\n    <g id=\"xtick_4\">\r\n     <g id=\"line2d_4\">\r\n      <path clip-path=\"url(#p23dfddb475)\" d=\"M 176.639702 224.64 \r\nL 176.639702 7.2 \r\n\" style=\"fill:none;stroke:#ffffff;stroke-linecap:round;\"/>\r\n     </g>\r\n     <g id=\"text_4\">\r\n      <!-- 1.5 -->\r\n      <g style=\"fill:#262626;\" transform=\"translate(168.994702 242.013594)scale(0.11 -0.11)\">\r\n       <use xlink:href=\"#ArialMT-49\"/>\r\n       <use x=\"55.615234\" xlink:href=\"#ArialMT-46\"/>\r\n       <use x=\"83.398438\" xlink:href=\"#ArialMT-53\"/>\r\n      </g>\r\n     </g>\r\n    </g>\r\n    <g id=\"xtick_5\">\r\n     <g id=\"line2d_5\">\r\n      <path clip-path=\"url(#p23dfddb475)\" d=\"M 214.685156 224.64 \r\nL 214.685156 7.2 \r\n\" style=\"fill:none;stroke:#ffffff;stroke-linecap:round;\"/>\r\n     </g>\r\n     <g id=\"text_5\">\r\n      <!-- 2.0 -->\r\n      <g style=\"fill:#262626;\" transform=\"translate(207.040156 242.013594)scale(0.11 -0.11)\">\r\n       <defs>\r\n        <path d=\"M 50.34375 8.453125 \r\nL 50.34375 0 \r\nL 3.03125 0 \r\nQ 2.9375 3.171875 4.046875 6.109375 \r\nQ 5.859375 10.9375 9.828125 15.625 \r\nQ 13.8125 20.3125 21.34375 26.46875 \r\nQ 33.015625 36.03125 37.109375 41.625 \r\nQ 41.21875 47.21875 41.21875 52.203125 \r\nQ 41.21875 57.421875 37.46875 61 \r\nQ 33.734375 64.59375 27.734375 64.59375 \r\nQ 21.390625 64.59375 17.578125 60.78125 \r\nQ 13.765625 56.984375 13.71875 50.25 \r\nL 4.6875 51.171875 \r\nQ 5.609375 61.28125 11.65625 66.578125 \r\nQ 17.71875 71.875 27.9375 71.875 \r\nQ 38.234375 71.875 44.234375 66.15625 \r\nQ 50.25 60.453125 50.25 52 \r\nQ 50.25 47.703125 48.484375 43.546875 \r\nQ 46.734375 39.40625 42.65625 34.8125 \r\nQ 38.578125 30.21875 29.109375 22.21875 \r\nQ 21.1875 15.578125 18.9375 13.203125 \r\nQ 16.703125 10.84375 15.234375 8.453125 \r\nz\r\n\" id=\"ArialMT-50\"/>\r\n       </defs>\r\n       <use xlink:href=\"#ArialMT-50\"/>\r\n       <use x=\"55.615234\" xlink:href=\"#ArialMT-46\"/>\r\n       <use x=\"83.398438\" xlink:href=\"#ArialMT-48\"/>\r\n      </g>\r\n     </g>\r\n    </g>\r\n    <g id=\"xtick_6\">\r\n     <g id=\"line2d_6\">\r\n      <path clip-path=\"url(#p23dfddb475)\" d=\"M 252.730611 224.64 \r\nL 252.730611 7.2 \r\n\" style=\"fill:none;stroke:#ffffff;stroke-linecap:round;\"/>\r\n     </g>\r\n     <g id=\"text_6\">\r\n      <!-- 2.5 -->\r\n      <g style=\"fill:#262626;\" transform=\"translate(245.085611 242.013594)scale(0.11 -0.11)\">\r\n       <use xlink:href=\"#ArialMT-50\"/>\r\n       <use x=\"55.615234\" xlink:href=\"#ArialMT-46\"/>\r\n       <use x=\"83.398438\" xlink:href=\"#ArialMT-53\"/>\r\n      </g>\r\n     </g>\r\n    </g>\r\n    <g id=\"xtick_7\">\r\n     <g id=\"line2d_7\">\r\n      <path clip-path=\"url(#p23dfddb475)\" d=\"M 290.776065 224.64 \r\nL 290.776065 7.2 \r\n\" style=\"fill:none;stroke:#ffffff;stroke-linecap:round;\"/>\r\n     </g>\r\n     <g id=\"text_7\">\r\n      <!-- 3.0 -->\r\n      <g style=\"fill:#262626;\" transform=\"translate(283.131065 242.013594)scale(0.11 -0.11)\">\r\n       <defs>\r\n        <path d=\"M 4.203125 18.890625 \r\nL 12.984375 20.0625 \r\nQ 14.5 12.59375 18.140625 9.296875 \r\nQ 21.78125 6 27 6 \r\nQ 33.203125 6 37.46875 10.296875 \r\nQ 41.75 14.59375 41.75 20.953125 \r\nQ 41.75 27 37.796875 30.921875 \r\nQ 33.84375 34.859375 27.734375 34.859375 \r\nQ 25.25 34.859375 21.53125 33.890625 \r\nL 22.515625 41.609375 \r\nQ 23.390625 41.5 23.921875 41.5 \r\nQ 29.546875 41.5 34.03125 44.421875 \r\nQ 38.53125 47.359375 38.53125 53.46875 \r\nQ 38.53125 58.296875 35.25 61.46875 \r\nQ 31.984375 64.65625 26.8125 64.65625 \r\nQ 21.6875 64.65625 18.265625 61.421875 \r\nQ 14.84375 58.203125 13.875 51.765625 \r\nL 5.078125 53.328125 \r\nQ 6.6875 62.15625 12.390625 67.015625 \r\nQ 18.109375 71.875 26.609375 71.875 \r\nQ 32.46875 71.875 37.390625 69.359375 \r\nQ 42.328125 66.84375 44.9375 62.5 \r\nQ 47.5625 58.15625 47.5625 53.265625 \r\nQ 47.5625 48.640625 45.0625 44.828125 \r\nQ 42.578125 41.015625 37.703125 38.765625 \r\nQ 44.046875 37.3125 47.5625 32.6875 \r\nQ 51.078125 28.078125 51.078125 21.140625 \r\nQ 51.078125 11.765625 44.234375 5.25 \r\nQ 37.40625 -1.265625 26.953125 -1.265625 \r\nQ 17.53125 -1.265625 11.296875 4.34375 \r\nQ 5.078125 9.96875 4.203125 18.890625 \r\nz\r\n\" id=\"ArialMT-51\"/>\r\n       </defs>\r\n       <use xlink:href=\"#ArialMT-51\"/>\r\n       <use x=\"55.615234\" xlink:href=\"#ArialMT-46\"/>\r\n       <use x=\"83.398438\" xlink:href=\"#ArialMT-48\"/>\r\n      </g>\r\n     </g>\r\n    </g>\r\n    <g id=\"xtick_8\">\r\n     <g id=\"line2d_8\">\r\n      <path clip-path=\"url(#p23dfddb475)\" d=\"M 328.82152 224.64 \r\nL 328.82152 7.2 \r\n\" style=\"fill:none;stroke:#ffffff;stroke-linecap:round;\"/>\r\n     </g>\r\n     <g id=\"text_8\">\r\n      <!-- 3.5 -->\r\n      <g style=\"fill:#262626;\" transform=\"translate(321.17652 242.013594)scale(0.11 -0.11)\">\r\n       <use xlink:href=\"#ArialMT-51\"/>\r\n       <use x=\"55.615234\" xlink:href=\"#ArialMT-46\"/>\r\n       <use x=\"83.398438\" xlink:href=\"#ArialMT-53\"/>\r\n      </g>\r\n     </g>\r\n    </g>\r\n    <g id=\"xtick_9\">\r\n     <g id=\"line2d_9\">\r\n      <path clip-path=\"url(#p23dfddb475)\" d=\"M 366.866974 224.64 \r\nL 366.866974 7.2 \r\n\" style=\"fill:none;stroke:#ffffff;stroke-linecap:round;\"/>\r\n     </g>\r\n     <g id=\"text_9\">\r\n      <!-- 4.0 -->\r\n      <g style=\"fill:#262626;\" transform=\"translate(359.221974 242.013594)scale(0.11 -0.11)\">\r\n       <defs>\r\n        <path d=\"M 32.328125 0 \r\nL 32.328125 17.140625 \r\nL 1.265625 17.140625 \r\nL 1.265625 25.203125 \r\nL 33.9375 71.578125 \r\nL 41.109375 71.578125 \r\nL 41.109375 25.203125 \r\nL 50.78125 25.203125 \r\nL 50.78125 17.140625 \r\nL 41.109375 17.140625 \r\nL 41.109375 0 \r\nz\r\nM 32.328125 25.203125 \r\nL 32.328125 57.46875 \r\nL 9.90625 25.203125 \r\nz\r\n\" id=\"ArialMT-52\"/>\r\n       </defs>\r\n       <use xlink:href=\"#ArialMT-52\"/>\r\n       <use x=\"55.615234\" xlink:href=\"#ArialMT-46\"/>\r\n       <use x=\"83.398438\" xlink:href=\"#ArialMT-48\"/>\r\n      </g>\r\n     </g>\r\n    </g>\r\n   </g>\r\n   <g id=\"matplotlib.axis_2\">\r\n    <g id=\"ytick_1\">\r\n     <g id=\"line2d_10\">\r\n      <path clip-path=\"url(#p23dfddb475)\" d=\"M 47.285156 224.64 \r\nL 382.085156 224.64 \r\n\" style=\"fill:none;stroke:#ffffff;stroke-linecap:round;\"/>\r\n     </g>\r\n     <g id=\"text_10\">\r\n      <!-- 0 -->\r\n      <g style=\"fill:#262626;\" transform=\"translate(31.668125 228.576797)scale(0.11 -0.11)\">\r\n       <use xlink:href=\"#ArialMT-48\"/>\r\n      </g>\r\n     </g>\r\n    </g>\r\n    <g id=\"ytick_2\">\r\n     <g id=\"line2d_11\">\r\n      <path clip-path=\"url(#p23dfddb475)\" d=\"M 47.285156 200.06651 \r\nL 382.085156 200.06651 \r\n\" style=\"fill:none;stroke:#ffffff;stroke-linecap:round;\"/>\r\n     </g>\r\n     <g id=\"text_11\">\r\n      <!-- 2500 -->\r\n      <g style=\"fill:#262626;\" transform=\"translate(13.317031 204.003307)scale(0.11 -0.11)\">\r\n       <use xlink:href=\"#ArialMT-50\"/>\r\n       <use x=\"55.615234\" xlink:href=\"#ArialMT-53\"/>\r\n       <use x=\"111.230469\" xlink:href=\"#ArialMT-48\"/>\r\n       <use x=\"166.845703\" xlink:href=\"#ArialMT-48\"/>\r\n      </g>\r\n     </g>\r\n    </g>\r\n    <g id=\"ytick_3\">\r\n     <g id=\"line2d_12\">\r\n      <path clip-path=\"url(#p23dfddb475)\" d=\"M 47.285156 175.49302 \r\nL 382.085156 175.49302 \r\n\" style=\"fill:none;stroke:#ffffff;stroke-linecap:round;\"/>\r\n     </g>\r\n     <g id=\"text_12\">\r\n      <!-- 5000 -->\r\n      <g style=\"fill:#262626;\" transform=\"translate(13.317031 179.429817)scale(0.11 -0.11)\">\r\n       <use xlink:href=\"#ArialMT-53\"/>\r\n       <use x=\"55.615234\" xlink:href=\"#ArialMT-48\"/>\r\n       <use x=\"111.230469\" xlink:href=\"#ArialMT-48\"/>\r\n       <use x=\"166.845703\" xlink:href=\"#ArialMT-48\"/>\r\n      </g>\r\n     </g>\r\n    </g>\r\n    <g id=\"ytick_4\">\r\n     <g id=\"line2d_13\">\r\n      <path clip-path=\"url(#p23dfddb475)\" d=\"M 47.285156 150.91953 \r\nL 382.085156 150.91953 \r\n\" style=\"fill:none;stroke:#ffffff;stroke-linecap:round;\"/>\r\n     </g>\r\n     <g id=\"text_13\">\r\n      <!-- 7500 -->\r\n      <g style=\"fill:#262626;\" transform=\"translate(13.317031 154.856327)scale(0.11 -0.11)\">\r\n       <defs>\r\n        <path d=\"M 4.734375 62.203125 \r\nL 4.734375 70.65625 \r\nL 51.078125 70.65625 \r\nL 51.078125 63.8125 \r\nQ 44.234375 56.546875 37.515625 44.484375 \r\nQ 30.8125 32.421875 27.15625 19.671875 \r\nQ 24.515625 10.6875 23.78125 0 \r\nL 14.75 0 \r\nQ 14.890625 8.453125 18.0625 20.40625 \r\nQ 21.234375 32.375 27.171875 43.484375 \r\nQ 33.109375 54.59375 39.796875 62.203125 \r\nz\r\n\" id=\"ArialMT-55\"/>\r\n       </defs>\r\n       <use xlink:href=\"#ArialMT-55\"/>\r\n       <use x=\"55.615234\" xlink:href=\"#ArialMT-53\"/>\r\n       <use x=\"111.230469\" xlink:href=\"#ArialMT-48\"/>\r\n       <use x=\"166.845703\" xlink:href=\"#ArialMT-48\"/>\r\n      </g>\r\n     </g>\r\n    </g>\r\n    <g id=\"ytick_5\">\r\n     <g id=\"line2d_14\">\r\n      <path clip-path=\"url(#p23dfddb475)\" d=\"M 47.285156 126.34604 \r\nL 382.085156 126.34604 \r\n\" style=\"fill:none;stroke:#ffffff;stroke-linecap:round;\"/>\r\n     </g>\r\n     <g id=\"text_14\">\r\n      <!-- 10000 -->\r\n      <g style=\"fill:#262626;\" transform=\"translate(7.2 130.282837)scale(0.11 -0.11)\">\r\n       <use xlink:href=\"#ArialMT-49\"/>\r\n       <use x=\"55.615234\" xlink:href=\"#ArialMT-48\"/>\r\n       <use x=\"111.230469\" xlink:href=\"#ArialMT-48\"/>\r\n       <use x=\"166.845703\" xlink:href=\"#ArialMT-48\"/>\r\n       <use x=\"222.460938\" xlink:href=\"#ArialMT-48\"/>\r\n      </g>\r\n     </g>\r\n    </g>\r\n    <g id=\"ytick_6\">\r\n     <g id=\"line2d_15\">\r\n      <path clip-path=\"url(#p23dfddb475)\" d=\"M 47.285156 101.77255 \r\nL 382.085156 101.77255 \r\n\" style=\"fill:none;stroke:#ffffff;stroke-linecap:round;\"/>\r\n     </g>\r\n     <g id=\"text_15\">\r\n      <!-- 12500 -->\r\n      <g style=\"fill:#262626;\" transform=\"translate(7.2 105.709347)scale(0.11 -0.11)\">\r\n       <use xlink:href=\"#ArialMT-49\"/>\r\n       <use x=\"55.615234\" xlink:href=\"#ArialMT-50\"/>\r\n       <use x=\"111.230469\" xlink:href=\"#ArialMT-53\"/>\r\n       <use x=\"166.845703\" xlink:href=\"#ArialMT-48\"/>\r\n       <use x=\"222.460938\" xlink:href=\"#ArialMT-48\"/>\r\n      </g>\r\n     </g>\r\n    </g>\r\n    <g id=\"ytick_7\">\r\n     <g id=\"line2d_16\">\r\n      <path clip-path=\"url(#p23dfddb475)\" d=\"M 47.285156 77.19906 \r\nL 382.085156 77.19906 \r\n\" style=\"fill:none;stroke:#ffffff;stroke-linecap:round;\"/>\r\n     </g>\r\n     <g id=\"text_16\">\r\n      <!-- 15000 -->\r\n      <g style=\"fill:#262626;\" transform=\"translate(7.2 81.135857)scale(0.11 -0.11)\">\r\n       <use xlink:href=\"#ArialMT-49\"/>\r\n       <use x=\"55.615234\" xlink:href=\"#ArialMT-53\"/>\r\n       <use x=\"111.230469\" xlink:href=\"#ArialMT-48\"/>\r\n       <use x=\"166.845703\" xlink:href=\"#ArialMT-48\"/>\r\n       <use x=\"222.460938\" xlink:href=\"#ArialMT-48\"/>\r\n      </g>\r\n     </g>\r\n    </g>\r\n    <g id=\"ytick_8\">\r\n     <g id=\"line2d_17\">\r\n      <path clip-path=\"url(#p23dfddb475)\" d=\"M 47.285156 52.625571 \r\nL 382.085156 52.625571 \r\n\" style=\"fill:none;stroke:#ffffff;stroke-linecap:round;\"/>\r\n     </g>\r\n     <g id=\"text_17\">\r\n      <!-- 17500 -->\r\n      <g style=\"fill:#262626;\" transform=\"translate(7.2 56.562367)scale(0.11 -0.11)\">\r\n       <use xlink:href=\"#ArialMT-49\"/>\r\n       <use x=\"55.615234\" xlink:href=\"#ArialMT-55\"/>\r\n       <use x=\"111.230469\" xlink:href=\"#ArialMT-53\"/>\r\n       <use x=\"166.845703\" xlink:href=\"#ArialMT-48\"/>\r\n       <use x=\"222.460938\" xlink:href=\"#ArialMT-48\"/>\r\n      </g>\r\n     </g>\r\n    </g>\r\n    <g id=\"ytick_9\">\r\n     <g id=\"line2d_18\">\r\n      <path clip-path=\"url(#p23dfddb475)\" d=\"M 47.285156 28.052081 \r\nL 382.085156 28.052081 \r\n\" style=\"fill:none;stroke:#ffffff;stroke-linecap:round;\"/>\r\n     </g>\r\n     <g id=\"text_18\">\r\n      <!-- 20000 -->\r\n      <g style=\"fill:#262626;\" transform=\"translate(7.2 31.988877)scale(0.11 -0.11)\">\r\n       <use xlink:href=\"#ArialMT-50\"/>\r\n       <use x=\"55.615234\" xlink:href=\"#ArialMT-48\"/>\r\n       <use x=\"111.230469\" xlink:href=\"#ArialMT-48\"/>\r\n       <use x=\"166.845703\" xlink:href=\"#ArialMT-48\"/>\r\n       <use x=\"222.460938\" xlink:href=\"#ArialMT-48\"/>\r\n      </g>\r\n     </g>\r\n    </g>\r\n   </g>\r\n   <g id=\"patch_3\">\r\n    <path clip-path=\"url(#p23dfddb475)\" d=\"M 62.503338 224.64 \r\nL 92.939702 224.64 \r\nL 92.939702 218.250893 \r\nL 62.503338 218.250893 \r\nz\r\n\" style=\"fill:#4c72b0;stroke:#ffffff;stroke-linejoin:miter;\"/>\r\n   </g>\r\n   <g id=\"patch_4\">\r\n    <path clip-path=\"url(#p23dfddb475)\" d=\"M 92.939702 224.64 \r\nL 123.376065 224.64 \r\nL 123.376065 224.64 \r\nL 92.939702 224.64 \r\nz\r\n\" style=\"fill:#4c72b0;stroke:#ffffff;stroke-linejoin:miter;\"/>\r\n   </g>\r\n   <g id=\"patch_5\">\r\n    <path clip-path=\"url(#p23dfddb475)\" d=\"M 123.376065 224.64 \r\nL 153.812429 224.64 \r\nL 153.812429 162.203677 \r\nL 123.376065 162.203677 \r\nz\r\n\" style=\"fill:#4c72b0;stroke:#ffffff;stroke-linejoin:miter;\"/>\r\n   </g>\r\n   <g id=\"patch_6\">\r\n    <path clip-path=\"url(#p23dfddb475)\" d=\"M 153.812429 224.64 \r\nL 184.248793 224.64 \r\nL 184.248793 224.64 \r\nL 153.812429 224.64 \r\nz\r\n\" style=\"fill:#4c72b0;stroke:#ffffff;stroke-linejoin:miter;\"/>\r\n   </g>\r\n   <g id=\"patch_7\">\r\n    <path clip-path=\"url(#p23dfddb475)\" d=\"M 184.248793 224.64 \r\nL 214.685156 224.64 \r\nL 214.685156 224.64 \r\nL 184.248793 224.64 \r\nz\r\n\" style=\"fill:#4c72b0;stroke:#ffffff;stroke-linejoin:miter;\"/>\r\n   </g>\r\n   <g id=\"patch_8\">\r\n    <path clip-path=\"url(#p23dfddb475)\" d=\"M 214.685156 224.64 \r\nL 245.12152 224.64 \r\nL 245.12152 17.554286 \r\nL 214.685156 17.554286 \r\nz\r\n\" style=\"fill:#4c72b0;stroke:#ffffff;stroke-linejoin:miter;\"/>\r\n   </g>\r\n   <g id=\"patch_9\">\r\n    <path clip-path=\"url(#p23dfddb475)\" d=\"M 245.12152 224.64 \r\nL 275.557884 224.64 \r\nL 275.557884 224.64 \r\nL 245.12152 224.64 \r\nz\r\n\" style=\"fill:#4c72b0;stroke:#ffffff;stroke-linejoin:miter;\"/>\r\n   </g>\r\n   <g id=\"patch_10\">\r\n    <path clip-path=\"url(#p23dfddb475)\" d=\"M 275.557884 224.64 \r\nL 305.994247 224.64 \r\nL 305.994247 37.645571 \r\nL 275.557884 37.645571 \r\nz\r\n\" style=\"fill:#4c72b0;stroke:#ffffff;stroke-linejoin:miter;\"/>\r\n   </g>\r\n   <g id=\"patch_11\">\r\n    <path clip-path=\"url(#p23dfddb475)\" d=\"M 305.994247 224.64 \r\nL 336.430611 224.64 \r\nL 336.430611 224.64 \r\nL 305.994247 224.64 \r\nz\r\n\" style=\"fill:#4c72b0;stroke:#ffffff;stroke-linejoin:miter;\"/>\r\n   </g>\r\n   <g id=\"patch_12\">\r\n    <path clip-path=\"url(#p23dfddb475)\" d=\"M 336.430611 224.64 \r\nL 366.866974 224.64 \r\nL 366.866974 128.14482 \r\nL 336.430611 128.14482 \r\nz\r\n\" style=\"fill:#4c72b0;stroke:#ffffff;stroke-linejoin:miter;\"/>\r\n   </g>\r\n   <g id=\"patch_13\">\r\n    <path d=\"M 47.285156 224.64 \r\nL 47.285156 7.2 \r\n\" style=\"fill:none;stroke:#ffffff;stroke-linecap:square;stroke-linejoin:miter;stroke-width:1.25;\"/>\r\n   </g>\r\n   <g id=\"patch_14\">\r\n    <path d=\"M 382.085156 224.64 \r\nL 382.085156 7.2 \r\n\" style=\"fill:none;stroke:#ffffff;stroke-linecap:square;stroke-linejoin:miter;stroke-width:1.25;\"/>\r\n   </g>\r\n   <g id=\"patch_15\">\r\n    <path d=\"M 47.285156 224.64 \r\nL 382.085156 224.64 \r\n\" style=\"fill:none;stroke:#ffffff;stroke-linecap:square;stroke-linejoin:miter;stroke-width:1.25;\"/>\r\n   </g>\r\n   <g id=\"patch_16\">\r\n    <path d=\"M 47.285156 7.2 \r\nL 382.085156 7.2 \r\n\" style=\"fill:none;stroke:#ffffff;stroke-linecap:square;stroke-linejoin:miter;stroke-width:1.25;\"/>\r\n   </g>\r\n  </g>\r\n </g>\r\n <defs>\r\n  <clipPath id=\"p23dfddb475\">\r\n   <rect height=\"217.44\" width=\"334.8\" x=\"47.285156\" y=\"7.2\"/>\r\n  </clipPath>\r\n </defs>\r\n</svg>\r\n",
      "image/png": "[encoded data removed]"
     },
     "metadata": {}
    }
   ],
   "source": [
    "plt.hist(data.education)"
   ]
  },
  {
   "cell_type": "code",
   "execution_count": 97,
   "metadata": {},
   "outputs": [],
   "source": [
    "ads = data.iloc[:,-13:].apply(lambda x: 56915- x.value_counts()[1])\n",
    "df =pd.DataFrame()\n",
    "for num,i in enumerate(ads):\n",
    "    df[ads.index.values[num]] = data.iloc[:,-13:].iloc[:,num]*i\n",
    "data['wrsum'] = df.sum(axis = 1)"
   ]
  },
  {
   "cell_type": "code",
   "execution_count": 113,
   "metadata": {},
   "outputs": [
    {
     "output_type": "execute_result",
     "data": {
      "text/plain": [
       "              wrsum  education\n",
       "wrsum      1.000000   0.252721\n",
       "education  0.252721   1.000000"
      ],
      "text/html": "<div>\n<style scoped>\n    .dataframe tbody tr th:only-of-type {\n        vertical-align: middle;\n    }\n\n    .dataframe tbody tr th {\n        vertical-align: top;\n    }\n\n    .dataframe thead th {\n        text-align: right;\n    }\n</style>\n<table border=\"1\" class=\"dataframe\">\n  <thead>\n    <tr style=\"text-align: right;\">\n      <th></th>\n      <th>wrsum</th>\n      <th>education</th>\n    </tr>\n  </thead>\n  <tbody>\n    <tr>\n      <th>wrsum</th>\n      <td>1.000000</td>\n      <td>0.252721</td>\n    </tr>\n    <tr>\n      <th>education</th>\n      <td>0.252721</td>\n      <td>1.000000</td>\n    </tr>\n  </tbody>\n</table>\n</div>"
     },
     "metadata": {},
     "execution_count": 113
    }
   ],
   "source": [
    "data[data.education != 0][['wrsum','education']].corr()"
   ]
  },
  {
   "cell_type": "code",
   "execution_count": 117,
   "metadata": {},
   "outputs": [],
   "source": [
    "nodata = data[data.education == 0]"
   ]
  },
  {
   "cell_type": "code",
   "execution_count": 118,
   "metadata": {},
   "outputs": [],
   "source": [
    "indata = data[data.education != 0]"
   ]
  },
  {
   "cell_type": "code",
   "execution_count": 306,
   "metadata": {},
   "outputs": [],
   "source": [
    "indata['wrsums']=indata.iloc[:,61:77].sum(axis = 1)"
   ]
  },
  {
   "cell_type": "code",
   "execution_count": 119,
   "metadata": {},
   "outputs": [
    {
     "output_type": "execute_result",
     "data": {
      "text/plain": [
       "((650, 78), (56261, 78))"
      ]
     },
     "metadata": {},
     "execution_count": 119
    }
   ],
   "source": [
    "nodata.shape,indata.shape"
   ]
  },
  {
   "cell_type": "code",
   "execution_count": 175,
   "metadata": {},
   "outputs": [
    {
     "output_type": "execute_result",
     "data": {
      "text/plain": [
       "married  education\n",
       "0        4             1\n",
       "1        1             2\n",
       "         2             6\n",
       "         3             4\n",
       "         4             6\n",
       "2        1             5\n",
       "         2            38\n",
       "         3            57\n",
       "         4            77\n",
       "3        1             4\n",
       "         2            42\n",
       "         3            28\n",
       "         4            29\n",
       "dtype: int64"
      ]
     },
     "metadata": {},
     "execution_count": 175
    }
   ],
   "source": [
    "indata.iloc[:,41:].groupby(['age_group','married','education']).size().loc['+70s']"
   ]
  },
  {
   "cell_type": "code",
   "execution_count": 169,
   "metadata": {},
   "outputs": [
    {
     "output_type": "execute_result",
     "data": {
      "text/plain": [
       "age_group\n",
       "+70s      7\n",
       "10s     144\n",
       "20s     165\n",
       "30s     138\n",
       "40s      91\n",
       "50s      71\n",
       "60s      34\n",
       "dtype: int64"
      ]
     },
     "metadata": {},
     "execution_count": 169
    }
   ],
   "source": [
    "nodata.groupby('age_group').size()"
   ]
  },
  {
   "cell_type": "code",
   "execution_count": 181,
   "metadata": {},
   "outputs": [],
   "source": [
    "indata = pd.concat([indata,pd.get_dummies(indata['age_group'])],axis=1)"
   ]
  },
  {
   "cell_type": "code",
   "execution_count": 182,
   "metadata": {},
   "outputs": [
    {
     "output_type": "execute_result",
     "data": {
      "text/plain": [
       "       index  QaA   QaE  QbA   QbE  QcA   QcE  QdA   QdE  QeA  ...  wr_12  \\\n",
       "0          0  3.0   363  4.0  1370  5.0   997  1.0  1024  2.0  ...      1   \n",
       "1          1  5.0   647  5.0  1313  3.0  3387  5.0  2969  1.0  ...      1   \n",
       "2          2  4.0  1623  1.0  1480  1.0  1021  4.0  3374  5.0  ...      1   \n",
       "3          3  3.0   504  3.0  2311  4.0   992  3.0  3245  1.0  ...      1   \n",
       "4          4  1.0   927  1.0   707  5.0   556  2.0  1062  1.0  ...      1   \n",
       "...      ...  ...   ...  ...   ...  ...   ...  ...   ...  ...  ...    ...   \n",
       "11378  11378  5.0   427  5.0  1066  5.0   588  1.0   560  2.0  ...      1   \n",
       "11379  11379  1.0   314  5.0   554  5.0   230  1.0   956  2.0  ...      1   \n",
       "11380  11380  1.0   627  2.0   799  1.0   739  2.0  1123  1.0  ...      1   \n",
       "11381  11381  2.0   539  1.0  2090  2.0  4642  1.0   673  2.0  ...      1   \n",
       "11382  11382  2.0   541  4.0   900  5.0   691  2.0  1951  1.0  ...      0   \n",
       "\n",
       "       wr_13   wrsum  +70s  10s  20s  30s  40s  50s  60s  \n",
       "0          1   24924     0    0    0    1    0    0    0  \n",
       "1          1   32341     0    0    1    0    0    0    0  \n",
       "2          1   94260     0    0    0    1    0    0    0  \n",
       "3          1   15507     0    0    1    0    0    0    0  \n",
       "4          1  121453     0    0    1    0    0    0    0  \n",
       "...      ...     ...   ...  ...  ...  ...  ...  ...  ...  \n",
       "11378      1   48827     0    0    1    0    0    0    0  \n",
       "11379      1  211917     0    1    0    0    0    0    0  \n",
       "11380      1   93858     0    0    0    1    0    0    0  \n",
       "11381      0   73132     0    0    0    0    1    0    0  \n",
       "11382      0   74211     0    0    1    0    0    0    0  \n",
       "\n",
       "[56261 rows x 85 columns]"
      ],
      "text/html": "<div>\n<style scoped>\n    .dataframe tbody tr th:only-of-type {\n        vertical-align: middle;\n    }\n\n    .dataframe tbody tr th {\n        vertical-align: top;\n    }\n\n    .dataframe thead th {\n        text-align: right;\n    }\n</style>\n<table border=\"1\" class=\"dataframe\">\n  <thead>\n    <tr style=\"text-align: right;\">\n      <th></th>\n      <th>index</th>\n      <th>QaA</th>\n      <th>QaE</th>\n      <th>QbA</th>\n      <th>QbE</th>\n      <th>QcA</th>\n      <th>QcE</th>\n      <th>QdA</th>\n      <th>QdE</th>\n      <th>QeA</th>\n      <th>...</th>\n      <th>wr_12</th>\n      <th>wr_13</th>\n      <th>wrsum</th>\n      <th>+70s</th>\n      <th>10s</th>\n      <th>20s</th>\n      <th>30s</th>\n      <th>40s</th>\n      <th>50s</th>\n      <th>60s</th>\n    </tr>\n  </thead>\n  <tbody>\n    <tr>\n      <th>0</th>\n      <td>0</td>\n      <td>3.0</td>\n      <td>363</td>\n      <td>4.0</td>\n      <td>1370</td>\n      <td>5.0</td>\n      <td>997</td>\n      <td>1.0</td>\n      <td>1024</td>\n      <td>2.0</td>\n      <td>...</td>\n      <td>1</td>\n      <td>1</td>\n      <td>24924</td>\n      <td>0</td>\n      <td>0</td>\n      <td>0</td>\n      <td>1</td>\n      <td>0</td>\n      <td>0</td>\n      <td>0</td>\n    </tr>\n    <tr>\n      <th>1</th>\n      <td>1</td>\n      <td>5.0</td>\n      <td>647</td>\n      <td>5.0</td>\n      <td>1313</td>\n      <td>3.0</td>\n      <td>3387</td>\n      <td>5.0</td>\n      <td>2969</td>\n      <td>1.0</td>\n      <td>...</td>\n      <td>1</td>\n      <td>1</td>\n      <td>32341</td>\n      <td>0</td>\n      <td>0</td>\n      <td>1</td>\n      <td>0</td>\n      <td>0</td>\n      <td>0</td>\n      <td>0</td>\n    </tr>\n    <tr>\n      <th>2</th>\n      <td>2</td>\n      <td>4.0</td>\n      <td>1623</td>\n      <td>1.0</td>\n      <td>1480</td>\n      <td>1.0</td>\n      <td>1021</td>\n      <td>4.0</td>\n      <td>3374</td>\n      <td>5.0</td>\n      <td>...</td>\n      <td>1</td>\n      <td>1</td>\n      <td>94260</td>\n      <td>0</td>\n      <td>0</td>\n      <td>0</td>\n      <td>1</td>\n      <td>0</td>\n      <td>0</td>\n      <td>0</td>\n    </tr>\n    <tr>\n      <th>3</th>\n      <td>3</td>\n      <td>3.0</td>\n      <td>504</td>\n      <td>3.0</td>\n      <td>2311</td>\n      <td>4.0</td>\n      <td>992</td>\n      <td>3.0</td>\n      <td>3245</td>\n      <td>1.0</td>\n      <td>...</td>\n      <td>1</td>\n      <td>1</td>\n      <td>15507</td>\n      <td>0</td>\n      <td>0</td>\n      <td>1</td>\n      <td>0</td>\n      <td>0</td>\n      <td>0</td>\n      <td>0</td>\n    </tr>\n    <tr>\n      <th>4</th>\n      <td>4</td>\n      <td>1.0</td>\n      <td>927</td>\n      <td>1.0</td>\n      <td>707</td>\n      <td>5.0</td>\n      <td>556</td>\n      <td>2.0</td>\n      <td>1062</td>\n      <td>1.0</td>\n      <td>...</td>\n      <td>1</td>\n      <td>1</td>\n      <td>121453</td>\n      <td>0</td>\n      <td>0</td>\n      <td>1</td>\n      <td>0</td>\n      <td>0</td>\n      <td>0</td>\n      <td>0</td>\n    </tr>\n    <tr>\n      <th>...</th>\n      <td>...</td>\n      <td>...</td>\n      <td>...</td>\n      <td>...</td>\n      <td>...</td>\n      <td>...</td>\n      <td>...</td>\n      <td>...</td>\n      <td>...</td>\n      <td>...</td>\n      <td>...</td>\n      <td>...</td>\n      <td>...</td>\n      <td>...</td>\n      <td>...</td>\n      <td>...</td>\n      <td>...</td>\n      <td>...</td>\n      <td>...</td>\n      <td>...</td>\n      <td>...</td>\n    </tr>\n    <tr>\n      <th>11378</th>\n      <td>11378</td>\n      <td>5.0</td>\n      <td>427</td>\n      <td>5.0</td>\n      <td>1066</td>\n      <td>5.0</td>\n      <td>588</td>\n      <td>1.0</td>\n      <td>560</td>\n      <td>2.0</td>\n      <td>...</td>\n      <td>1</td>\n      <td>1</td>\n      <td>48827</td>\n      <td>0</td>\n      <td>0</td>\n      <td>1</td>\n      <td>0</td>\n      <td>0</td>\n      <td>0</td>\n      <td>0</td>\n    </tr>\n    <tr>\n      <th>11379</th>\n      <td>11379</td>\n      <td>1.0</td>\n      <td>314</td>\n      <td>5.0</td>\n      <td>554</td>\n      <td>5.0</td>\n      <td>230</td>\n      <td>1.0</td>\n      <td>956</td>\n      <td>2.0</td>\n      <td>...</td>\n      <td>1</td>\n      <td>1</td>\n      <td>211917</td>\n      <td>0</td>\n      <td>1</td>\n      <td>0</td>\n      <td>0</td>\n      <td>0</td>\n      <td>0</td>\n      <td>0</td>\n    </tr>\n    <tr>\n      <th>11380</th>\n      <td>11380</td>\n      <td>1.0</td>\n      <td>627</td>\n      <td>2.0</td>\n      <td>799</td>\n      <td>1.0</td>\n      <td>739</td>\n      <td>2.0</td>\n      <td>1123</td>\n      <td>1.0</td>\n      <td>...</td>\n      <td>1</td>\n      <td>1</td>\n      <td>93858</td>\n      <td>0</td>\n      <td>0</td>\n      <td>0</td>\n      <td>1</td>\n      <td>0</td>\n      <td>0</td>\n      <td>0</td>\n    </tr>\n    <tr>\n      <th>11381</th>\n      <td>11381</td>\n      <td>2.0</td>\n      <td>539</td>\n      <td>1.0</td>\n      <td>2090</td>\n      <td>2.0</td>\n      <td>4642</td>\n      <td>1.0</td>\n      <td>673</td>\n      <td>2.0</td>\n      <td>...</td>\n      <td>1</td>\n      <td>0</td>\n      <td>73132</td>\n      <td>0</td>\n      <td>0</td>\n      <td>0</td>\n      <td>0</td>\n      <td>1</td>\n      <td>0</td>\n      <td>0</td>\n    </tr>\n    <tr>\n      <th>11382</th>\n      <td>11382</td>\n      <td>2.0</td>\n      <td>541</td>\n      <td>4.0</td>\n      <td>900</td>\n      <td>5.0</td>\n      <td>691</td>\n      <td>2.0</td>\n      <td>1951</td>\n      <td>1.0</td>\n      <td>...</td>\n      <td>0</td>\n      <td>0</td>\n      <td>74211</td>\n      <td>0</td>\n      <td>0</td>\n      <td>1</td>\n      <td>0</td>\n      <td>0</td>\n      <td>0</td>\n      <td>0</td>\n    </tr>\n  </tbody>\n</table>\n<p>56261 rows × 85 columns</p>\n</div>"
     },
     "metadata": {},
     "execution_count": 182
    }
   ],
   "source": [
    "indata"
   ]
  },
  {
   "cell_type": "code",
   "execution_count": 186,
   "metadata": {},
   "outputs": [
    {
     "output_type": "execute_result",
     "data": {
      "text/plain": [
       "education     1.000000\n",
       "engnat        0.140881\n",
       "familysize   -0.009554\n",
       "hand         -0.035647\n",
       "married       0.260888\n",
       "tp01         -0.043494\n",
       "tp02          0.106205\n",
       "tp03         -0.110720\n",
       "tp04          0.072525\n",
       "tp05         -0.067401\n",
       "tp06          0.053688\n",
       "tp07         -0.104885\n",
       "tp08          0.151071\n",
       "tp09         -0.102817\n",
       "tp10          0.030206\n",
       "urban        -0.012622\n",
       "wf_01        -0.031696\n",
       "wf_02        -0.014616\n",
       "wf_03         0.014124\n",
       "wr_01         0.115594\n",
       "wr_02         0.015937\n",
       "wr_03         0.229388\n",
       "wr_04         0.049212\n",
       "wr_05         0.076917\n",
       "wr_06         0.198968\n",
       "wr_07        -0.006444\n",
       "wr_08         0.006034\n",
       "wr_09         0.155082\n",
       "wr_10         0.026861\n",
       "wr_11         0.139968\n",
       "wr_12         0.050607\n",
       "wr_13         0.033522\n",
       "wrsum         0.252721\n",
       "+70s          0.035735\n",
       "10s          -0.593503\n",
       "20s           0.214452\n",
       "30s           0.213664\n",
       "40s           0.167680\n",
       "50s           0.115171\n",
       "60s           0.080498\n",
       "Name: education, dtype: float64"
      ]
     },
     "metadata": {},
     "execution_count": 186
    }
   ],
   "source": [
    "indata.iloc[:,41:].corr()['education']"
   ]
  },
  {
   "cell_type": "code",
   "execution_count": 193,
   "metadata": {},
   "outputs": [],
   "source": [
    "indata['agenum'] = indata['age_group'].map({'30s':30, '20s':20, '40s':40, '50s':50, '10s':10, '60s':60, '+70s':70})"
   ]
  },
  {
   "cell_type": "code",
   "execution_count": 191,
   "metadata": {},
   "outputs": [
    {
     "output_type": "execute_result",
     "data": {
      "text/plain": [
       "array(['30s', '20s', '40s', '50s', '10s', '60s', '+70s'], dtype=object)"
      ]
     },
     "metadata": {},
     "execution_count": 191
    }
   ],
   "source": [
    "indata['age_group'].unique()"
   ]
  },
  {
   "cell_type": "code",
   "execution_count": 202,
   "metadata": {},
   "outputs": [],
   "source": [
    "indata['sex'] = indata['gender'].map({'Male':1,'Female':0})"
   ]
  },
  {
   "cell_type": "code",
   "execution_count": 203,
   "metadata": {},
   "outputs": [
    {
     "output_type": "execute_result",
     "data": {
      "text/plain": [
       "       index  QaA   QaE  QbA   QbE  QcA   QcE  QdA   QdE  QeA  ...   wrsum  \\\n",
       "0          0  3.0   363  4.0  1370  5.0   997  1.0  1024  2.0  ...   24924   \n",
       "1          1  5.0   647  5.0  1313  3.0  3387  5.0  2969  1.0  ...   32341   \n",
       "2          2  4.0  1623  1.0  1480  1.0  1021  4.0  3374  5.0  ...   94260   \n",
       "3          3  3.0   504  3.0  2311  4.0   992  3.0  3245  1.0  ...   15507   \n",
       "4          4  1.0   927  1.0   707  5.0   556  2.0  1062  1.0  ...  121453   \n",
       "...      ...  ...   ...  ...   ...  ...   ...  ...   ...  ...  ...     ...   \n",
       "11378  11378  5.0   427  5.0  1066  5.0   588  1.0   560  2.0  ...   48827   \n",
       "11379  11379  1.0   314  5.0   554  5.0   230  1.0   956  2.0  ...  211917   \n",
       "11380  11380  1.0   627  2.0   799  1.0   739  2.0  1123  1.0  ...   93858   \n",
       "11381  11381  2.0   539  1.0  2090  2.0  4642  1.0   673  2.0  ...   73132   \n",
       "11382  11382  2.0   541  4.0   900  5.0   691  2.0  1951  1.0  ...   74211   \n",
       "\n",
       "       +70s  10s  20s  30s  40s  50s  60s  agenum  sex  \n",
       "0         0    0    0    1    0    0    0      30    0  \n",
       "1         0    0    1    0    0    0    0      20    0  \n",
       "2         0    0    0    1    0    0    0      30    1  \n",
       "3         0    0    1    0    0    0    0      20    0  \n",
       "4         0    0    1    0    0    0    0      20    1  \n",
       "...     ...  ...  ...  ...  ...  ...  ...     ...  ...  \n",
       "11378     0    0    1    0    0    0    0      20    0  \n",
       "11379     0    1    0    0    0    0    0      10    0  \n",
       "11380     0    0    0    1    0    0    0      30    1  \n",
       "11381     0    0    0    0    1    0    0      40    0  \n",
       "11382     0    0    1    0    0    0    0      20    0  \n",
       "\n",
       "[56261 rows x 87 columns]"
      ],
      "text/html": "<div>\n<style scoped>\n    .dataframe tbody tr th:only-of-type {\n        vertical-align: middle;\n    }\n\n    .dataframe tbody tr th {\n        vertical-align: top;\n    }\n\n    .dataframe thead th {\n        text-align: right;\n    }\n</style>\n<table border=\"1\" class=\"dataframe\">\n  <thead>\n    <tr style=\"text-align: right;\">\n      <th></th>\n      <th>index</th>\n      <th>QaA</th>\n      <th>QaE</th>\n      <th>QbA</th>\n      <th>QbE</th>\n      <th>QcA</th>\n      <th>QcE</th>\n      <th>QdA</th>\n      <th>QdE</th>\n      <th>QeA</th>\n      <th>...</th>\n      <th>wrsum</th>\n      <th>+70s</th>\n      <th>10s</th>\n      <th>20s</th>\n      <th>30s</th>\n      <th>40s</th>\n      <th>50s</th>\n      <th>60s</th>\n      <th>agenum</th>\n      <th>sex</th>\n    </tr>\n  </thead>\n  <tbody>\n    <tr>\n      <th>0</th>\n      <td>0</td>\n      <td>3.0</td>\n      <td>363</td>\n      <td>4.0</td>\n      <td>1370</td>\n      <td>5.0</td>\n      <td>997</td>\n      <td>1.0</td>\n      <td>1024</td>\n      <td>2.0</td>\n      <td>...</td>\n      <td>24924</td>\n      <td>0</td>\n      <td>0</td>\n      <td>0</td>\n      <td>1</td>\n      <td>0</td>\n      <td>0</td>\n      <td>0</td>\n      <td>30</td>\n      <td>0</td>\n    </tr>\n    <tr>\n      <th>1</th>\n      <td>1</td>\n      <td>5.0</td>\n      <td>647</td>\n      <td>5.0</td>\n      <td>1313</td>\n      <td>3.0</td>\n      <td>3387</td>\n      <td>5.0</td>\n      <td>2969</td>\n      <td>1.0</td>\n      <td>...</td>\n      <td>32341</td>\n      <td>0</td>\n      <td>0</td>\n      <td>1</td>\n      <td>0</td>\n      <td>0</td>\n      <td>0</td>\n      <td>0</td>\n      <td>20</td>\n      <td>0</td>\n    </tr>\n    <tr>\n      <th>2</th>\n      <td>2</td>\n      <td>4.0</td>\n      <td>1623</td>\n      <td>1.0</td>\n      <td>1480</td>\n      <td>1.0</td>\n      <td>1021</td>\n      <td>4.0</td>\n      <td>3374</td>\n      <td>5.0</td>\n      <td>...</td>\n      <td>94260</td>\n      <td>0</td>\n      <td>0</td>\n      <td>0</td>\n      <td>1</td>\n      <td>0</td>\n      <td>0</td>\n      <td>0</td>\n      <td>30</td>\n      <td>1</td>\n    </tr>\n    <tr>\n      <th>3</th>\n      <td>3</td>\n      <td>3.0</td>\n      <td>504</td>\n      <td>3.0</td>\n      <td>2311</td>\n      <td>4.0</td>\n      <td>992</td>\n      <td>3.0</td>\n      <td>3245</td>\n      <td>1.0</td>\n      <td>...</td>\n      <td>15507</td>\n      <td>0</td>\n      <td>0</td>\n      <td>1</td>\n      <td>0</td>\n      <td>0</td>\n      <td>0</td>\n      <td>0</td>\n      <td>20</td>\n      <td>0</td>\n    </tr>\n    <tr>\n      <th>4</th>\n      <td>4</td>\n      <td>1.0</td>\n      <td>927</td>\n      <td>1.0</td>\n      <td>707</td>\n      <td>5.0</td>\n      <td>556</td>\n      <td>2.0</td>\n      <td>1062</td>\n      <td>1.0</td>\n      <td>...</td>\n      <td>121453</td>\n      <td>0</td>\n      <td>0</td>\n      <td>1</td>\n      <td>0</td>\n      <td>0</td>\n      <td>0</td>\n      <td>0</td>\n      <td>20</td>\n      <td>1</td>\n    </tr>\n    <tr>\n      <th>...</th>\n      <td>...</td>\n      <td>...</td>\n      <td>...</td>\n      <td>...</td>\n      <td>...</td>\n      <td>...</td>\n      <td>...</td>\n      <td>...</td>\n      <td>...</td>\n      <td>...</td>\n      <td>...</td>\n      <td>...</td>\n      <td>...</td>\n      <td>...</td>\n      <td>...</td>\n      <td>...</td>\n      <td>...</td>\n      <td>...</td>\n      <td>...</td>\n      <td>...</td>\n      <td>...</td>\n    </tr>\n    <tr>\n      <th>11378</th>\n      <td>11378</td>\n      <td>5.0</td>\n      <td>427</td>\n      <td>5.0</td>\n      <td>1066</td>\n      <td>5.0</td>\n      <td>588</td>\n      <td>1.0</td>\n      <td>560</td>\n      <td>2.0</td>\n      <td>...</td>\n      <td>48827</td>\n      <td>0</td>\n      <td>0</td>\n      <td>1</td>\n      <td>0</td>\n      <td>0</td>\n      <td>0</td>\n      <td>0</td>\n      <td>20</td>\n      <td>0</td>\n    </tr>\n    <tr>\n      <th>11379</th>\n      <td>11379</td>\n      <td>1.0</td>\n      <td>314</td>\n      <td>5.0</td>\n      <td>554</td>\n      <td>5.0</td>\n      <td>230</td>\n      <td>1.0</td>\n      <td>956</td>\n      <td>2.0</td>\n      <td>...</td>\n      <td>211917</td>\n      <td>0</td>\n      <td>1</td>\n      <td>0</td>\n      <td>0</td>\n      <td>0</td>\n      <td>0</td>\n      <td>0</td>\n      <td>10</td>\n      <td>0</td>\n    </tr>\n    <tr>\n      <th>11380</th>\n      <td>11380</td>\n      <td>1.0</td>\n      <td>627</td>\n      <td>2.0</td>\n      <td>799</td>\n      <td>1.0</td>\n      <td>739</td>\n      <td>2.0</td>\n      <td>1123</td>\n      <td>1.0</td>\n      <td>...</td>\n      <td>93858</td>\n      <td>0</td>\n      <td>0</td>\n      <td>0</td>\n      <td>1</td>\n      <td>0</td>\n      <td>0</td>\n      <td>0</td>\n      <td>30</td>\n      <td>1</td>\n    </tr>\n    <tr>\n      <th>11381</th>\n      <td>11381</td>\n      <td>2.0</td>\n      <td>539</td>\n      <td>1.0</td>\n      <td>2090</td>\n      <td>2.0</td>\n      <td>4642</td>\n      <td>1.0</td>\n      <td>673</td>\n      <td>2.0</td>\n      <td>...</td>\n      <td>73132</td>\n      <td>0</td>\n      <td>0</td>\n      <td>0</td>\n      <td>0</td>\n      <td>1</td>\n      <td>0</td>\n      <td>0</td>\n      <td>40</td>\n      <td>0</td>\n    </tr>\n    <tr>\n      <th>11382</th>\n      <td>11382</td>\n      <td>2.0</td>\n      <td>541</td>\n      <td>4.0</td>\n      <td>900</td>\n      <td>5.0</td>\n      <td>691</td>\n      <td>2.0</td>\n      <td>1951</td>\n      <td>1.0</td>\n      <td>...</td>\n      <td>74211</td>\n      <td>0</td>\n      <td>0</td>\n      <td>1</td>\n      <td>0</td>\n      <td>0</td>\n      <td>0</td>\n      <td>0</td>\n      <td>20</td>\n      <td>0</td>\n    </tr>\n  </tbody>\n</table>\n<p>56261 rows × 87 columns</p>\n</div>"
     },
     "metadata": {},
     "execution_count": 203
    }
   ],
   "source": [
    "indata"
   ]
  },
  {
   "cell_type": "code",
   "execution_count": 254,
   "metadata": {},
   "outputs": [],
   "source": [
    "indata['eng'] = indata['engnat'].map({2:0,1:1,0:0})"
   ]
  },
  {
   "cell_type": "code",
   "execution_count": 307,
   "metadata": {},
   "outputs": [
    {
     "output_type": "execute_result",
     "data": {
      "text/plain": [
       "education     1.000000\n",
       "engnat        0.140881\n",
       "familysize   -0.009554\n",
       "hand         -0.035647\n",
       "married       0.260888\n",
       "tp01         -0.043494\n",
       "tp02          0.106205\n",
       "tp03         -0.110720\n",
       "tp04          0.072525\n",
       "tp05         -0.067401\n",
       "tp06          0.053688\n",
       "tp07         -0.104885\n",
       "tp08          0.151071\n",
       "tp09         -0.102817\n",
       "tp10          0.030206\n",
       "urban        -0.012622\n",
       "wf_01        -0.031696\n",
       "wf_02        -0.014616\n",
       "wf_03         0.014124\n",
       "wr_01         0.115594\n",
       "wr_02         0.015937\n",
       "wr_03         0.229388\n",
       "wr_04         0.049212\n",
       "wr_05         0.076917\n",
       "wr_06         0.198968\n",
       "wr_07        -0.006444\n",
       "wr_08         0.006034\n",
       "wr_09         0.155082\n",
       "wr_10         0.026861\n",
       "wr_11         0.139968\n",
       "wr_12         0.050607\n",
       "wr_13         0.033522\n",
       "wrsum         0.252721\n",
       "+70s          0.035735\n",
       "10s          -0.593503\n",
       "20s           0.214452\n",
       "30s           0.213664\n",
       "40s           0.167680\n",
       "50s           0.115171\n",
       "60s           0.080498\n",
       "agenum        0.444194\n",
       "sex          -0.033858\n",
       "eng          -0.140602\n",
       "wrsums        0.164140\n",
       "Name: education, dtype: float64"
      ]
     },
     "metadata": {},
     "execution_count": 307
    }
   ],
   "source": [
    "indata.iloc[:,41:].corr()['education']"
   ]
  },
  {
   "cell_type": "code",
   "execution_count": null,
   "metadata": {},
   "outputs": [],
   "source": [
    "from sklearn.ensemble import RandomForestClassifier\n",
    "from sklearn.model_selection import train_test_split\n",
    "from sklearn.model_selection import GridSearchCV\n",
    "from sklearn.ensemble import VotingClassifier"
   ]
  },
  {
   "cell_type": "code",
   "execution_count": 278,
   "metadata": {},
   "outputs": [
    {
     "output_type": "execute_result",
     "data": {
      "text/plain": [
       "       10s   wrsum  agenum\n",
       "0        0   24924      30\n",
       "1        0   32341      20\n",
       "2        0   94260      30\n",
       "3        0   15507      20\n",
       "4        0  121453      20\n",
       "...    ...     ...     ...\n",
       "11378    0   48827      20\n",
       "11379    1  211917      10\n",
       "11380    0   93858      30\n",
       "11381    0   73132      40\n",
       "11382    0   74211      20\n",
       "\n",
       "[56261 rows x 3 columns]"
      ],
      "text/html": "<div>\n<style scoped>\n    .dataframe tbody tr th:only-of-type {\n        vertical-align: middle;\n    }\n\n    .dataframe tbody tr th {\n        vertical-align: top;\n    }\n\n    .dataframe thead th {\n        text-align: right;\n    }\n</style>\n<table border=\"1\" class=\"dataframe\">\n  <thead>\n    <tr style=\"text-align: right;\">\n      <th></th>\n      <th>10s</th>\n      <th>wrsum</th>\n      <th>agenum</th>\n    </tr>\n  </thead>\n  <tbody>\n    <tr>\n      <th>0</th>\n      <td>0</td>\n      <td>24924</td>\n      <td>30</td>\n    </tr>\n    <tr>\n      <th>1</th>\n      <td>0</td>\n      <td>32341</td>\n      <td>20</td>\n    </tr>\n    <tr>\n      <th>2</th>\n      <td>0</td>\n      <td>94260</td>\n      <td>30</td>\n    </tr>\n    <tr>\n      <th>3</th>\n      <td>0</td>\n      <td>15507</td>\n      <td>20</td>\n    </tr>\n    <tr>\n      <th>4</th>\n      <td>0</td>\n      <td>121453</td>\n      <td>20</td>\n    </tr>\n    <tr>\n      <th>...</th>\n      <td>...</td>\n      <td>...</td>\n      <td>...</td>\n    </tr>\n    <tr>\n      <th>11378</th>\n      <td>0</td>\n      <td>48827</td>\n      <td>20</td>\n    </tr>\n    <tr>\n      <th>11379</th>\n      <td>1</td>\n      <td>211917</td>\n      <td>10</td>\n    </tr>\n    <tr>\n      <th>11380</th>\n      <td>0</td>\n      <td>93858</td>\n      <td>30</td>\n    </tr>\n    <tr>\n      <th>11381</th>\n      <td>0</td>\n      <td>73132</td>\n      <td>40</td>\n    </tr>\n    <tr>\n      <th>11382</th>\n      <td>0</td>\n      <td>74211</td>\n      <td>20</td>\n    </tr>\n  </tbody>\n</table>\n<p>56261 rows × 3 columns</p>\n</div>"
     },
     "metadata": {},
     "execution_count": 278
    }
   ],
   "source": [
    "x = indata[['10s','wrsum','agenum']]#,'wrsum'\n",
    "x"
   ]
  },
  {
   "cell_type": "code",
   "execution_count": 279,
   "metadata": {},
   "outputs": [
    {
     "output_type": "execute_result",
     "data": {
      "text/plain": [
       "0        2\n",
       "1        4\n",
       "2        3\n",
       "3        4\n",
       "4        3\n",
       "        ..\n",
       "11378    3\n",
       "11379    2\n",
       "11380    4\n",
       "11381    2\n",
       "11382    4\n",
       "Name: education, Length: 56261, dtype: int64"
      ]
     },
     "metadata": {},
     "execution_count": 279
    }
   ],
   "source": [
    "y = indata['education']\n",
    "y"
   ]
  },
  {
   "cell_type": "code",
   "execution_count": 309,
   "metadata": {},
   "outputs": [],
   "source": [
    "xtrain,xtest,ytrain,ytest = train_test_split(x,y,test_size=0.3, random_state=11)"
   ]
  },
  {
   "cell_type": "code",
   "execution_count": 310,
   "metadata": {},
   "outputs": [],
   "source": [
    "rf = RandomForestClassifier(n_estimators=300) #,min_samples_leaf=4,max_depth=7,criterion='entropy'\n",
    "# rf.fit(xtrain,ytrain)\n",
    "# ypred = rf.predict(xtest)"
   ]
  },
  {
   "cell_type": "code",
   "execution_count": 313,
   "metadata": {},
   "outputs": [
    {
     "output_type": "error",
     "ename": "KeyboardInterrupt",
     "evalue": "",
     "traceback": [
      "\u001b[1;31m---------------------------------------------------------------------------\u001b[0m",
      "\u001b[1;31mKeyboardInterrupt\u001b[0m                         Traceback (most recent call last)",
      "\u001b[1;32m~\\AppData\\Local\\Programs\\Python\\Python38-32\\lib\\site-packages\\joblib\\parallel.py\u001b[0m in \u001b[0;36mretrieve\u001b[1;34m(self)\u001b[0m\n\u001b[0;32m    920\u001b[0m                 \u001b[1;32mif\u001b[0m \u001b[0mgetattr\u001b[0m\u001b[1;33m(\u001b[0m\u001b[0mself\u001b[0m\u001b[1;33m.\u001b[0m\u001b[0m_backend\u001b[0m\u001b[1;33m,\u001b[0m \u001b[1;34m'supports_timeout'\u001b[0m\u001b[1;33m,\u001b[0m \u001b[1;32mFalse\u001b[0m\u001b[1;33m)\u001b[0m\u001b[1;33m:\u001b[0m\u001b[1;33m\u001b[0m\u001b[1;33m\u001b[0m\u001b[0m\n\u001b[1;32m--> 921\u001b[1;33m                     \u001b[0mself\u001b[0m\u001b[1;33m.\u001b[0m\u001b[0m_output\u001b[0m\u001b[1;33m.\u001b[0m\u001b[0mextend\u001b[0m\u001b[1;33m(\u001b[0m\u001b[0mjob\u001b[0m\u001b[1;33m.\u001b[0m\u001b[0mget\u001b[0m\u001b[1;33m(\u001b[0m\u001b[0mtimeout\u001b[0m\u001b[1;33m=\u001b[0m\u001b[0mself\u001b[0m\u001b[1;33m.\u001b[0m\u001b[0mtimeout\u001b[0m\u001b[1;33m)\u001b[0m\u001b[1;33m)\u001b[0m\u001b[1;33m\u001b[0m\u001b[1;33m\u001b[0m\u001b[0m\n\u001b[0m\u001b[0;32m    922\u001b[0m                 \u001b[1;32melse\u001b[0m\u001b[1;33m:\u001b[0m\u001b[1;33m\u001b[0m\u001b[1;33m\u001b[0m\u001b[0m\n",
      "\u001b[1;32m~\\AppData\\Local\\Programs\\Python\\Python38-32\\lib\\site-packages\\joblib\\_parallel_backends.py\u001b[0m in \u001b[0;36mwrap_future_result\u001b[1;34m(future, timeout)\u001b[0m\n\u001b[0;32m    541\u001b[0m         \u001b[1;32mtry\u001b[0m\u001b[1;33m:\u001b[0m\u001b[1;33m\u001b[0m\u001b[1;33m\u001b[0m\u001b[0m\n\u001b[1;32m--> 542\u001b[1;33m             \u001b[1;32mreturn\u001b[0m \u001b[0mfuture\u001b[0m\u001b[1;33m.\u001b[0m\u001b[0mresult\u001b[0m\u001b[1;33m(\u001b[0m\u001b[0mtimeout\u001b[0m\u001b[1;33m=\u001b[0m\u001b[0mtimeout\u001b[0m\u001b[1;33m)\u001b[0m\u001b[1;33m\u001b[0m\u001b[1;33m\u001b[0m\u001b[0m\n\u001b[0m\u001b[0;32m    543\u001b[0m         \u001b[1;32mexcept\u001b[0m \u001b[0mCfTimeoutError\u001b[0m \u001b[1;32mas\u001b[0m \u001b[0me\u001b[0m\u001b[1;33m:\u001b[0m\u001b[1;33m\u001b[0m\u001b[1;33m\u001b[0m\u001b[0m\n",
      "\u001b[1;32m~\\AppData\\Local\\Programs\\Python\\Python38-32\\lib\\concurrent\\futures\\_base.py\u001b[0m in \u001b[0;36mresult\u001b[1;34m(self, timeout)\u001b[0m\n\u001b[0;32m    433\u001b[0m \u001b[1;33m\u001b[0m\u001b[0m\n\u001b[1;32m--> 434\u001b[1;33m             \u001b[0mself\u001b[0m\u001b[1;33m.\u001b[0m\u001b[0m_condition\u001b[0m\u001b[1;33m.\u001b[0m\u001b[0mwait\u001b[0m\u001b[1;33m(\u001b[0m\u001b[0mtimeout\u001b[0m\u001b[1;33m)\u001b[0m\u001b[1;33m\u001b[0m\u001b[1;33m\u001b[0m\u001b[0m\n\u001b[0m\u001b[0;32m    435\u001b[0m \u001b[1;33m\u001b[0m\u001b[0m\n",
      "\u001b[1;32m~\\AppData\\Local\\Programs\\Python\\Python38-32\\lib\\threading.py\u001b[0m in \u001b[0;36mwait\u001b[1;34m(self, timeout)\u001b[0m\n\u001b[0;32m    301\u001b[0m             \u001b[1;32mif\u001b[0m \u001b[0mtimeout\u001b[0m \u001b[1;32mis\u001b[0m \u001b[1;32mNone\u001b[0m\u001b[1;33m:\u001b[0m\u001b[1;33m\u001b[0m\u001b[1;33m\u001b[0m\u001b[0m\n\u001b[1;32m--> 302\u001b[1;33m                 \u001b[0mwaiter\u001b[0m\u001b[1;33m.\u001b[0m\u001b[0macquire\u001b[0m\u001b[1;33m(\u001b[0m\u001b[1;33m)\u001b[0m\u001b[1;33m\u001b[0m\u001b[1;33m\u001b[0m\u001b[0m\n\u001b[0m\u001b[0;32m    303\u001b[0m                 \u001b[0mgotit\u001b[0m \u001b[1;33m=\u001b[0m \u001b[1;32mTrue\u001b[0m\u001b[1;33m\u001b[0m\u001b[1;33m\u001b[0m\u001b[0m\n",
      "\u001b[1;31mKeyboardInterrupt\u001b[0m: ",
      "\nDuring handling of the above exception, another exception occurred:\n",
      "\u001b[1;31mKeyboardInterrupt\u001b[0m                         Traceback (most recent call last)",
      "\u001b[1;32m<ipython-input-313-f7ae3ea96db2>\u001b[0m in \u001b[0;36m<module>\u001b[1;34m\u001b[0m\n\u001b[0;32m      4\u001b[0m \u001b[0mparam_grid\u001b[0m \u001b[1;33m=\u001b[0m \u001b[1;33m[\u001b[0m\u001b[1;33m{\u001b[0m\u001b[1;34m'max_depth'\u001b[0m\u001b[1;33m:\u001b[0m\u001b[0mparam_range1\u001b[0m\u001b[1;33m,\u001b[0m\u001b[1;34m'min_samples_split'\u001b[0m\u001b[1;33m:\u001b[0m\u001b[0mparam_range2\u001b[0m\u001b[1;33m}\u001b[0m\u001b[1;33m]\u001b[0m\u001b[1;33m\u001b[0m\u001b[1;33m\u001b[0m\u001b[0m\n\u001b[0;32m      5\u001b[0m \u001b[0mgs1\u001b[0m \u001b[1;33m=\u001b[0m  \u001b[0mGridSearchCV\u001b[0m\u001b[1;33m(\u001b[0m\u001b[0mrf\u001b[0m\u001b[1;33m,\u001b[0m\u001b[0mparam_grid\u001b[0m\u001b[1;33m=\u001b[0m \u001b[0mparam_grid\u001b[0m\u001b[1;33m,\u001b[0m\u001b[0mcv\u001b[0m\u001b[1;33m=\u001b[0m \u001b[1;36m10\u001b[0m\u001b[1;33m,\u001b[0m\u001b[0mn_jobs\u001b[0m\u001b[1;33m=\u001b[0m \u001b[1;33m-\u001b[0m\u001b[1;36m1\u001b[0m\u001b[1;33m)\u001b[0m\u001b[1;33m\u001b[0m\u001b[1;33m\u001b[0m\u001b[0m\n\u001b[1;32m----> 6\u001b[1;33m \u001b[0mgs1\u001b[0m\u001b[1;33m.\u001b[0m\u001b[0mfit\u001b[0m\u001b[1;33m(\u001b[0m\u001b[0mxtrain\u001b[0m\u001b[1;33m,\u001b[0m\u001b[0mytrain\u001b[0m\u001b[1;33m)\u001b[0m\u001b[1;33m\u001b[0m\u001b[1;33m\u001b[0m\u001b[0m\n\u001b[0m\u001b[0;32m      7\u001b[0m \u001b[0mprint\u001b[0m\u001b[1;33m(\u001b[0m\u001b[0mgs\u001b[0m\u001b[1;33m.\u001b[0m\u001b[0mbest_params_\u001b[0m\u001b[1;33m)\u001b[0m\u001b[1;33m\u001b[0m\u001b[1;33m\u001b[0m\u001b[0m\n",
      "\u001b[1;32m~\\AppData\\Local\\Programs\\Python\\Python38-32\\lib\\site-packages\\sklearn\\utils\\validation.py\u001b[0m in \u001b[0;36minner_f\u001b[1;34m(*args, **kwargs)\u001b[0m\n\u001b[0;32m     70\u001b[0m                           FutureWarning)\n\u001b[0;32m     71\u001b[0m         \u001b[0mkwargs\u001b[0m\u001b[1;33m.\u001b[0m\u001b[0mupdate\u001b[0m\u001b[1;33m(\u001b[0m\u001b[1;33m{\u001b[0m\u001b[0mk\u001b[0m\u001b[1;33m:\u001b[0m \u001b[0marg\u001b[0m \u001b[1;32mfor\u001b[0m \u001b[0mk\u001b[0m\u001b[1;33m,\u001b[0m \u001b[0marg\u001b[0m \u001b[1;32min\u001b[0m \u001b[0mzip\u001b[0m\u001b[1;33m(\u001b[0m\u001b[0msig\u001b[0m\u001b[1;33m.\u001b[0m\u001b[0mparameters\u001b[0m\u001b[1;33m,\u001b[0m \u001b[0margs\u001b[0m\u001b[1;33m)\u001b[0m\u001b[1;33m}\u001b[0m\u001b[1;33m)\u001b[0m\u001b[1;33m\u001b[0m\u001b[1;33m\u001b[0m\u001b[0m\n\u001b[1;32m---> 72\u001b[1;33m         \u001b[1;32mreturn\u001b[0m \u001b[0mf\u001b[0m\u001b[1;33m(\u001b[0m\u001b[1;33m**\u001b[0m\u001b[0mkwargs\u001b[0m\u001b[1;33m)\u001b[0m\u001b[1;33m\u001b[0m\u001b[1;33m\u001b[0m\u001b[0m\n\u001b[0m\u001b[0;32m     73\u001b[0m     \u001b[1;32mreturn\u001b[0m \u001b[0minner_f\u001b[0m\u001b[1;33m\u001b[0m\u001b[1;33m\u001b[0m\u001b[0m\n\u001b[0;32m     74\u001b[0m \u001b[1;33m\u001b[0m\u001b[0m\n",
      "\u001b[1;32m~\\AppData\\Local\\Programs\\Python\\Python38-32\\lib\\site-packages\\sklearn\\model_selection\\_search.py\u001b[0m in \u001b[0;36mfit\u001b[1;34m(self, X, y, groups, **fit_params)\u001b[0m\n\u001b[0;32m    734\u001b[0m                 \u001b[1;32mreturn\u001b[0m \u001b[0mresults\u001b[0m\u001b[1;33m\u001b[0m\u001b[1;33m\u001b[0m\u001b[0m\n\u001b[0;32m    735\u001b[0m \u001b[1;33m\u001b[0m\u001b[0m\n\u001b[1;32m--> 736\u001b[1;33m             \u001b[0mself\u001b[0m\u001b[1;33m.\u001b[0m\u001b[0m_run_search\u001b[0m\u001b[1;33m(\u001b[0m\u001b[0mevaluate_candidates\u001b[0m\u001b[1;33m)\u001b[0m\u001b[1;33m\u001b[0m\u001b[1;33m\u001b[0m\u001b[0m\n\u001b[0m\u001b[0;32m    737\u001b[0m \u001b[1;33m\u001b[0m\u001b[0m\n\u001b[0;32m    738\u001b[0m         \u001b[1;31m# For multi-metric evaluation, store the best_index_, best_params_ and\u001b[0m\u001b[1;33m\u001b[0m\u001b[1;33m\u001b[0m\u001b[1;33m\u001b[0m\u001b[0m\n",
      "\u001b[1;32m~\\AppData\\Local\\Programs\\Python\\Python38-32\\lib\\site-packages\\sklearn\\model_selection\\_search.py\u001b[0m in \u001b[0;36m_run_search\u001b[1;34m(self, evaluate_candidates)\u001b[0m\n\u001b[0;32m   1186\u001b[0m     \u001b[1;32mdef\u001b[0m \u001b[0m_run_search\u001b[0m\u001b[1;33m(\u001b[0m\u001b[0mself\u001b[0m\u001b[1;33m,\u001b[0m \u001b[0mevaluate_candidates\u001b[0m\u001b[1;33m)\u001b[0m\u001b[1;33m:\u001b[0m\u001b[1;33m\u001b[0m\u001b[1;33m\u001b[0m\u001b[0m\n\u001b[0;32m   1187\u001b[0m         \u001b[1;34m\"\"\"Search all candidates in param_grid\"\"\"\u001b[0m\u001b[1;33m\u001b[0m\u001b[1;33m\u001b[0m\u001b[0m\n\u001b[1;32m-> 1188\u001b[1;33m         \u001b[0mevaluate_candidates\u001b[0m\u001b[1;33m(\u001b[0m\u001b[0mParameterGrid\u001b[0m\u001b[1;33m(\u001b[0m\u001b[0mself\u001b[0m\u001b[1;33m.\u001b[0m\u001b[0mparam_grid\u001b[0m\u001b[1;33m)\u001b[0m\u001b[1;33m)\u001b[0m\u001b[1;33m\u001b[0m\u001b[1;33m\u001b[0m\u001b[0m\n\u001b[0m\u001b[0;32m   1189\u001b[0m \u001b[1;33m\u001b[0m\u001b[0m\n\u001b[0;32m   1190\u001b[0m \u001b[1;33m\u001b[0m\u001b[0m\n",
      "\u001b[1;32m~\\AppData\\Local\\Programs\\Python\\Python38-32\\lib\\site-packages\\sklearn\\model_selection\\_search.py\u001b[0m in \u001b[0;36mevaluate_candidates\u001b[1;34m(candidate_params)\u001b[0m\n\u001b[0;32m    706\u001b[0m                               n_splits, n_candidates, n_candidates * n_splits))\n\u001b[0;32m    707\u001b[0m \u001b[1;33m\u001b[0m\u001b[0m\n\u001b[1;32m--> 708\u001b[1;33m                 out = parallel(delayed(_fit_and_score)(clone(base_estimator),\n\u001b[0m\u001b[0;32m    709\u001b[0m                                                        \u001b[0mX\u001b[0m\u001b[1;33m,\u001b[0m \u001b[0my\u001b[0m\u001b[1;33m,\u001b[0m\u001b[1;33m\u001b[0m\u001b[1;33m\u001b[0m\u001b[0m\n\u001b[0;32m    710\u001b[0m                                                        \u001b[0mtrain\u001b[0m\u001b[1;33m=\u001b[0m\u001b[0mtrain\u001b[0m\u001b[1;33m,\u001b[0m \u001b[0mtest\u001b[0m\u001b[1;33m=\u001b[0m\u001b[0mtest\u001b[0m\u001b[1;33m,\u001b[0m\u001b[1;33m\u001b[0m\u001b[1;33m\u001b[0m\u001b[0m\n",
      "\u001b[1;32m~\\AppData\\Local\\Programs\\Python\\Python38-32\\lib\\site-packages\\joblib\\parallel.py\u001b[0m in \u001b[0;36m__call__\u001b[1;34m(self, iterable)\u001b[0m\n\u001b[0;32m   1040\u001b[0m \u001b[1;33m\u001b[0m\u001b[0m\n\u001b[0;32m   1041\u001b[0m             \u001b[1;32mwith\u001b[0m \u001b[0mself\u001b[0m\u001b[1;33m.\u001b[0m\u001b[0m_backend\u001b[0m\u001b[1;33m.\u001b[0m\u001b[0mretrieval_context\u001b[0m\u001b[1;33m(\u001b[0m\u001b[1;33m)\u001b[0m\u001b[1;33m:\u001b[0m\u001b[1;33m\u001b[0m\u001b[1;33m\u001b[0m\u001b[0m\n\u001b[1;32m-> 1042\u001b[1;33m                 \u001b[0mself\u001b[0m\u001b[1;33m.\u001b[0m\u001b[0mretrieve\u001b[0m\u001b[1;33m(\u001b[0m\u001b[1;33m)\u001b[0m\u001b[1;33m\u001b[0m\u001b[1;33m\u001b[0m\u001b[0m\n\u001b[0m\u001b[0;32m   1043\u001b[0m             \u001b[1;31m# Make sure that we get a last message telling us we are done\u001b[0m\u001b[1;33m\u001b[0m\u001b[1;33m\u001b[0m\u001b[1;33m\u001b[0m\u001b[0m\n\u001b[0;32m   1044\u001b[0m             \u001b[0melapsed_time\u001b[0m \u001b[1;33m=\u001b[0m \u001b[0mtime\u001b[0m\u001b[1;33m.\u001b[0m\u001b[0mtime\u001b[0m\u001b[1;33m(\u001b[0m\u001b[1;33m)\u001b[0m \u001b[1;33m-\u001b[0m \u001b[0mself\u001b[0m\u001b[1;33m.\u001b[0m\u001b[0m_start_time\u001b[0m\u001b[1;33m\u001b[0m\u001b[1;33m\u001b[0m\u001b[0m\n",
      "\u001b[1;32m~\\AppData\\Local\\Programs\\Python\\Python38-32\\lib\\site-packages\\joblib\\parallel.py\u001b[0m in \u001b[0;36mretrieve\u001b[1;34m(self)\u001b[0m\n\u001b[0;32m    941\u001b[0m                     \u001b[1;31m# scheduling.\u001b[0m\u001b[1;33m\u001b[0m\u001b[1;33m\u001b[0m\u001b[1;33m\u001b[0m\u001b[0m\n\u001b[0;32m    942\u001b[0m                     \u001b[0mensure_ready\u001b[0m \u001b[1;33m=\u001b[0m \u001b[0mself\u001b[0m\u001b[1;33m.\u001b[0m\u001b[0m_managed_backend\u001b[0m\u001b[1;33m\u001b[0m\u001b[1;33m\u001b[0m\u001b[0m\n\u001b[1;32m--> 943\u001b[1;33m                     \u001b[0mbackend\u001b[0m\u001b[1;33m.\u001b[0m\u001b[0mabort_everything\u001b[0m\u001b[1;33m(\u001b[0m\u001b[0mensure_ready\u001b[0m\u001b[1;33m=\u001b[0m\u001b[0mensure_ready\u001b[0m\u001b[1;33m)\u001b[0m\u001b[1;33m\u001b[0m\u001b[1;33m\u001b[0m\u001b[0m\n\u001b[0m\u001b[0;32m    944\u001b[0m                 \u001b[1;32mraise\u001b[0m\u001b[1;33m\u001b[0m\u001b[1;33m\u001b[0m\u001b[0m\n\u001b[0;32m    945\u001b[0m \u001b[1;33m\u001b[0m\u001b[0m\n",
      "\u001b[1;32m~\\AppData\\Local\\Programs\\Python\\Python38-32\\lib\\site-packages\\joblib\\_parallel_backends.py\u001b[0m in \u001b[0;36mabort_everything\u001b[1;34m(self, ensure_ready)\u001b[0m\n\u001b[0;32m    559\u001b[0m         \"\"\"Shutdown the workers and restart a new one with the same parameters\n\u001b[0;32m    560\u001b[0m         \"\"\"\n\u001b[1;32m--> 561\u001b[1;33m         \u001b[0mself\u001b[0m\u001b[1;33m.\u001b[0m\u001b[0m_workers\u001b[0m\u001b[1;33m.\u001b[0m\u001b[0mterminate\u001b[0m\u001b[1;33m(\u001b[0m\u001b[0mkill_workers\u001b[0m\u001b[1;33m=\u001b[0m\u001b[1;32mTrue\u001b[0m\u001b[1;33m)\u001b[0m\u001b[1;33m\u001b[0m\u001b[1;33m\u001b[0m\u001b[0m\n\u001b[0m\u001b[0;32m    562\u001b[0m         \u001b[0mself\u001b[0m\u001b[1;33m.\u001b[0m\u001b[0m_workers\u001b[0m \u001b[1;33m=\u001b[0m \u001b[1;32mNone\u001b[0m\u001b[1;33m\u001b[0m\u001b[1;33m\u001b[0m\u001b[0m\n\u001b[0;32m    563\u001b[0m \u001b[1;33m\u001b[0m\u001b[0m\n",
      "\u001b[1;32m~\\AppData\\Local\\Programs\\Python\\Python38-32\\lib\\site-packages\\joblib\\executor.py\u001b[0m in \u001b[0;36mterminate\u001b[1;34m(self, kill_workers)\u001b[0m\n\u001b[0;32m     72\u001b[0m \u001b[1;33m\u001b[0m\u001b[0m\n\u001b[0;32m     73\u001b[0m     \u001b[1;32mdef\u001b[0m \u001b[0mterminate\u001b[0m\u001b[1;33m(\u001b[0m\u001b[0mself\u001b[0m\u001b[1;33m,\u001b[0m \u001b[0mkill_workers\u001b[0m\u001b[1;33m=\u001b[0m\u001b[1;32mFalse\u001b[0m\u001b[1;33m)\u001b[0m\u001b[1;33m:\u001b[0m\u001b[1;33m\u001b[0m\u001b[1;33m\u001b[0m\u001b[0m\n\u001b[1;32m---> 74\u001b[1;33m         \u001b[0mself\u001b[0m\u001b[1;33m.\u001b[0m\u001b[0mshutdown\u001b[0m\u001b[1;33m(\u001b[0m\u001b[0mkill_workers\u001b[0m\u001b[1;33m=\u001b[0m\u001b[0mkill_workers\u001b[0m\u001b[1;33m)\u001b[0m\u001b[1;33m\u001b[0m\u001b[1;33m\u001b[0m\u001b[0m\n\u001b[0m\u001b[0;32m     75\u001b[0m         \u001b[1;32mif\u001b[0m \u001b[0mkill_workers\u001b[0m\u001b[1;33m:\u001b[0m\u001b[1;33m\u001b[0m\u001b[1;33m\u001b[0m\u001b[0m\n\u001b[0;32m     76\u001b[0m             \u001b[1;31m# When workers are killed in such a brutal manner, they cannot\u001b[0m\u001b[1;33m\u001b[0m\u001b[1;33m\u001b[0m\u001b[1;33m\u001b[0m\u001b[0m\n",
      "\u001b[1;32m~\\AppData\\Local\\Programs\\Python\\Python38-32\\lib\\site-packages\\joblib\\externals\\loky\\process_executor.py\u001b[0m in \u001b[0;36mshutdown\u001b[1;34m(self, wait, kill_workers)\u001b[0m\n\u001b[0;32m   1169\u001b[0m \u001b[1;33m\u001b[0m\u001b[0m\n\u001b[0;32m   1170\u001b[0m         \u001b[1;32mif\u001b[0m \u001b[0mexecutor_manager_thread\u001b[0m \u001b[1;32mis\u001b[0m \u001b[1;32mnot\u001b[0m \u001b[1;32mNone\u001b[0m \u001b[1;32mand\u001b[0m \u001b[0mwait\u001b[0m\u001b[1;33m:\u001b[0m\u001b[1;33m\u001b[0m\u001b[1;33m\u001b[0m\u001b[0m\n\u001b[1;32m-> 1171\u001b[1;33m             \u001b[0mexecutor_manager_thread\u001b[0m\u001b[1;33m.\u001b[0m\u001b[0mjoin\u001b[0m\u001b[1;33m(\u001b[0m\u001b[1;33m)\u001b[0m\u001b[1;33m\u001b[0m\u001b[1;33m\u001b[0m\u001b[0m\n\u001b[0m\u001b[0;32m   1172\u001b[0m \u001b[1;33m\u001b[0m\u001b[0m\n\u001b[0;32m   1173\u001b[0m         \u001b[1;31m# To reduce the risk of opening too many files, remove references to\u001b[0m\u001b[1;33m\u001b[0m\u001b[1;33m\u001b[0m\u001b[1;33m\u001b[0m\u001b[0m\n",
      "\u001b[1;32m~\\AppData\\Local\\Programs\\Python\\Python38-32\\lib\\threading.py\u001b[0m in \u001b[0;36mjoin\u001b[1;34m(self, timeout)\u001b[0m\n\u001b[0;32m   1009\u001b[0m \u001b[1;33m\u001b[0m\u001b[0m\n\u001b[0;32m   1010\u001b[0m         \u001b[1;32mif\u001b[0m \u001b[0mtimeout\u001b[0m \u001b[1;32mis\u001b[0m \u001b[1;32mNone\u001b[0m\u001b[1;33m:\u001b[0m\u001b[1;33m\u001b[0m\u001b[1;33m\u001b[0m\u001b[0m\n\u001b[1;32m-> 1011\u001b[1;33m             \u001b[0mself\u001b[0m\u001b[1;33m.\u001b[0m\u001b[0m_wait_for_tstate_lock\u001b[0m\u001b[1;33m(\u001b[0m\u001b[1;33m)\u001b[0m\u001b[1;33m\u001b[0m\u001b[1;33m\u001b[0m\u001b[0m\n\u001b[0m\u001b[0;32m   1012\u001b[0m         \u001b[1;32melse\u001b[0m\u001b[1;33m:\u001b[0m\u001b[1;33m\u001b[0m\u001b[1;33m\u001b[0m\u001b[0m\n\u001b[0;32m   1013\u001b[0m             \u001b[1;31m# the behavior of a negative timeout isn't documented, but\u001b[0m\u001b[1;33m\u001b[0m\u001b[1;33m\u001b[0m\u001b[1;33m\u001b[0m\u001b[0m\n",
      "\u001b[1;32m~\\AppData\\Local\\Programs\\Python\\Python38-32\\lib\\threading.py\u001b[0m in \u001b[0;36m_wait_for_tstate_lock\u001b[1;34m(self, block, timeout)\u001b[0m\n\u001b[0;32m   1025\u001b[0m         \u001b[1;32mif\u001b[0m \u001b[0mlock\u001b[0m \u001b[1;32mis\u001b[0m \u001b[1;32mNone\u001b[0m\u001b[1;33m:\u001b[0m  \u001b[1;31m# already determined that the C code is done\u001b[0m\u001b[1;33m\u001b[0m\u001b[1;33m\u001b[0m\u001b[0m\n\u001b[0;32m   1026\u001b[0m             \u001b[1;32massert\u001b[0m \u001b[0mself\u001b[0m\u001b[1;33m.\u001b[0m\u001b[0m_is_stopped\u001b[0m\u001b[1;33m\u001b[0m\u001b[1;33m\u001b[0m\u001b[0m\n\u001b[1;32m-> 1027\u001b[1;33m         \u001b[1;32melif\u001b[0m \u001b[0mlock\u001b[0m\u001b[1;33m.\u001b[0m\u001b[0macquire\u001b[0m\u001b[1;33m(\u001b[0m\u001b[0mblock\u001b[0m\u001b[1;33m,\u001b[0m \u001b[0mtimeout\u001b[0m\u001b[1;33m)\u001b[0m\u001b[1;33m:\u001b[0m\u001b[1;33m\u001b[0m\u001b[1;33m\u001b[0m\u001b[0m\n\u001b[0m\u001b[0;32m   1028\u001b[0m             \u001b[0mlock\u001b[0m\u001b[1;33m.\u001b[0m\u001b[0mrelease\u001b[0m\u001b[1;33m(\u001b[0m\u001b[1;33m)\u001b[0m\u001b[1;33m\u001b[0m\u001b[1;33m\u001b[0m\u001b[0m\n\u001b[0;32m   1029\u001b[0m             \u001b[0mself\u001b[0m\u001b[1;33m.\u001b[0m\u001b[0m_stop\u001b[0m\u001b[1;33m(\u001b[0m\u001b[1;33m)\u001b[0m\u001b[1;33m\u001b[0m\u001b[1;33m\u001b[0m\u001b[0m\n",
      "\u001b[1;31mKeyboardInterrupt\u001b[0m: "
     ]
    }
   ],
   "source": [
    "param_range1 = list(range(3,6))\n",
    "param_range2 = list(range(4,8))\n",
    "\n",
    "param_grid = [{'max_depth':param_range1,'min_samples_split':param_range2}] \n",
    "gs1 =  GridSearchCV(rf,param_grid= param_grid,cv= 10,n_jobs= -1)\n",
    "gs1.fit(xtrain,ytrain)\n",
    "print(gs.best_params_)"
   ]
  },
  {
   "cell_type": "code",
   "execution_count": null,
   "metadata": {},
   "outputs": [],
   "source": [
    "knn = KNeighborsClassifier(n_jobs = -1,metric = 'minkowski')"
   ]
  },
  {
   "cell_type": "code",
   "execution_count": null,
   "metadata": {},
   "outputs": [],
   "source": [
    "param_range1 = list(range(1,11)) \n",
    "param_range2 = list(range(1,5))\n",
    "\n",
    "param_grid = [{'n_neighbors':param_range1,'p':param_range2}] \n",
    "\n",
    "gs2 =  GridSearchCV(knn,param_grid= param_grid,scoring= score_rmse,cv= 10,n_jobs= -1)\n",
    "gs2.fit(xtrain,ytrain)\n",
    "print(gs2.best_params_)"
   ]
  },
  {
   "cell_type": "code",
   "execution_count": null,
   "metadata": {},
   "outputs": [],
   "source": [
    "voting_estimator = [('dtr',dtr),('knn',knn)]\n",
    "voting = (estimators=voting_estimator,n_jobs=-1)\n",
    "y_pred = voting.fit(xtrain,ytrain).predict(xtest)"
   ]
  },
  {
   "cell_type": "code",
   "execution_count": null,
   "metadata": {},
   "outputs": [],
   "source": [
    "from sklearn.ensemble import VotingClassifier"
   ]
  },
  {
   "cell_type": "code",
   "execution_count": null,
   "metadata": {},
   "outputs": [],
   "source": [
    "# rf.fit(xtrain,ytrain)\n",
    "# ypred = rf.predict(xtest)"
   ]
  },
  {
   "cell_type": "code",
   "execution_count": 289,
   "metadata": {},
   "outputs": [
    {
     "output_type": "execute_result",
     "data": {
      "text/plain": [
       "8603"
      ]
     },
     "metadata": {},
     "execution_count": 289
    }
   ],
   "source": [
    "(ypred == ytest).sum()"
   ]
  },
  {
   "cell_type": "code",
   "execution_count": 292,
   "metadata": {},
   "outputs": [
    {
     "output_type": "execute_result",
     "data": {
      "text/plain": [
       "0.5096865928076307"
      ]
     },
     "metadata": {},
     "execution_count": 292
    }
   ],
   "source": [
    "(ypred == ytest).sum()/ypred.shape[0]"
   ]
  },
  {
   "cell_type": "code",
   "execution_count": null,
   "metadata": {},
   "outputs": [],
   "source": []
  }
 ]
}