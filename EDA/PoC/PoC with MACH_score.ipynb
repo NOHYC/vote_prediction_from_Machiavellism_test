{
 "cells": [
  {
   "cell_type": "code",
   "execution_count": 1,
   "metadata": {},
   "outputs": [],
   "source": [
    "import pandas as pd\n",
    "import numpy as np\n",
    "import matplotlib.pyplot as plt\n",
    "import seaborn as sns\n",
    "sns.set()"
   ]
  },
  {
   "cell_type": "code",
   "execution_count": 2,
   "metadata": {},
   "outputs": [],
   "source": [
    "filepath_home= 'D:/Dacon_Psychological_disposition/'\n",
    "filepath_out = 'C:/임시/Dacon_Psychological_disposition/' \n",
    "train = pd.read_csv(filepath_home+'train_preprocessed.csv')\n",
    "test = pd.read_csv(filepath_home+'test_preprocessed.csv')"
   ]
  },
  {
   "cell_type": "code",
   "execution_count": 3,
   "metadata": {},
   "outputs": [],
   "source": [
    "total_negative_cols = [\"QeA\", \"QfA\", \"QkA\", \"QqA\", \"QrA\", \"QaA\", \"QdA\", \"QgA\", \"QiA\", \"QnA\"]\n",
    "train[total_negative_cols] = 6-train[total_negative_cols]\n",
    "train['mach_score'] = train.apply(lambda x:x.iloc[0:40:2].mean(),axis=1)"
   ]
  },
  {
   "cell_type": "code",
   "execution_count": 4,
   "metadata": {},
   "outputs": [],
   "source": [
    "total_negative_cols = [\"QeA\", \"QfA\", \"QkA\", \"QqA\", \"QrA\", \"QaA\", \"QdA\", \"QgA\", \"QiA\", \"QnA\"]\n",
    "train[total_negative_cols] = 6-train[total_negative_cols]\n",
    "train['mach_score'] = train.apply(lambda x:x.iloc[0:40:2].mean(),axis=1)"
   ]
  },
  {
   "cell_type": "code",
   "execution_count": 5,
   "metadata": {},
   "outputs": [],
   "source": [
    "train[['tp02','tp04','tp06','tp08','tp10']]= 6-train[['tp02','tp04','tp06','tp08','tp10']]\n",
    "\n",
    "train['Extraversion']=(train.tp01+train.tp06)/2\n",
    "train['Agreeableness']=(train.tp02+train.tp07)/2\n",
    "train['Conscientiousness']=(train.tp03+train.tp08)/2\n",
    "train['Emotional Stability']=(train.tp04+train.tp09)/2\n",
    "train['Openness to Experiences']=(train.tp05+train.tp10)/2"
   ]
  },
  {
   "cell_type": "code",
   "execution_count": null,
   "metadata": {},
   "outputs": [],
   "source": []
  },
  {
   "cell_type": "code",
   "execution_count": 6,
   "metadata": {},
   "outputs": [
    {
     "ename": "NameError",
     "evalue": "name 'asc' is not defined",
     "output_type": "error",
     "traceback": [
      "\u001b[1;31m---------------------------------------------------------------------------\u001b[0m",
      "\u001b[1;31mNameError\u001b[0m                                 Traceback (most recent call last)",
      "\u001b[1;32m<ipython-input-6-43564f0c5d87>\u001b[0m in \u001b[0;36m<module>\u001b[1;34m\u001b[0m\n\u001b[1;32m----> 1\u001b[1;33m \u001b[0masc\u001b[0m\u001b[1;33m\u001b[0m\u001b[1;33m\u001b[0m\u001b[0m\n\u001b[0m",
      "\u001b[1;31mNameError\u001b[0m: name 'asc' is not defined"
     ]
    }
   ],
   "source": [
    "asc"
   ]
  },
  {
   "cell_type": "code",
   "execution_count": null,
   "metadata": {},
   "outputs": [],
   "source": [
    "# TIPI\n",
    "tp_cols = ['Extraversion','Agreeableness','Conscientiousness','Emotional Stability','Openness to Experiences']\n",
    "#train.groupby(tp_cols)['voted'].mean()\n",
    "train[tp_cols+['mach_score']].corr(method='spearman')"
   ]
  }
 ],
 "metadata": {
  "kernelspec": {
   "display_name": "Python 3",
   "language": "python",
   "name": "python3"
  },
  "language_info": {
   "codemirror_mode": {
    "name": "ipython",
    "version": 3
   },
   "file_extension": ".py",
   "mimetype": "text/x-python",
   "name": "python",
   "nbconvert_exporter": "python",
   "pygments_lexer": "ipython3",
   "version": "3.8.3"
  }
 },
 "nbformat": 4,
 "nbformat_minor": 4
}
