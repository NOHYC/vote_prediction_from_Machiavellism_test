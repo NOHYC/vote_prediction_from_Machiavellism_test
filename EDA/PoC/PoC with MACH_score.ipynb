{
 "cells": [
  {
   "cell_type": "code",
   "execution_count": 1,
   "metadata": {},
   "outputs": [],
   "source": [
    "import pandas as pd\n",
    "import numpy as np\n",
    "import matplotlib.pyplot as plt\n",
    "import seaborn as sns\n",
    "sns.set()"
   ]
  },
  {
   "cell_type": "code",
   "execution_count": 2,
   "metadata": {},
   "outputs": [],
   "source": [
    "filepath_home= 'D:/Dacon_Psychological_disposition/'\n",
    "filepath_out = 'C:/임시/Dacon_Psychological_disposition/' \n",
    "train = pd.read_csv(filepath_home+'train_na_filled.csv')\n",
    "test = pd.read_csv(filepath_home+'test_na_filled.csv')"
   ]
  },
  {
   "cell_type": "code",
   "execution_count": 3,
   "metadata": {},
   "outputs": [],
   "source": [
    "total_negative_cols = [\"QeA\", \"QfA\", \"QkA\", \"QqA\", \"QrA\", \"QaA\", \"QdA\", \"QgA\", \"QiA\", \"QnA\"]\n",
    "train[total_negative_cols] = 6-train[total_negative_cols]\n",
    "train['mach_score'] = train.apply(lambda x:x.iloc[0:40:2].mean(),axis=1)"
   ]
  },
  {
   "cell_type": "code",
   "execution_count": 4,
   "metadata": {},
   "outputs": [],
   "source": [
    "train[['tp02','tp04','tp06','tp08','tp10']]= 6-train[['tp02','tp04','tp06','tp08','tp10']]\n",
    "\n",
    "train['Extraversion']=(train.tp01+train.tp06)/2\n",
    "train['Agreeableness']=(train.tp02+train.tp07)/2\n",
    "train['Conscientiousness']=(train.tp03+train.tp08)/2\n",
    "train['Emotional Stability']=(train.tp04+train.tp09)/2\n",
    "train['Openness to Experiences']=(train.tp05+train.tp10)/2"
   ]
  },
  {
   "cell_type": "markdown",
   "metadata": {},
   "source": [
    "# 1. TIPI 유형과 MACH 점수와의 관계"
   ]
  },
  {
   "cell_type": "code",
   "execution_count": 19,
   "metadata": {
    "scrolled": true
   },
   "outputs": [
    {
     "data": {
      "text/html": [
       "<div>\n",
       "<style scoped>\n",
       "    .dataframe tbody tr th:only-of-type {\n",
       "        vertical-align: middle;\n",
       "    }\n",
       "\n",
       "    .dataframe tbody tr th {\n",
       "        vertical-align: top;\n",
       "    }\n",
       "\n",
       "    .dataframe thead th {\n",
       "        text-align: right;\n",
       "    }\n",
       "</style>\n",
       "<table border=\"1\" class=\"dataframe\">\n",
       "  <thead>\n",
       "    <tr style=\"text-align: right;\">\n",
       "      <th></th>\n",
       "      <th>mach_score</th>\n",
       "      <th>Extraversion</th>\n",
       "      <th>Agreeableness</th>\n",
       "      <th>Conscientiousness</th>\n",
       "      <th>Emotional Stability</th>\n",
       "      <th>Openness to Experiences</th>\n",
       "    </tr>\n",
       "  </thead>\n",
       "  <tbody>\n",
       "    <tr>\n",
       "      <th>mach_score</th>\n",
       "      <td>1.000000</td>\n",
       "      <td>0.084890</td>\n",
       "      <td>0.478096</td>\n",
       "      <td>0.107476</td>\n",
       "      <td>-0.015156</td>\n",
       "      <td>-0.008133</td>\n",
       "    </tr>\n",
       "    <tr>\n",
       "      <th>Extraversion</th>\n",
       "      <td>0.084890</td>\n",
       "      <td>1.000000</td>\n",
       "      <td>0.074520</td>\n",
       "      <td>0.046874</td>\n",
       "      <td>0.087655</td>\n",
       "      <td>0.231944</td>\n",
       "    </tr>\n",
       "    <tr>\n",
       "      <th>Agreeableness</th>\n",
       "      <td>0.478096</td>\n",
       "      <td>0.074520</td>\n",
       "      <td>1.000000</td>\n",
       "      <td>0.096895</td>\n",
       "      <td>0.077835</td>\n",
       "      <td>0.080684</td>\n",
       "    </tr>\n",
       "    <tr>\n",
       "      <th>Conscientiousness</th>\n",
       "      <td>0.107476</td>\n",
       "      <td>0.046874</td>\n",
       "      <td>0.096895</td>\n",
       "      <td>1.000000</td>\n",
       "      <td>0.282084</td>\n",
       "      <td>0.043331</td>\n",
       "    </tr>\n",
       "    <tr>\n",
       "      <th>Emotional Stability</th>\n",
       "      <td>-0.015156</td>\n",
       "      <td>0.087655</td>\n",
       "      <td>0.077835</td>\n",
       "      <td>0.282084</td>\n",
       "      <td>1.000000</td>\n",
       "      <td>0.102359</td>\n",
       "    </tr>\n",
       "    <tr>\n",
       "      <th>Openness to Experiences</th>\n",
       "      <td>-0.008133</td>\n",
       "      <td>0.231944</td>\n",
       "      <td>0.080684</td>\n",
       "      <td>0.043331</td>\n",
       "      <td>0.102359</td>\n",
       "      <td>1.000000</td>\n",
       "    </tr>\n",
       "  </tbody>\n",
       "</table>\n",
       "</div>"
      ],
      "text/plain": [
       "                         mach_score  Extraversion  Agreeableness  \\\n",
       "mach_score                 1.000000      0.084890       0.478096   \n",
       "Extraversion               0.084890      1.000000       0.074520   \n",
       "Agreeableness              0.478096      0.074520       1.000000   \n",
       "Conscientiousness          0.107476      0.046874       0.096895   \n",
       "Emotional Stability       -0.015156      0.087655       0.077835   \n",
       "Openness to Experiences   -0.008133      0.231944       0.080684   \n",
       "\n",
       "                         Conscientiousness  Emotional Stability  \\\n",
       "mach_score                        0.107476            -0.015156   \n",
       "Extraversion                      0.046874             0.087655   \n",
       "Agreeableness                     0.096895             0.077835   \n",
       "Conscientiousness                 1.000000             0.282084   \n",
       "Emotional Stability               0.282084             1.000000   \n",
       "Openness to Experiences           0.043331             0.102359   \n",
       "\n",
       "                         Openness to Experiences  \n",
       "mach_score                             -0.008133  \n",
       "Extraversion                            0.231944  \n",
       "Agreeableness                           0.080684  \n",
       "Conscientiousness                       0.043331  \n",
       "Emotional Stability                     0.102359  \n",
       "Openness to Experiences                 1.000000  "
      ]
     },
     "execution_count": 19,
     "metadata": {},
     "output_type": "execute_result"
    }
   ],
   "source": [
    "# TIPI\n",
    "tp_cols = ['Extraversion','Agreeableness','Conscientiousness','Emotional Stability','Openness to Experiences']\n",
    "#train.groupby(tp_cols)['voted'].mean()\n",
    "train[['mach_score']+tp_cols].corr(method='spearman')"
   ]
  },
  {
   "cell_type": "markdown",
   "metadata": {},
   "source": [
    "Agreeableness(친화성) 특성과 마키아적 성향은 서로 영향이 있다."
   ]
  },
  {
   "cell_type": "code",
   "execution_count": 25,
   "metadata": {},
   "outputs": [],
   "source": [
    "import matplotlib\n",
    "from matplotlib import font_manager, rc\n",
    "import platform\n",
    "if platform.system()==\"Windows\":\n",
    "    font_name=font_manager.FontProperties(fname=\"c:/Windows/Fonts/malgun.ttf\").get_name()\n",
    "    rc('font', family=font_name)\n",
    "matplotlib.rcParams['axes.unicode_minus']=False\n",
    "\n",
    "import warnings\n",
    "warnings.filterwarnings(\"ignore\")"
   ]
  },
  {
   "cell_type": "code",
   "execution_count": 28,
   "metadata": {
    "scrolled": false
   },
   "outputs": [
    {
     "data": {
      "image/png": "[encoded data removed]",
      "text/plain": [
       "<Figure size 720x720 with 1 Axes>"
      ]
     },
     "metadata": {},
     "output_type": "display_data"
    }
   ],
   "source": [
    "# plt.figure(figsize=(10,10))\n",
    "fig , ax = plt.subplots(figsize=(10,10))\n",
    "sns.barplot(x='Agreeableness',y='mach_score',data=train[(train.Agreeableness<=6)&(train.Agreeableness>=0)],ax=ax)\n",
    "ax.set_xticklabels('0.0 0.5 1.0 1.5 2.0 2.5 3.0 3.5 4.0 4.5 5.0 5.5 6.0'.split(),fontsize=15)\n",
    "ax.set_yticklabels('0 1 2 3 4'.split(),fontsize=15)\n",
    "ax.set_ylabel('MACH 점수',fontsize=15)\n",
    "ax.set_xlabel('친화성 점수',fontsize=15)\n",
    "\n",
    "fig.savefig(figpath+'tipi_mach_bar.png',dpi=fig.dpi,transparent=True)"
   ]
  },
  {
   "cell_type": "markdown",
   "metadata": {},
   "source": [
    "실제로 친화성 수치와 마키아 점수와의 관계가 직선형태를 이룸"
   ]
  },
  {
   "cell_type": "code",
   "execution_count": 17,
   "metadata": {},
   "outputs": [],
   "source": [
    "figpath='C:/Users/이동재/Desktop/그림/'"
   ]
  },
  {
   "cell_type": "markdown",
   "metadata": {},
   "source": [
    "# 2. 명목형 : age_group"
   ]
  },
  {
   "cell_type": "code",
   "execution_count": 18,
   "metadata": {},
   "outputs": [
    {
     "data": {
      "image/png": "[encoded data removed]",
      "text/plain": [
       "<Figure size 720x360 with 1 Axes>"
      ]
     },
     "metadata": {},
     "output_type": "display_data"
    }
   ],
   "source": [
    "# age_group\n",
    "plt.figure(figsize=(10,5))\n",
    "sns.barplot(x='age_group',y='mach_score',data=train,\n",
    "           order=['10s','20s','30s','40s','50s','60s','+70s'],\n",
    "           palette='PuRd')\n",
    "fig = plt.gcf()\n",
    "ax = plt.gca()\n",
    "ax.set_xticklabels(['10s','20s','30s','40s','50s','60s','+70s'],fontsize=15)\n",
    "ax.set_yticklabels('0.0 0.5 1.0 1.5 2.0 2.5 3.0 3.5'.split(),fontsize=15)\n",
    "\n",
    "fig.savefig(figpath+'age_mach.png',dpi=fig.dpi)"
   ]
  },
  {
   "cell_type": "markdown",
   "metadata": {},
   "source": [
    "- 연령대가 높아질수록 마키아벨리즘 성향이 낮아지는것을 확인할 수 있음 "
   ]
  },
  {
   "cell_type": "markdown",
   "metadata": {},
   "source": [
    "# ---\n",
    "(확정 아님)  \n",
    "Tp 성향으로 kmeans 군집화한 마키아벨리즘 스코어 그룹은 마키아벨리즘 스코어가 낮으면 투표율이 높았고 반대로 마키아벨리즘 스코어가 높으면 투표율이 낮았다. "
   ]
  }
 ],
 "metadata": {
  "kernelspec": {
   "display_name": "Python 3",
   "language": "python",
   "name": "python3"
  },
  "language_info": {
   "codemirror_mode": {
    "name": "ipython",
    "version": 3
   },
   "file_extension": ".py",
   "mimetype": "text/x-python",
   "name": "python",
   "nbconvert_exporter": "python",
   "pygments_lexer": "ipython3",
   "version": "3.8.3"
  }
 },
 "nbformat": 4,
 "nbformat_minor": 4
}
