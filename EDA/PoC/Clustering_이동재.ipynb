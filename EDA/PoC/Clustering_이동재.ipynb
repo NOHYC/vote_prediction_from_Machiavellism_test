{
 "cells": [
  {
   "cell_type": "code",
   "execution_count": 1,
   "metadata": {},
   "outputs": [],
   "source": [
    "import pandas as pd\n",
    "import numpy as np\n",
    "import matplotlib.pyplot as plt\n",
    "import seaborn as sns\n",
    "sns.set()"
   ]
  },
  {
   "cell_type": "code",
   "execution_count": 2,
   "metadata": {},
   "outputs": [],
   "source": [
    "filepath_home= 'D:/Dacon_Psychological_disposition/'\n",
    "filepath_out = 'C:/임시/Dacon_Psychological_disposition/' \n",
    "train = pd.read_csv(filepath_home+'train_na_filled.csv')\n",
    "test = pd.read_csv(filepath_home+'test_na_filled.csv')"
   ]
  },
  {
   "cell_type": "code",
   "execution_count": 3,
   "metadata": {},
   "outputs": [],
   "source": [
    "# 분할 지점 저장해두고 데이터 통합 후 전처리\n",
    "split_point = train.shape[0]\n",
    "data = pd.concat([train.drop('voted',axis=1),test],ignore_index=True)"
   ]
  },
  {
   "cell_type": "code",
   "execution_count": 4,
   "metadata": {},
   "outputs": [],
   "source": [
    "# 마키아 스코어 계산\n",
    "total_negative_cols = [\"QeA\", \"QfA\", \"QkA\", \"QqA\", \"QrA\", \"QaA\", \"QdA\", \"QgA\", \"QiA\", \"QnA\"]\n",
    "data[total_negative_cols] = 6-data[total_negative_cols]\n",
    "data['mach_score'] = data.apply(lambda x:x.iloc[0:40:2].mean(),axis=1)"
   ]
  },
  {
   "cell_type": "code",
   "execution_count": 5,
   "metadata": {},
   "outputs": [],
   "source": [
    "# tipi 성격 구분 5 칼럼 추가\n",
    "data[['tp02','tp04','tp06','tp08','tp10']]= 7-data[['tp02','tp04','tp06','tp08','tp10']]\n",
    "\n",
    "data['Extraversion']=(data.tp01+data.tp06)/2\n",
    "data['Agreeableness']=(data.tp02+data.tp07)/2\n",
    "data['Conscientiousness']=(data.tp03+data.tp08)/2\n",
    "data['Emotional Stability']=(data.tp04+data.tp09)/2\n",
    "data['Openness to Experiences']=(data.tp05+data.tp10)/2"
   ]
  },
  {
   "cell_type": "code",
   "execution_count": 10,
   "metadata": {},
   "outputs": [],
   "source": [
    "# 각 답변 시간을 빠르다/느리다 로 이분화 후 전체 설문의 답변시간을 0~20 사이로 수치화\n",
    "#total_median = np.median(np.ravel(train.iloc[:,1:40:2]))\n",
    "total_median = data.iloc[:,1:40:2].median()\n",
    "temp_df = np.where(data.iloc[:,1:40:2]>total_median,1,0)\n",
    "data['Q_total_E'] = temp_df.sum(axis=1) # 0~20"
   ]
  },
  {
   "cell_type": "code",
   "execution_count": 33,
   "metadata": {},
   "outputs": [
    {
     "data": {
      "image/png": "[encoded data removed]",
      "text/plain": [
       "<Figure size 432x288 with 1 Axes>"
      ]
     },
     "metadata": {},
     "output_type": "display_data"
    }
   ],
   "source": [
    "from sklearn.preprocessing import MinMaxScaler,StandardScaler\n",
    "from sklearn.cluster import KMeans\n",
    "\n",
    "data['age'] = data['age_group'].map({'10s':1,'20s':2,'30s':3,'40s':4,'50s':5,'60s':6,'+70s':7})\n",
    "data['sex'] = data['gender'].map({'Male':1,'Female':0})\n",
    "\n",
    "subcols = ['Q_total_E','mach_score','Extraversion','Agreeableness','education','married','sex','age']\n",
    "subdata = (data.iloc[:split_point][subcols]).join(train.voted)\n",
    "ss = StandardScaler()\n",
    "subdata= ss.fit_transform(subdata)\n",
    "\n",
    "dist =[]\n",
    "k_list = list(range(3,20))\n",
    "for i in k_list:\n",
    "    km = KMeans(n_clusters=i,init = 'k-means++',n_init=10,max_iter = 200)\n",
    "    km.fit(subdata)\n",
    "    dist.append(km.inertia_)\n",
    "plt.plot(k_list,dist,marker = 'o')\n",
    "plt.xlabel('kvalue')\n",
    "plt.show()"
   ]
  },
  {
   "cell_type": "code",
   "execution_count": 34,
   "metadata": {},
   "outputs": [
    {
     "data": {
      "text/html": [
       "<div>\n",
       "<style scoped>\n",
       "    .dataframe tbody tr th:only-of-type {\n",
       "        vertical-align: middle;\n",
       "    }\n",
       "\n",
       "    .dataframe tbody tr th {\n",
       "        vertical-align: top;\n",
       "    }\n",
       "\n",
       "    .dataframe thead th {\n",
       "        text-align: right;\n",
       "    }\n",
       "</style>\n",
       "<table border=\"1\" class=\"dataframe\">\n",
       "  <thead>\n",
       "    <tr style=\"text-align: right;\">\n",
       "      <th></th>\n",
       "      <th>Q_total_E</th>\n",
       "      <th>mach_score</th>\n",
       "      <th>Extraversion</th>\n",
       "      <th>Agreeableness</th>\n",
       "      <th>education</th>\n",
       "      <th>married</th>\n",
       "      <th>sex</th>\n",
       "      <th>age</th>\n",
       "      <th>voted</th>\n",
       "    </tr>\n",
       "  </thead>\n",
       "  <tbody>\n",
       "    <tr>\n",
       "      <th>0</th>\n",
       "      <td>10.952776</td>\n",
       "      <td>3.583662</td>\n",
       "      <td>3.815982</td>\n",
       "      <td>3.505659</td>\n",
       "      <td>3.003220</td>\n",
       "      <td>1.257976</td>\n",
       "      <td>1.000000</td>\n",
       "      <td>2.477022</td>\n",
       "      <td>1.228022</td>\n",
       "    </tr>\n",
       "    <tr>\n",
       "      <th>1</th>\n",
       "      <td>10.640375</td>\n",
       "      <td>2.975193</td>\n",
       "      <td>3.584214</td>\n",
       "      <td>2.582907</td>\n",
       "      <td>1.928533</td>\n",
       "      <td>1.042924</td>\n",
       "      <td>0.327160</td>\n",
       "      <td>1.457130</td>\n",
       "      <td>1.991176</td>\n",
       "    </tr>\n",
       "    <tr>\n",
       "      <th>2</th>\n",
       "      <td>6.757320</td>\n",
       "      <td>4.084881</td>\n",
       "      <td>4.312858</td>\n",
       "      <td>4.528811</td>\n",
       "      <td>1.949568</td>\n",
       "      <td>1.060227</td>\n",
       "      <td>0.777951</td>\n",
       "      <td>1.421590</td>\n",
       "      <td>1.917787</td>\n",
       "    </tr>\n",
       "    <tr>\n",
       "      <th>3</th>\n",
       "      <td>9.108752</td>\n",
       "      <td>3.210542</td>\n",
       "      <td>3.681094</td>\n",
       "      <td>2.987206</td>\n",
       "      <td>3.069008</td>\n",
       "      <td>1.210426</td>\n",
       "      <td>0.000272</td>\n",
       "      <td>2.392813</td>\n",
       "      <td>1.174493</td>\n",
       "    </tr>\n",
       "    <tr>\n",
       "      <th>4</th>\n",
       "      <td>12.341269</td>\n",
       "      <td>2.818308</td>\n",
       "      <td>3.419788</td>\n",
       "      <td>2.279568</td>\n",
       "      <td>3.007098</td>\n",
       "      <td>2.374031</td>\n",
       "      <td>0.381566</td>\n",
       "      <td>4.303920</td>\n",
       "      <td>1.368243</td>\n",
       "    </tr>\n",
       "  </tbody>\n",
       "</table>\n",
       "</div>"
      ],
      "text/plain": [
       "   Q_total_E  mach_score  Extraversion  Agreeableness  education   married  \\\n",
       "0  10.952776    3.583662      3.815982       3.505659   3.003220  1.257976   \n",
       "1  10.640375    2.975193      3.584214       2.582907   1.928533  1.042924   \n",
       "2   6.757320    4.084881      4.312858       4.528811   1.949568  1.060227   \n",
       "3   9.108752    3.210542      3.681094       2.987206   3.069008  1.210426   \n",
       "4  12.341269    2.818308      3.419788       2.279568   3.007098  2.374031   \n",
       "\n",
       "        sex       age     voted  \n",
       "0  1.000000  2.477022  1.228022  \n",
       "1  0.327160  1.457130  1.991176  \n",
       "2  0.777951  1.421590  1.917787  \n",
       "3  0.000272  2.392813  1.174493  \n",
       "4  0.381566  4.303920  1.368243  "
      ]
     },
     "execution_count": 34,
     "metadata": {},
     "output_type": "execute_result"
    }
   ],
   "source": [
    "knn = KMeans(n_clusters =5,init = 'k-means++')\n",
    "knn.fit(subdata)\n",
    "pd.DataFrame(ss.inverse_transform(knn.cluster_centers_),columns=subcols+['voted'])"
   ]
  },
  {
   "cell_type": "code",
   "execution_count": null,
   "metadata": {},
   "outputs": [],
   "source": []
  }
 ],
 "metadata": {
  "kernelspec": {
   "display_name": "Python 3",
   "language": "python",
   "name": "python3"
  },
  "language_info": {
   "codemirror_mode": {
    "name": "ipython",
    "version": 3
   },
   "file_extension": ".py",
   "mimetype": "text/x-python",
   "name": "python",
   "nbconvert_exporter": "python",
   "pygments_lexer": "ipython3",
   "version": "3.8.3"
  }
 },
 "nbformat": 4,
 "nbformat_minor": 4
}
