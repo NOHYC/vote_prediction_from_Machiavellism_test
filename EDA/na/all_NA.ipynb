{
 "cells": [
  {
   "cell_type": "code",
   "execution_count": 1,
   "metadata": {},
   "outputs": [],
   "source": [
    "import pandas as pd\n",
    "import numpy as np\n",
    "import matplotlib.pyplot as plt\n",
    "import seaborn as sns\n",
    "sns.set()"
   ]
  },
  {
   "cell_type": "code",
   "execution_count": 2,
   "metadata": {},
   "outputs": [],
   "source": [
    "filepath_home= 'D:/Dacon_Psychological_disposition/'\n",
    "filepath_out = 'C:/임시/Dacon_Psychological_disposition/' \n",
    "train = pd.read_csv(filepath_home+'train.csv',index_col=0)\n",
    "test = pd.read_csv(filepath_home+'test_x.csv',index_col=0)"
   ]
  },
  {
   "cell_type": "code",
   "execution_count": 3,
   "metadata": {},
   "outputs": [],
   "source": [
    "# 분할 지점 저장해두고 데이터 통합 후 전처리\n",
    "split_point = train.shape[0]\n",
    "data = pd.concat([train.drop('voted',axis=1),test],ignore_index=True)"
   ]
  },
  {
   "cell_type": "code",
   "execution_count": 4,
   "metadata": {},
   "outputs": [
    {
     "data": {
      "text/plain": [
       "(56915, 76)"
      ]
     },
     "execution_count": 4,
     "metadata": {},
     "output_type": "execute_result"
    }
   ],
   "source": [
    "data.shape"
   ]
  },
  {
   "cell_type": "markdown",
   "metadata": {},
   "source": [
    "# NA handle"
   ]
  },
  {
   "cell_type": "markdown",
   "metadata": {},
   "source": [
    "### __Familysize__"
   ]
  },
  {
   "cell_type": "code",
   "execution_count": 5,
   "metadata": {},
   "outputs": [
    {
     "data": {
      "text/plain": [
       "Series([], Name: familysize, dtype: int64)"
      ]
     },
     "execution_count": 5,
     "metadata": {},
     "output_type": "execute_result"
    }
   ],
   "source": [
    "data.familysize[(data.familysize<0)|(data.familysize.isnull())] # 결측 없음"
   ]
  },
  {
   "cell_type": "code",
   "execution_count": 6,
   "metadata": {},
   "outputs": [
    {
     "data": {
      "text/plain": [
       "24598    2147483647\n",
       "379             999\n",
       "25661           100\n",
       "21567            44\n",
       "34847            44\n",
       "12056            44\n",
       "28111            34\n",
       "41326            30\n",
       "48605            23\n",
       "34749            21\n",
       "Name: familysize, dtype: int64"
      ]
     },
     "execution_count": 6,
     "metadata": {},
     "output_type": "execute_result"
    }
   ],
   "source": [
    "data.familysize.sort_values(ascending=False)[:10] # 눈에 띄는 이상치 3개 (2147483647 , 999 , 100)"
   ]
  },
  {
   "cell_type": "markdown",
   "metadata": {},
   "source": [
    "train 데이터에 포함된 데이터임을 확인 후 이상치 제거"
   ]
  },
  {
   "cell_type": "code",
   "execution_count": 7,
   "metadata": {},
   "outputs": [
    {
     "data": {
      "text/plain": [
       "(56912, 76)"
      ]
     },
     "execution_count": 7,
     "metadata": {},
     "output_type": "execute_result"
    }
   ],
   "source": [
    "outlier_idx = data.familysize[data.familysize>99].index\n",
    "for idx in outlier_idx:\n",
    "    if idx < split_point:\n",
    "        data = data.drop(idx,axis=0)\n",
    "        split_point-=1\n",
    "data.shape # 3개 행 모두 제거"
   ]
  },
  {
   "cell_type": "markdown",
   "metadata": {},
   "source": [
    "### __Education__"
   ]
  },
  {
   "cell_type": "code",
   "execution_count": 8,
   "metadata": {},
   "outputs": [
    {
     "data": {
      "text/plain": [
       "array([2, 4, 3, 1, 0], dtype=int64)"
      ]
     },
     "execution_count": 8,
     "metadata": {},
     "output_type": "execute_result"
    }
   ],
   "source": [
    "data.education.unique() # NA 는 없지만 0 (무응답 존재)"
   ]
  },
  {
   "cell_type": "code",
   "execution_count": 9,
   "metadata": {},
   "outputs": [
    {
     "data": {
      "text/plain": [
       "2    21068\n",
       "3    19025\n",
       "4     9817\n",
       "1     6352\n",
       "0      650\n",
       "Name: education, dtype: int64"
      ]
     },
     "execution_count": 9,
     "metadata": {},
     "output_type": "execute_result"
    }
   ],
   "source": [
    "data.education.value_counts() # 무응답 데이터 650개"
   ]
  },
  {
   "cell_type": "code",
   "execution_count": 10,
   "metadata": {},
   "outputs": [
    {
     "data": {
      "text/plain": [
       "education    1.000000\n",
       "married      0.278788\n",
       "wr_03        0.220288\n",
       "wr_06        0.196406\n",
       "QbA          0.153425\n",
       "               ...   \n",
       "QeA          0.011731\n",
       "QgA          0.009931\n",
       "urban        0.009730\n",
       "wr_07        0.006551\n",
       "wr_08        0.005207\n",
       "Name: education, Length: 72, dtype: float64"
      ]
     },
     "execution_count": 10,
     "metadata": {},
     "output_type": "execute_result"
    }
   ],
   "source": [
    "# 스피어만 상관계수 기준 married 칼럼과 약한 상관관계를 보임\n",
    "data.corr(method='spearman')['education'].abs().sort_values(ascending=False) "
   ]
  },
  {
   "cell_type": "code",
   "execution_count": 11,
   "metadata": {},
   "outputs": [
    {
     "data": {
      "text/plain": [
       "age_group\n",
       "+70s    3.016722\n",
       "10s     1.780387\n",
       "20s     2.863169\n",
       "30s     3.000000\n",
       "40s     3.004825\n",
       "50s     2.978348\n",
       "60s     3.022822\n",
       "Name: education, dtype: float64"
      ]
     },
     "execution_count": 11,
     "metadata": {},
     "output_type": "execute_result"
    }
   ],
   "source": [
    "# 연령대 칼럼과도 약한 선형관계를 보임\n",
    "data[data.education!=0].groupby(['age_group'])['education'].mean()"
   ]
  },
  {
   "cell_type": "markdown",
   "metadata": {},
   "source": [
    "연령대 , 결혼 여부에 따라 그룹화 시킨 각 그룹의 교육 수준 비율을 참조해 난수를 생성해 처리"
   ]
  },
  {
   "cell_type": "code",
   "execution_count": 12,
   "metadata": {},
   "outputs": [
    {
     "data": {
      "text/html": [
       "<div>\n",
       "<style scoped>\n",
       "    .dataframe tbody tr th:only-of-type {\n",
       "        vertical-align: middle;\n",
       "    }\n",
       "\n",
       "    .dataframe tbody tr th {\n",
       "        vertical-align: top;\n",
       "    }\n",
       "\n",
       "    .dataframe thead th {\n",
       "        text-align: right;\n",
       "    }\n",
       "</style>\n",
       "<table border=\"1\" class=\"dataframe\">\n",
       "  <thead>\n",
       "    <tr style=\"text-align: right;\">\n",
       "      <th></th>\n",
       "      <th>education</th>\n",
       "      <th>1</th>\n",
       "      <th>2</th>\n",
       "      <th>3</th>\n",
       "      <th>4</th>\n",
       "    </tr>\n",
       "    <tr>\n",
       "      <th>age_group</th>\n",
       "      <th>married</th>\n",
       "      <th></th>\n",
       "      <th></th>\n",
       "      <th></th>\n",
       "      <th></th>\n",
       "    </tr>\n",
       "  </thead>\n",
       "  <tbody>\n",
       "    <tr>\n",
       "      <th rowspan=\"3\" valign=\"top\">+70s</th>\n",
       "      <th>1</th>\n",
       "      <td>0.111111</td>\n",
       "      <td>0.333333</td>\n",
       "      <td>0.222222</td>\n",
       "      <td>0.333333</td>\n",
       "    </tr>\n",
       "    <tr>\n",
       "      <th>2</th>\n",
       "      <td>0.028249</td>\n",
       "      <td>0.214689</td>\n",
       "      <td>0.322034</td>\n",
       "      <td>0.435028</td>\n",
       "    </tr>\n",
       "    <tr>\n",
       "      <th>3</th>\n",
       "      <td>0.038835</td>\n",
       "      <td>0.407767</td>\n",
       "      <td>0.271845</td>\n",
       "      <td>0.281553</td>\n",
       "    </tr>\n",
       "    <tr>\n",
       "      <th rowspan=\"3\" valign=\"top\">10s</th>\n",
       "      <th>1</th>\n",
       "      <td>0.323903</td>\n",
       "      <td>0.584934</td>\n",
       "      <td>0.079847</td>\n",
       "      <td>0.011317</td>\n",
       "    </tr>\n",
       "    <tr>\n",
       "      <th>2</th>\n",
       "      <td>0.161290</td>\n",
       "      <td>0.688172</td>\n",
       "      <td>0.129032</td>\n",
       "      <td>0.021505</td>\n",
       "    </tr>\n",
       "    <tr>\n",
       "      <th>3</th>\n",
       "      <td>0.322581</td>\n",
       "      <td>0.451613</td>\n",
       "      <td>0.161290</td>\n",
       "      <td>0.064516</td>\n",
       "    </tr>\n",
       "    <tr>\n",
       "      <th rowspan=\"3\" valign=\"top\">20s</th>\n",
       "      <th>1</th>\n",
       "      <td>0.014825</td>\n",
       "      <td>0.297409</td>\n",
       "      <td>0.503444</td>\n",
       "      <td>0.184323</td>\n",
       "    </tr>\n",
       "    <tr>\n",
       "      <th>2</th>\n",
       "      <td>0.013881</td>\n",
       "      <td>0.269621</td>\n",
       "      <td>0.464495</td>\n",
       "      <td>0.252002</td>\n",
       "    </tr>\n",
       "    <tr>\n",
       "      <th>3</th>\n",
       "      <td>0.033708</td>\n",
       "      <td>0.446629</td>\n",
       "      <td>0.384831</td>\n",
       "      <td>0.134831</td>\n",
       "    </tr>\n",
       "    <tr>\n",
       "      <th rowspan=\"3\" valign=\"top\">30s</th>\n",
       "      <th>1</th>\n",
       "      <td>0.024077</td>\n",
       "      <td>0.261867</td>\n",
       "      <td>0.445081</td>\n",
       "      <td>0.268975</td>\n",
       "    </tr>\n",
       "    <tr>\n",
       "      <th>2</th>\n",
       "      <td>0.012370</td>\n",
       "      <td>0.212271</td>\n",
       "      <td>0.450272</td>\n",
       "      <td>0.325087</td>\n",
       "    </tr>\n",
       "    <tr>\n",
       "      <th>3</th>\n",
       "      <td>0.029094</td>\n",
       "      <td>0.322527</td>\n",
       "      <td>0.413134</td>\n",
       "      <td>0.235245</td>\n",
       "    </tr>\n",
       "    <tr>\n",
       "      <th rowspan=\"3\" valign=\"top\">40s</th>\n",
       "      <th>1</th>\n",
       "      <td>0.022963</td>\n",
       "      <td>0.274074</td>\n",
       "      <td>0.436296</td>\n",
       "      <td>0.266667</td>\n",
       "    </tr>\n",
       "    <tr>\n",
       "      <th>2</th>\n",
       "      <td>0.010101</td>\n",
       "      <td>0.232026</td>\n",
       "      <td>0.422163</td>\n",
       "      <td>0.335710</td>\n",
       "    </tr>\n",
       "    <tr>\n",
       "      <th>3</th>\n",
       "      <td>0.020243</td>\n",
       "      <td>0.316464</td>\n",
       "      <td>0.427800</td>\n",
       "      <td>0.235493</td>\n",
       "    </tr>\n",
       "    <tr>\n",
       "      <th rowspan=\"3\" valign=\"top\">50s</th>\n",
       "      <th>1</th>\n",
       "      <td>0.020243</td>\n",
       "      <td>0.291498</td>\n",
       "      <td>0.445344</td>\n",
       "      <td>0.242915</td>\n",
       "    </tr>\n",
       "    <tr>\n",
       "      <th>2</th>\n",
       "      <td>0.012055</td>\n",
       "      <td>0.256813</td>\n",
       "      <td>0.393082</td>\n",
       "      <td>0.338050</td>\n",
       "    </tr>\n",
       "    <tr>\n",
       "      <th>3</th>\n",
       "      <td>0.028986</td>\n",
       "      <td>0.330616</td>\n",
       "      <td>0.379529</td>\n",
       "      <td>0.260870</td>\n",
       "    </tr>\n",
       "    <tr>\n",
       "      <th rowspan=\"3\" valign=\"top\">60s</th>\n",
       "      <th>1</th>\n",
       "      <td>0.014706</td>\n",
       "      <td>0.161765</td>\n",
       "      <td>0.419118</td>\n",
       "      <td>0.404412</td>\n",
       "    </tr>\n",
       "    <tr>\n",
       "      <th>2</th>\n",
       "      <td>0.010405</td>\n",
       "      <td>0.300578</td>\n",
       "      <td>0.351445</td>\n",
       "      <td>0.337572</td>\n",
       "    </tr>\n",
       "    <tr>\n",
       "      <th>3</th>\n",
       "      <td>0.015909</td>\n",
       "      <td>0.313636</td>\n",
       "      <td>0.350000</td>\n",
       "      <td>0.320455</td>\n",
       "    </tr>\n",
       "  </tbody>\n",
       "</table>\n",
       "</div>"
      ],
      "text/plain": [
       "education                 1         2         3         4\n",
       "age_group married                                        \n",
       "+70s      1        0.111111  0.333333  0.222222  0.333333\n",
       "          2        0.028249  0.214689  0.322034  0.435028\n",
       "          3        0.038835  0.407767  0.271845  0.281553\n",
       "10s       1        0.323903  0.584934  0.079847  0.011317\n",
       "          2        0.161290  0.688172  0.129032  0.021505\n",
       "          3        0.322581  0.451613  0.161290  0.064516\n",
       "20s       1        0.014825  0.297409  0.503444  0.184323\n",
       "          2        0.013881  0.269621  0.464495  0.252002\n",
       "          3        0.033708  0.446629  0.384831  0.134831\n",
       "30s       1        0.024077  0.261867  0.445081  0.268975\n",
       "          2        0.012370  0.212271  0.450272  0.325087\n",
       "          3        0.029094  0.322527  0.413134  0.235245\n",
       "40s       1        0.022963  0.274074  0.436296  0.266667\n",
       "          2        0.010101  0.232026  0.422163  0.335710\n",
       "          3        0.020243  0.316464  0.427800  0.235493\n",
       "50s       1        0.020243  0.291498  0.445344  0.242915\n",
       "          2        0.012055  0.256813  0.393082  0.338050\n",
       "          3        0.028986  0.330616  0.379529  0.260870\n",
       "60s       1        0.014706  0.161765  0.419118  0.404412\n",
       "          2        0.010405  0.300578  0.351445  0.337572\n",
       "          3        0.015909  0.313636  0.350000  0.320455"
      ]
     },
     "execution_count": 12,
     "metadata": {},
     "output_type": "execute_result"
    }
   ],
   "source": [
    "# 참조 테이블 생성\n",
    "fill_table = data[(data.married!=0)&(data.education!=0)].groupby(['age_group','married'])['education'].value_counts(normalize=True).unstack() \n",
    "fill_table"
   ]
  },
  {
   "cell_type": "markdown",
   "metadata": {},
   "source": [
    "결측 데이터에 대하여 연령대 , 결혼 여부 정보를 참조하여 참조 테이블 값을 확률로한 난수로 채움"
   ]
  },
  {
   "cell_type": "code",
   "execution_count": 13,
   "metadata": {},
   "outputs": [],
   "source": [
    "def fill_education_NA(row):\n",
    "    if not row.married:\n",
    "        total_prob = list(data.education[data.education!=0].value_counts(normalize=True).values) #특정 그룹이 아닌 전체에서 비율\n",
    "        impute_value = np.random.choice([1,2,3,4],p=total_prob)\n",
    "    else:\n",
    "        impute_value = np.random.choice([1,2,3,4],p=list(fill_table.loc[(row.age_group,row.married)].values))\n",
    "        \n",
    "    row.education = impute_value\n",
    "    return row\n",
    "\n",
    "data[data.education==0] = data[data.education==0].apply(fill_education_NA,axis=1) "
   ]
  },
  {
   "cell_type": "code",
   "execution_count": 14,
   "metadata": {},
   "outputs": [
    {
     "data": {
      "text/plain": [
       "2    21285\n",
       "3    19267\n",
       "4     9954\n",
       "1     6406\n",
       "Name: education, dtype: int64"
      ]
     },
     "execution_count": 14,
     "metadata": {},
     "output_type": "execute_result"
    }
   ],
   "source": [
    "data.education.value_counts()"
   ]
  },
  {
   "cell_type": "markdown",
   "metadata": {},
   "source": [
    "### Urban"
   ]
  },
  {
   "cell_type": "code",
   "execution_count": 15,
   "metadata": {},
   "outputs": [
    {
     "data": {
      "text/plain": [
       "array([1, 3, 2, 0], dtype=int64)"
      ]
     },
     "execution_count": 15,
     "metadata": {},
     "output_type": "execute_result"
    }
   ],
   "source": [
    "data.urban.unique() # NA 는 없지만 0 (무응답 존재)"
   ]
  },
  {
   "cell_type": "code",
   "execution_count": 16,
   "metadata": {},
   "outputs": [
    {
     "data": {
      "text/plain": [
       "2    23084\n",
       "3    22206\n",
       "1    11206\n",
       "0      416\n",
       "Name: urban, dtype: int64"
      ]
     },
     "execution_count": 16,
     "metadata": {},
     "output_type": "execute_result"
    }
   ],
   "source": [
    "data.urban.value_counts() # 416개 무응답 데이터 "
   ]
  },
  {
   "cell_type": "code",
   "execution_count": 17,
   "metadata": {},
   "outputs": [
    {
     "data": {
      "text/plain": [
       "urban         1.000000\n",
       "engnat        0.153795\n",
       "wr_01         0.082653\n",
       "familysize    0.068431\n",
       "wr_11         0.067428\n",
       "                ...   \n",
       "QaE           0.004758\n",
       "tp10          0.003684\n",
       "QfA           0.001968\n",
       "QrE           0.001877\n",
       "QlA           0.000181\n",
       "Name: urban, Length: 72, dtype: float64"
      ]
     },
     "execution_count": 17,
     "metadata": {},
     "output_type": "execute_result"
    }
   ],
   "source": [
    "data.dropna().corr(method='spearman')['urban'].abs().sort_values(ascending=False) #engnat 컬럼과 약한 상관관계를 보임"
   ]
  },
  {
   "cell_type": "code",
   "execution_count": 18,
   "metadata": {},
   "outputs": [
    {
     "data": {
      "text/html": [
       "<div>\n",
       "<style scoped>\n",
       "    .dataframe tbody tr th:only-of-type {\n",
       "        vertical-align: middle;\n",
       "    }\n",
       "\n",
       "    .dataframe tbody tr th {\n",
       "        vertical-align: top;\n",
       "    }\n",
       "\n",
       "    .dataframe thead th {\n",
       "        text-align: right;\n",
       "    }\n",
       "</style>\n",
       "<table border=\"1\" class=\"dataframe\">\n",
       "  <thead>\n",
       "    <tr style=\"text-align: right;\">\n",
       "      <th>urban</th>\n",
       "      <th>1</th>\n",
       "      <th>2</th>\n",
       "      <th>3</th>\n",
       "    </tr>\n",
       "    <tr>\n",
       "      <th>race</th>\n",
       "      <th></th>\n",
       "      <th></th>\n",
       "      <th></th>\n",
       "    </tr>\n",
       "  </thead>\n",
       "  <tbody>\n",
       "    <tr>\n",
       "      <th>Arab</th>\n",
       "      <td>0.087963</td>\n",
       "      <td>0.324074</td>\n",
       "      <td>0.587963</td>\n",
       "    </tr>\n",
       "    <tr>\n",
       "      <th>Asian</th>\n",
       "      <td>0.116497</td>\n",
       "      <td>0.317018</td>\n",
       "      <td>0.566485</td>\n",
       "    </tr>\n",
       "    <tr>\n",
       "      <th>Black</th>\n",
       "      <td>0.094065</td>\n",
       "      <td>0.357223</td>\n",
       "      <td>0.548712</td>\n",
       "    </tr>\n",
       "    <tr>\n",
       "      <th>Indigenous Australian</th>\n",
       "      <td>0.359375</td>\n",
       "      <td>0.453125</td>\n",
       "      <td>0.187500</td>\n",
       "    </tr>\n",
       "    <tr>\n",
       "      <th>Native American</th>\n",
       "      <td>0.324242</td>\n",
       "      <td>0.298485</td>\n",
       "      <td>0.377273</td>\n",
       "    </tr>\n",
       "    <tr>\n",
       "      <th>Other</th>\n",
       "      <td>0.122426</td>\n",
       "      <td>0.371771</td>\n",
       "      <td>0.505803</td>\n",
       "    </tr>\n",
       "    <tr>\n",
       "      <th>White</th>\n",
       "      <td>0.232556</td>\n",
       "      <td>0.439804</td>\n",
       "      <td>0.327641</td>\n",
       "    </tr>\n",
       "  </tbody>\n",
       "</table>\n",
       "</div>"
      ],
      "text/plain": [
       "urban                         1         2         3\n",
       "race                                               \n",
       "Arab                   0.087963  0.324074  0.587963\n",
       "Asian                  0.116497  0.317018  0.566485\n",
       "Black                  0.094065  0.357223  0.548712\n",
       "Indigenous Australian  0.359375  0.453125  0.187500\n",
       "Native American        0.324242  0.298485  0.377273\n",
       "Other                  0.122426  0.371771  0.505803\n",
       "White                  0.232556  0.439804  0.327641"
      ]
     },
     "execution_count": 18,
     "metadata": {},
     "output_type": "execute_result"
    }
   ],
   "source": [
    "data[data.urban!=0].groupby(['race'])['urban'].value_counts(normalize=True).unstack() #race 칼럼의 정보에 따라 분포가 다름"
   ]
  },
  {
   "cell_type": "markdown",
   "metadata": {},
   "source": [
    "engnat , race 컬럼 데이터로 그룹화 시킨 각 그룹의 urban 최빈값을 참조해 결측값 처리"
   ]
  },
  {
   "cell_type": "code",
   "execution_count": 19,
   "metadata": {},
   "outputs": [
    {
     "data": {
      "text/plain": [
       "engnat  race                 \n",
       "1       Arab                     2\n",
       "        Asian                    3\n",
       "        Black                    3\n",
       "        Indigenous Australian    2\n",
       "        Native American          3\n",
       "        Other                    3\n",
       "        White                    2\n",
       "2       Arab                     3\n",
       "        Asian                    3\n",
       "        Black                    3\n",
       "        Indigenous Australian    1\n",
       "        Native American          3\n",
       "        Other                    3\n",
       "        White                    3\n",
       "Name: urban, dtype: int64"
      ]
     },
     "execution_count": 19,
     "metadata": {},
     "output_type": "execute_result"
    }
   ],
   "source": [
    "# 참조 테이블 생성\n",
    "fill_table = data[(data.engnat!=0)&(data.urban!=0)].groupby(['engnat','race'])['urban'].apply(lambda x : x.value_counts().index[0])\n",
    "fill_table"
   ]
  },
  {
   "cell_type": "markdown",
   "metadata": {},
   "source": [
    "결측 데이터에 대하여 engnat , race 정보를 참조하여 참조 테이블 값으로 업데이트"
   ]
  },
  {
   "cell_type": "code",
   "execution_count": 20,
   "metadata": {},
   "outputs": [],
   "source": [
    "def fill_urban_NA(row):\n",
    "    if not row.engnat :\n",
    "        total_prob = list(data.urban[data.urban!=0].value_counts(normalize=True).values) #특정 그룹이 아닌 전체에서 비율\n",
    "        impute_value = np.random.choice(range(1,4),p=total_prob)\n",
    "    else: \n",
    "        impute_value = fill_table[(row.engnat,row.race)]\n",
    "        \n",
    "    row['urban'] = impute_value\n",
    "    return row\n",
    "\n",
    "data[data.urban==0] = data[data.urban==0].apply(fill_urban_NA,axis=1)"
   ]
  },
  {
   "cell_type": "code",
   "execution_count": 21,
   "metadata": {},
   "outputs": [
    {
     "data": {
      "text/plain": [
       "2    23309\n",
       "3    22395\n",
       "1    11208\n",
       "Name: urban, dtype: int64"
      ]
     },
     "execution_count": 21,
     "metadata": {},
     "output_type": "execute_result"
    }
   ],
   "source": [
    "data.urban.value_counts()"
   ]
  },
  {
   "cell_type": "markdown",
   "metadata": {},
   "source": [
    "### Engnat"
   ]
  },
  {
   "cell_type": "code",
   "execution_count": 22,
   "metadata": {},
   "outputs": [
    {
     "data": {
      "text/plain": [
       "array([1, 2, 0], dtype=int64)"
      ]
     },
     "execution_count": 22,
     "metadata": {},
     "output_type": "execute_result"
    }
   ],
   "source": [
    "data.engnat.unique() # NA는 없지만 0(무응답) 존재"
   ]
  },
  {
   "cell_type": "code",
   "execution_count": 23,
   "metadata": {},
   "outputs": [
    {
     "data": {
      "text/plain": [
       "1    41295\n",
       "2    15523\n",
       "0       94\n",
       "Name: engnat, dtype: int64"
      ]
     },
     "execution_count": 23,
     "metadata": {},
     "output_type": "execute_result"
    }
   ],
   "source": [
    "data.engnat.value_counts() # 94개 무응답 데이터"
   ]
  },
  {
   "cell_type": "markdown",
   "metadata": {},
   "source": [
    "engnat 가 무응답인 데이터에 대해 다른 모든 (결측이 없는) 개인정보 관련 칼럼이 동일하거나 비슷한 그룹을 찾아 과반수 이상 값으로 업데이트"
   ]
  },
  {
   "cell_type": "code",
   "execution_count": 24,
   "metadata": {},
   "outputs": [],
   "source": [
    "def fill_engnat_NA(row):  \n",
    "    try:\n",
    "        impute_value = subset[tuple([row[col] for col in cols])]\n",
    "    except KeyError:\n",
    "        total_prob = list(data[data.engnat!=0].value_counts(normalize=True).values)\n",
    "        impute_value = np.random.choice([1,2],p=total_prob)\n",
    "    row.engnat = impute_value\n",
    "    return row\n",
    "\n",
    "cols = ['age_group','gender','race','religion']\n",
    "subset = data[data.engnat!=0].groupby(cols)['engnat'].apply(lambda x: x.value_counts().index[0])\n",
    "data[data.engnat==0] = data[data.engnat==0].apply(fill_engnat_NA,axis=1) "
   ]
  },
  {
   "cell_type": "code",
   "execution_count": 25,
   "metadata": {
    "scrolled": true
   },
   "outputs": [
    {
     "data": {
      "text/plain": [
       "1    41372\n",
       "2    15540\n",
       "Name: engnat, dtype: int64"
      ]
     },
     "execution_count": 25,
     "metadata": {},
     "output_type": "execute_result"
    }
   ],
   "source": [
    "data.engnat.value_counts()"
   ]
  },
  {
   "cell_type": "markdown",
   "metadata": {},
   "source": [
    "### Married"
   ]
  },
  {
   "cell_type": "code",
   "execution_count": 26,
   "metadata": {},
   "outputs": [
    {
     "data": {
      "text/plain": [
       "array([3, 1, 2, 0], dtype=int64)"
      ]
     },
     "execution_count": 26,
     "metadata": {},
     "output_type": "execute_result"
    }
   ],
   "source": [
    "data.married.unique() # NA 는 없지만 0(무응답은 존재)"
   ]
  },
  {
   "cell_type": "code",
   "execution_count": 27,
   "metadata": {},
   "outputs": [
    {
     "data": {
      "text/plain": [
       "1    39476\n",
       "2    12528\n",
       "3     4787\n",
       "0      121\n",
       "Name: married, dtype: int64"
      ]
     },
     "execution_count": 27,
     "metadata": {},
     "output_type": "execute_result"
    }
   ],
   "source": [
    "data.married.value_counts() # 121개 무응답 데이터"
   ]
  },
  {
   "cell_type": "markdown",
   "metadata": {},
   "source": [
    "스피어만 상관계수 기준 education 칼럼과 약한 상관관계를 보임 "
   ]
  },
  {
   "cell_type": "code",
   "execution_count": 28,
   "metadata": {},
   "outputs": [
    {
     "data": {
      "text/plain": [
       "married      1.000000\n",
       "education    0.291482\n",
       "QqA          0.191236\n",
       "QkA          0.188572\n",
       "tp02         0.182331\n",
       "               ...   \n",
       "tp05         0.026242\n",
       "wr_08        0.015263\n",
       "wf_02        0.014967\n",
       "hand         0.014185\n",
       "QeA          0.008795\n",
       "Name: married, Length: 72, dtype: float64"
      ]
     },
     "execution_count": 28,
     "metadata": {},
     "output_type": "execute_result"
    }
   ],
   "source": [
    "data.corr(method='spearman')['married'].abs().sort_values(ascending=False)"
   ]
  },
  {
   "cell_type": "markdown",
   "metadata": {},
   "source": [
    "age_group 데이터에 따른 그룹핑 결과 연령대에 따라서도 몇몇 그룹에서 분포가 다른것을 확인"
   ]
  },
  {
   "cell_type": "code",
   "execution_count": 29,
   "metadata": {},
   "outputs": [
    {
     "data": {
      "text/html": [
       "<div>\n",
       "<style scoped>\n",
       "    .dataframe tbody tr th:only-of-type {\n",
       "        vertical-align: middle;\n",
       "    }\n",
       "\n",
       "    .dataframe tbody tr th {\n",
       "        vertical-align: top;\n",
       "    }\n",
       "\n",
       "    .dataframe thead th {\n",
       "        text-align: right;\n",
       "    }\n",
       "</style>\n",
       "<table border=\"1\" class=\"dataframe\">\n",
       "  <thead>\n",
       "    <tr style=\"text-align: right;\">\n",
       "      <th>married</th>\n",
       "      <th>1</th>\n",
       "      <th>2</th>\n",
       "      <th>3</th>\n",
       "    </tr>\n",
       "    <tr>\n",
       "      <th>age_group</th>\n",
       "      <th></th>\n",
       "      <th></th>\n",
       "      <th></th>\n",
       "    </tr>\n",
       "  </thead>\n",
       "  <tbody>\n",
       "    <tr>\n",
       "      <th>+70s</th>\n",
       "      <td>18</td>\n",
       "      <td>182</td>\n",
       "      <td>105</td>\n",
       "    </tr>\n",
       "    <tr>\n",
       "      <th>10s</th>\n",
       "      <td>17639</td>\n",
       "      <td>93</td>\n",
       "      <td>31</td>\n",
       "    </tr>\n",
       "    <tr>\n",
       "      <th>20s</th>\n",
       "      <td>15386</td>\n",
       "      <td>1895</td>\n",
       "      <td>358</td>\n",
       "    </tr>\n",
       "    <tr>\n",
       "      <th>30s</th>\n",
       "      <td>4420</td>\n",
       "      <td>4099</td>\n",
       "      <td>1225</td>\n",
       "    </tr>\n",
       "    <tr>\n",
       "      <th>40s</th>\n",
       "      <td>1366</td>\n",
       "      <td>3420</td>\n",
       "      <td>1503</td>\n",
       "    </tr>\n",
       "    <tr>\n",
       "      <th>50s</th>\n",
       "      <td>506</td>\n",
       "      <td>1952</td>\n",
       "      <td>1118</td>\n",
       "    </tr>\n",
       "    <tr>\n",
       "      <th>60s</th>\n",
       "      <td>141</td>\n",
       "      <td>887</td>\n",
       "      <td>447</td>\n",
       "    </tr>\n",
       "  </tbody>\n",
       "</table>\n",
       "</div>"
      ],
      "text/plain": [
       "married        1     2     3\n",
       "age_group                   \n",
       "+70s          18   182   105\n",
       "10s        17639    93    31\n",
       "20s        15386  1895   358\n",
       "30s         4420  4099  1225\n",
       "40s         1366  3420  1503\n",
       "50s          506  1952  1118\n",
       "60s          141   887   447"
      ]
     },
     "execution_count": 29,
     "metadata": {},
     "output_type": "execute_result"
    }
   ],
   "source": [
    "data[data.married!=0].groupby(['age_group'])['married'].value_counts().unstack()"
   ]
  },
  {
   "cell_type": "markdown",
   "metadata": {},
   "source": [
    "age_group , education  칼럼의 정보로 그룹화 후 각 그룹의 최빈값을 결측 대체값으로 활용"
   ]
  },
  {
   "cell_type": "code",
   "execution_count": 30,
   "metadata": {},
   "outputs": [
    {
     "data": {
      "text/plain": [
       "age_group  education\n",
       "+70s       1            2\n",
       "           2            3\n",
       "           3            2\n",
       "           4            2\n",
       "10s        1            1\n",
       "           2            1\n",
       "           3            1\n",
       "           4            1\n",
       "20s        1            1\n",
       "           2            1\n",
       "           3            1\n",
       "           4            1\n",
       "30s        1            1\n",
       "           2            1\n",
       "           3            1\n",
       "           4            2\n",
       "40s        1            2\n",
       "           2            2\n",
       "           3            2\n",
       "           4            2\n",
       "50s        1            3\n",
       "           2            2\n",
       "           3            2\n",
       "           4            2\n",
       "60s        1            2\n",
       "           2            2\n",
       "           3            2\n",
       "           4            2\n",
       "Name: married, dtype: int64"
      ]
     },
     "execution_count": 30,
     "metadata": {},
     "output_type": "execute_result"
    }
   ],
   "source": [
    "# 최빈값 참조 테이블 생성\n",
    "fill_table = data[(data.married!=0)&(data.education!=0)].groupby(['age_group','education'])['married'].apply(lambda x : x.value_counts().index[0])\n",
    "fill_table"
   ]
  },
  {
   "cell_type": "markdown",
   "metadata": {},
   "source": [
    "결측 데이터에 대하여 age_group , education 정보를 참조하여 참조 테이블 값으로 업데이트"
   ]
  },
  {
   "cell_type": "code",
   "execution_count": 31,
   "metadata": {},
   "outputs": [],
   "source": [
    "def fill_married_NA(row):\n",
    "    if row.education == 0 :\n",
    "        if row.age_group =='10s':\n",
    "            fill_value = fill_table[(row.age_group,2)]\n",
    "        else:\n",
    "            fill_value = fill_table[(row.age_group,3)]\n",
    "    else:\n",
    "        fill_value = fill_table[(row.age_group,row.education)]\n",
    "    \n",
    "    row.married=fill_value\n",
    "    return row\n",
    "\n",
    "data[data.married==0] = data[data.married==0].apply(fill_married_NA , axis=1)"
   ]
  },
  {
   "cell_type": "code",
   "execution_count": 32,
   "metadata": {},
   "outputs": [
    {
     "data": {
      "text/plain": [
       "1    39563\n",
       "2    12562\n",
       "3     4787\n",
       "Name: married, dtype: int64"
      ]
     },
     "execution_count": 32,
     "metadata": {},
     "output_type": "execute_result"
    }
   ],
   "source": [
    "data.married.value_counts()"
   ]
  },
  {
   "cell_type": "markdown",
   "metadata": {},
   "source": [
    "### Hand"
   ]
  },
  {
   "cell_type": "code",
   "execution_count": 33,
   "metadata": {},
   "outputs": [
    {
     "data": {
      "text/plain": [
       "array([1, 2, 3, 0], dtype=int64)"
      ]
     },
     "execution_count": 33,
     "metadata": {},
     "output_type": "execute_result"
    }
   ],
   "source": [
    "data.hand.unique() # NA는 없지만 0(무응답) 데이터 존재"
   ]
  },
  {
   "cell_type": "code",
   "execution_count": 34,
   "metadata": {},
   "outputs": [
    {
     "data": {
      "text/plain": [
       "1    48874\n",
       "2     5847\n",
       "3     1990\n",
       "0      201\n",
       "Name: hand, dtype: int64"
      ]
     },
     "execution_count": 34,
     "metadata": {},
     "output_type": "execute_result"
    }
   ],
   "source": [
    "data.hand.value_counts() # 201개 무응답 데이터"
   ]
  },
  {
   "cell_type": "markdown",
   "metadata": {},
   "source": [
    "결측을 제외한 hand 데이터의 전체 데이터 기준 비율을 활용하여 난수를 생성하여 결측값 대체"
   ]
  },
  {
   "cell_type": "code",
   "execution_count": 35,
   "metadata": {},
   "outputs": [],
   "source": [
    "def fill_hand_NA(row):\n",
    "    row.hand = np.random.choice([1,2,3],p=total_prob)\n",
    "    return row\n",
    "\n",
    "total_prob = list(data.hand[data.hand!=0].value_counts(normalize=True).values)\n",
    "data[data.hand==0] = data[data.hand==0].apply(fill_hand_NA,axis=1) "
   ]
  },
  {
   "cell_type": "code",
   "execution_count": 36,
   "metadata": {},
   "outputs": [
    {
     "data": {
      "text/plain": [
       "1    49052\n",
       "2     5865\n",
       "3     1995\n",
       "Name: hand, dtype: int64"
      ]
     },
     "execution_count": 36,
     "metadata": {},
     "output_type": "execute_result"
    }
   ],
   "source": [
    "data.hand.value_counts()"
   ]
  },
  {
   "cell_type": "markdown",
   "metadata": {},
   "source": [
    "# save file"
   ]
  },
  {
   "cell_type": "code",
   "execution_count": 41,
   "metadata": {},
   "outputs": [
    {
     "data": {
      "text/plain": [
       "((45529, 77), (11383, 76))"
      ]
     },
     "execution_count": 41,
     "metadata": {},
     "output_type": "execute_result"
    }
   ],
   "source": [
    "train_preprocessed = data.iloc[:split_point].join(train.voted)\n",
    "test_preprocessed = data.iloc[split_point:]\n",
    "train_preprocessed.shape,test_preprocessed.shape"
   ]
  },
  {
   "cell_type": "code",
   "execution_count": 45,
   "metadata": {},
   "outputs": [],
   "source": [
    "train_preprocessed.to_csv(filepath_home+'train_preprocessed.csv',index=False)\n",
    "test_preprocessed.to_csv(filepath_home+'test_preprocessed.csv',index=False)"
   ]
  }
 ],
 "metadata": {
  "kernelspec": {
   "display_name": "Python 3",
   "language": "python",
   "name": "python3"
  },
  "language_info": {
   "codemirror_mode": {
    "name": "ipython",
    "version": 3
   },
   "file_extension": ".py",
   "mimetype": "text/x-python",
   "name": "python",
   "nbconvert_exporter": "python",
   "pygments_lexer": "ipython3",
   "version": "3.8.3"
  }
 },
 "nbformat": 4,
 "nbformat_minor": 4
}
