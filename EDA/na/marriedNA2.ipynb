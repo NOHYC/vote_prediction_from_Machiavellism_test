{
 "cells": [
  {
   "cell_type": "code",
   "execution_count": 1,
   "metadata": {},
   "outputs": [],
   "source": [
    "import pandas as pd\n",
    "import numpy as np\n",
    "import matplotlib.pyplot as plt\n",
    "import seaborn as sns\n",
    "sns.set()"
   ]
  },
  {
   "cell_type": "code",
   "execution_count": 2,
   "metadata": {},
   "outputs": [],
   "source": [
    "filepath_home= 'D:/Dacon_Psychological_disposition/'\n",
    "filepath_out = 'C:/임시/Dacon_Psychological_disposition/' \n",
    "train = pd.read_csv(filepath_home+'train.csv',index_col=0)\n",
    "test = pd.read_csv(filepath_home+'test_x.csv',index_col=0)"
   ]
  },
  {
   "cell_type": "code",
   "execution_count": 3,
   "metadata": {},
   "outputs": [],
   "source": [
    "# 분할 지점 저장해두고 데이터 통합 후 전처리\n",
    "split_point = train.shape[0]\n",
    "data = pd.concat([train.drop('voted',axis=1),test],ignore_index=True)"
   ]
  },
  {
   "cell_type": "markdown",
   "metadata": {},
   "source": [
    "__결측 : 121 개__"
   ]
  },
  {
   "cell_type": "code",
   "execution_count": 4,
   "metadata": {},
   "outputs": [
    {
     "data": {
      "text/plain": [
       "1    39478\n",
       "2    12528\n",
       "3     4788\n",
       "0      121\n",
       "Name: married, dtype: int64"
      ]
     },
     "execution_count": 4,
     "metadata": {},
     "output_type": "execute_result"
    }
   ],
   "source": [
    "data.married.value_counts()"
   ]
  },
  {
   "cell_type": "markdown",
   "metadata": {},
   "source": [
    "__양적 변수 중 그나마 연관 : education__ "
   ]
  },
  {
   "cell_type": "code",
   "execution_count": 7,
   "metadata": {},
   "outputs": [
    {
     "data": {
      "text/plain": [
       "married       1.000000\n",
       "education     0.278764\n",
       "tp02          0.182348\n",
       "wr_11         0.179079\n",
       "QaE           0.166365\n",
       "tp08          0.163558\n",
       "wr_03         0.150832\n",
       "QgE           0.134741\n",
       "QsE           0.131361\n",
       "QfE           0.125900\n",
       "familysize    0.124464\n",
       "QrE           0.116973\n",
       "QnE           0.113559\n",
       "QtE           0.107309\n",
       "QoE           0.105881\n",
       "Name: married, dtype: float64"
      ]
     },
     "execution_count": 7,
     "metadata": {},
     "output_type": "execute_result"
    }
   ],
   "source": [
    "data.corr(method='spearman')['married'].sort_values(ascending=False)[:15] "
   ]
  },
  {
   "cell_type": "markdown",
   "metadata": {},
   "source": [
    "__질적 변수 중 연관 : age_group -> 확실히 10s ,20s 는 1로 봐도 무방해보임__"
   ]
  },
  {
   "cell_type": "code",
   "execution_count": 13,
   "metadata": {},
   "outputs": [
    {
     "data": {
      "text/html": [
       "<div>\n",
       "<style scoped>\n",
       "    .dataframe tbody tr th:only-of-type {\n",
       "        vertical-align: middle;\n",
       "    }\n",
       "\n",
       "    .dataframe tbody tr th {\n",
       "        vertical-align: top;\n",
       "    }\n",
       "\n",
       "    .dataframe thead th {\n",
       "        text-align: right;\n",
       "    }\n",
       "</style>\n",
       "<table border=\"1\" class=\"dataframe\">\n",
       "  <thead>\n",
       "    <tr style=\"text-align: right;\">\n",
       "      <th>married</th>\n",
       "      <th>1</th>\n",
       "      <th>2</th>\n",
       "      <th>3</th>\n",
       "    </tr>\n",
       "    <tr>\n",
       "      <th>age_group</th>\n",
       "      <th></th>\n",
       "      <th></th>\n",
       "      <th></th>\n",
       "    </tr>\n",
       "  </thead>\n",
       "  <tbody>\n",
       "    <tr>\n",
       "      <th>+70s</th>\n",
       "      <td>18</td>\n",
       "      <td>182</td>\n",
       "      <td>106</td>\n",
       "    </tr>\n",
       "    <tr>\n",
       "      <th>10s</th>\n",
       "      <td>17641</td>\n",
       "      <td>93</td>\n",
       "      <td>31</td>\n",
       "    </tr>\n",
       "    <tr>\n",
       "      <th>20s</th>\n",
       "      <td>15386</td>\n",
       "      <td>1895</td>\n",
       "      <td>358</td>\n",
       "    </tr>\n",
       "    <tr>\n",
       "      <th>30s</th>\n",
       "      <td>4420</td>\n",
       "      <td>4099</td>\n",
       "      <td>1225</td>\n",
       "    </tr>\n",
       "    <tr>\n",
       "      <th>40s</th>\n",
       "      <td>1366</td>\n",
       "      <td>3420</td>\n",
       "      <td>1503</td>\n",
       "    </tr>\n",
       "    <tr>\n",
       "      <th>50s</th>\n",
       "      <td>506</td>\n",
       "      <td>1952</td>\n",
       "      <td>1118</td>\n",
       "    </tr>\n",
       "    <tr>\n",
       "      <th>60s</th>\n",
       "      <td>141</td>\n",
       "      <td>887</td>\n",
       "      <td>447</td>\n",
       "    </tr>\n",
       "  </tbody>\n",
       "</table>\n",
       "</div>"
      ],
      "text/plain": [
       "married        1     2     3\n",
       "age_group                   \n",
       "+70s          18   182   106\n",
       "10s        17641    93    31\n",
       "20s        15386  1895   358\n",
       "30s         4420  4099  1225\n",
       "40s         1366  3420  1503\n",
       "50s          506  1952  1118\n",
       "60s          141   887   447"
      ]
     },
     "execution_count": 13,
     "metadata": {},
     "output_type": "execute_result"
    }
   ],
   "source": [
    "data[data.married!=0].groupby(['age_group'])['married'].value_counts().unstack()"
   ]
  },
  {
   "cell_type": "markdown",
   "metadata": {},
   "source": [
    "__education 만 활용하면 최빈값 적용시 모두 1이 나오므로 age_group 도 같이 그룹핑 해서 최빈값 적용하자__"
   ]
  },
  {
   "cell_type": "code",
   "execution_count": 26,
   "metadata": {},
   "outputs": [
    {
     "data": {
      "text/html": [
       "<div>\n",
       "<style scoped>\n",
       "    .dataframe tbody tr th:only-of-type {\n",
       "        vertical-align: middle;\n",
       "    }\n",
       "\n",
       "    .dataframe tbody tr th {\n",
       "        vertical-align: top;\n",
       "    }\n",
       "\n",
       "    .dataframe thead th {\n",
       "        text-align: right;\n",
       "    }\n",
       "</style>\n",
       "<table border=\"1\" class=\"dataframe\">\n",
       "  <thead>\n",
       "    <tr style=\"text-align: right;\">\n",
       "      <th>married</th>\n",
       "      <th>1</th>\n",
       "      <th>2</th>\n",
       "      <th>3</th>\n",
       "    </tr>\n",
       "    <tr>\n",
       "      <th>education</th>\n",
       "      <th></th>\n",
       "      <th></th>\n",
       "      <th></th>\n",
       "    </tr>\n",
       "  </thead>\n",
       "  <tbody>\n",
       "    <tr>\n",
       "      <th>1</th>\n",
       "      <td>0.953907</td>\n",
       "      <td>0.025572</td>\n",
       "      <td>0.020521</td>\n",
       "    </tr>\n",
       "    <tr>\n",
       "      <th>2</th>\n",
       "      <td>0.782555</td>\n",
       "      <td>0.142490</td>\n",
       "      <td>0.074955</td>\n",
       "    </tr>\n",
       "    <tr>\n",
       "      <th>3</th>\n",
       "      <td>0.625717</td>\n",
       "      <td>0.275604</td>\n",
       "      <td>0.098678</td>\n",
       "    </tr>\n",
       "    <tr>\n",
       "      <th>4</th>\n",
       "      <td>0.482132</td>\n",
       "      <td>0.401470</td>\n",
       "      <td>0.116398</td>\n",
       "    </tr>\n",
       "  </tbody>\n",
       "</table>\n",
       "</div>"
      ],
      "text/plain": [
       "married           1         2         3\n",
       "education                              \n",
       "1          0.953907  0.025572  0.020521\n",
       "2          0.782555  0.142490  0.074955\n",
       "3          0.625717  0.275604  0.098678\n",
       "4          0.482132  0.401470  0.116398"
      ]
     },
     "execution_count": 26,
     "metadata": {},
     "output_type": "execute_result"
    }
   ],
   "source": [
    "data[(data.married!=0)&(data.education!=0)].groupby(['education'])['married'].value_counts(normalize=True).unstack()"
   ]
  },
  {
   "cell_type": "markdown",
   "metadata": {},
   "source": [
    "__같은 연령대임에도 교육정도에 따라 최빈값이 차이남 ==> 최빈값 활용하기 적절해보임__"
   ]
  },
  {
   "cell_type": "code",
   "execution_count": 27,
   "metadata": {
    "scrolled": false
   },
   "outputs": [
    {
     "data": {
      "text/html": [
       "<div>\n",
       "<style scoped>\n",
       "    .dataframe tbody tr th:only-of-type {\n",
       "        vertical-align: middle;\n",
       "    }\n",
       "\n",
       "    .dataframe tbody tr th {\n",
       "        vertical-align: top;\n",
       "    }\n",
       "\n",
       "    .dataframe thead th {\n",
       "        text-align: right;\n",
       "    }\n",
       "</style>\n",
       "<table border=\"1\" class=\"dataframe\">\n",
       "  <thead>\n",
       "    <tr style=\"text-align: right;\">\n",
       "      <th></th>\n",
       "      <th>married</th>\n",
       "      <th>1</th>\n",
       "      <th>2</th>\n",
       "      <th>3</th>\n",
       "    </tr>\n",
       "    <tr>\n",
       "      <th>age_group</th>\n",
       "      <th>education</th>\n",
       "      <th></th>\n",
       "      <th></th>\n",
       "      <th></th>\n",
       "    </tr>\n",
       "  </thead>\n",
       "  <tbody>\n",
       "    <tr>\n",
       "      <th rowspan=\"4\" valign=\"top\">+70s</th>\n",
       "      <th>1</th>\n",
       "      <td>0.181818</td>\n",
       "      <td>0.454545</td>\n",
       "      <td>0.363636</td>\n",
       "    </tr>\n",
       "    <tr>\n",
       "      <th>2</th>\n",
       "      <td>0.068966</td>\n",
       "      <td>0.436782</td>\n",
       "      <td>0.494253</td>\n",
       "    </tr>\n",
       "    <tr>\n",
       "      <th>3</th>\n",
       "      <td>0.044944</td>\n",
       "      <td>0.640449</td>\n",
       "      <td>0.314607</td>\n",
       "    </tr>\n",
       "    <tr>\n",
       "      <th>4</th>\n",
       "      <td>0.053571</td>\n",
       "      <td>0.687500</td>\n",
       "      <td>0.258929</td>\n",
       "    </tr>\n",
       "    <tr>\n",
       "      <th rowspan=\"4\" valign=\"top\">10s</th>\n",
       "      <th>1</th>\n",
       "      <td>0.995608</td>\n",
       "      <td>0.002635</td>\n",
       "      <td>0.001757</td>\n",
       "    </tr>\n",
       "    <tr>\n",
       "      <th>2</th>\n",
       "      <td>0.992437</td>\n",
       "      <td>0.006205</td>\n",
       "      <td>0.001357</td>\n",
       "    </tr>\n",
       "    <tr>\n",
       "      <th>3</th>\n",
       "      <td>0.987977</td>\n",
       "      <td>0.008487</td>\n",
       "      <td>0.003536</td>\n",
       "    </tr>\n",
       "    <tr>\n",
       "      <th>4</th>\n",
       "      <td>0.980198</td>\n",
       "      <td>0.009901</td>\n",
       "      <td>0.009901</td>\n",
       "    </tr>\n",
       "    <tr>\n",
       "      <th rowspan=\"4\" valign=\"top\">20s</th>\n",
       "      <th>1</th>\n",
       "      <td>0.856061</td>\n",
       "      <td>0.098485</td>\n",
       "      <td>0.045455</td>\n",
       "    </tr>\n",
       "    <tr>\n",
       "      <th>2</th>\n",
       "      <td>0.872259</td>\n",
       "      <td>0.097153</td>\n",
       "      <td>0.030589</td>\n",
       "    </tr>\n",
       "    <tr>\n",
       "      <th>3</th>\n",
       "      <td>0.884013</td>\n",
       "      <td>0.100207</td>\n",
       "      <td>0.015780</td>\n",
       "    </tr>\n",
       "    <tr>\n",
       "      <th>4</th>\n",
       "      <td>0.843844</td>\n",
       "      <td>0.141742</td>\n",
       "      <td>0.014414</td>\n",
       "    </tr>\n",
       "    <tr>\n",
       "      <th rowspan=\"4\" valign=\"top\">30s</th>\n",
       "      <th>1</th>\n",
       "      <td>0.552632</td>\n",
       "      <td>0.263158</td>\n",
       "      <td>0.184211</td>\n",
       "    </tr>\n",
       "    <tr>\n",
       "      <th>2</th>\n",
       "      <td>0.478224</td>\n",
       "      <td>0.359296</td>\n",
       "      <td>0.162479</td>\n",
       "    </tr>\n",
       "    <tr>\n",
       "      <th>3</th>\n",
       "      <td>0.455848</td>\n",
       "      <td>0.427431</td>\n",
       "      <td>0.116721</td>\n",
       "    </tr>\n",
       "    <tr>\n",
       "      <th>4</th>\n",
       "      <td>0.423466</td>\n",
       "      <td>0.474368</td>\n",
       "      <td>0.102166</td>\n",
       "    </tr>\n",
       "    <tr>\n",
       "      <th rowspan=\"4\" valign=\"top\">40s</th>\n",
       "      <th>1</th>\n",
       "      <td>0.326316</td>\n",
       "      <td>0.357895</td>\n",
       "      <td>0.315789</td>\n",
       "    </tr>\n",
       "    <tr>\n",
       "      <th>2</th>\n",
       "      <td>0.228395</td>\n",
       "      <td>0.482099</td>\n",
       "      <td>0.289506</td>\n",
       "    </tr>\n",
       "    <tr>\n",
       "      <th>3</th>\n",
       "      <td>0.222769</td>\n",
       "      <td>0.537443</td>\n",
       "      <td>0.239788</td>\n",
       "    </tr>\n",
       "    <tr>\n",
       "      <th>4</th>\n",
       "      <td>0.195759</td>\n",
       "      <td>0.614464</td>\n",
       "      <td>0.189777</td>\n",
       "    </tr>\n",
       "    <tr>\n",
       "      <th rowspan=\"4\" valign=\"top\">50s</th>\n",
       "      <th>1</th>\n",
       "      <td>0.153846</td>\n",
       "      <td>0.353846</td>\n",
       "      <td>0.492308</td>\n",
       "    </tr>\n",
       "    <tr>\n",
       "      <th>2</th>\n",
       "      <td>0.144144</td>\n",
       "      <td>0.490490</td>\n",
       "      <td>0.365365</td>\n",
       "    </tr>\n",
       "    <tr>\n",
       "      <th>3</th>\n",
       "      <td>0.158387</td>\n",
       "      <td>0.539957</td>\n",
       "      <td>0.301656</td>\n",
       "    </tr>\n",
       "    <tr>\n",
       "      <th>4</th>\n",
       "      <td>0.113960</td>\n",
       "      <td>0.612536</td>\n",
       "      <td>0.273504</td>\n",
       "    </tr>\n",
       "    <tr>\n",
       "      <th rowspan=\"4\" valign=\"top\">60s</th>\n",
       "      <th>1</th>\n",
       "      <td>0.111111</td>\n",
       "      <td>0.500000</td>\n",
       "      <td>0.388889</td>\n",
       "    </tr>\n",
       "    <tr>\n",
       "      <th>2</th>\n",
       "      <td>0.052381</td>\n",
       "      <td>0.619048</td>\n",
       "      <td>0.328571</td>\n",
       "    </tr>\n",
       "    <tr>\n",
       "      <th>3</th>\n",
       "      <td>0.110680</td>\n",
       "      <td>0.590291</td>\n",
       "      <td>0.299029</td>\n",
       "    </tr>\n",
       "    <tr>\n",
       "      <th>4</th>\n",
       "      <td>0.112705</td>\n",
       "      <td>0.598361</td>\n",
       "      <td>0.288934</td>\n",
       "    </tr>\n",
       "  </tbody>\n",
       "</table>\n",
       "</div>"
      ],
      "text/plain": [
       "married                     1         2         3\n",
       "age_group education                              \n",
       "+70s      1          0.181818  0.454545  0.363636\n",
       "          2          0.068966  0.436782  0.494253\n",
       "          3          0.044944  0.640449  0.314607\n",
       "          4          0.053571  0.687500  0.258929\n",
       "10s       1          0.995608  0.002635  0.001757\n",
       "          2          0.992437  0.006205  0.001357\n",
       "          3          0.987977  0.008487  0.003536\n",
       "          4          0.980198  0.009901  0.009901\n",
       "20s       1          0.856061  0.098485  0.045455\n",
       "          2          0.872259  0.097153  0.030589\n",
       "          3          0.884013  0.100207  0.015780\n",
       "          4          0.843844  0.141742  0.014414\n",
       "30s       1          0.552632  0.263158  0.184211\n",
       "          2          0.478224  0.359296  0.162479\n",
       "          3          0.455848  0.427431  0.116721\n",
       "          4          0.423466  0.474368  0.102166\n",
       "40s       1          0.326316  0.357895  0.315789\n",
       "          2          0.228395  0.482099  0.289506\n",
       "          3          0.222769  0.537443  0.239788\n",
       "          4          0.195759  0.614464  0.189777\n",
       "50s       1          0.153846  0.353846  0.492308\n",
       "          2          0.144144  0.490490  0.365365\n",
       "          3          0.158387  0.539957  0.301656\n",
       "          4          0.113960  0.612536  0.273504\n",
       "60s       1          0.111111  0.500000  0.388889\n",
       "          2          0.052381  0.619048  0.328571\n",
       "          3          0.110680  0.590291  0.299029\n",
       "          4          0.112705  0.598361  0.288934"
      ]
     },
     "execution_count": 27,
     "metadata": {},
     "output_type": "execute_result"
    }
   ],
   "source": [
    "data[(data.married!=0)&(data.education!=0)].groupby(['age_group','education'])['married'].value_counts(normalize=True).unstack()"
   ]
  },
  {
   "cell_type": "markdown",
   "metadata": {},
   "source": [
    "__최빈값 테이블 생성 : fill_table__"
   ]
  },
  {
   "cell_type": "code",
   "execution_count": 31,
   "metadata": {},
   "outputs": [
    {
     "data": {
      "text/plain": [
       "age_group  education\n",
       "+70s       1            2\n",
       "           2            3\n",
       "           3            2\n",
       "           4            2\n",
       "10s        1            1\n",
       "           2            1\n",
       "           3            1\n",
       "           4            1\n",
       "20s        1            1\n",
       "           2            1\n",
       "           3            1\n",
       "           4            1\n",
       "30s        1            1\n",
       "           2            1\n",
       "           3            1\n",
       "           4            2\n",
       "40s        1            2\n",
       "           2            2\n",
       "           3            2\n",
       "           4            2\n",
       "50s        1            3\n",
       "           2            2\n",
       "           3            2\n",
       "           4            2\n",
       "60s        1            2\n",
       "           2            2\n",
       "           3            2\n",
       "           4            2\n",
       "Name: married, dtype: int64"
      ]
     },
     "execution_count": 31,
     "metadata": {},
     "output_type": "execute_result"
    }
   ],
   "source": [
    "fill_table = data[(data.married!=0)&(data.education!=0)].groupby(['age_group','education'])['married'].apply(lambda x : x.value_counts().index[0])\n",
    "fill_table"
   ]
  },
  {
   "cell_type": "markdown",
   "metadata": {},
   "source": [
    "__결측값에 대하여 연령대 , 교육 수준을 참고하여 채움__"
   ]
  },
  {
   "cell_type": "code",
   "execution_count": 38,
   "metadata": {},
   "outputs": [],
   "source": [
    "def fill_married_NA(row):\n",
    "    if row.education == 0 :\n",
    "        if row.age_group =='10s':\n",
    "            fill_value = fill_table[(row.age_group,2)]\n",
    "        else:\n",
    "            fill_value = fill_table[(row.age_group,3)]\n",
    "    else:\n",
    "        fill_value = fill_table[(row.age_group,row.education)]\n",
    "    \n",
    "    row.married=fill_value\n",
    "    return row\n",
    "\n",
    "data[data.married==0] = data[data.married==0].apply(fill_married_NA , axis=1)\n"
   ]
  },
  {
   "cell_type": "markdown",
   "metadata": {},
   "source": [
    "__처리 결과__"
   ]
  },
  {
   "cell_type": "code",
   "execution_count": 39,
   "metadata": {},
   "outputs": [
    {
     "data": {
      "text/plain": [
       "1    39565\n",
       "2    12562\n",
       "3     4788\n",
       "Name: married, dtype: int64"
      ]
     },
     "execution_count": 39,
     "metadata": {},
     "output_type": "execute_result"
    }
   ],
   "source": [
    "data.married.value_counts()"
   ]
  }
 ],
 "metadata": {
  "kernelspec": {
   "display_name": "Python 3",
   "language": "python",
   "name": "python3"
  },
  "language_info": {
   "codemirror_mode": {
    "name": "ipython",
    "version": 3
   },
   "file_extension": ".py",
   "mimetype": "text/x-python",
   "name": "python",
   "nbconvert_exporter": "python",
   "pygments_lexer": "ipython3",
   "version": "3.8.3"
  }
 },
 "nbformat": 4,
 "nbformat_minor": 4
}
