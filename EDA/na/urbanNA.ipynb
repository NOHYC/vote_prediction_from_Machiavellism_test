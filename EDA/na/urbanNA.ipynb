{
 "cells": [
  {
   "cell_type": "code",
   "execution_count": 1,
   "metadata": {},
   "outputs": [],
   "source": [
    "import pandas as pd\n",
    "import numpy as np\n",
    "import matplotlib.pyplot as plt\n",
    "import seaborn as sns\n",
    "sns.set()"
   ]
  },
  {
   "cell_type": "code",
   "execution_count": 2,
   "metadata": {},
   "outputs": [],
   "source": [
    "filepath_home= 'D:/Dacon_Psychological_disposition/'\n",
    "filepath_out = 'C:/임시/Dacon_Psychological_disposition/' \n",
    "train = pd.read_csv(filepath_home+'train.csv')\n",
    "test = pd.read_csv(filepath_home+'test_x.csv')"
   ]
  },
  {
   "cell_type": "code",
   "execution_count": 3,
   "metadata": {},
   "outputs": [],
   "source": [
    "# 분할 지점 저장해두고 데이터 통합 후 전처리\n",
    "split_point = train.shape[0]\n",
    "data = pd.concat([train.drop('voted',axis=1),test],ignore_index=True)"
   ]
  },
  {
   "cell_type": "code",
   "execution_count": 4,
   "metadata": {},
   "outputs": [
    {
     "data": {
      "text/plain": [
       "2    23085\n",
       "3    22206\n",
       "1    11208\n",
       "0      416\n",
       "Name: urban, dtype: int64"
      ]
     },
     "execution_count": 4,
     "metadata": {},
     "output_type": "execute_result"
    }
   ],
   "source": [
    "data.dropna().urban.value_counts()"
   ]
  },
  {
   "cell_type": "code",
   "execution_count": 5,
   "metadata": {},
   "outputs": [
    {
     "data": {
      "text/plain": [
       "urban         1.000000\n",
       "engnat        0.153820\n",
       "QtA           0.061480\n",
       "QeE           0.042518\n",
       "QpA           0.042154\n",
       "                ...   \n",
       "wr_05        -0.057294\n",
       "married      -0.066656\n",
       "wr_11        -0.067430\n",
       "familysize   -0.068527\n",
       "wr_01        -0.082552\n",
       "Name: urban, Length: 73, dtype: float64"
      ]
     },
     "execution_count": 5,
     "metadata": {},
     "output_type": "execute_result"
    }
   ],
   "source": [
    "data.dropna().corr(method='spearman')['urban'].sort_values(ascending=False) # 그나마 engnat 상관"
   ]
  },
  {
   "cell_type": "code",
   "execution_count": 6,
   "metadata": {
    "scrolled": false
   },
   "outputs": [
    {
     "data": {
      "text/plain": [
       "<matplotlib.axes._subplots.AxesSubplot at 0x1de722c5c70>"
      ]
     },
     "execution_count": 6,
     "metadata": {},
     "output_type": "execute_result"
    },
    {
     "data": {
      "image/png": "[encoded data removed]",
      "text/plain": [
       "<Figure size 432x288 with 1 Axes>"
      ]
     },
     "metadata": {},
     "output_type": "display_data"
    }
   ],
   "source": [
    "engnat_notnull = data[data.engnat!=0]\n",
    "engnat_notnull.groupby(['engnat'])['urban'].value_counts().unstack().plot(kind='bar')"
   ]
  },
  {
   "cell_type": "markdown",
   "metadata": {},
   "source": [
    "__그림으로 보니 확실히 모국어가 영어(1)인 사람들은 urban 2(비교적 도심)가 가장 많은 반면__  \n",
    "__모국어가 영어가 아닌(2) 사람들은 urban 3(도심, 대도시)의 비율히 확연히 높다.__  "
   ]
  },
  {
   "cell_type": "markdown",
   "metadata": {},
   "source": [
    "__corr() 계수로는 명목형 데이터들과 비교가 불가하므로 다른 명목형 변수들과 연관지어 그룹핑 해보면 ,__  "
   ]
  },
  {
   "cell_type": "markdown",
   "metadata": {},
   "source": [
    "- 인종의 경우 `Native American` 의 경우 오히려 __비도심__ 의 비율이 __비교적 도심__ 의 비율보다도 높으며 `Indigenous Australian` 의 경우 __비도심__ 의 비율이 __완전히 도심__ 보다 큰 것을 알 수 있다."
   ]
  },
  {
   "cell_type": "code",
   "execution_count": 7,
   "metadata": {},
   "outputs": [
    {
     "data": {
      "text/html": [
       "<div>\n",
       "<style scoped>\n",
       "    .dataframe tbody tr th:only-of-type {\n",
       "        vertical-align: middle;\n",
       "    }\n",
       "\n",
       "    .dataframe tbody tr th {\n",
       "        vertical-align: top;\n",
       "    }\n",
       "\n",
       "    .dataframe thead th {\n",
       "        text-align: right;\n",
       "    }\n",
       "</style>\n",
       "<table border=\"1\" class=\"dataframe\">\n",
       "  <thead>\n",
       "    <tr style=\"text-align: right;\">\n",
       "      <th>urban</th>\n",
       "      <th>0</th>\n",
       "      <th>1</th>\n",
       "      <th>2</th>\n",
       "      <th>3</th>\n",
       "    </tr>\n",
       "    <tr>\n",
       "      <th>race</th>\n",
       "      <th></th>\n",
       "      <th></th>\n",
       "      <th></th>\n",
       "      <th></th>\n",
       "    </tr>\n",
       "  </thead>\n",
       "  <tbody>\n",
       "    <tr>\n",
       "      <th>Arab</th>\n",
       "      <td>0.002304</td>\n",
       "      <td>0.087558</td>\n",
       "      <td>0.324885</td>\n",
       "      <td>0.585253</td>\n",
       "    </tr>\n",
       "    <tr>\n",
       "      <th>Asian</th>\n",
       "      <td>0.007060</td>\n",
       "      <td>0.115674</td>\n",
       "      <td>0.314780</td>\n",
       "      <td>0.562485</td>\n",
       "    </tr>\n",
       "    <tr>\n",
       "      <th>Black</th>\n",
       "      <td>0.009612</td>\n",
       "      <td>0.093161</td>\n",
       "      <td>0.353789</td>\n",
       "      <td>0.543438</td>\n",
       "    </tr>\n",
       "    <tr>\n",
       "      <th>Indigenous Australian</th>\n",
       "      <td>NaN</td>\n",
       "      <td>0.359375</td>\n",
       "      <td>0.453125</td>\n",
       "      <td>0.187500</td>\n",
       "    </tr>\n",
       "    <tr>\n",
       "      <th>Native American</th>\n",
       "      <td>0.007519</td>\n",
       "      <td>0.321805</td>\n",
       "      <td>0.296241</td>\n",
       "      <td>0.374436</td>\n",
       "    </tr>\n",
       "    <tr>\n",
       "      <th>Other</th>\n",
       "      <td>0.007245</td>\n",
       "      <td>0.121865</td>\n",
       "      <td>0.368939</td>\n",
       "      <td>0.501951</td>\n",
       "    </tr>\n",
       "    <tr>\n",
       "      <th>White</th>\n",
       "      <td>0.007277</td>\n",
       "      <td>0.230864</td>\n",
       "      <td>0.436603</td>\n",
       "      <td>0.325257</td>\n",
       "    </tr>\n",
       "  </tbody>\n",
       "</table>\n",
       "</div>"
      ],
      "text/plain": [
       "urban                         0         1         2         3\n",
       "race                                                         \n",
       "Arab                   0.002304  0.087558  0.324885  0.585253\n",
       "Asian                  0.007060  0.115674  0.314780  0.562485\n",
       "Black                  0.009612  0.093161  0.353789  0.543438\n",
       "Indigenous Australian       NaN  0.359375  0.453125  0.187500\n",
       "Native American        0.007519  0.321805  0.296241  0.374436\n",
       "Other                  0.007245  0.121865  0.368939  0.501951\n",
       "White                  0.007277  0.230864  0.436603  0.325257"
      ]
     },
     "execution_count": 7,
     "metadata": {},
     "output_type": "execute_result"
    }
   ],
   "source": [
    "data.groupby(['race'])['urban'].value_counts(normalize=True).unstack()"
   ]
  },
  {
   "cell_type": "markdown",
   "metadata": {},
   "source": [
    "- 다른 명목형 데이터 `age_group` , `religion` , `gender` 와는 특별히 눈에 띄는 점은 없었다."
   ]
  },
  {
   "cell_type": "markdown",
   "metadata": {},
   "source": [
    "__∴ engnat , race 두 데이터로 그룹핑 하여 그룹별 urban 의 빈번값을 활용한다__ "
   ]
  },
  {
   "cell_type": "code",
   "execution_count": 8,
   "metadata": {
    "scrolled": false
   },
   "outputs": [
    {
     "data": {
      "text/plain": [
       "engnat  race                 \n",
       "1       Arab                     2\n",
       "        Asian                    3\n",
       "        Black                    3\n",
       "        Indigenous Australian    2\n",
       "        Native American          3\n",
       "        Other                    3\n",
       "        White                    2\n",
       "2       Arab                     3\n",
       "        Asian                    3\n",
       "        Black                    3\n",
       "        Indigenous Australian    1\n",
       "        Native American          3\n",
       "        Other                    3\n",
       "        White                    3\n",
       "Name: urban, dtype: int64"
      ]
     },
     "execution_count": 8,
     "metadata": {},
     "output_type": "execute_result"
    }
   ],
   "source": [
    "clean_sample = data[(data.engnat!=0)&(data.urban!=0)] # 그룹핑 하기 전 , 무응답 항목이 있는 데이터는 제거\n",
    "\n",
    "fill_table = clean_sample.groupby(['engnat','race'])['urban'].apply(lambda x : x.value_counts().index[0]) \n",
    "# 각 그룹의 최빈값 정보를 가지고 있는 참조 테이블\n",
    "\n",
    "fill_table"
   ]
  },
  {
   "cell_type": "markdown",
   "metadata": {},
   "source": [
    "__urban == 0 인 행에 대하여 다른 정보(engnat , race) 로 부터 참조 테이블에서 최빈값 참조하여 fill__"
   ]
  },
  {
   "cell_type": "code",
   "execution_count": 9,
   "metadata": {},
   "outputs": [],
   "source": [
    "def fill_urban_NA(row):\n",
    "    try :\n",
    "        fill_val = fill_table[(row.engnat,row.race)]\n",
    "    except KeyError : # engnat 도 0 인 행이라면 난수 생성\n",
    "        fill_val = np.random.choice(range(1,4))\n",
    "        \n",
    "    row['urban'] = fill_val\n",
    "    return row\n",
    "\n",
    "data[data.urban==0] = data[data.urban==0].apply(fill_urban_NA,axis=1) "
   ]
  },
  {
   "cell_type": "code",
   "execution_count": 10,
   "metadata": {},
   "outputs": [
    {
     "data": {
      "text/plain": [
       "2    23309\n",
       "3    22396\n",
       "1    11210\n",
       "Name: urban, dtype: int64"
      ]
     },
     "execution_count": 10,
     "metadata": {},
     "output_type": "execute_result"
    }
   ],
   "source": [
    "data.urban.value_counts()"
   ]
  }
 ],
 "metadata": {
  "kernelspec": {
   "display_name": "Python 3",
   "language": "python",
   "name": "python3"
  },
  "language_info": {
   "codemirror_mode": {
    "name": "ipython",
    "version": 3
   },
   "file_extension": ".py",
   "mimetype": "text/x-python",
   "name": "python",
   "nbconvert_exporter": "python",
   "pygments_lexer": "ipython3",
   "version": "3.8.3"
  }
 },
 "nbformat": 4,
 "nbformat_minor": 4
}
