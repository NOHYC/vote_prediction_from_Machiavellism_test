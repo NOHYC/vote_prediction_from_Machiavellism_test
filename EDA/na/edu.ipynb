{
 "metadata": {
  "language_info": {
   "codemirror_mode": {
    "name": "ipython",
    "version": 3
   },
   "file_extension": ".py",
   "mimetype": "text/x-python",
   "name": "python",
   "nbconvert_exporter": "python",
   "pygments_lexer": "ipython3",
   "version": "3.8.5-final"
  },
  "orig_nbformat": 2,
  "kernelspec": {
   "name": "Python 3.8.5 32-bit",
   "display_name": "Python 3.8.5 32-bit",
   "metadata": {
    "interpreter": {
     "hash": "dfe38cf5d4c6d2796b85a89a1485c67b699849fb9e33780f9bd5ec858f0dc3d3"
    }
   }
  }
 },
 "nbformat": 4,
 "nbformat_minor": 2,
 "cells": [
  {
   "cell_type": "code",
   "execution_count": 1,
   "metadata": {},
   "outputs": [],
   "source": [
    "import pandas as pd \n",
    "import numpy as np \n",
    "import matplotlib.pyplot as plt \n",
    "import seaborn as sns \n",
    "sns.set()"
   ]
  },
  {
   "cell_type": "code",
   "execution_count": 2,
   "metadata": {},
   "outputs": [],
   "source": [
    "train = pd.read_csv('C:/Users/nyc15/Desktop/data/train.csv')\n",
    "test = pd.read_csv('C:/Users/nyc15/Desktop/data/test_x.csv')"
   ]
  },
  {
   "cell_type": "code",
   "execution_count": 3,
   "metadata": {},
   "outputs": [],
   "source": [
    "y = train.voted.copy()\n",
    "train = train.drop(columns = 'voted')\n",
    "data = pd.concat([train,test])"
   ]
  },
  {
   "cell_type": "code",
   "execution_count": 4,
   "metadata": {},
   "outputs": [
    {
     "output_type": "execute_result",
     "data": {
      "text/plain": [
       "((56915, 77), (45532,))"
      ]
     },
     "metadata": {},
     "execution_count": 4
    }
   ],
   "source": [
    "data.shape,y.shape"
   ]
  },
  {
   "cell_type": "code",
   "execution_count": 5,
   "metadata": {},
   "outputs": [],
   "source": [
    "data.drop(index= data[data.familysize >=100].index, inplace = True) # 가족 사이즈 3개 열 (2147483647 , 999 , 100) 제거 "
   ]
  },
  {
   "cell_type": "code",
   "execution_count": 6,
   "metadata": {},
   "outputs": [
    {
     "output_type": "execute_result",
     "data": {
      "text/plain": [
       "Empty DataFrame\n",
       "Columns: [index, QaA, QaE, QbA, QbE, QcA, QcE, QdA, QdE, QeA, QeE, QfA, QfE, QgA, QgE, QhA, QhE, QiA, QiE, QjA, QjE, QkA, QkE, QlA, QlE, QmA, QmE, QnA, QnE, QoA, QoE, QpA, QpE, QqA, QqE, QrA, QrE, QsA, QsE, QtA, QtE, age_group, education, engnat, familysize, gender, hand, married, race, religion, tp01, tp02, tp03, tp04, tp05, tp06, tp07, tp08, tp09, tp10, urban, wf_01, wf_02, wf_03, wr_01, wr_02, wr_03, wr_04, wr_05, wr_06, wr_07, wr_08, wr_09, wr_10, wr_11, wr_12, wr_13]\n",
       "Index: []\n",
       "\n",
       "[0 rows x 77 columns]"
      ],
      "text/html": "<div>\n<style scoped>\n    .dataframe tbody tr th:only-of-type {\n        vertical-align: middle;\n    }\n\n    .dataframe tbody tr th {\n        vertical-align: top;\n    }\n\n    .dataframe thead th {\n        text-align: right;\n    }\n</style>\n<table border=\"1\" class=\"dataframe\">\n  <thead>\n    <tr style=\"text-align: right;\">\n      <th></th>\n      <th>index</th>\n      <th>QaA</th>\n      <th>QaE</th>\n      <th>QbA</th>\n      <th>QbE</th>\n      <th>QcA</th>\n      <th>QcE</th>\n      <th>QdA</th>\n      <th>QdE</th>\n      <th>QeA</th>\n      <th>...</th>\n      <th>wr_04</th>\n      <th>wr_05</th>\n      <th>wr_06</th>\n      <th>wr_07</th>\n      <th>wr_08</th>\n      <th>wr_09</th>\n      <th>wr_10</th>\n      <th>wr_11</th>\n      <th>wr_12</th>\n      <th>wr_13</th>\n    </tr>\n  </thead>\n  <tbody>\n  </tbody>\n</table>\n<p>0 rows × 77 columns</p>\n</div>"
     },
     "metadata": {},
     "execution_count": 6
    }
   ],
   "source": [
    "data[data.familysize >=100]"
   ]
  },
  {
   "source": [
    "## 1=Less than high school, 2=High school, 3=University degree, 4=Graduate degree, 0=무응답"
   ],
   "cell_type": "markdown",
   "metadata": {}
  },
  {
   "cell_type": "code",
   "execution_count": 7,
   "metadata": {},
   "outputs": [
    {
     "output_type": "execute_result",
     "data": {
      "text/plain": [
       "2    21068\n",
       "3    19024\n",
       "4     9817\n",
       "1     6352\n",
       "0      650\n",
       "Name: education, dtype: int64"
      ]
     },
     "metadata": {},
     "execution_count": 7
    }
   ],
   "source": [
    "data.education.value_counts()"
   ]
  },
  {
   "cell_type": "code",
   "execution_count": 8,
   "metadata": {},
   "outputs": [
    {
     "output_type": "execute_result",
     "data": {
      "text/plain": [
       "       index  QaA   QaE  QbA   QbE  QcA   QcE  QdA   QdE  QeA  ...  wr_04  \\\n",
       "113      113  3.0   749  3.0   539  4.0   487  2.0   937  3.0  ...      1   \n",
       "262      262  1.0   402  4.0  1117  4.0   676  1.0  1056  1.0  ...      1   \n",
       "439      439  3.0   395  4.0  1700  1.0   664  2.0   562  3.0  ...      1   \n",
       "537      537  1.0   456  5.0  1515  4.0  1312  2.0  3694  5.0  ...      1   \n",
       "715      715  1.0   275  5.0  1307  4.0   861  1.0   615  5.0  ...      1   \n",
       "...      ...  ...   ...  ...   ...  ...   ...  ...   ...  ...  ...    ...   \n",
       "11059  11059  2.0   856  3.0  3621  4.0   932  2.0  1619  4.0  ...      1   \n",
       "11073  11073  1.0   468  1.0  2281  1.0  1474  1.0  1622  4.0  ...      1   \n",
       "11255  11255  3.0   659  4.0  2750  4.0   459  2.0   630  4.0  ...      1   \n",
       "11277  11277  2.0   658  5.0   914  5.0  2102  1.0   476  5.0  ...      1   \n",
       "11359  11359  3.0  1184  4.0  1528  2.0   781  2.0   648  1.0  ...      1   \n",
       "\n",
       "       wr_05  wr_06  wr_07  wr_08  wr_09  wr_10  wr_11  wr_12  wr_13  \n",
       "113        1      0      1      1      0      1      0      1      1  \n",
       "262        1      0      1      1      0      1      0      1      1  \n",
       "439        0      0      1      1      0      1      0      1      1  \n",
       "537        1      0      1      1      0      1      1      1      1  \n",
       "715        1      1      1      1      0      1      0      1      1  \n",
       "...      ...    ...    ...    ...    ...    ...    ...    ...    ...  \n",
       "11059      1      0      1      1      1      1      1      1      1  \n",
       "11073      1      0      1      1      0      1      0      1      1  \n",
       "11255      1      1      1      1      0      1      1      1      1  \n",
       "11277      1      0      1      1      0      1      0      1      1  \n",
       "11359      1      0      1      1      0      1      0      1      1  \n",
       "\n",
       "[650 rows x 77 columns]"
      ],
      "text/html": "<div>\n<style scoped>\n    .dataframe tbody tr th:only-of-type {\n        vertical-align: middle;\n    }\n\n    .dataframe tbody tr th {\n        vertical-align: top;\n    }\n\n    .dataframe thead th {\n        text-align: right;\n    }\n</style>\n<table border=\"1\" class=\"dataframe\">\n  <thead>\n    <tr style=\"text-align: right;\">\n      <th></th>\n      <th>index</th>\n      <th>QaA</th>\n      <th>QaE</th>\n      <th>QbA</th>\n      <th>QbE</th>\n      <th>QcA</th>\n      <th>QcE</th>\n      <th>QdA</th>\n      <th>QdE</th>\n      <th>QeA</th>\n      <th>...</th>\n      <th>wr_04</th>\n      <th>wr_05</th>\n      <th>wr_06</th>\n      <th>wr_07</th>\n      <th>wr_08</th>\n      <th>wr_09</th>\n      <th>wr_10</th>\n      <th>wr_11</th>\n      <th>wr_12</th>\n      <th>wr_13</th>\n    </tr>\n  </thead>\n  <tbody>\n    <tr>\n      <th>113</th>\n      <td>113</td>\n      <td>3.0</td>\n      <td>749</td>\n      <td>3.0</td>\n      <td>539</td>\n      <td>4.0</td>\n      <td>487</td>\n      <td>2.0</td>\n      <td>937</td>\n      <td>3.0</td>\n      <td>...</td>\n      <td>1</td>\n      <td>1</td>\n      <td>0</td>\n      <td>1</td>\n      <td>1</td>\n      <td>0</td>\n      <td>1</td>\n      <td>0</td>\n      <td>1</td>\n      <td>1</td>\n    </tr>\n    <tr>\n      <th>262</th>\n      <td>262</td>\n      <td>1.0</td>\n      <td>402</td>\n      <td>4.0</td>\n      <td>1117</td>\n      <td>4.0</td>\n      <td>676</td>\n      <td>1.0</td>\n      <td>1056</td>\n      <td>1.0</td>\n      <td>...</td>\n      <td>1</td>\n      <td>1</td>\n      <td>0</td>\n      <td>1</td>\n      <td>1</td>\n      <td>0</td>\n      <td>1</td>\n      <td>0</td>\n      <td>1</td>\n      <td>1</td>\n    </tr>\n    <tr>\n      <th>439</th>\n      <td>439</td>\n      <td>3.0</td>\n      <td>395</td>\n      <td>4.0</td>\n      <td>1700</td>\n      <td>1.0</td>\n      <td>664</td>\n      <td>2.0</td>\n      <td>562</td>\n      <td>3.0</td>\n      <td>...</td>\n      <td>1</td>\n      <td>0</td>\n      <td>0</td>\n      <td>1</td>\n      <td>1</td>\n      <td>0</td>\n      <td>1</td>\n      <td>0</td>\n      <td>1</td>\n      <td>1</td>\n    </tr>\n    <tr>\n      <th>537</th>\n      <td>537</td>\n      <td>1.0</td>\n      <td>456</td>\n      <td>5.0</td>\n      <td>1515</td>\n      <td>4.0</td>\n      <td>1312</td>\n      <td>2.0</td>\n      <td>3694</td>\n      <td>5.0</td>\n      <td>...</td>\n      <td>1</td>\n      <td>1</td>\n      <td>0</td>\n      <td>1</td>\n      <td>1</td>\n      <td>0</td>\n      <td>1</td>\n      <td>1</td>\n      <td>1</td>\n      <td>1</td>\n    </tr>\n    <tr>\n      <th>715</th>\n      <td>715</td>\n      <td>1.0</td>\n      <td>275</td>\n      <td>5.0</td>\n      <td>1307</td>\n      <td>4.0</td>\n      <td>861</td>\n      <td>1.0</td>\n      <td>615</td>\n      <td>5.0</td>\n      <td>...</td>\n      <td>1</td>\n      <td>1</td>\n      <td>1</td>\n      <td>1</td>\n      <td>1</td>\n      <td>0</td>\n      <td>1</td>\n      <td>0</td>\n      <td>1</td>\n      <td>1</td>\n    </tr>\n    <tr>\n      <th>...</th>\n      <td>...</td>\n      <td>...</td>\n      <td>...</td>\n      <td>...</td>\n      <td>...</td>\n      <td>...</td>\n      <td>...</td>\n      <td>...</td>\n      <td>...</td>\n      <td>...</td>\n      <td>...</td>\n      <td>...</td>\n      <td>...</td>\n      <td>...</td>\n      <td>...</td>\n      <td>...</td>\n      <td>...</td>\n      <td>...</td>\n      <td>...</td>\n      <td>...</td>\n      <td>...</td>\n    </tr>\n    <tr>\n      <th>11059</th>\n      <td>11059</td>\n      <td>2.0</td>\n      <td>856</td>\n      <td>3.0</td>\n      <td>3621</td>\n      <td>4.0</td>\n      <td>932</td>\n      <td>2.0</td>\n      <td>1619</td>\n      <td>4.0</td>\n      <td>...</td>\n      <td>1</td>\n      <td>1</td>\n      <td>0</td>\n      <td>1</td>\n      <td>1</td>\n      <td>1</td>\n      <td>1</td>\n      <td>1</td>\n      <td>1</td>\n      <td>1</td>\n    </tr>\n    <tr>\n      <th>11073</th>\n      <td>11073</td>\n      <td>1.0</td>\n      <td>468</td>\n      <td>1.0</td>\n      <td>2281</td>\n      <td>1.0</td>\n      <td>1474</td>\n      <td>1.0</td>\n      <td>1622</td>\n      <td>4.0</td>\n      <td>...</td>\n      <td>1</td>\n      <td>1</td>\n      <td>0</td>\n      <td>1</td>\n      <td>1</td>\n      <td>0</td>\n      <td>1</td>\n      <td>0</td>\n      <td>1</td>\n      <td>1</td>\n    </tr>\n    <tr>\n      <th>11255</th>\n      <td>11255</td>\n      <td>3.0</td>\n      <td>659</td>\n      <td>4.0</td>\n      <td>2750</td>\n      <td>4.0</td>\n      <td>459</td>\n      <td>2.0</td>\n      <td>630</td>\n      <td>4.0</td>\n      <td>...</td>\n      <td>1</td>\n      <td>1</td>\n      <td>1</td>\n      <td>1</td>\n      <td>1</td>\n      <td>0</td>\n      <td>1</td>\n      <td>1</td>\n      <td>1</td>\n      <td>1</td>\n    </tr>\n    <tr>\n      <th>11277</th>\n      <td>11277</td>\n      <td>2.0</td>\n      <td>658</td>\n      <td>5.0</td>\n      <td>914</td>\n      <td>5.0</td>\n      <td>2102</td>\n      <td>1.0</td>\n      <td>476</td>\n      <td>5.0</td>\n      <td>...</td>\n      <td>1</td>\n      <td>1</td>\n      <td>0</td>\n      <td>1</td>\n      <td>1</td>\n      <td>0</td>\n      <td>1</td>\n      <td>0</td>\n      <td>1</td>\n      <td>1</td>\n    </tr>\n    <tr>\n      <th>11359</th>\n      <td>11359</td>\n      <td>3.0</td>\n      <td>1184</td>\n      <td>4.0</td>\n      <td>1528</td>\n      <td>2.0</td>\n      <td>781</td>\n      <td>2.0</td>\n      <td>648</td>\n      <td>1.0</td>\n      <td>...</td>\n      <td>1</td>\n      <td>1</td>\n      <td>0</td>\n      <td>1</td>\n      <td>1</td>\n      <td>0</td>\n      <td>1</td>\n      <td>0</td>\n      <td>1</td>\n      <td>1</td>\n    </tr>\n  </tbody>\n</table>\n<p>650 rows × 77 columns</p>\n</div>"
     },
     "metadata": {},
     "execution_count": 8
    }
   ],
   "source": [
    "data[data.education == 0] # train 컬럼에만 결측치 "
   ]
  },
  {
   "cell_type": "code",
   "execution_count": 9,
   "metadata": {},
   "outputs": [
    {
     "output_type": "execute_result",
     "data": {
      "text/plain": [
       "Index(['age_group', 'education', 'engnat', 'familysize', 'gender', 'hand',\n",
       "       'married', 'race', 'religion', 'tp01', 'tp02', 'tp03', 'tp04', 'tp05',\n",
       "       'tp06', 'tp07', 'tp08', 'tp09', 'tp10', 'urban', 'wf_01', 'wf_02',\n",
       "       'wf_03', 'wr_01', 'wr_02', 'wr_03', 'wr_04', 'wr_05', 'wr_06', 'wr_07',\n",
       "       'wr_08', 'wr_09', 'wr_10', 'wr_11', 'wr_12', 'wr_13'],\n",
       "      dtype='object')"
      ]
     },
     "metadata": {},
     "execution_count": 9
    }
   ],
   "source": [
    "data.columns[41:]"
   ]
  },
  {
   "cell_type": "code",
   "execution_count": 10,
   "metadata": {},
   "outputs": [
    {
     "output_type": "execute_result",
     "data": {
      "text/plain": [
       "(array([  650.,     0.,  6352.,     0.,     0., 21068.,     0., 19024.,\n",
       "            0.,  9817.]),\n",
       " array([0. , 0.4, 0.8, 1.2, 1.6, 2. , 2.4, 2.8, 3.2, 3.6, 4. ]),\n",
       " <BarContainer object of 10 artists>)"
      ]
     },
     "metadata": {},
     "execution_count": 10
    },
    {
     "output_type": "display_data",
     "data": {
      "text/plain": "<Figure size 432x288 with 1 Axes>",
      "image/svg+xml": "<?xml version=\"1.0\" encoding=\"utf-8\" standalone=\"no\"?>\r\n<!DOCTYPE svg PUBLIC \"-//W3C//DTD SVG 1.1//EN\"\r\n  \"http://www.w3.org/Graphics/SVG/1.1/DTD/svg11.dtd\">\r\n<!-- Created with matplotlib (https://matplotlib.org/) -->\r\n<svg height=\"251.399844pt\" version=\"1.1\" viewBox=\"0 0 389.285156 251.399844\" width=\"389.285156pt\" xmlns=\"http://www.w3.org/2000/svg\" xmlns:xlink=\"http://www.w3.org/1999/xlink\">\r\n <metadata>\r\n  <rdf:RDF xmlns:cc=\"http://creativecommons.org/ns#\" xmlns:dc=\"http://purl.org/dc/elements/1.1/\" xmlns:rdf=\"http://www.w3.org/1999/02/22-rdf-syntax-ns#\">\r\n   <cc:Work>\r\n    <dc:type rdf:resource=\"http://purl.org/dc/dcmitype/StillImage\"/>\r\n    <dc:date>2020-10-16T19:41:47.072731</dc:date>\r\n    <dc:format>image/svg+xml</dc:format>\r\n    <dc:creator>\r\n     <cc:Agent>\r\n      <dc:title>Matplotlib v3.3.1, https://matplotlib.org/</dc:title>\r\n     </cc:Agent>\r\n    </dc:creator>\r\n   </cc:Work>\r\n  </rdf:RDF>\r\n </metadata>\r\n <defs>\r\n  <style type=\"text/css\">*{stroke-linecap:butt;stroke-linejoin:round;}</style>\r\n </defs>\r\n <g id=\"figure_1\">\r\n  <g id=\"patch_1\">\r\n   <path d=\"M 0 251.399844 \r\nL 389.285156 251.399844 \r\nL 389.285156 0 \r\nL 0 0 \r\nz\r\n\" style=\"fill:#ffffff;\"/>\r\n  </g>\r\n  <g id=\"axes_1\">\r\n   <g id=\"patch_2\">\r\n    <path d=\"M 47.285156 224.64 \r\nL 382.085156 224.64 \r\nL 382.085156 7.2 \r\nL 47.285156 7.2 \r\nz\r\n\" style=\"fill:#eaeaf2;\"/>\r\n   </g>\r\n   <g id=\"matplotlib.axis_1\">\r\n    <g id=\"xtick_1\">\r\n     <g id=\"line2d_1\">\r\n      <path clip-path=\"url(#pe83591c2dc)\" d=\"M 62.503338 224.64 \r\nL 62.503338 7.2 \r\n\" style=\"fill:none;stroke:#ffffff;stroke-linecap:round;\"/>\r\n     </g>\r\n     <g id=\"text_1\">\r\n      <!-- 0.0 -->\r\n      <g style=\"fill:#262626;\" transform=\"translate(54.858338 242.013594)scale(0.11 -0.11)\">\r\n       <defs>\r\n        <path d=\"M 4.15625 35.296875 \r\nQ 4.15625 48 6.765625 55.734375 \r\nQ 9.375 63.484375 14.515625 67.671875 \r\nQ 19.671875 71.875 27.484375 71.875 \r\nQ 33.25 71.875 37.59375 69.546875 \r\nQ 41.9375 67.234375 44.765625 62.859375 \r\nQ 47.609375 58.5 49.21875 52.21875 \r\nQ 50.828125 45.953125 50.828125 35.296875 \r\nQ 50.828125 22.703125 48.234375 14.96875 \r\nQ 45.65625 7.234375 40.5 3 \r\nQ 35.359375 -1.21875 27.484375 -1.21875 \r\nQ 17.140625 -1.21875 11.234375 6.203125 \r\nQ 4.15625 15.140625 4.15625 35.296875 \r\nz\r\nM 13.1875 35.296875 \r\nQ 13.1875 17.671875 17.3125 11.828125 \r\nQ 21.4375 6 27.484375 6 \r\nQ 33.546875 6 37.671875 11.859375 \r\nQ 41.796875 17.71875 41.796875 35.296875 \r\nQ 41.796875 52.984375 37.671875 58.78125 \r\nQ 33.546875 64.59375 27.390625 64.59375 \r\nQ 21.34375 64.59375 17.71875 59.46875 \r\nQ 13.1875 52.9375 13.1875 35.296875 \r\nz\r\n\" id=\"ArialMT-48\"/>\r\n        <path d=\"M 9.078125 0 \r\nL 9.078125 10.015625 \r\nL 19.09375 10.015625 \r\nL 19.09375 0 \r\nz\r\n\" id=\"ArialMT-46\"/>\r\n       </defs>\r\n       <use xlink:href=\"#ArialMT-48\"/>\r\n       <use x=\"55.615234\" xlink:href=\"#ArialMT-46\"/>\r\n       <use x=\"83.398438\" xlink:href=\"#ArialMT-48\"/>\r\n      </g>\r\n     </g>\r\n    </g>\r\n    <g id=\"xtick_2\">\r\n     <g id=\"line2d_2\">\r\n      <path clip-path=\"url(#pe83591c2dc)\" d=\"M 100.548793 224.64 \r\nL 100.548793 7.2 \r\n\" style=\"fill:none;stroke:#ffffff;stroke-linecap:round;\"/>\r\n     </g>\r\n     <g id=\"text_2\">\r\n      <!-- 0.5 -->\r\n      <g style=\"fill:#262626;\" transform=\"translate(92.903793 242.013594)scale(0.11 -0.11)\">\r\n       <defs>\r\n        <path d=\"M 4.15625 18.75 \r\nL 13.375 19.53125 \r\nQ 14.40625 12.796875 18.140625 9.390625 \r\nQ 21.875 6 27.15625 6 \r\nQ 33.5 6 37.890625 10.78125 \r\nQ 42.28125 15.578125 42.28125 23.484375 \r\nQ 42.28125 31 38.0625 35.34375 \r\nQ 33.84375 39.703125 27 39.703125 \r\nQ 22.75 39.703125 19.328125 37.765625 \r\nQ 15.921875 35.84375 13.96875 32.765625 \r\nL 5.71875 33.84375 \r\nL 12.640625 70.609375 \r\nL 48.25 70.609375 \r\nL 48.25 62.203125 \r\nL 19.671875 62.203125 \r\nL 15.828125 42.96875 \r\nQ 22.265625 47.46875 29.34375 47.46875 \r\nQ 38.71875 47.46875 45.15625 40.96875 \r\nQ 51.609375 34.46875 51.609375 24.265625 \r\nQ 51.609375 14.546875 45.953125 7.46875 \r\nQ 39.0625 -1.21875 27.15625 -1.21875 \r\nQ 17.390625 -1.21875 11.203125 4.25 \r\nQ 5.03125 9.71875 4.15625 18.75 \r\nz\r\n\" id=\"ArialMT-53\"/>\r\n       </defs>\r\n       <use xlink:href=\"#ArialMT-48\"/>\r\n       <use x=\"55.615234\" xlink:href=\"#ArialMT-46\"/>\r\n       <use x=\"83.398438\" xlink:href=\"#ArialMT-53\"/>\r\n      </g>\r\n     </g>\r\n    </g>\r\n    <g id=\"xtick_3\">\r\n     <g id=\"line2d_3\">\r\n      <path clip-path=\"url(#pe83591c2dc)\" d=\"M 138.594247 224.64 \r\nL 138.594247 7.2 \r\n\" style=\"fill:none;stroke:#ffffff;stroke-linecap:round;\"/>\r\n     </g>\r\n     <g id=\"text_3\">\r\n      <!-- 1.0 -->\r\n      <g style=\"fill:#262626;\" transform=\"translate(130.949247 242.013594)scale(0.11 -0.11)\">\r\n       <defs>\r\n        <path d=\"M 37.25 0 \r\nL 28.46875 0 \r\nL 28.46875 56 \r\nQ 25.296875 52.984375 20.140625 49.953125 \r\nQ 14.984375 46.921875 10.890625 45.40625 \r\nL 10.890625 53.90625 \r\nQ 18.265625 57.375 23.78125 62.296875 \r\nQ 29.296875 67.234375 31.59375 71.875 \r\nL 37.25 71.875 \r\nz\r\n\" id=\"ArialMT-49\"/>\r\n       </defs>\r\n       <use xlink:href=\"#ArialMT-49\"/>\r\n       <use x=\"55.615234\" xlink:href=\"#ArialMT-46\"/>\r\n       <use x=\"83.398438\" xlink:href=\"#ArialMT-48\"/>\r\n      </g>\r\n     </g>\r\n    </g>\r\n    <g id=\"xtick_4\">\r\n     <g id=\"line2d_4\">\r\n      <path clip-path=\"url(#pe83591c2dc)\" d=\"M 176.639702 224.64 \r\nL 176.639702 7.2 \r\n\" style=\"fill:none;stroke:#ffffff;stroke-linecap:round;\"/>\r\n     </g>\r\n     <g id=\"text_4\">\r\n      <!-- 1.5 -->\r\n      <g style=\"fill:#262626;\" transform=\"translate(168.994702 242.013594)scale(0.11 -0.11)\">\r\n       <use xlink:href=\"#ArialMT-49\"/>\r\n       <use x=\"55.615234\" xlink:href=\"#ArialMT-46\"/>\r\n       <use x=\"83.398438\" xlink:href=\"#ArialMT-53\"/>\r\n      </g>\r\n     </g>\r\n    </g>\r\n    <g id=\"xtick_5\">\r\n     <g id=\"line2d_5\">\r\n      <path clip-path=\"url(#pe83591c2dc)\" d=\"M 214.685156 224.64 \r\nL 214.685156 7.2 \r\n\" style=\"fill:none;stroke:#ffffff;stroke-linecap:round;\"/>\r\n     </g>\r\n     <g id=\"text_5\">\r\n      <!-- 2.0 -->\r\n      <g style=\"fill:#262626;\" transform=\"translate(207.040156 242.013594)scale(0.11 -0.11)\">\r\n       <defs>\r\n        <path d=\"M 50.34375 8.453125 \r\nL 50.34375 0 \r\nL 3.03125 0 \r\nQ 2.9375 3.171875 4.046875 6.109375 \r\nQ 5.859375 10.9375 9.828125 15.625 \r\nQ 13.8125 20.3125 21.34375 26.46875 \r\nQ 33.015625 36.03125 37.109375 41.625 \r\nQ 41.21875 47.21875 41.21875 52.203125 \r\nQ 41.21875 57.421875 37.46875 61 \r\nQ 33.734375 64.59375 27.734375 64.59375 \r\nQ 21.390625 64.59375 17.578125 60.78125 \r\nQ 13.765625 56.984375 13.71875 50.25 \r\nL 4.6875 51.171875 \r\nQ 5.609375 61.28125 11.65625 66.578125 \r\nQ 17.71875 71.875 27.9375 71.875 \r\nQ 38.234375 71.875 44.234375 66.15625 \r\nQ 50.25 60.453125 50.25 52 \r\nQ 50.25 47.703125 48.484375 43.546875 \r\nQ 46.734375 39.40625 42.65625 34.8125 \r\nQ 38.578125 30.21875 29.109375 22.21875 \r\nQ 21.1875 15.578125 18.9375 13.203125 \r\nQ 16.703125 10.84375 15.234375 8.453125 \r\nz\r\n\" id=\"ArialMT-50\"/>\r\n       </defs>\r\n       <use xlink:href=\"#ArialMT-50\"/>\r\n       <use x=\"55.615234\" xlink:href=\"#ArialMT-46\"/>\r\n       <use x=\"83.398438\" xlink:href=\"#ArialMT-48\"/>\r\n      </g>\r\n     </g>\r\n    </g>\r\n    <g id=\"xtick_6\">\r\n     <g id=\"line2d_6\">\r\n      <path clip-path=\"url(#pe83591c2dc)\" d=\"M 252.730611 224.64 \r\nL 252.730611 7.2 \r\n\" style=\"fill:none;stroke:#ffffff;stroke-linecap:round;\"/>\r\n     </g>\r\n     <g id=\"text_6\">\r\n      <!-- 2.5 -->\r\n      <g style=\"fill:#262626;\" transform=\"translate(245.085611 242.013594)scale(0.11 -0.11)\">\r\n       <use xlink:href=\"#ArialMT-50\"/>\r\n       <use x=\"55.615234\" xlink:href=\"#ArialMT-46\"/>\r\n       <use x=\"83.398438\" xlink:href=\"#ArialMT-53\"/>\r\n      </g>\r\n     </g>\r\n    </g>\r\n    <g id=\"xtick_7\">\r\n     <g id=\"line2d_7\">\r\n      <path clip-path=\"url(#pe83591c2dc)\" d=\"M 290.776065 224.64 \r\nL 290.776065 7.2 \r\n\" style=\"fill:none;stroke:#ffffff;stroke-linecap:round;\"/>\r\n     </g>\r\n     <g id=\"text_7\">\r\n      <!-- 3.0 -->\r\n      <g style=\"fill:#262626;\" transform=\"translate(283.131065 242.013594)scale(0.11 -0.11)\">\r\n       <defs>\r\n        <path d=\"M 4.203125 18.890625 \r\nL 12.984375 20.0625 \r\nQ 14.5 12.59375 18.140625 9.296875 \r\nQ 21.78125 6 27 6 \r\nQ 33.203125 6 37.46875 10.296875 \r\nQ 41.75 14.59375 41.75 20.953125 \r\nQ 41.75 27 37.796875 30.921875 \r\nQ 33.84375 34.859375 27.734375 34.859375 \r\nQ 25.25 34.859375 21.53125 33.890625 \r\nL 22.515625 41.609375 \r\nQ 23.390625 41.5 23.921875 41.5 \r\nQ 29.546875 41.5 34.03125 44.421875 \r\nQ 38.53125 47.359375 38.53125 53.46875 \r\nQ 38.53125 58.296875 35.25 61.46875 \r\nQ 31.984375 64.65625 26.8125 64.65625 \r\nQ 21.6875 64.65625 18.265625 61.421875 \r\nQ 14.84375 58.203125 13.875 51.765625 \r\nL 5.078125 53.328125 \r\nQ 6.6875 62.15625 12.390625 67.015625 \r\nQ 18.109375 71.875 26.609375 71.875 \r\nQ 32.46875 71.875 37.390625 69.359375 \r\nQ 42.328125 66.84375 44.9375 62.5 \r\nQ 47.5625 58.15625 47.5625 53.265625 \r\nQ 47.5625 48.640625 45.0625 44.828125 \r\nQ 42.578125 41.015625 37.703125 38.765625 \r\nQ 44.046875 37.3125 47.5625 32.6875 \r\nQ 51.078125 28.078125 51.078125 21.140625 \r\nQ 51.078125 11.765625 44.234375 5.25 \r\nQ 37.40625 -1.265625 26.953125 -1.265625 \r\nQ 17.53125 -1.265625 11.296875 4.34375 \r\nQ 5.078125 9.96875 4.203125 18.890625 \r\nz\r\n\" id=\"ArialMT-51\"/>\r\n       </defs>\r\n       <use xlink:href=\"#ArialMT-51\"/>\r\n       <use x=\"55.615234\" xlink:href=\"#ArialMT-46\"/>\r\n       <use x=\"83.398438\" xlink:href=\"#ArialMT-48\"/>\r\n      </g>\r\n     </g>\r\n    </g>\r\n    <g id=\"xtick_8\">\r\n     <g id=\"line2d_8\">\r\n      <path clip-path=\"url(#pe83591c2dc)\" d=\"M 328.82152 224.64 \r\nL 328.82152 7.2 \r\n\" style=\"fill:none;stroke:#ffffff;stroke-linecap:round;\"/>\r\n     </g>\r\n     <g id=\"text_8\">\r\n      <!-- 3.5 -->\r\n      <g style=\"fill:#262626;\" transform=\"translate(321.17652 242.013594)scale(0.11 -0.11)\">\r\n       <use xlink:href=\"#ArialMT-51\"/>\r\n       <use x=\"55.615234\" xlink:href=\"#ArialMT-46\"/>\r\n       <use x=\"83.398438\" xlink:href=\"#ArialMT-53\"/>\r\n      </g>\r\n     </g>\r\n    </g>\r\n    <g id=\"xtick_9\">\r\n     <g id=\"line2d_9\">\r\n      <path clip-path=\"url(#pe83591c2dc)\" d=\"M 366.866974 224.64 \r\nL 366.866974 7.2 \r\n\" style=\"fill:none;stroke:#ffffff;stroke-linecap:round;\"/>\r\n     </g>\r\n     <g id=\"text_9\">\r\n      <!-- 4.0 -->\r\n      <g style=\"fill:#262626;\" transform=\"translate(359.221974 242.013594)scale(0.11 -0.11)\">\r\n       <defs>\r\n        <path d=\"M 32.328125 0 \r\nL 32.328125 17.140625 \r\nL 1.265625 17.140625 \r\nL 1.265625 25.203125 \r\nL 33.9375 71.578125 \r\nL 41.109375 71.578125 \r\nL 41.109375 25.203125 \r\nL 50.78125 25.203125 \r\nL 50.78125 17.140625 \r\nL 41.109375 17.140625 \r\nL 41.109375 0 \r\nz\r\nM 32.328125 25.203125 \r\nL 32.328125 57.46875 \r\nL 9.90625 25.203125 \r\nz\r\n\" id=\"ArialMT-52\"/>\r\n       </defs>\r\n       <use xlink:href=\"#ArialMT-52\"/>\r\n       <use x=\"55.615234\" xlink:href=\"#ArialMT-46\"/>\r\n       <use x=\"83.398438\" xlink:href=\"#ArialMT-48\"/>\r\n      </g>\r\n     </g>\r\n    </g>\r\n   </g>\r\n   <g id=\"matplotlib.axis_2\">\r\n    <g id=\"ytick_1\">\r\n     <g id=\"line2d_10\">\r\n      <path clip-path=\"url(#pe83591c2dc)\" d=\"M 47.285156 224.64 \r\nL 382.085156 224.64 \r\n\" style=\"fill:none;stroke:#ffffff;stroke-linecap:round;\"/>\r\n     </g>\r\n     <g id=\"text_10\">\r\n      <!-- 0 -->\r\n      <g style=\"fill:#262626;\" transform=\"translate(31.668125 228.576797)scale(0.11 -0.11)\">\r\n       <use xlink:href=\"#ArialMT-48\"/>\r\n      </g>\r\n     </g>\r\n    </g>\r\n    <g id=\"ytick_2\">\r\n     <g id=\"line2d_11\">\r\n      <path clip-path=\"url(#pe83591c2dc)\" d=\"M 47.285156 200.06651 \r\nL 382.085156 200.06651 \r\n\" style=\"fill:none;stroke:#ffffff;stroke-linecap:round;\"/>\r\n     </g>\r\n     <g id=\"text_11\">\r\n      <!-- 2500 -->\r\n      <g style=\"fill:#262626;\" transform=\"translate(13.317031 204.003307)scale(0.11 -0.11)\">\r\n       <use xlink:href=\"#ArialMT-50\"/>\r\n       <use x=\"55.615234\" xlink:href=\"#ArialMT-53\"/>\r\n       <use x=\"111.230469\" xlink:href=\"#ArialMT-48\"/>\r\n       <use x=\"166.845703\" xlink:href=\"#ArialMT-48\"/>\r\n      </g>\r\n     </g>\r\n    </g>\r\n    <g id=\"ytick_3\">\r\n     <g id=\"line2d_12\">\r\n      <path clip-path=\"url(#pe83591c2dc)\" d=\"M 47.285156 175.49302 \r\nL 382.085156 175.49302 \r\n\" style=\"fill:none;stroke:#ffffff;stroke-linecap:round;\"/>\r\n     </g>\r\n     <g id=\"text_12\">\r\n      <!-- 5000 -->\r\n      <g style=\"fill:#262626;\" transform=\"translate(13.317031 179.429817)scale(0.11 -0.11)\">\r\n       <use xlink:href=\"#ArialMT-53\"/>\r\n       <use x=\"55.615234\" xlink:href=\"#ArialMT-48\"/>\r\n       <use x=\"111.230469\" xlink:href=\"#ArialMT-48\"/>\r\n       <use x=\"166.845703\" xlink:href=\"#ArialMT-48\"/>\r\n      </g>\r\n     </g>\r\n    </g>\r\n    <g id=\"ytick_4\">\r\n     <g id=\"line2d_13\">\r\n      <path clip-path=\"url(#pe83591c2dc)\" d=\"M 47.285156 150.91953 \r\nL 382.085156 150.91953 \r\n\" style=\"fill:none;stroke:#ffffff;stroke-linecap:round;\"/>\r\n     </g>\r\n     <g id=\"text_13\">\r\n      <!-- 7500 -->\r\n      <g style=\"fill:#262626;\" transform=\"translate(13.317031 154.856327)scale(0.11 -0.11)\">\r\n       <defs>\r\n        <path d=\"M 4.734375 62.203125 \r\nL 4.734375 70.65625 \r\nL 51.078125 70.65625 \r\nL 51.078125 63.8125 \r\nQ 44.234375 56.546875 37.515625 44.484375 \r\nQ 30.8125 32.421875 27.15625 19.671875 \r\nQ 24.515625 10.6875 23.78125 0 \r\nL 14.75 0 \r\nQ 14.890625 8.453125 18.0625 20.40625 \r\nQ 21.234375 32.375 27.171875 43.484375 \r\nQ 33.109375 54.59375 39.796875 62.203125 \r\nz\r\n\" id=\"ArialMT-55\"/>\r\n       </defs>\r\n       <use xlink:href=\"#ArialMT-55\"/>\r\n       <use x=\"55.615234\" xlink:href=\"#ArialMT-53\"/>\r\n       <use x=\"111.230469\" xlink:href=\"#ArialMT-48\"/>\r\n       <use x=\"166.845703\" xlink:href=\"#ArialMT-48\"/>\r\n      </g>\r\n     </g>\r\n    </g>\r\n    <g id=\"ytick_5\">\r\n     <g id=\"line2d_14\">\r\n      <path clip-path=\"url(#pe83591c2dc)\" d=\"M 47.285156 126.34604 \r\nL 382.085156 126.34604 \r\n\" style=\"fill:none;stroke:#ffffff;stroke-linecap:round;\"/>\r\n     </g>\r\n     <g id=\"text_14\">\r\n      <!-- 10000 -->\r\n      <g style=\"fill:#262626;\" transform=\"translate(7.2 130.282837)scale(0.11 -0.11)\">\r\n       <use xlink:href=\"#ArialMT-49\"/>\r\n       <use x=\"55.615234\" xlink:href=\"#ArialMT-48\"/>\r\n       <use x=\"111.230469\" xlink:href=\"#ArialMT-48\"/>\r\n       <use x=\"166.845703\" xlink:href=\"#ArialMT-48\"/>\r\n       <use x=\"222.460938\" xlink:href=\"#ArialMT-48\"/>\r\n      </g>\r\n     </g>\r\n    </g>\r\n    <g id=\"ytick_6\">\r\n     <g id=\"line2d_15\">\r\n      <path clip-path=\"url(#pe83591c2dc)\" d=\"M 47.285156 101.77255 \r\nL 382.085156 101.77255 \r\n\" style=\"fill:none;stroke:#ffffff;stroke-linecap:round;\"/>\r\n     </g>\r\n     <g id=\"text_15\">\r\n      <!-- 12500 -->\r\n      <g style=\"fill:#262626;\" transform=\"translate(7.2 105.709347)scale(0.11 -0.11)\">\r\n       <use xlink:href=\"#ArialMT-49\"/>\r\n       <use x=\"55.615234\" xlink:href=\"#ArialMT-50\"/>\r\n       <use x=\"111.230469\" xlink:href=\"#ArialMT-53\"/>\r\n       <use x=\"166.845703\" xlink:href=\"#ArialMT-48\"/>\r\n       <use x=\"222.460938\" xlink:href=\"#ArialMT-48\"/>\r\n      </g>\r\n     </g>\r\n    </g>\r\n    <g id=\"ytick_7\">\r\n     <g id=\"line2d_16\">\r\n      <path clip-path=\"url(#pe83591c2dc)\" d=\"M 47.285156 77.19906 \r\nL 382.085156 77.19906 \r\n\" style=\"fill:none;stroke:#ffffff;stroke-linecap:round;\"/>\r\n     </g>\r\n     <g id=\"text_16\">\r\n      <!-- 15000 -->\r\n      <g style=\"fill:#262626;\" transform=\"translate(7.2 81.135857)scale(0.11 -0.11)\">\r\n       <use xlink:href=\"#ArialMT-49\"/>\r\n       <use x=\"55.615234\" xlink:href=\"#ArialMT-53\"/>\r\n       <use x=\"111.230469\" xlink:href=\"#ArialMT-48\"/>\r\n       <use x=\"166.845703\" xlink:href=\"#ArialMT-48\"/>\r\n       <use x=\"222.460938\" xlink:href=\"#ArialMT-48\"/>\r\n      </g>\r\n     </g>\r\n    </g>\r\n    <g id=\"ytick_8\">\r\n     <g id=\"line2d_17\">\r\n      <path clip-path=\"url(#pe83591c2dc)\" d=\"M 47.285156 52.625571 \r\nL 382.085156 52.625571 \r\n\" style=\"fill:none;stroke:#ffffff;stroke-linecap:round;\"/>\r\n     </g>\r\n     <g id=\"text_17\">\r\n      <!-- 17500 -->\r\n      <g style=\"fill:#262626;\" transform=\"translate(7.2 56.562367)scale(0.11 -0.11)\">\r\n       <use xlink:href=\"#ArialMT-49\"/>\r\n       <use x=\"55.615234\" xlink:href=\"#ArialMT-55\"/>\r\n       <use x=\"111.230469\" xlink:href=\"#ArialMT-53\"/>\r\n       <use x=\"166.845703\" xlink:href=\"#ArialMT-48\"/>\r\n       <use x=\"222.460938\" xlink:href=\"#ArialMT-48\"/>\r\n      </g>\r\n     </g>\r\n    </g>\r\n    <g id=\"ytick_9\">\r\n     <g id=\"line2d_18\">\r\n      <path clip-path=\"url(#pe83591c2dc)\" d=\"M 47.285156 28.052081 \r\nL 382.085156 28.052081 \r\n\" style=\"fill:none;stroke:#ffffff;stroke-linecap:round;\"/>\r\n     </g>\r\n     <g id=\"text_18\">\r\n      <!-- 20000 -->\r\n      <g style=\"fill:#262626;\" transform=\"translate(7.2 31.988877)scale(0.11 -0.11)\">\r\n       <use xlink:href=\"#ArialMT-50\"/>\r\n       <use x=\"55.615234\" xlink:href=\"#ArialMT-48\"/>\r\n       <use x=\"111.230469\" xlink:href=\"#ArialMT-48\"/>\r\n       <use x=\"166.845703\" xlink:href=\"#ArialMT-48\"/>\r\n       <use x=\"222.460938\" xlink:href=\"#ArialMT-48\"/>\r\n      </g>\r\n     </g>\r\n    </g>\r\n   </g>\r\n   <g id=\"patch_3\">\r\n    <path clip-path=\"url(#pe83591c2dc)\" d=\"M 62.503338 224.64 \r\nL 92.939702 224.64 \r\nL 92.939702 218.250893 \r\nL 62.503338 218.250893 \r\nz\r\n\" style=\"fill:#4c72b0;stroke:#ffffff;stroke-linejoin:miter;\"/>\r\n   </g>\r\n   <g id=\"patch_4\">\r\n    <path clip-path=\"url(#pe83591c2dc)\" d=\"M 92.939702 224.64 \r\nL 123.376065 224.64 \r\nL 123.376065 224.64 \r\nL 92.939702 224.64 \r\nz\r\n\" style=\"fill:#4c72b0;stroke:#ffffff;stroke-linejoin:miter;\"/>\r\n   </g>\r\n   <g id=\"patch_5\">\r\n    <path clip-path=\"url(#pe83591c2dc)\" d=\"M 123.376065 224.64 \r\nL 153.812429 224.64 \r\nL 153.812429 162.203677 \r\nL 123.376065 162.203677 \r\nz\r\n\" style=\"fill:#4c72b0;stroke:#ffffff;stroke-linejoin:miter;\"/>\r\n   </g>\r\n   <g id=\"patch_6\">\r\n    <path clip-path=\"url(#pe83591c2dc)\" d=\"M 153.812429 224.64 \r\nL 184.248793 224.64 \r\nL 184.248793 224.64 \r\nL 153.812429 224.64 \r\nz\r\n\" style=\"fill:#4c72b0;stroke:#ffffff;stroke-linejoin:miter;\"/>\r\n   </g>\r\n   <g id=\"patch_7\">\r\n    <path clip-path=\"url(#pe83591c2dc)\" d=\"M 184.248793 224.64 \r\nL 214.685156 224.64 \r\nL 214.685156 224.64 \r\nL 184.248793 224.64 \r\nz\r\n\" style=\"fill:#4c72b0;stroke:#ffffff;stroke-linejoin:miter;\"/>\r\n   </g>\r\n   <g id=\"patch_8\">\r\n    <path clip-path=\"url(#pe83591c2dc)\" d=\"M 214.685156 224.64 \r\nL 245.12152 224.64 \r\nL 245.12152 17.554286 \r\nL 214.685156 17.554286 \r\nz\r\n\" style=\"fill:#4c72b0;stroke:#ffffff;stroke-linejoin:miter;\"/>\r\n   </g>\r\n   <g id=\"patch_9\">\r\n    <path clip-path=\"url(#pe83591c2dc)\" d=\"M 245.12152 224.64 \r\nL 275.557884 224.64 \r\nL 275.557884 224.64 \r\nL 245.12152 224.64 \r\nz\r\n\" style=\"fill:#4c72b0;stroke:#ffffff;stroke-linejoin:miter;\"/>\r\n   </g>\r\n   <g id=\"patch_10\">\r\n    <path clip-path=\"url(#pe83591c2dc)\" d=\"M 275.557884 224.64 \r\nL 305.994247 224.64 \r\nL 305.994247 37.645571 \r\nL 275.557884 37.645571 \r\nz\r\n\" style=\"fill:#4c72b0;stroke:#ffffff;stroke-linejoin:miter;\"/>\r\n   </g>\r\n   <g id=\"patch_11\">\r\n    <path clip-path=\"url(#pe83591c2dc)\" d=\"M 305.994247 224.64 \r\nL 336.430611 224.64 \r\nL 336.430611 224.64 \r\nL 305.994247 224.64 \r\nz\r\n\" style=\"fill:#4c72b0;stroke:#ffffff;stroke-linejoin:miter;\"/>\r\n   </g>\r\n   <g id=\"patch_12\">\r\n    <path clip-path=\"url(#pe83591c2dc)\" d=\"M 336.430611 224.64 \r\nL 366.866974 224.64 \r\nL 366.866974 128.14482 \r\nL 336.430611 128.14482 \r\nz\r\n\" style=\"fill:#4c72b0;stroke:#ffffff;stroke-linejoin:miter;\"/>\r\n   </g>\r\n   <g id=\"patch_13\">\r\n    <path d=\"M 47.285156 224.64 \r\nL 47.285156 7.2 \r\n\" style=\"fill:none;stroke:#ffffff;stroke-linecap:square;stroke-linejoin:miter;stroke-width:1.25;\"/>\r\n   </g>\r\n   <g id=\"patch_14\">\r\n    <path d=\"M 382.085156 224.64 \r\nL 382.085156 7.2 \r\n\" style=\"fill:none;stroke:#ffffff;stroke-linecap:square;stroke-linejoin:miter;stroke-width:1.25;\"/>\r\n   </g>\r\n   <g id=\"patch_15\">\r\n    <path d=\"M 47.285156 224.64 \r\nL 382.085156 224.64 \r\n\" style=\"fill:none;stroke:#ffffff;stroke-linecap:square;stroke-linejoin:miter;stroke-width:1.25;\"/>\r\n   </g>\r\n   <g id=\"patch_16\">\r\n    <path d=\"M 47.285156 7.2 \r\nL 382.085156 7.2 \r\n\" style=\"fill:none;stroke:#ffffff;stroke-linecap:square;stroke-linejoin:miter;stroke-width:1.25;\"/>\r\n   </g>\r\n  </g>\r\n </g>\r\n <defs>\r\n  <clipPath id=\"pe83591c2dc\">\r\n   <rect height=\"217.44\" width=\"334.8\" x=\"47.285156\" y=\"7.2\"/>\r\n  </clipPath>\r\n </defs>\r\n</svg>\r\n",
      "image/png": "[encoded data removed]"
     },
     "metadata": {}
    }
   ],
   "source": [
    "plt.hist(data.education)"
   ]
  },
  {
   "source": [
    "# wr 데이터에 Q_A 데이터합을 곱해서 새로운 컬럼 wrsum을 만들었다!"
   ],
   "cell_type": "markdown",
   "metadata": {}
  },
  {
   "cell_type": "code",
   "execution_count": 11,
   "metadata": {},
   "outputs": [],
   "source": [
    "ads = data.iloc[:,-13:].apply(lambda x: 56915- x.value_counts()[1])\n",
    "df =pd.DataFrame()\n",
    "for num,i in enumerate(ads):\n",
    "    df[ads.index.values[num]] = data.iloc[:,-13:].iloc[:,num]*i\n",
    "data['wrsum'] = df.sum(axis = 1)"
   ]
  },
  {
   "cell_type": "code",
   "execution_count": 12,
   "metadata": {},
   "outputs": [
    {
     "output_type": "execute_result",
     "data": {
      "text/plain": [
       "              wrsum  education\n",
       "wrsum      1.000000   0.252721\n",
       "education  0.252721   1.000000"
      ],
      "text/html": "<div>\n<style scoped>\n    .dataframe tbody tr th:only-of-type {\n        vertical-align: middle;\n    }\n\n    .dataframe tbody tr th {\n        vertical-align: top;\n    }\n\n    .dataframe thead th {\n        text-align: right;\n    }\n</style>\n<table border=\"1\" class=\"dataframe\">\n  <thead>\n    <tr style=\"text-align: right;\">\n      <th></th>\n      <th>wrsum</th>\n      <th>education</th>\n    </tr>\n  </thead>\n  <tbody>\n    <tr>\n      <th>wrsum</th>\n      <td>1.000000</td>\n      <td>0.252721</td>\n    </tr>\n    <tr>\n      <th>education</th>\n      <td>0.252721</td>\n      <td>1.000000</td>\n    </tr>\n  </tbody>\n</table>\n</div>"
     },
     "metadata": {},
     "execution_count": 12
    }
   ],
   "source": [
    "data[data.education != 0][['wrsum','education']].corr()"
   ]
  },
  {
   "source": [
    "# 결과는 별로! 0.252721"
   ],
   "cell_type": "markdown",
   "metadata": {}
  },
  {
   "cell_type": "code",
   "execution_count": 13,
   "metadata": {},
   "outputs": [],
   "source": [
    "nodata = data[data.education == 0]"
   ]
  },
  {
   "cell_type": "code",
   "execution_count": 14,
   "metadata": {},
   "outputs": [],
   "source": [
    "indata = data[data.education != 0]"
   ]
  },
  {
   "source": [
    "# wr 데이터의 합을 하여 새로운 컬럼 생성 : wrsums"
   ],
   "cell_type": "markdown",
   "metadata": {}
  },
  {
   "cell_type": "code",
   "execution_count": 15,
   "metadata": {},
   "outputs": [],
   "source": [
    "indata['wrsums']=indata.iloc[:,61:77].sum(axis = 1)"
   ]
  },
  {
   "source": [
    "# 결과는 아래 나오지만 별로였다. 0.164140"
   ],
   "cell_type": "markdown",
   "metadata": {}
  },
  {
   "cell_type": "code",
   "execution_count": 16,
   "metadata": {},
   "outputs": [
    {
     "output_type": "execute_result",
     "data": {
      "text/plain": [
       "((650, 78), (56261, 79))"
      ]
     },
     "metadata": {},
     "execution_count": 16
    }
   ],
   "source": [
    "nodata.shape,indata.shape"
   ]
  },
  {
   "cell_type": "code",
   "execution_count": 19,
   "metadata": {},
   "outputs": [],
   "source": [
    "indata = pd.concat([indata,pd.get_dummies(indata['age_group'])],axis=1)"
   ]
  },
  {
   "cell_type": "code",
   "execution_count": 20,
   "metadata": {},
   "outputs": [
    {
     "output_type": "execute_result",
     "data": {
      "text/plain": [
       "       index  QaA   QaE  QbA   QbE  QcA   QcE  QdA   QdE  QeA  ...  wr_13  \\\n",
       "0          0  3.0   363  4.0  1370  5.0   997  1.0  1024  2.0  ...      1   \n",
       "1          1  5.0   647  5.0  1313  3.0  3387  5.0  2969  1.0  ...      1   \n",
       "2          2  4.0  1623  1.0  1480  1.0  1021  4.0  3374  5.0  ...      1   \n",
       "3          3  3.0   504  3.0  2311  4.0   992  3.0  3245  1.0  ...      1   \n",
       "4          4  1.0   927  1.0   707  5.0   556  2.0  1062  1.0  ...      1   \n",
       "...      ...  ...   ...  ...   ...  ...   ...  ...   ...  ...  ...    ...   \n",
       "11378  11378  5.0   427  5.0  1066  5.0   588  1.0   560  2.0  ...      1   \n",
       "11379  11379  1.0   314  5.0   554  5.0   230  1.0   956  2.0  ...      1   \n",
       "11380  11380  1.0   627  2.0   799  1.0   739  2.0  1123  1.0  ...      1   \n",
       "11381  11381  2.0   539  1.0  2090  2.0  4642  1.0   673  2.0  ...      0   \n",
       "11382  11382  2.0   541  4.0   900  5.0   691  2.0  1951  1.0  ...      0   \n",
       "\n",
       "        wrsum  wrsums  +70s  10s  20s  30s  40s  50s  60s  \n",
       "0       24924       7     0    0    0    1    0    0    0  \n",
       "1       32341       8     0    0    1    0    0    0    0  \n",
       "2       94260      11     0    0    0    1    0    0    0  \n",
       "3       15507       5     0    0    1    0    0    0    0  \n",
       "4      121453      12     0    0    1    0    0    0    0  \n",
       "...       ...     ...   ...  ...  ...  ...  ...  ...  ...  \n",
       "11378   48827       9     0    0    1    0    0    0    0  \n",
       "11379  211917      15     0    1    0    0    0    0    0  \n",
       "11380   93858      12     0    0    0    1    0    0    0  \n",
       "11381   73132       8     0    0    0    0    1    0    0  \n",
       "11382   74211       3     0    0    1    0    0    0    0  \n",
       "\n",
       "[56261 rows x 86 columns]"
      ],
      "text/html": "<div>\n<style scoped>\n    .dataframe tbody tr th:only-of-type {\n        vertical-align: middle;\n    }\n\n    .dataframe tbody tr th {\n        vertical-align: top;\n    }\n\n    .dataframe thead th {\n        text-align: right;\n    }\n</style>\n<table border=\"1\" class=\"dataframe\">\n  <thead>\n    <tr style=\"text-align: right;\">\n      <th></th>\n      <th>index</th>\n      <th>QaA</th>\n      <th>QaE</th>\n      <th>QbA</th>\n      <th>QbE</th>\n      <th>QcA</th>\n      <th>QcE</th>\n      <th>QdA</th>\n      <th>QdE</th>\n      <th>QeA</th>\n      <th>...</th>\n      <th>wr_13</th>\n      <th>wrsum</th>\n      <th>wrsums</th>\n      <th>+70s</th>\n      <th>10s</th>\n      <th>20s</th>\n      <th>30s</th>\n      <th>40s</th>\n      <th>50s</th>\n      <th>60s</th>\n    </tr>\n  </thead>\n  <tbody>\n    <tr>\n      <th>0</th>\n      <td>0</td>\n      <td>3.0</td>\n      <td>363</td>\n      <td>4.0</td>\n      <td>1370</td>\n      <td>5.0</td>\n      <td>997</td>\n      <td>1.0</td>\n      <td>1024</td>\n      <td>2.0</td>\n      <td>...</td>\n      <td>1</td>\n      <td>24924</td>\n      <td>7</td>\n      <td>0</td>\n      <td>0</td>\n      <td>0</td>\n      <td>1</td>\n      <td>0</td>\n      <td>0</td>\n      <td>0</td>\n    </tr>\n    <tr>\n      <th>1</th>\n      <td>1</td>\n      <td>5.0</td>\n      <td>647</td>\n      <td>5.0</td>\n      <td>1313</td>\n      <td>3.0</td>\n      <td>3387</td>\n      <td>5.0</td>\n      <td>2969</td>\n      <td>1.0</td>\n      <td>...</td>\n      <td>1</td>\n      <td>32341</td>\n      <td>8</td>\n      <td>0</td>\n      <td>0</td>\n      <td>1</td>\n      <td>0</td>\n      <td>0</td>\n      <td>0</td>\n      <td>0</td>\n    </tr>\n    <tr>\n      <th>2</th>\n      <td>2</td>\n      <td>4.0</td>\n      <td>1623</td>\n      <td>1.0</td>\n      <td>1480</td>\n      <td>1.0</td>\n      <td>1021</td>\n      <td>4.0</td>\n      <td>3374</td>\n      <td>5.0</td>\n      <td>...</td>\n      <td>1</td>\n      <td>94260</td>\n      <td>11</td>\n      <td>0</td>\n      <td>0</td>\n      <td>0</td>\n      <td>1</td>\n      <td>0</td>\n      <td>0</td>\n      <td>0</td>\n    </tr>\n    <tr>\n      <th>3</th>\n      <td>3</td>\n      <td>3.0</td>\n      <td>504</td>\n      <td>3.0</td>\n      <td>2311</td>\n      <td>4.0</td>\n      <td>992</td>\n      <td>3.0</td>\n      <td>3245</td>\n      <td>1.0</td>\n      <td>...</td>\n      <td>1</td>\n      <td>15507</td>\n      <td>5</td>\n      <td>0</td>\n      <td>0</td>\n      <td>1</td>\n      <td>0</td>\n      <td>0</td>\n      <td>0</td>\n      <td>0</td>\n    </tr>\n    <tr>\n      <th>4</th>\n      <td>4</td>\n      <td>1.0</td>\n      <td>927</td>\n      <td>1.0</td>\n      <td>707</td>\n      <td>5.0</td>\n      <td>556</td>\n      <td>2.0</td>\n      <td>1062</td>\n      <td>1.0</td>\n      <td>...</td>\n      <td>1</td>\n      <td>121453</td>\n      <td>12</td>\n      <td>0</td>\n      <td>0</td>\n      <td>1</td>\n      <td>0</td>\n      <td>0</td>\n      <td>0</td>\n      <td>0</td>\n    </tr>\n    <tr>\n      <th>...</th>\n      <td>...</td>\n      <td>...</td>\n      <td>...</td>\n      <td>...</td>\n      <td>...</td>\n      <td>...</td>\n      <td>...</td>\n      <td>...</td>\n      <td>...</td>\n      <td>...</td>\n      <td>...</td>\n      <td>...</td>\n      <td>...</td>\n      <td>...</td>\n      <td>...</td>\n      <td>...</td>\n      <td>...</td>\n      <td>...</td>\n      <td>...</td>\n      <td>...</td>\n      <td>...</td>\n    </tr>\n    <tr>\n      <th>11378</th>\n      <td>11378</td>\n      <td>5.0</td>\n      <td>427</td>\n      <td>5.0</td>\n      <td>1066</td>\n      <td>5.0</td>\n      <td>588</td>\n      <td>1.0</td>\n      <td>560</td>\n      <td>2.0</td>\n      <td>...</td>\n      <td>1</td>\n      <td>48827</td>\n      <td>9</td>\n      <td>0</td>\n      <td>0</td>\n      <td>1</td>\n      <td>0</td>\n      <td>0</td>\n      <td>0</td>\n      <td>0</td>\n    </tr>\n    <tr>\n      <th>11379</th>\n      <td>11379</td>\n      <td>1.0</td>\n      <td>314</td>\n      <td>5.0</td>\n      <td>554</td>\n      <td>5.0</td>\n      <td>230</td>\n      <td>1.0</td>\n      <td>956</td>\n      <td>2.0</td>\n      <td>...</td>\n      <td>1</td>\n      <td>211917</td>\n      <td>15</td>\n      <td>0</td>\n      <td>1</td>\n      <td>0</td>\n      <td>0</td>\n      <td>0</td>\n      <td>0</td>\n      <td>0</td>\n    </tr>\n    <tr>\n      <th>11380</th>\n      <td>11380</td>\n      <td>1.0</td>\n      <td>627</td>\n      <td>2.0</td>\n      <td>799</td>\n      <td>1.0</td>\n      <td>739</td>\n      <td>2.0</td>\n      <td>1123</td>\n      <td>1.0</td>\n      <td>...</td>\n      <td>1</td>\n      <td>93858</td>\n      <td>12</td>\n      <td>0</td>\n      <td>0</td>\n      <td>0</td>\n      <td>1</td>\n      <td>0</td>\n      <td>0</td>\n      <td>0</td>\n    </tr>\n    <tr>\n      <th>11381</th>\n      <td>11381</td>\n      <td>2.0</td>\n      <td>539</td>\n      <td>1.0</td>\n      <td>2090</td>\n      <td>2.0</td>\n      <td>4642</td>\n      <td>1.0</td>\n      <td>673</td>\n      <td>2.0</td>\n      <td>...</td>\n      <td>0</td>\n      <td>73132</td>\n      <td>8</td>\n      <td>0</td>\n      <td>0</td>\n      <td>0</td>\n      <td>0</td>\n      <td>1</td>\n      <td>0</td>\n      <td>0</td>\n    </tr>\n    <tr>\n      <th>11382</th>\n      <td>11382</td>\n      <td>2.0</td>\n      <td>541</td>\n      <td>4.0</td>\n      <td>900</td>\n      <td>5.0</td>\n      <td>691</td>\n      <td>2.0</td>\n      <td>1951</td>\n      <td>1.0</td>\n      <td>...</td>\n      <td>0</td>\n      <td>74211</td>\n      <td>3</td>\n      <td>0</td>\n      <td>0</td>\n      <td>1</td>\n      <td>0</td>\n      <td>0</td>\n      <td>0</td>\n      <td>0</td>\n    </tr>\n  </tbody>\n</table>\n<p>56261 rows × 86 columns</p>\n</div>"
     },
     "metadata": {},
     "execution_count": 20
    }
   ],
   "source": [
    "indata"
   ]
  },
  {
   "source": [
    "# 연령이 object 데이터라 숫자 데이터로 바꾸어보았다 !! 새로운 컬럼 생성 agenum"
   ],
   "cell_type": "markdown",
   "metadata": {}
  },
  {
   "cell_type": "code",
   "execution_count": 21,
   "metadata": {},
   "outputs": [],
   "source": [
    "indata['agenum'] = indata['age_group'].map({'30s':30, '20s':20, '40s':40, '50s':50, '10s':10, '60s':60, '+70s':70})"
   ]
  },
  {
   "source": [
    "# 아래에 나오지만 효과는 좋았다. corr = 0.44"
   ],
   "cell_type": "markdown",
   "metadata": {}
  },
  {
   "cell_type": "code",
   "execution_count": 22,
   "metadata": {},
   "outputs": [
    {
     "output_type": "execute_result",
     "data": {
      "text/plain": [
       "array(['30s', '20s', '40s', '50s', '10s', '60s', '+70s'], dtype=object)"
      ]
     },
     "metadata": {},
     "execution_count": 22
    }
   ],
   "source": [
    "indata['age_group'].unique()"
   ]
  },
  {
   "cell_type": "code",
   "execution_count": 23,
   "metadata": {},
   "outputs": [],
   "source": [
    "indata['sex'] = indata['gender'].map({'Male':1,'Female':0})"
   ]
  },
  {
   "cell_type": "code",
   "execution_count": 24,
   "metadata": {},
   "outputs": [
    {
     "output_type": "execute_result",
     "data": {
      "text/plain": [
       "       index  QaA   QaE  QbA   QbE  QcA   QcE  QdA   QdE  QeA  ...  wrsums  \\\n",
       "0          0  3.0   363  4.0  1370  5.0   997  1.0  1024  2.0  ...       7   \n",
       "1          1  5.0   647  5.0  1313  3.0  3387  5.0  2969  1.0  ...       8   \n",
       "2          2  4.0  1623  1.0  1480  1.0  1021  4.0  3374  5.0  ...      11   \n",
       "3          3  3.0   504  3.0  2311  4.0   992  3.0  3245  1.0  ...       5   \n",
       "4          4  1.0   927  1.0   707  5.0   556  2.0  1062  1.0  ...      12   \n",
       "...      ...  ...   ...  ...   ...  ...   ...  ...   ...  ...  ...     ...   \n",
       "11378  11378  5.0   427  5.0  1066  5.0   588  1.0   560  2.0  ...       9   \n",
       "11379  11379  1.0   314  5.0   554  5.0   230  1.0   956  2.0  ...      15   \n",
       "11380  11380  1.0   627  2.0   799  1.0   739  2.0  1123  1.0  ...      12   \n",
       "11381  11381  2.0   539  1.0  2090  2.0  4642  1.0   673  2.0  ...       8   \n",
       "11382  11382  2.0   541  4.0   900  5.0   691  2.0  1951  1.0  ...       3   \n",
       "\n",
       "       +70s  10s  20s  30s  40s  50s  60s  agenum  sex  \n",
       "0         0    0    0    1    0    0    0      30    0  \n",
       "1         0    0    1    0    0    0    0      20    0  \n",
       "2         0    0    0    1    0    0    0      30    1  \n",
       "3         0    0    1    0    0    0    0      20    0  \n",
       "4         0    0    1    0    0    0    0      20    1  \n",
       "...     ...  ...  ...  ...  ...  ...  ...     ...  ...  \n",
       "11378     0    0    1    0    0    0    0      20    0  \n",
       "11379     0    1    0    0    0    0    0      10    0  \n",
       "11380     0    0    0    1    0    0    0      30    1  \n",
       "11381     0    0    0    0    1    0    0      40    0  \n",
       "11382     0    0    1    0    0    0    0      20    0  \n",
       "\n",
       "[56261 rows x 88 columns]"
      ],
      "text/html": "<div>\n<style scoped>\n    .dataframe tbody tr th:only-of-type {\n        vertical-align: middle;\n    }\n\n    .dataframe tbody tr th {\n        vertical-align: top;\n    }\n\n    .dataframe thead th {\n        text-align: right;\n    }\n</style>\n<table border=\"1\" class=\"dataframe\">\n  <thead>\n    <tr style=\"text-align: right;\">\n      <th></th>\n      <th>index</th>\n      <th>QaA</th>\n      <th>QaE</th>\n      <th>QbA</th>\n      <th>QbE</th>\n      <th>QcA</th>\n      <th>QcE</th>\n      <th>QdA</th>\n      <th>QdE</th>\n      <th>QeA</th>\n      <th>...</th>\n      <th>wrsums</th>\n      <th>+70s</th>\n      <th>10s</th>\n      <th>20s</th>\n      <th>30s</th>\n      <th>40s</th>\n      <th>50s</th>\n      <th>60s</th>\n      <th>agenum</th>\n      <th>sex</th>\n    </tr>\n  </thead>\n  <tbody>\n    <tr>\n      <th>0</th>\n      <td>0</td>\n      <td>3.0</td>\n      <td>363</td>\n      <td>4.0</td>\n      <td>1370</td>\n      <td>5.0</td>\n      <td>997</td>\n      <td>1.0</td>\n      <td>1024</td>\n      <td>2.0</td>\n      <td>...</td>\n      <td>7</td>\n      <td>0</td>\n      <td>0</td>\n      <td>0</td>\n      <td>1</td>\n      <td>0</td>\n      <td>0</td>\n      <td>0</td>\n      <td>30</td>\n      <td>0</td>\n    </tr>\n    <tr>\n      <th>1</th>\n      <td>1</td>\n      <td>5.0</td>\n      <td>647</td>\n      <td>5.0</td>\n      <td>1313</td>\n      <td>3.0</td>\n      <td>3387</td>\n      <td>5.0</td>\n      <td>2969</td>\n      <td>1.0</td>\n      <td>...</td>\n      <td>8</td>\n      <td>0</td>\n      <td>0</td>\n      <td>1</td>\n      <td>0</td>\n      <td>0</td>\n      <td>0</td>\n      <td>0</td>\n      <td>20</td>\n      <td>0</td>\n    </tr>\n    <tr>\n      <th>2</th>\n      <td>2</td>\n      <td>4.0</td>\n      <td>1623</td>\n      <td>1.0</td>\n      <td>1480</td>\n      <td>1.0</td>\n      <td>1021</td>\n      <td>4.0</td>\n      <td>3374</td>\n      <td>5.0</td>\n      <td>...</td>\n      <td>11</td>\n      <td>0</td>\n      <td>0</td>\n      <td>0</td>\n      <td>1</td>\n      <td>0</td>\n      <td>0</td>\n      <td>0</td>\n      <td>30</td>\n      <td>1</td>\n    </tr>\n    <tr>\n      <th>3</th>\n      <td>3</td>\n      <td>3.0</td>\n      <td>504</td>\n      <td>3.0</td>\n      <td>2311</td>\n      <td>4.0</td>\n      <td>992</td>\n      <td>3.0</td>\n      <td>3245</td>\n      <td>1.0</td>\n      <td>...</td>\n      <td>5</td>\n      <td>0</td>\n      <td>0</td>\n      <td>1</td>\n      <td>0</td>\n      <td>0</td>\n      <td>0</td>\n      <td>0</td>\n      <td>20</td>\n      <td>0</td>\n    </tr>\n    <tr>\n      <th>4</th>\n      <td>4</td>\n      <td>1.0</td>\n      <td>927</td>\n      <td>1.0</td>\n      <td>707</td>\n      <td>5.0</td>\n      <td>556</td>\n      <td>2.0</td>\n      <td>1062</td>\n      <td>1.0</td>\n      <td>...</td>\n      <td>12</td>\n      <td>0</td>\n      <td>0</td>\n      <td>1</td>\n      <td>0</td>\n      <td>0</td>\n      <td>0</td>\n      <td>0</td>\n      <td>20</td>\n      <td>1</td>\n    </tr>\n    <tr>\n      <th>...</th>\n      <td>...</td>\n      <td>...</td>\n      <td>...</td>\n      <td>...</td>\n      <td>...</td>\n      <td>...</td>\n      <td>...</td>\n      <td>...</td>\n      <td>...</td>\n      <td>...</td>\n      <td>...</td>\n      <td>...</td>\n      <td>...</td>\n      <td>...</td>\n      <td>...</td>\n      <td>...</td>\n      <td>...</td>\n      <td>...</td>\n      <td>...</td>\n      <td>...</td>\n      <td>...</td>\n    </tr>\n    <tr>\n      <th>11378</th>\n      <td>11378</td>\n      <td>5.0</td>\n      <td>427</td>\n      <td>5.0</td>\n      <td>1066</td>\n      <td>5.0</td>\n      <td>588</td>\n      <td>1.0</td>\n      <td>560</td>\n      <td>2.0</td>\n      <td>...</td>\n      <td>9</td>\n      <td>0</td>\n      <td>0</td>\n      <td>1</td>\n      <td>0</td>\n      <td>0</td>\n      <td>0</td>\n      <td>0</td>\n      <td>20</td>\n      <td>0</td>\n    </tr>\n    <tr>\n      <th>11379</th>\n      <td>11379</td>\n      <td>1.0</td>\n      <td>314</td>\n      <td>5.0</td>\n      <td>554</td>\n      <td>5.0</td>\n      <td>230</td>\n      <td>1.0</td>\n      <td>956</td>\n      <td>2.0</td>\n      <td>...</td>\n      <td>15</td>\n      <td>0</td>\n      <td>1</td>\n      <td>0</td>\n      <td>0</td>\n      <td>0</td>\n      <td>0</td>\n      <td>0</td>\n      <td>10</td>\n      <td>0</td>\n    </tr>\n    <tr>\n      <th>11380</th>\n      <td>11380</td>\n      <td>1.0</td>\n      <td>627</td>\n      <td>2.0</td>\n      <td>799</td>\n      <td>1.0</td>\n      <td>739</td>\n      <td>2.0</td>\n      <td>1123</td>\n      <td>1.0</td>\n      <td>...</td>\n      <td>12</td>\n      <td>0</td>\n      <td>0</td>\n      <td>0</td>\n      <td>1</td>\n      <td>0</td>\n      <td>0</td>\n      <td>0</td>\n      <td>30</td>\n      <td>1</td>\n    </tr>\n    <tr>\n      <th>11381</th>\n      <td>11381</td>\n      <td>2.0</td>\n      <td>539</td>\n      <td>1.0</td>\n      <td>2090</td>\n      <td>2.0</td>\n      <td>4642</td>\n      <td>1.0</td>\n      <td>673</td>\n      <td>2.0</td>\n      <td>...</td>\n      <td>8</td>\n      <td>0</td>\n      <td>0</td>\n      <td>0</td>\n      <td>0</td>\n      <td>1</td>\n      <td>0</td>\n      <td>0</td>\n      <td>40</td>\n      <td>0</td>\n    </tr>\n    <tr>\n      <th>11382</th>\n      <td>11382</td>\n      <td>2.0</td>\n      <td>541</td>\n      <td>4.0</td>\n      <td>900</td>\n      <td>5.0</td>\n      <td>691</td>\n      <td>2.0</td>\n      <td>1951</td>\n      <td>1.0</td>\n      <td>...</td>\n      <td>3</td>\n      <td>0</td>\n      <td>0</td>\n      <td>1</td>\n      <td>0</td>\n      <td>0</td>\n      <td>0</td>\n      <td>0</td>\n      <td>20</td>\n      <td>0</td>\n    </tr>\n  </tbody>\n</table>\n<p>56261 rows × 88 columns</p>\n</div>"
     },
     "metadata": {},
     "execution_count": 24
    }
   ],
   "source": [
    "indata"
   ]
  },
  {
   "source": [
    "# 질문 계산법을 이용해서 데이터를 만들었다 qa"
   ],
   "cell_type": "markdown",
   "metadata": {}
  },
  {
   "cell_type": "code",
   "execution_count": 26,
   "metadata": {},
   "outputs": [],
   "source": [
    "indata[[\"QeA\", \"QfA\", \"QkA\", \"QqA\", \"QrA\",\"QaA\", \"QdA\", \"QgA\", \"QiA\", \"QnA\"]] = 6-indata[[\"QeA\", \"QfA\", \"QkA\", \"QqA\", \"QrA\",\"QaA\", \"QdA\", \"QgA\", \"QiA\", \"QnA\"]]"
   ]
  },
  {
   "cell_type": "code",
   "execution_count": 27,
   "metadata": {},
   "outputs": [],
   "source": [
    "qa=indata.iloc[:,1::2]\n",
    "indata['qa'] = qa.iloc[:,:20].sum(axis = 1)"
   ]
  },
  {
   "cell_type": "code",
   "execution_count": 33,
   "metadata": {},
   "outputs": [
    {
     "output_type": "execute_result",
     "data": {
      "text/plain": [
       "education    1.000000\n",
       "agenum       0.444194\n",
       "Name: education, dtype: float64"
      ]
     },
     "metadata": {},
     "execution_count": 33
    }
   ],
   "source": [
    "indata.corr()['education'][indata.corr()['education']>0.4]"
   ]
  },
  {
   "cell_type": "code",
   "execution_count": 175,
   "metadata": {},
   "outputs": [
    {
     "output_type": "execute_result",
     "data": {
      "text/plain": [
       "QaE          0.006029\n",
       "QeE          0.005225\n",
       "QfE          0.005458\n",
       "QiE          0.001949\n",
       "QlE          0.002091\n",
       "QnE          0.006224\n",
       "QoE          0.003523\n",
       "QrE          0.003099\n",
       "QsE          0.005373\n",
       "education    1.000000\n",
       "engnat       0.140881\n",
       "married      0.260888\n",
       "tp02         0.106205\n",
       "tp04         0.072525\n",
       "tp06         0.053688\n",
       "tp08         0.151071\n",
       "tp10         0.030206\n",
       "wf_03        0.014124\n",
       "wr_01        0.115594\n",
       "wr_02        0.015937\n",
       "wr_03        0.229388\n",
       "wr_04        0.049212\n",
       "wr_05        0.076917\n",
       "wr_06        0.198968\n",
       "wr_08        0.006034\n",
       "wr_09        0.155082\n",
       "wr_10        0.026861\n",
       "wr_11        0.139968\n",
       "wr_12        0.050607\n",
       "wr_13        0.033522\n",
       "wrsum        0.252721\n",
       "wrsums       0.164140\n",
       "+70s         0.035735\n",
       "20s          0.214452\n",
       "30s          0.213664\n",
       "40s          0.167680\n",
       "50s          0.115171\n",
       "60s          0.080498\n",
       "agenum       0.444194\n",
       "QaE          0.088958\n",
       "QbE          0.035864\n",
       "QcE          0.071197\n",
       "QdE          0.064645\n",
       "QeE          0.058167\n",
       "QfE          0.097537\n",
       "QgE          0.062549\n",
       "QhE          0.026888\n",
       "QiE          0.028179\n",
       "QjE          0.050570\n",
       "QkE          0.039826\n",
       "QlE          0.057123\n",
       "QmE          0.074403\n",
       "QnE          0.066192\n",
       "QoE          0.071831\n",
       "QpE          0.050716\n",
       "QqE          0.057003\n",
       "QrE          0.060087\n",
       "QsE          0.078224\n",
       "QtE          0.058762\n",
       "Name: education, dtype: float64"
      ]
     },
     "metadata": {},
     "execution_count": 175
    }
   ],
   "source": [
    "indata.corr()['education'][indata.corr()['education']>0]"
   ]
  },
  {
   "source": [
    "# 결과는 미미했다! 0.4 이하!"
   ],
   "cell_type": "markdown",
   "metadata": {}
  },
  {
   "cell_type": "code",
   "execution_count": 36,
   "metadata": {},
   "outputs": [],
   "source": [
    "indata.drop(columns ='index' ,inplace = True)"
   ]
  },
  {
   "cell_type": "code",
   "execution_count": 46,
   "metadata": {},
   "outputs": [],
   "source": [
    "indata = pd.concat([indata,np.log1p(indata.iloc[:,1::2].iloc[:,:20])],axis = 1)"
   ]
  },
  {
   "cell_type": "code",
   "execution_count": 35,
   "metadata": {},
   "outputs": [],
   "source": [
    "from sklearn.ensemble import RandomForestClassifier\n",
    "from sklearn.model_selection import train_test_split\n",
    "from sklearn.model_selection import GridSearchCV\n",
    "from sklearn.ensemble import VotingClassifier\n",
    "from sklearn.neighbors import KNeighborsClassifier"
   ]
  },
  {
   "cell_type": "code",
   "execution_count": 29,
   "metadata": {},
   "outputs": [
    {
     "output_type": "execute_result",
     "data": {
      "text/plain": "       10s   wrsum  agenum\n0        0   24924      30\n1        0   32341      20\n2        0   94260      30\n3        0   15507      20\n4        0  121453      20\n...    ...     ...     ...\n11378    0   48827      20\n11379    1  211917      10\n11380    0   93858      30\n11381    0   73132      40\n11382    0   74211      20\n\n[56261 rows x 3 columns]",
      "text/html": "<div>\n<style scoped>\n    .dataframe tbody tr th:only-of-type {\n        vertical-align: middle;\n    }\n\n    .dataframe tbody tr th {\n        vertical-align: top;\n    }\n\n    .dataframe thead th {\n        text-align: right;\n    }\n</style>\n<table border=\"1\" class=\"dataframe\">\n  <thead>\n    <tr style=\"text-align: right;\">\n      <th></th>\n      <th>10s</th>\n      <th>wrsum</th>\n      <th>agenum</th>\n    </tr>\n  </thead>\n  <tbody>\n    <tr>\n      <th>0</th>\n      <td>0</td>\n      <td>24924</td>\n      <td>30</td>\n    </tr>\n    <tr>\n      <th>1</th>\n      <td>0</td>\n      <td>32341</td>\n      <td>20</td>\n    </tr>\n    <tr>\n      <th>2</th>\n      <td>0</td>\n      <td>94260</td>\n      <td>30</td>\n    </tr>\n    <tr>\n      <th>3</th>\n      <td>0</td>\n      <td>15507</td>\n      <td>20</td>\n    </tr>\n    <tr>\n      <th>4</th>\n      <td>0</td>\n      <td>121453</td>\n      <td>20</td>\n    </tr>\n    <tr>\n      <th>...</th>\n      <td>...</td>\n      <td>...</td>\n      <td>...</td>\n    </tr>\n    <tr>\n      <th>11378</th>\n      <td>0</td>\n      <td>48827</td>\n      <td>20</td>\n    </tr>\n    <tr>\n      <th>11379</th>\n      <td>1</td>\n      <td>211917</td>\n      <td>10</td>\n    </tr>\n    <tr>\n      <th>11380</th>\n      <td>0</td>\n      <td>93858</td>\n      <td>30</td>\n    </tr>\n    <tr>\n      <th>11381</th>\n      <td>0</td>\n      <td>73132</td>\n      <td>40</td>\n    </tr>\n    <tr>\n      <th>11382</th>\n      <td>0</td>\n      <td>74211</td>\n      <td>20</td>\n    </tr>\n  </tbody>\n</table>\n<p>56261 rows × 3 columns</p>\n</div>"
     },
     "metadata": {},
     "execution_count": 29
    }
   ],
   "source": [
    "x = indata[['10s','wrsum','agenum']]\n",
    "x"
   ]
  },
  {
   "cell_type": "code",
   "execution_count": 30,
   "metadata": {},
   "outputs": [
    {
     "output_type": "execute_result",
     "data": {
      "text/plain": "0        2\n1        4\n2        3\n3        4\n4        3\n        ..\n11378    3\n11379    2\n11380    4\n11381    2\n11382    4\nName: education, Length: 56261, dtype: int64"
     },
     "metadata": {},
     "execution_count": 30
    }
   ],
   "source": [
    "y = indata['education']\n",
    "y"
   ]
  },
  {
   "cell_type": "code",
   "execution_count": 73,
   "metadata": {},
   "outputs": [],
   "source": [
    "xtrain,xtest,ytrain,ytest = train_test_split(x,y,test_size=0.3, random_state=11)"
   ]
  },
  {
   "cell_type": "code",
   "execution_count": 74,
   "metadata": {},
   "outputs": [],
   "source": [
    "rf = RandomForestClassifier(n_estimators=1000) #,min_samples_leaf=4,max_depth=7,criterion='entropy'\n",
    "# rf.fit(xtrain,ytrain)\n",
    "# ypred = rf.predict(xtest)"
   ]
  },
  {
   "cell_type": "code",
   "execution_count": 75,
   "metadata": {
    "tags": []
   },
   "outputs": [
    {
     "output_type": "stream",
     "name": "stdout",
     "text": "{'max_depth': 5, 'min_samples_split': 4}\n"
    }
   ],
   "source": [
    "param_range1 = list(range(3,6))\n",
    "param_range2 = list(range(1,5))\n",
    "\n",
    "param_grid = [{'max_depth':param_range1,'min_samples_split':param_range2}] \n",
    "gs1 =  GridSearchCV(rf,param_grid= param_grid,cv= 10,n_jobs= -1)\n",
    "gs1.fit(xtrain,ytrain)\n",
    "print(gs1.best_params_)"
   ]
  },
  {
   "cell_type": "code",
   "execution_count": 76,
   "metadata": {},
   "outputs": [],
   "source": [
    "knn = KNeighborsClassifier(n_jobs = -1,metric = 'minkowski')"
   ]
  },
  {
   "cell_type": "code",
   "execution_count": 64,
   "metadata": {
    "tags": []
   },
   "outputs": [
    {
     "output_type": "stream",
     "name": "stdout",
     "text": "{'n_neighbors': 9, 'p': 1}\n"
    }
   ],
   "source": [
    "param_range1 = list(range(1,11)) \n",
    "param_range2 = list(range(1,5))\n",
    "\n",
    "param_grid = [{'n_neighbors':param_range1,'p':param_range2}] \n",
    "\n",
    "gs2 =  GridSearchCV(knn,param_grid= param_grid,cv= 10,n_jobs= -1)\n",
    "gs2.fit(xtrain,ytrain)\n",
    "print(gs2.best_params_)"
   ]
  },
  {
   "cell_type": "code",
   "execution_count": 65,
   "metadata": {},
   "outputs": [],
   "source": [
    "from sklearn.ensemble import VotingClassifier"
   ]
  },
  {
   "cell_type": "code",
   "execution_count": 89,
   "metadata": {},
   "outputs": [],
   "source": [
    "rfs = RandomForestClassifier(n_estimators=1000, max_depth =  5,min_samples_split = 3,random_state = 11)\n",
    "knns =KNeighborsClassifier(n_neighbors = 9, p = 1, n_jobs = -1,metric = 'minkowski')\n",
    "voting_estimator = [('rfs',rfs),('knns',knns)]\n",
    "voting = VotingClassifier(estimators=voting_estimator,n_jobs=-1)\n",
    "y_pred = voting.fit(xtrain,ytrain).predict(xtest)"
   ]
  },
  {
   "cell_type": "code",
   "execution_count": 90,
   "metadata": {},
   "outputs": [
    {
     "output_type": "execute_result",
     "data": {
      "text/plain": "8165"
     },
     "metadata": {},
     "execution_count": 90
    }
   ],
   "source": [
    "(y_pred == ytest).sum()"
   ]
  },
  {
   "cell_type": "code",
   "execution_count": 91,
   "metadata": {},
   "outputs": [
    {
     "output_type": "execute_result",
     "data": {
      "text/plain": "0.4837371882220511"
     },
     "metadata": {},
     "execution_count": 91
    }
   ],
   "source": [
    "(y_pred == ytest).sum()/y_pred.shape[0]"
   ]
  },
  {
   "source": [
    "# 정확도가 50%!!! 부정확하다!!"
   ],
   "cell_type": "markdown",
   "metadata": {}
  },
  {
   "source": [
    "# education과 상관계수가 높은 데이터 컬럼 몇개 뽑아서 랜덤으로 넣자!\n",
    "# 랜덤 확률은 컬럼에서 데이터 개수가 많은 게 확률이 높게 지정한다! \n",
    "# 연령 0.444194 결혼 유무 0.260888 모국어 여부 0.140881"
   ],
   "cell_type": "markdown",
   "metadata": {}
  },
  {
   "cell_type": "code",
   "execution_count": 51,
   "metadata": {},
   "outputs": [
    {
     "output_type": "execute_result",
     "data": {
      "text/plain": [
       "((45532, 77), (11383, 77))"
      ]
     },
     "metadata": {},
     "execution_count": 51
    }
   ],
   "source": [
    "train.shape,test.shape"
   ]
  },
  {
   "cell_type": "code",
   "execution_count": 52,
   "metadata": {},
   "outputs": [],
   "source": [
    "raw_data = pd.concat([train,test])"
   ]
  },
  {
   "cell_type": "code",
   "execution_count": 53,
   "metadata": {},
   "outputs": [
    {
     "output_type": "execute_result",
     "data": {
      "text/plain": [
       "(56915, 77)"
      ]
     },
     "metadata": {},
     "execution_count": 53
    }
   ],
   "source": [
    "raw_data.shape"
   ]
  },
  {
   "source": [],
   "cell_type": "code",
   "metadata": {},
   "execution_count": null,
   "outputs": []
  },
  {
   "cell_type": "code",
   "execution_count": 55,
   "metadata": {},
   "outputs": [],
   "source": [
    "educationdata = raw_data['education'].copy()"
   ]
  },
  {
   "cell_type": "code",
   "execution_count": 58,
   "metadata": {},
   "outputs": [
    {
     "output_type": "execute_result",
     "data": {
      "text/plain": [
       "650"
      ]
     },
     "metadata": {},
     "execution_count": 58
    }
   ],
   "source": [
    "(educationdata == 0).sum()"
   ]
  },
  {
   "cell_type": "code",
   "execution_count": 59,
   "metadata": {},
   "outputs": [
    {
     "output_type": "execute_result",
     "data": {
      "text/plain": [
       "Index(['index', 'QaA', 'QaE', 'QbA', 'QbE', 'QcA', 'QcE', 'QdA', 'QdE', 'QeA',\n",
       "       'QeE', 'QfA', 'QfE', 'QgA', 'QgE', 'QhA', 'QhE', 'QiA', 'QiE', 'QjA',\n",
       "       'QjE', 'QkA', 'QkE', 'QlA', 'QlE', 'QmA', 'QmE', 'QnA', 'QnE', 'QoA',\n",
       "       'QoE', 'QpA', 'QpE', 'QqA', 'QqE', 'QrA', 'QrE', 'QsA', 'QsE', 'QtA',\n",
       "       'QtE', 'age_group', 'education', 'engnat', 'familysize', 'gender',\n",
       "       'hand', 'married', 'race', 'religion', 'tp01', 'tp02', 'tp03', 'tp04',\n",
       "       'tp05', 'tp06', 'tp07', 'tp08', 'tp09', 'tp10', 'urban', 'wf_01',\n",
       "       'wf_02', 'wf_03', 'wr_01', 'wr_02', 'wr_03', 'wr_04', 'wr_05', 'wr_06',\n",
       "       'wr_07', 'wr_08', 'wr_09', 'wr_10', 'wr_11', 'wr_12', 'wr_13'],\n",
       "      dtype='object')"
      ]
     },
     "metadata": {},
     "execution_count": 59
    }
   ],
   "source": [
    "raw_data.columns"
   ]
  },
  {
   "cell_type": "code",
   "execution_count": 78,
   "metadata": {},
   "outputs": [],
   "source": [
    "# 연령대 -> 영어 -> 결혼 \n",
    "zerodata = raw_data[raw_data['education']==0].copy()\n",
    "nonzerodata = raw_data[raw_data['education'] != 0].copy()"
   ]
  },
  {
   "cell_type": "code",
   "execution_count": 121,
   "metadata": {},
   "outputs": [
    {
     "output_type": "execute_result",
     "data": {
      "text/plain": [
       "age_group  engnat  married  education\n",
       "+70s       0       2        3            1\n",
       "           1       0        4            1\n",
       "                   1        1            2\n",
       "                            2            5\n",
       "                            3            4\n",
       "dtype: int64"
      ]
     },
     "metadata": {},
     "execution_count": 121
    }
   ],
   "source": [
    "groupnon = nonzerodata.groupby(['age_group','engnat','married','education']).size()\n",
    "groupnon.head()"
   ]
  },
  {
   "cell_type": "code",
   "execution_count": 129,
   "metadata": {},
   "outputs": [
    {
     "output_type": "execute_result",
     "data": {
      "text/plain": [
       "age_group  engnat  married\n",
       "+70s       0       2            1\n",
       "           1       0            1\n",
       "                   1           16\n",
       "                   2          163\n",
       "                   3           98\n",
       "                             ... \n",
       "60s        1       3          414\n",
       "           2       0            1\n",
       "                   1           12\n",
       "                   2           73\n",
       "                   3           25\n",
       "Length: 71, dtype: int64"
      ]
     },
     "metadata": {},
     "execution_count": 129
    }
   ],
   "source": [
    "groupall = nonzerodata.groupby(['age_group','engnat','married']).size()\n",
    "groupall"
   ]
  },
  {
   "cell_type": "code",
   "execution_count": 139,
   "metadata": {},
   "outputs": [
    {
     "output_type": "execute_result",
     "data": {
      "text/plain": [
       "age_group  engnat  married  education\n",
       "+70s       0       2        3            1.000000\n",
       "           1       0        4            1.000000\n",
       "                   1        1            0.125000\n",
       "                            2            0.312500\n",
       "                            3            0.250000\n",
       "                                           ...   \n",
       "60s        2       2        3            0.369863\n",
       "                            4            0.342466\n",
       "                   3        2            0.240000\n",
       "                            3            0.200000\n",
       "                            4            0.560000\n",
       "Length: 228, dtype: float64"
      ]
     },
     "metadata": {},
     "execution_count": 139
    }
   ],
   "source": [
    "groupper = groupnon / groupall\n",
    "groupper # '+70s'"
   ]
  },
  {
   "cell_type": "code",
   "execution_count": 131,
   "metadata": {},
   "outputs": [
    {
     "output_type": "execute_result",
     "data": {
      "text/plain": [
       "MultiIndex([('+70s', 0, 2, 3),\n",
       "            ('+70s', 1, 0, 4),\n",
       "            ('+70s', 1, 1, 1),\n",
       "            ('+70s', 1, 1, 2),\n",
       "            ('+70s', 1, 1, 3),\n",
       "            ('+70s', 1, 1, 4),\n",
       "            ('+70s', 1, 2, 1),\n",
       "            ('+70s', 1, 2, 2),\n",
       "            ('+70s', 1, 2, 3),\n",
       "            ('+70s', 1, 2, 4),\n",
       "            ...\n",
       "            ( '60s', 2, 1, 2),\n",
       "            ( '60s', 2, 1, 3),\n",
       "            ( '60s', 2, 1, 4),\n",
       "            ( '60s', 2, 2, 1),\n",
       "            ( '60s', 2, 2, 2),\n",
       "            ( '60s', 2, 2, 3),\n",
       "            ( '60s', 2, 2, 4),\n",
       "            ( '60s', 2, 3, 2),\n",
       "            ( '60s', 2, 3, 3),\n",
       "            ( '60s', 2, 3, 4)],\n",
       "           names=['age_group', 'engnat', 'married', 'education'], length=228)"
      ]
     },
     "metadata": {},
     "execution_count": 131
    }
   ],
   "source": [
    "groupper.index"
   ]
  },
  {
   "cell_type": "code",
   "execution_count": 160,
   "metadata": {
    "tags": []
   },
   "outputs": [],
   "source": [
    "num = len(zerodata)\n",
    "na = []\n",
    "for i in range(num):\n",
    "    ll = list(zerodata[['age_group','engnat','married']].values[i])\n",
    "    \n",
    "    try:\n",
    "        per = list(groupper[ll[0],ll[1],ll[2]].values)\n",
    "        number = list(groupper[ll[0],ll[1],ll[2]].index)\n",
    "    except Exception as e:\n",
    "        print(i, e)\n",
    "        per = [0.25,0.25,0.25,0.25]\n",
    "        number = [1,2,3,4]\n",
    "    na.append(np.random.choice(number,p=per))\n",
    "    \n",
    "zerodata['education'][zerodata['education'] == 0] = na\n",
    "#zerodata[['age_group','engnat','married']].values"
   ]
  },
  {
   "cell_type": "code",
   "execution_count": 162,
   "metadata": {},
   "outputs": [
    {
     "output_type": "execute_result",
     "data": {
      "text/plain": [
       "3    235\n",
       "2    223\n",
       "4    131\n",
       "1     61\n",
       "Name: education, dtype: int64"
      ]
     },
     "metadata": {},
     "execution_count": 162
    }
   ],
   "source": [
    "zerodata['education'].value_counts()"
   ]
  },
  {
   "cell_type": "code",
   "execution_count": 165,
   "metadata": {},
   "outputs": [
    {
     "output_type": "execute_result",
     "data": {
      "text/plain": [
       "     index  QaA  QaE  QbA   QbE  QcA   QcE  QdA   QdE  QeA  ...  wr_04  wr_05  \\\n",
       "113    113  3.0  749  3.0   539  4.0   487  2.0   937  3.0  ...      1      1   \n",
       "262    262  1.0  402  4.0  1117  4.0   676  1.0  1056  1.0  ...      1      1   \n",
       "439    439  3.0  395  4.0  1700  1.0   664  2.0   562  3.0  ...      1      0   \n",
       "537    537  1.0  456  5.0  1515  4.0  1312  2.0  3694  5.0  ...      1      1   \n",
       "715    715  1.0  275  5.0  1307  4.0   861  1.0   615  5.0  ...      1      1   \n",
       "\n",
       "     wr_06  wr_07  wr_08  wr_09  wr_10  wr_11  wr_12  wr_13  \n",
       "113      0      1      1      0      1      0      1      1  \n",
       "262      0      1      1      0      1      0      1      1  \n",
       "439      0      1      1      0      1      0      1      1  \n",
       "537      0      1      1      0      1      1      1      1  \n",
       "715      1      1      1      0      1      0      1      1  \n",
       "\n",
       "[5 rows x 77 columns]"
      ],
      "text/html": "<div>\n<style scoped>\n    .dataframe tbody tr th:only-of-type {\n        vertical-align: middle;\n    }\n\n    .dataframe tbody tr th {\n        vertical-align: top;\n    }\n\n    .dataframe thead th {\n        text-align: right;\n    }\n</style>\n<table border=\"1\" class=\"dataframe\">\n  <thead>\n    <tr style=\"text-align: right;\">\n      <th></th>\n      <th>index</th>\n      <th>QaA</th>\n      <th>QaE</th>\n      <th>QbA</th>\n      <th>QbE</th>\n      <th>QcA</th>\n      <th>QcE</th>\n      <th>QdA</th>\n      <th>QdE</th>\n      <th>QeA</th>\n      <th>...</th>\n      <th>wr_04</th>\n      <th>wr_05</th>\n      <th>wr_06</th>\n      <th>wr_07</th>\n      <th>wr_08</th>\n      <th>wr_09</th>\n      <th>wr_10</th>\n      <th>wr_11</th>\n      <th>wr_12</th>\n      <th>wr_13</th>\n    </tr>\n  </thead>\n  <tbody>\n    <tr>\n      <th>113</th>\n      <td>113</td>\n      <td>3.0</td>\n      <td>749</td>\n      <td>3.0</td>\n      <td>539</td>\n      <td>4.0</td>\n      <td>487</td>\n      <td>2.0</td>\n      <td>937</td>\n      <td>3.0</td>\n      <td>...</td>\n      <td>1</td>\n      <td>1</td>\n      <td>0</td>\n      <td>1</td>\n      <td>1</td>\n      <td>0</td>\n      <td>1</td>\n      <td>0</td>\n      <td>1</td>\n      <td>1</td>\n    </tr>\n    <tr>\n      <th>262</th>\n      <td>262</td>\n      <td>1.0</td>\n      <td>402</td>\n      <td>4.0</td>\n      <td>1117</td>\n      <td>4.0</td>\n      <td>676</td>\n      <td>1.0</td>\n      <td>1056</td>\n      <td>1.0</td>\n      <td>...</td>\n      <td>1</td>\n      <td>1</td>\n      <td>0</td>\n      <td>1</td>\n      <td>1</td>\n      <td>0</td>\n      <td>1</td>\n      <td>0</td>\n      <td>1</td>\n      <td>1</td>\n    </tr>\n    <tr>\n      <th>439</th>\n      <td>439</td>\n      <td>3.0</td>\n      <td>395</td>\n      <td>4.0</td>\n      <td>1700</td>\n      <td>1.0</td>\n      <td>664</td>\n      <td>2.0</td>\n      <td>562</td>\n      <td>3.0</td>\n      <td>...</td>\n      <td>1</td>\n      <td>0</td>\n      <td>0</td>\n      <td>1</td>\n      <td>1</td>\n      <td>0</td>\n      <td>1</td>\n      <td>0</td>\n      <td>1</td>\n      <td>1</td>\n    </tr>\n    <tr>\n      <th>537</th>\n      <td>537</td>\n      <td>1.0</td>\n      <td>456</td>\n      <td>5.0</td>\n      <td>1515</td>\n      <td>4.0</td>\n      <td>1312</td>\n      <td>2.0</td>\n      <td>3694</td>\n      <td>5.0</td>\n      <td>...</td>\n      <td>1</td>\n      <td>1</td>\n      <td>0</td>\n      <td>1</td>\n      <td>1</td>\n      <td>0</td>\n      <td>1</td>\n      <td>1</td>\n      <td>1</td>\n      <td>1</td>\n    </tr>\n    <tr>\n      <th>715</th>\n      <td>715</td>\n      <td>1.0</td>\n      <td>275</td>\n      <td>5.0</td>\n      <td>1307</td>\n      <td>4.0</td>\n      <td>861</td>\n      <td>1.0</td>\n      <td>615</td>\n      <td>5.0</td>\n      <td>...</td>\n      <td>1</td>\n      <td>1</td>\n      <td>1</td>\n      <td>1</td>\n      <td>1</td>\n      <td>0</td>\n      <td>1</td>\n      <td>0</td>\n      <td>1</td>\n      <td>1</td>\n    </tr>\n  </tbody>\n</table>\n<p>5 rows × 77 columns</p>\n</div>"
     },
     "metadata": {},
     "execution_count": 165
    }
   ],
   "source": [
    "datas = pd.concat([zerodata,nonzerodata])\n",
    "datas.head()"
   ]
  },
  {
   "cell_type": "code",
   "execution_count": 167,
   "metadata": {},
   "outputs": [
    {
     "output_type": "execute_result",
     "data": {
      "text/plain": [
       "2    21294\n",
       "3    19260\n",
       "4     9948\n",
       "1     6413\n",
       "Name: education, dtype: int64"
      ]
     },
     "metadata": {},
     "execution_count": 167
    }
   ],
   "source": [
    "datas['education'].value_counts()"
   ]
  },
  {
   "cell_type": "code",
   "execution_count": null,
   "metadata": {},
   "outputs": [],
   "source": []
  }
 ]
}