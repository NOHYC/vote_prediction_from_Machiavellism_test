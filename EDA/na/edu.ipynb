{
 "metadata": {
  "language_info": {
   "codemirror_mode": {
    "name": "ipython",
    "version": 3
   },
   "file_extension": ".py",
   "mimetype": "text/x-python",
   "name": "python",
   "nbconvert_exporter": "python",
   "pygments_lexer": "ipython3",
   "version": "3.8.5-final"
  },
  "orig_nbformat": 2,
  "kernelspec": {
   "name": "Python 3.8.5 32-bit",
   "display_name": "Python 3.8.5 32-bit",
   "metadata": {
    "interpreter": {
     "hash": "dfe38cf5d4c6d2796b85a89a1485c67b699849fb9e33780f9bd5ec858f0dc3d3"
    }
   }
  }
 },
 "nbformat": 4,
 "nbformat_minor": 2,
 "cells": [
  {
   "cell_type": "code",
   "execution_count": 6,
   "metadata": {},
   "outputs": [],
   "source": [
    "import pandas as pd \n",
    "import numpy as np \n",
    "import matplotlib.pyplot as plt \n",
    "import seaborn as sns \n",
    "from scipy import stats \n",
    "sns.set()"
   ]
  },
  {
   "cell_type": "code",
   "execution_count": 7,
   "metadata": {},
   "outputs": [],
   "source": [
    "train = pd.read_csv('C:/Users/nyc15/Desktop/data/train.csv')\n",
    "test = pd.read_csv('C:/Users/nyc15/Desktop/data/test_x.csv')"
   ]
  },
  {
   "cell_type": "code",
   "execution_count": 8,
   "metadata": {},
   "outputs": [],
   "source": [
    "y = train.voted.copy()\n",
    "train = train.drop(columns = 'voted')\n",
    "raw_data = pd.concat([train,test])"
   ]
  },
  {
   "cell_type": "code",
   "execution_count": 9,
   "metadata": {},
   "outputs": [],
   "source": [
    "raw_data = raw_data.reset_index()\n",
    "raw_data.drop(columns = ['level_0','index'],inplace= True)\n",
    "raw_data= raw_data.reset_index()"
   ]
  },
  {
   "cell_type": "code",
   "execution_count": 10,
   "metadata": {},
   "outputs": [
    {
     "output_type": "execute_result",
     "data": {
      "text/plain": [
       "((56915, 77), (45532,))"
      ]
     },
     "metadata": {},
     "execution_count": 10
    }
   ],
   "source": [
    "raw_data.shape,y.shape"
   ]
  },
  {
   "cell_type": "code",
   "execution_count": 11,
   "metadata": {},
   "outputs": [],
   "source": [
    "raw_data = raw_data.drop(index= raw_data[raw_data.familysize >=100].index) # 가족 사이즈 3개 열 (2147483647 , 999 , 100) 제거 "
   ]
  },
  {
   "cell_type": "code",
   "execution_count": 12,
   "metadata": {},
   "outputs": [
    {
     "output_type": "execute_result",
     "data": {
      "text/plain": [
       "(56912, 77)"
      ]
     },
     "metadata": {},
     "execution_count": 12
    }
   ],
   "source": [
    "raw_data.shape"
   ]
  },
  {
   "cell_type": "code",
   "execution_count": 8,
   "metadata": {},
   "outputs": [
    {
     "output_type": "execute_result",
     "data": {
      "text/plain": [
       "Empty DataFrame\n",
       "Columns: [index, QaA, QaE, QbA, QbE, QcA, QcE, QdA, QdE, QeA, QeE, QfA, QfE, QgA, QgE, QhA, QhE, QiA, QiE, QjA, QjE, QkA, QkE, QlA, QlE, QmA, QmE, QnA, QnE, QoA, QoE, QpA, QpE, QqA, QqE, QrA, QrE, QsA, QsE, QtA, QtE, age_group, education, engnat, familysize, gender, hand, married, race, religion, tp01, tp02, tp03, tp04, tp05, tp06, tp07, tp08, tp09, tp10, urban, wf_01, wf_02, wf_03, wr_01, wr_02, wr_03, wr_04, wr_05, wr_06, wr_07, wr_08, wr_09, wr_10, wr_11, wr_12, wr_13]\n",
       "Index: []\n",
       "\n",
       "[0 rows x 77 columns]"
      ],
      "text/html": "<div>\n<style scoped>\n    .dataframe tbody tr th:only-of-type {\n        vertical-align: middle;\n    }\n\n    .dataframe tbody tr th {\n        vertical-align: top;\n    }\n\n    .dataframe thead th {\n        text-align: right;\n    }\n</style>\n<table border=\"1\" class=\"dataframe\">\n  <thead>\n    <tr style=\"text-align: right;\">\n      <th></th>\n      <th>index</th>\n      <th>QaA</th>\n      <th>QaE</th>\n      <th>QbA</th>\n      <th>QbE</th>\n      <th>QcA</th>\n      <th>QcE</th>\n      <th>QdA</th>\n      <th>QdE</th>\n      <th>QeA</th>\n      <th>...</th>\n      <th>wr_04</th>\n      <th>wr_05</th>\n      <th>wr_06</th>\n      <th>wr_07</th>\n      <th>wr_08</th>\n      <th>wr_09</th>\n      <th>wr_10</th>\n      <th>wr_11</th>\n      <th>wr_12</th>\n      <th>wr_13</th>\n    </tr>\n  </thead>\n  <tbody>\n  </tbody>\n</table>\n<p>0 rows × 77 columns</p>\n</div>"
     },
     "metadata": {},
     "execution_count": 8
    }
   ],
   "source": [
    "raw_data[raw_data.familysize >=100]"
   ]
  },
  {
   "cell_type": "code",
   "execution_count": 19,
   "metadata": {},
   "outputs": [
    {
     "output_type": "execute_result",
     "data": {
      "text/plain": [
       "Index(['index', 'QaA', 'QaE', 'QbA', 'QbE', 'QcA', 'QcE', 'QdA', 'QdE', 'QeA',\n",
       "       'QeE', 'QfA', 'QfE', 'QgA', 'QgE', 'QhA', 'QhE', 'QiA', 'QiE', 'QjA',\n",
       "       'QjE', 'QkA', 'QkE', 'QlA', 'QlE', 'QmA', 'QmE', 'QnA', 'QnE', 'QoA',\n",
       "       'QoE', 'QpA', 'QpE', 'QqA', 'QqE', 'QrA', 'QrE', 'QsA', 'QsE', 'QtA',\n",
       "       'QtE', 'age_group', 'education', 'engnat', 'familysize', 'gender',\n",
       "       'hand', 'married', 'race', 'religion', 'tp01', 'tp02', 'tp03', 'tp04',\n",
       "       'tp05', 'tp06', 'tp07', 'tp08', 'tp09', 'tp10', 'urban', 'wf_01',\n",
       "       'wf_02', 'wf_03', 'wr_01', 'wr_02', 'wr_03', 'wr_04', 'wr_05', 'wr_06',\n",
       "       'wr_07', 'wr_08', 'wr_09', 'wr_10', 'wr_11', 'wr_12', 'wr_13'],\n",
       "      dtype='object')"
      ]
     },
     "metadata": {},
     "execution_count": 19
    }
   ],
   "source": [
    "raw_data.columns"
   ]
  },
  {
   "cell_type": "code",
   "execution_count": 15,
   "metadata": {},
   "outputs": [
    {
     "output_type": "execute_result",
     "data": {
      "text/plain": [
       "Index(['10s', '20s', '30s', '40s', '50s', '60s', '+70s'], dtype='object')"
      ]
     },
     "metadata": {},
     "execution_count": 15
    }
   ],
   "source": [
    "raw_data.age_group.value_counts().index"
   ]
  },
  {
   "cell_type": "code",
   "execution_count": 20,
   "metadata": {},
   "outputs": [],
   "source": [
    "raw_data['agenum'] = raw_data['age_group'].map({'10s':10, '20s':20, '30s':30, '40s':40, '50s':50, '60s':60, '+70s':70})"
   ]
  },
  {
   "cell_type": "code",
   "execution_count": 54,
   "metadata": {},
   "outputs": [
    {
     "output_type": "execute_result",
     "data": {
      "text/plain": [
       "education    1.000000\n",
       "married      0.278788\n",
       "wr_03        0.220288\n",
       "agenum       0.507311\n",
       "Name: education, dtype: float64"
      ]
     },
     "metadata": {},
     "execution_count": 54
    }
   ],
   "source": [
    "raw_data.corr(method='spearman')[raw_data.corr(method='spearman')['education']>0.2]['education']"
   ]
  },
  {
   "source": [
    "## 1=Less than high school, 2=High school, 3=University degree, 4=Graduate degree, 0=무응답"
   ],
   "cell_type": "markdown",
   "metadata": {}
  },
  {
   "cell_type": "code",
   "execution_count": 10,
   "metadata": {},
   "outputs": [
    {
     "output_type": "execute_result",
     "data": {
      "text/plain": [
       "2    21068\n",
       "3    19025\n",
       "4     9817\n",
       "1     6352\n",
       "0      650\n",
       "Name: education, dtype: int64"
      ]
     },
     "metadata": {},
     "execution_count": 10
    }
   ],
   "source": [
    "raw_data.education.value_counts()"
   ]
  },
  {
   "source": [
    "ion']# education과 상관계수가 높은 데이터 컬럼 몇개 뽑아서 랜덤으로 넣자!\n",
    "# 랜덤 확률은 컬럼에서 데이터 개수가 많은 게 확률이 높게 지정한다! \n",
    "# 연령 0.507311 결혼 유무 0.278788 "
   ],
   "cell_type": "markdown",
   "metadata": {}
  },
  {
   "cell_type": "code",
   "execution_count": 11,
   "metadata": {},
   "outputs": [
    {
     "output_type": "execute_result",
     "data": {
      "text/plain": [
       "(56912, 77)"
      ]
     },
     "metadata": {},
     "execution_count": 11
    }
   ],
   "source": [
    "raw_data.shape"
   ]
  },
  {
   "source": [],
   "cell_type": "code",
   "metadata": {},
   "execution_count": null,
   "outputs": []
  },
  {
   "cell_type": "code",
   "execution_count": 12,
   "metadata": {},
   "outputs": [],
   "source": [
    "educationdata = raw_data['education'].copy()"
   ]
  },
  {
   "cell_type": "code",
   "execution_count": 13,
   "metadata": {},
   "outputs": [
    {
     "output_type": "execute_result",
     "data": {
      "text/plain": [
       "650"
      ]
     },
     "metadata": {},
     "execution_count": 13
    }
   ],
   "source": [
    "(educationdata == 0).sum()"
   ]
  },
  {
   "cell_type": "code",
   "execution_count": 14,
   "metadata": {},
   "outputs": [
    {
     "output_type": "execute_result",
     "data": {
      "text/plain": [
       "Index(['index', 'QaA', 'QaE', 'QbA', 'QbE', 'QcA', 'QcE', 'QdA', 'QdE', 'QeA',\n",
       "       'QeE', 'QfA', 'QfE', 'QgA', 'QgE', 'QhA', 'QhE', 'QiA', 'QiE', 'QjA',\n",
       "       'QjE', 'QkA', 'QkE', 'QlA', 'QlE', 'QmA', 'QmE', 'QnA', 'QnE', 'QoA',\n",
       "       'QoE', 'QpA', 'QpE', 'QqA', 'QqE', 'QrA', 'QrE', 'QsA', 'QsE', 'QtA',\n",
       "       'QtE', 'age_group', 'education', 'engnat', 'familysize', 'gender',\n",
       "       'hand', 'married', 'race', 'religion', 'tp01', 'tp02', 'tp03', 'tp04',\n",
       "       'tp05', 'tp06', 'tp07', 'tp08', 'tp09', 'tp10', 'urban', 'wf_01',\n",
       "       'wf_02', 'wf_03', 'wr_01', 'wr_02', 'wr_03', 'wr_04', 'wr_05', 'wr_06',\n",
       "       'wr_07', 'wr_08', 'wr_09', 'wr_10', 'wr_11', 'wr_12', 'wr_13'],\n",
       "      dtype='object')"
      ]
     },
     "metadata": {},
     "execution_count": 14
    }
   ],
   "source": [
    "raw_data.columns"
   ]
  },
  {
   "cell_type": "code",
   "execution_count": 15,
   "metadata": {},
   "outputs": [],
   "source": [
    "# 연령대 -> 영어 -> 결혼 \n",
    "zerodata = raw_data[raw_data['education']==0].copy()\n",
    "nonzerodata = raw_data[raw_data['education'] != 0].copy()"
   ]
  },
  {
   "cell_type": "code",
   "execution_count": 16,
   "metadata": {},
   "outputs": [
    {
     "output_type": "execute_result",
     "data": {
      "text/plain": [
       "age_group  married  education\n",
       "+70s       0        4            1\n",
       "           1        1            2\n",
       "                    2            6\n",
       "                    3            4\n",
       "                    4            6\n",
       "dtype: int64"
      ]
     },
     "metadata": {},
     "execution_count": 16
    }
   ],
   "source": [
    "groupnon = nonzerodata.groupby(['age_group','married','education']).size()\n",
    "groupnon.head()"
   ]
  },
  {
   "cell_type": "code",
   "execution_count": 17,
   "metadata": {},
   "outputs": [
    {
     "output_type": "execute_result",
     "data": {
      "text/plain": [
       "age_group  married\n",
       "+70s       0              1\n",
       "           1             18\n",
       "           2            177\n",
       "           3            103\n",
       "10s        0             52\n",
       "           1          17496\n",
       "           2             93\n",
       "           3             31\n",
       "20s        0             22\n",
       "           1          15245\n",
       "           2           1873\n",
       "           3            356\n",
       "30s        0             16\n",
       "           1           4361\n",
       "           2           4042\n",
       "           3           1203\n",
       "40s        0             19\n",
       "           1           1350\n",
       "           2           3366\n",
       "           3           1482\n",
       "50s        0              4\n",
       "           1            494\n",
       "           2           1908\n",
       "           3           1104\n",
       "60s        0              5\n",
       "           1            136\n",
       "           2            865\n",
       "           3            440\n",
       "dtype: int64"
      ]
     },
     "metadata": {},
     "execution_count": 17
    }
   ],
   "source": [
    "groupall = nonzerodata.groupby(['age_group','married']).size()\n",
    "groupall"
   ]
  },
  {
   "cell_type": "code",
   "execution_count": 18,
   "metadata": {},
   "outputs": [
    {
     "output_type": "execute_result",
     "data": {
      "text/plain": [
       "age_group  married  education\n",
       "+70s       0        4            1.000000\n",
       "           1        1            0.111111\n",
       "                    2            0.333333\n",
       "                    3            0.222222\n",
       "                    4            0.333333\n",
       "                                   ...   \n",
       "60s        2        4            0.337572\n",
       "           3        1            0.015909\n",
       "                    2            0.313636\n",
       "                    3            0.350000\n",
       "                    4            0.320455\n",
       "Length: 104, dtype: float64"
      ]
     },
     "metadata": {},
     "execution_count": 18
    }
   ],
   "source": [
    "groupper = groupnon / groupall\n",
    "groupper # '+70s'"
   ]
  },
  {
   "cell_type": "code",
   "execution_count": 19,
   "metadata": {},
   "outputs": [
    {
     "output_type": "execute_result",
     "data": {
      "text/plain": [
       "MultiIndex([('+70s', 0, 4),\n",
       "            ('+70s', 1, 1),\n",
       "            ('+70s', 1, 2),\n",
       "            ('+70s', 1, 3),\n",
       "            ('+70s', 1, 4),\n",
       "            ('+70s', 2, 1),\n",
       "            ('+70s', 2, 2),\n",
       "            ('+70s', 2, 3),\n",
       "            ('+70s', 2, 4),\n",
       "            ('+70s', 3, 1),\n",
       "            ...\n",
       "            ( '60s', 1, 3),\n",
       "            ( '60s', 1, 4),\n",
       "            ( '60s', 2, 1),\n",
       "            ( '60s', 2, 2),\n",
       "            ( '60s', 2, 3),\n",
       "            ( '60s', 2, 4),\n",
       "            ( '60s', 3, 1),\n",
       "            ( '60s', 3, 2),\n",
       "            ( '60s', 3, 3),\n",
       "            ( '60s', 3, 4)],\n",
       "           names=['age_group', 'married', 'education'], length=104)"
      ]
     },
     "metadata": {},
     "execution_count": 19
    }
   ],
   "source": [
    "groupper.index"
   ]
  },
  {
   "cell_type": "code",
   "execution_count": 20,
   "metadata": {
    "tags": []
   },
   "outputs": [],
   "source": [
    "num = len(zerodata)\n",
    "na = []\n",
    "for i in range(num):\n",
    "    ll = list(zerodata[['age_group','married']].values[i])\n",
    "    \n",
    "    try:\n",
    "        per = list(groupper[ll[0],ll[1]].values)\n",
    "        number = list(groupper[ll[0],ll[1]].index)\n",
    "    except Exception as e:\n",
    "        print(i, e)\n",
    "        per = [0.25,0.25,0.25,0.25]\n",
    "        number = [1,2,3,4]\n",
    "    na.append(np.random.choice(number,p=per))\n",
    "    \n",
    "zerodata['education'][zerodata['education'] == 0] = na\n",
    "#zerodata[['age_group','engnat','married']].values"
   ]
  },
  {
   "cell_type": "code",
   "execution_count": 21,
   "metadata": {},
   "outputs": [
    {
     "output_type": "execute_result",
     "data": {
      "text/plain": [
       "(3    246\n",
       " 2    237\n",
       " 4    121\n",
       " 1     46\n",
       " Name: education, dtype: int64,\n",
       " 650)"
      ]
     },
     "metadata": {},
     "execution_count": 21
    }
   ],
   "source": [
    "zerodata['education'].value_counts(),len(zerodata['education'])"
   ]
  },
  {
   "cell_type": "code",
   "execution_count": 22,
   "metadata": {},
   "outputs": [
    {
     "output_type": "execute_result",
     "data": {
      "text/plain": [
       "(56912, 77)"
      ]
     },
     "metadata": {},
     "execution_count": 22
    }
   ],
   "source": [
    "datas = pd.concat([zerodata,nonzerodata])\n",
    "datas.shape"
   ]
  },
  {
   "cell_type": "code",
   "execution_count": 23,
   "metadata": {},
   "outputs": [
    {
     "output_type": "execute_result",
     "data": {
      "text/plain": [
       "2    21305\n",
       "3    19271\n",
       "4     9938\n",
       "1     6398\n",
       "Name: education, dtype: int64"
      ]
     },
     "metadata": {},
     "execution_count": 23
    }
   ],
   "source": [
    "datas['education'].value_counts()"
   ]
  },
  {
   "cell_type": "code",
   "execution_count": 24,
   "metadata": {},
   "outputs": [
    {
     "output_type": "execute_result",
     "data": {
      "text/plain": [
       "       index  QaA  QaE  QbA   QbE  QcA   QcE  QdA   QdE  QeA  ...  wr_04  \\\n",
       "113      113  3.0  749  3.0   539  4.0   487  2.0   937  3.0  ...      1   \n",
       "262      262  1.0  402  4.0  1117  4.0   676  1.0  1056  1.0  ...      1   \n",
       "439      439  3.0  395  4.0  1700  1.0   664  2.0   562  3.0  ...      1   \n",
       "537      537  1.0  456  5.0  1515  4.0  1312  2.0  3694  5.0  ...      1   \n",
       "715      715  1.0  275  5.0  1307  4.0   861  1.0   615  5.0  ...      1   \n",
       "...      ...  ...  ...  ...   ...  ...   ...  ...   ...  ...  ...    ...   \n",
       "56910  56910  5.0  427  5.0  1066  5.0   588  1.0   560  2.0  ...      1   \n",
       "56911  56911  1.0  314  5.0   554  5.0   230  1.0   956  2.0  ...      1   \n",
       "56912  56912  1.0  627  2.0   799  1.0   739  2.0  1123  1.0  ...      1   \n",
       "56913  56913  2.0  539  1.0  2090  2.0  4642  1.0   673  2.0  ...      1   \n",
       "56914  56914  2.0  541  4.0   900  5.0   691  2.0  1951  1.0  ...      0   \n",
       "\n",
       "       wr_05  wr_06  wr_07  wr_08  wr_09  wr_10  wr_11  wr_12  wr_13  \n",
       "113        1      0      1      1      0      1      0      1      1  \n",
       "262        1      0      1      1      0      1      0      1      1  \n",
       "439        0      0      1      1      0      1      0      1      1  \n",
       "537        1      0      1      1      0      1      1      1      1  \n",
       "715        1      1      1      1      0      1      0      1      1  \n",
       "...      ...    ...    ...    ...    ...    ...    ...    ...    ...  \n",
       "56910      1      0      1      1      0      1      0      1      1  \n",
       "56911      1      1      1      1      1      1      1      1      1  \n",
       "56912      1      0      1      1      0      1      0      1      1  \n",
       "56913      0      0      1      1      0      1      1      1      0  \n",
       "56914      0      1      0      1      0      0      1      0      0  \n",
       "\n",
       "[56912 rows x 77 columns]"
      ],
      "text/html": "<div>\n<style scoped>\n    .dataframe tbody tr th:only-of-type {\n        vertical-align: middle;\n    }\n\n    .dataframe tbody tr th {\n        vertical-align: top;\n    }\n\n    .dataframe thead th {\n        text-align: right;\n    }\n</style>\n<table border=\"1\" class=\"dataframe\">\n  <thead>\n    <tr style=\"text-align: right;\">\n      <th></th>\n      <th>index</th>\n      <th>QaA</th>\n      <th>QaE</th>\n      <th>QbA</th>\n      <th>QbE</th>\n      <th>QcA</th>\n      <th>QcE</th>\n      <th>QdA</th>\n      <th>QdE</th>\n      <th>QeA</th>\n      <th>...</th>\n      <th>wr_04</th>\n      <th>wr_05</th>\n      <th>wr_06</th>\n      <th>wr_07</th>\n      <th>wr_08</th>\n      <th>wr_09</th>\n      <th>wr_10</th>\n      <th>wr_11</th>\n      <th>wr_12</th>\n      <th>wr_13</th>\n    </tr>\n  </thead>\n  <tbody>\n    <tr>\n      <th>113</th>\n      <td>113</td>\n      <td>3.0</td>\n      <td>749</td>\n      <td>3.0</td>\n      <td>539</td>\n      <td>4.0</td>\n      <td>487</td>\n      <td>2.0</td>\n      <td>937</td>\n      <td>3.0</td>\n      <td>...</td>\n      <td>1</td>\n      <td>1</td>\n      <td>0</td>\n      <td>1</td>\n      <td>1</td>\n      <td>0</td>\n      <td>1</td>\n      <td>0</td>\n      <td>1</td>\n      <td>1</td>\n    </tr>\n    <tr>\n      <th>262</th>\n      <td>262</td>\n      <td>1.0</td>\n      <td>402</td>\n      <td>4.0</td>\n      <td>1117</td>\n      <td>4.0</td>\n      <td>676</td>\n      <td>1.0</td>\n      <td>1056</td>\n      <td>1.0</td>\n      <td>...</td>\n      <td>1</td>\n      <td>1</td>\n      <td>0</td>\n      <td>1</td>\n      <td>1</td>\n      <td>0</td>\n      <td>1</td>\n      <td>0</td>\n      <td>1</td>\n      <td>1</td>\n    </tr>\n    <tr>\n      <th>439</th>\n      <td>439</td>\n      <td>3.0</td>\n      <td>395</td>\n      <td>4.0</td>\n      <td>1700</td>\n      <td>1.0</td>\n      <td>664</td>\n      <td>2.0</td>\n      <td>562</td>\n      <td>3.0</td>\n      <td>...</td>\n      <td>1</td>\n      <td>0</td>\n      <td>0</td>\n      <td>1</td>\n      <td>1</td>\n      <td>0</td>\n      <td>1</td>\n      <td>0</td>\n      <td>1</td>\n      <td>1</td>\n    </tr>\n    <tr>\n      <th>537</th>\n      <td>537</td>\n      <td>1.0</td>\n      <td>456</td>\n      <td>5.0</td>\n      <td>1515</td>\n      <td>4.0</td>\n      <td>1312</td>\n      <td>2.0</td>\n      <td>3694</td>\n      <td>5.0</td>\n      <td>...</td>\n      <td>1</td>\n      <td>1</td>\n      <td>0</td>\n      <td>1</td>\n      <td>1</td>\n      <td>0</td>\n      <td>1</td>\n      <td>1</td>\n      <td>1</td>\n      <td>1</td>\n    </tr>\n    <tr>\n      <th>715</th>\n      <td>715</td>\n      <td>1.0</td>\n      <td>275</td>\n      <td>5.0</td>\n      <td>1307</td>\n      <td>4.0</td>\n      <td>861</td>\n      <td>1.0</td>\n      <td>615</td>\n      <td>5.0</td>\n      <td>...</td>\n      <td>1</td>\n      <td>1</td>\n      <td>1</td>\n      <td>1</td>\n      <td>1</td>\n      <td>0</td>\n      <td>1</td>\n      <td>0</td>\n      <td>1</td>\n      <td>1</td>\n    </tr>\n    <tr>\n      <th>...</th>\n      <td>...</td>\n      <td>...</td>\n      <td>...</td>\n      <td>...</td>\n      <td>...</td>\n      <td>...</td>\n      <td>...</td>\n      <td>...</td>\n      <td>...</td>\n      <td>...</td>\n      <td>...</td>\n      <td>...</td>\n      <td>...</td>\n      <td>...</td>\n      <td>...</td>\n      <td>...</td>\n      <td>...</td>\n      <td>...</td>\n      <td>...</td>\n      <td>...</td>\n      <td>...</td>\n    </tr>\n    <tr>\n      <th>56910</th>\n      <td>56910</td>\n      <td>5.0</td>\n      <td>427</td>\n      <td>5.0</td>\n      <td>1066</td>\n      <td>5.0</td>\n      <td>588</td>\n      <td>1.0</td>\n      <td>560</td>\n      <td>2.0</td>\n      <td>...</td>\n      <td>1</td>\n      <td>1</td>\n      <td>0</td>\n      <td>1</td>\n      <td>1</td>\n      <td>0</td>\n      <td>1</td>\n      <td>0</td>\n      <td>1</td>\n      <td>1</td>\n    </tr>\n    <tr>\n      <th>56911</th>\n      <td>56911</td>\n      <td>1.0</td>\n      <td>314</td>\n      <td>5.0</td>\n      <td>554</td>\n      <td>5.0</td>\n      <td>230</td>\n      <td>1.0</td>\n      <td>956</td>\n      <td>2.0</td>\n      <td>...</td>\n      <td>1</td>\n      <td>1</td>\n      <td>1</td>\n      <td>1</td>\n      <td>1</td>\n      <td>1</td>\n      <td>1</td>\n      <td>1</td>\n      <td>1</td>\n      <td>1</td>\n    </tr>\n    <tr>\n      <th>56912</th>\n      <td>56912</td>\n      <td>1.0</td>\n      <td>627</td>\n      <td>2.0</td>\n      <td>799</td>\n      <td>1.0</td>\n      <td>739</td>\n      <td>2.0</td>\n      <td>1123</td>\n      <td>1.0</td>\n      <td>...</td>\n      <td>1</td>\n      <td>1</td>\n      <td>0</td>\n      <td>1</td>\n      <td>1</td>\n      <td>0</td>\n      <td>1</td>\n      <td>0</td>\n      <td>1</td>\n      <td>1</td>\n    </tr>\n    <tr>\n      <th>56913</th>\n      <td>56913</td>\n      <td>2.0</td>\n      <td>539</td>\n      <td>1.0</td>\n      <td>2090</td>\n      <td>2.0</td>\n      <td>4642</td>\n      <td>1.0</td>\n      <td>673</td>\n      <td>2.0</td>\n      <td>...</td>\n      <td>1</td>\n      <td>0</td>\n      <td>0</td>\n      <td>1</td>\n      <td>1</td>\n      <td>0</td>\n      <td>1</td>\n      <td>1</td>\n      <td>1</td>\n      <td>0</td>\n    </tr>\n    <tr>\n      <th>56914</th>\n      <td>56914</td>\n      <td>2.0</td>\n      <td>541</td>\n      <td>4.0</td>\n      <td>900</td>\n      <td>5.0</td>\n      <td>691</td>\n      <td>2.0</td>\n      <td>1951</td>\n      <td>1.0</td>\n      <td>...</td>\n      <td>0</td>\n      <td>0</td>\n      <td>1</td>\n      <td>0</td>\n      <td>1</td>\n      <td>0</td>\n      <td>0</td>\n      <td>1</td>\n      <td>0</td>\n      <td>0</td>\n    </tr>\n  </tbody>\n</table>\n<p>56912 rows × 77 columns</p>\n</div>"
     },
     "metadata": {},
     "execution_count": 24
    }
   ],
   "source": [
    "datas"
   ]
  },
  {
   "cell_type": "code",
   "execution_count": 28,
   "metadata": {},
   "outputs": [],
   "source": [
    "datas[[\"QeA\", \"QfA\", \"QkA\", \"QqA\", \"QrA\", \"QaA\", \"QdA\", \"QgA\", \"QiA\", \"QnA\"]]= (6 - datas[[\"QeA\", \"QfA\", \"QkA\", \"QqA\", \"QrA\", \"QaA\", \"QdA\", \"QgA\", \"QiA\", \"QnA\"]])"
   ]
  },
  {
   "cell_type": "code",
   "execution_count": 36,
   "metadata": {},
   "outputs": [],
   "source": [
    "datas['Mscore'] = datas.iloc[:,1::2].iloc[:,:20].sum(axis= 1)"
   ]
  },
  {
   "cell_type": "code",
   "execution_count": 43,
   "metadata": {},
   "outputs": [
    {
     "output_type": "execute_result",
     "data": {
      "text/plain": [
       "education          NaN\n",
       "engnat             NaN\n",
       "familysize         NaN\n",
       "hand               NaN\n",
       "married            NaN\n",
       "tp01               NaN\n",
       "tp02               NaN\n",
       "tp03               NaN\n",
       "tp04               NaN\n",
       "tp05               NaN\n",
       "tp06               NaN\n",
       "tp07          0.447332\n",
       "tp08               NaN\n",
       "tp09               NaN\n",
       "tp10               NaN\n",
       "urban              NaN\n",
       "wf_01              NaN\n",
       "wf_02              NaN\n",
       "wf_03              NaN\n",
       "wr_01              NaN\n",
       "wr_02              NaN\n",
       "wr_03              NaN\n",
       "wr_04              NaN\n",
       "wr_05              NaN\n",
       "wr_06              NaN\n",
       "wr_07              NaN\n",
       "wr_08              NaN\n",
       "wr_09              NaN\n",
       "wr_10              NaN\n",
       "wr_11              NaN\n",
       "wr_12              NaN\n",
       "wr_13              NaN\n",
       "Mscore        1.000000\n",
       "Name: Mscore, dtype: float64"
      ]
     },
     "metadata": {},
     "execution_count": 43
    }
   ],
   "source": [
    "datas.iloc[:,41:].corr()[datas.iloc[:,41:].corr()>0.4]['Mscore']"
   ]
  },
  {
   "cell_type": "code",
   "execution_count": null,
   "metadata": {},
   "outputs": [],
   "source": []
  }
 ]
}