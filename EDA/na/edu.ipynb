{
 "metadata": {
  "language_info": {
   "codemirror_mode": {
    "name": "ipython",
    "version": 3
   },
   "file_extension": ".py",
   "mimetype": "text/x-python",
   "name": "python",
   "nbconvert_exporter": "python",
   "pygments_lexer": "ipython3",
   "version": "3.8.5-final"
  },
  "orig_nbformat": 2,
  "kernelspec": {
   "name": "Python 3.8.5 32-bit",
   "display_name": "Python 3.8.5 32-bit",
   "metadata": {
    "interpreter": {
     "hash": "dfe38cf5d4c6d2796b85a89a1485c67b699849fb9e33780f9bd5ec858f0dc3d3"
    }
   }
  }
 },
 "nbformat": 4,
 "nbformat_minor": 2,
 "cells": [
  {
   "cell_type": "code",
   "execution_count": 102,
   "metadata": {},
   "outputs": [],
   "source": [
    "import pandas as pd \n",
    "import numpy as np \n",
    "import matplotlib.pyplot as plt \n",
    "import seaborn as sns \n",
    "sns.set()"
   ]
  },
  {
   "cell_type": "code",
   "execution_count": 103,
   "metadata": {},
   "outputs": [],
   "source": [
    "train = pd.read_csv('C:/Users/nyc15/Desktop/data/train.csv')\n",
    "test = pd.read_csv('C:/Users/nyc15/Desktop/data/test_x.csv')"
   ]
  },
  {
   "cell_type": "code",
   "execution_count": 104,
   "metadata": {},
   "outputs": [],
   "source": [
    "y = train.voted.copy()\n",
    "train = train.drop(columns = 'voted')\n",
    "raw_data = pd.concat([train,test])"
   ]
  },
  {
   "cell_type": "code",
   "execution_count": 105,
   "metadata": {},
   "outputs": [],
   "source": [
    "raw_data = raw_data.reset_index()\n",
    "raw_data.drop(columns = ['level_0','index'],inplace= True)\n",
    "raw_data= raw_data.reset_index()"
   ]
  },
  {
   "cell_type": "code",
   "execution_count": 106,
   "metadata": {},
   "outputs": [
    {
     "output_type": "execute_result",
     "data": {
      "text/plain": [
       "((56915, 77), (45532,))"
      ]
     },
     "metadata": {},
     "execution_count": 106
    }
   ],
   "source": [
    "raw_data.shape,y.shape"
   ]
  },
  {
   "cell_type": "code",
   "execution_count": 109,
   "metadata": {},
   "outputs": [],
   "source": [
    "raw_data = raw_data.drop(index= raw_data[raw_data.familysize >=100].index) # 가족 사이즈 3개 열 (2147483647 , 999 , 100) 제거 "
   ]
  },
  {
   "cell_type": "code",
   "execution_count": 110,
   "metadata": {},
   "outputs": [
    {
     "output_type": "execute_result",
     "data": {
      "text/plain": [
       "(56912, 77)"
      ]
     },
     "metadata": {},
     "execution_count": 110
    }
   ],
   "source": [
    "raw_data.shape"
   ]
  },
  {
   "cell_type": "code",
   "execution_count": 111,
   "metadata": {},
   "outputs": [
    {
     "output_type": "execute_result",
     "data": {
      "text/plain": [
       "Empty DataFrame\n",
       "Columns: [index, QaA, QaE, QbA, QbE, QcA, QcE, QdA, QdE, QeA, QeE, QfA, QfE, QgA, QgE, QhA, QhE, QiA, QiE, QjA, QjE, QkA, QkE, QlA, QlE, QmA, QmE, QnA, QnE, QoA, QoE, QpA, QpE, QqA, QqE, QrA, QrE, QsA, QsE, QtA, QtE, age_group, education, engnat, familysize, gender, hand, married, race, religion, tp01, tp02, tp03, tp04, tp05, tp06, tp07, tp08, tp09, tp10, urban, wf_01, wf_02, wf_03, wr_01, wr_02, wr_03, wr_04, wr_05, wr_06, wr_07, wr_08, wr_09, wr_10, wr_11, wr_12, wr_13]\n",
       "Index: []\n",
       "\n",
       "[0 rows x 77 columns]"
      ],
      "text/html": "<div>\n<style scoped>\n    .dataframe tbody tr th:only-of-type {\n        vertical-align: middle;\n    }\n\n    .dataframe tbody tr th {\n        vertical-align: top;\n    }\n\n    .dataframe thead th {\n        text-align: right;\n    }\n</style>\n<table border=\"1\" class=\"dataframe\">\n  <thead>\n    <tr style=\"text-align: right;\">\n      <th></th>\n      <th>index</th>\n      <th>QaA</th>\n      <th>QaE</th>\n      <th>QbA</th>\n      <th>QbE</th>\n      <th>QcA</th>\n      <th>QcE</th>\n      <th>QdA</th>\n      <th>QdE</th>\n      <th>QeA</th>\n      <th>...</th>\n      <th>wr_04</th>\n      <th>wr_05</th>\n      <th>wr_06</th>\n      <th>wr_07</th>\n      <th>wr_08</th>\n      <th>wr_09</th>\n      <th>wr_10</th>\n      <th>wr_11</th>\n      <th>wr_12</th>\n      <th>wr_13</th>\n    </tr>\n  </thead>\n  <tbody>\n  </tbody>\n</table>\n<p>0 rows × 77 columns</p>\n</div>"
     },
     "metadata": {},
     "execution_count": 111
    }
   ],
   "source": [
    "raw_data[raw_data.familysize >=100]"
   ]
  },
  {
   "cell_type": "code",
   "execution_count": 112,
   "metadata": {},
   "outputs": [
    {
     "output_type": "execute_result",
     "data": {
      "text/plain": [
       "education    1.000000\n",
       "married      0.241386\n",
       "wr_03        0.215425\n",
       "Name: education, dtype: float64"
      ]
     },
     "metadata": {},
     "execution_count": 112
    }
   ],
   "source": [
    "raw_data.corr()['education'][raw_data.corr()['education'].abs()>0.2]"
   ]
  },
  {
   "source": [
    "## 1=Less than high school, 2=High school, 3=University degree, 4=Graduate degree, 0=무응답"
   ],
   "cell_type": "markdown",
   "metadata": {}
  },
  {
   "cell_type": "code",
   "execution_count": 113,
   "metadata": {},
   "outputs": [
    {
     "output_type": "execute_result",
     "data": {
      "text/plain": [
       "2    21068\n",
       "3    19025\n",
       "4     9817\n",
       "1     6352\n",
       "0      650\n",
       "Name: education, dtype: int64"
      ]
     },
     "metadata": {},
     "execution_count": 113
    }
   ],
   "source": [
    "raw_data.education.value_counts()"
   ]
  },
  {
   "source": [
    "# education과 상관계수가 높은 데이터 컬럼 몇개 뽑아서 랜덤으로 넣자!\n",
    "# 랜덤 확률은 컬럼에서 데이터 개수가 많은 게 확률이 높게 지정한다! \n",
    "# 연령 0.444194 결혼 유무 0.260888 모국어 여부 0.140881"
   ],
   "cell_type": "markdown",
   "metadata": {}
  },
  {
   "cell_type": "code",
   "execution_count": 114,
   "metadata": {},
   "outputs": [
    {
     "output_type": "execute_result",
     "data": {
      "text/plain": [
       "(56912, 77)"
      ]
     },
     "metadata": {},
     "execution_count": 114
    }
   ],
   "source": [
    "raw_data.shape"
   ]
  },
  {
   "source": [],
   "cell_type": "code",
   "metadata": {},
   "execution_count": null,
   "outputs": []
  },
  {
   "cell_type": "code",
   "execution_count": 115,
   "metadata": {},
   "outputs": [],
   "source": [
    "educationdata = raw_data['education'].copy()"
   ]
  },
  {
   "cell_type": "code",
   "execution_count": 116,
   "metadata": {},
   "outputs": [
    {
     "output_type": "execute_result",
     "data": {
      "text/plain": [
       "650"
      ]
     },
     "metadata": {},
     "execution_count": 116
    }
   ],
   "source": [
    "(educationdata == 0).sum()"
   ]
  },
  {
   "cell_type": "code",
   "execution_count": 117,
   "metadata": {},
   "outputs": [
    {
     "output_type": "execute_result",
     "data": {
      "text/plain": [
       "Index(['index', 'QaA', 'QaE', 'QbA', 'QbE', 'QcA', 'QcE', 'QdA', 'QdE', 'QeA',\n",
       "       'QeE', 'QfA', 'QfE', 'QgA', 'QgE', 'QhA', 'QhE', 'QiA', 'QiE', 'QjA',\n",
       "       'QjE', 'QkA', 'QkE', 'QlA', 'QlE', 'QmA', 'QmE', 'QnA', 'QnE', 'QoA',\n",
       "       'QoE', 'QpA', 'QpE', 'QqA', 'QqE', 'QrA', 'QrE', 'QsA', 'QsE', 'QtA',\n",
       "       'QtE', 'age_group', 'education', 'engnat', 'familysize', 'gender',\n",
       "       'hand', 'married', 'race', 'religion', 'tp01', 'tp02', 'tp03', 'tp04',\n",
       "       'tp05', 'tp06', 'tp07', 'tp08', 'tp09', 'tp10', 'urban', 'wf_01',\n",
       "       'wf_02', 'wf_03', 'wr_01', 'wr_02', 'wr_03', 'wr_04', 'wr_05', 'wr_06',\n",
       "       'wr_07', 'wr_08', 'wr_09', 'wr_10', 'wr_11', 'wr_12', 'wr_13'],\n",
       "      dtype='object')"
      ]
     },
     "metadata": {},
     "execution_count": 117
    }
   ],
   "source": [
    "raw_data.columns"
   ]
  },
  {
   "cell_type": "code",
   "execution_count": 118,
   "metadata": {},
   "outputs": [],
   "source": [
    "# 연령대 -> 영어 -> 결혼 \n",
    "zerodata = raw_data[raw_data['education']==0].copy()\n",
    "nonzerodata = raw_data[raw_data['education'] != 0].copy()"
   ]
  },
  {
   "cell_type": "code",
   "execution_count": 119,
   "metadata": {},
   "outputs": [
    {
     "output_type": "execute_result",
     "data": {
      "text/plain": [
       "age_group  married  education\n",
       "+70s       0        4            1\n",
       "           1        1            2\n",
       "                    2            6\n",
       "                    3            4\n",
       "                    4            6\n",
       "dtype: int64"
      ]
     },
     "metadata": {},
     "execution_count": 119
    }
   ],
   "source": [
    "groupnon = nonzerodata.groupby(['age_group','married','education']).size()\n",
    "groupnon.head()"
   ]
  },
  {
   "cell_type": "code",
   "execution_count": 120,
   "metadata": {},
   "outputs": [
    {
     "output_type": "execute_result",
     "data": {
      "text/plain": [
       "age_group  married\n",
       "+70s       0              1\n",
       "           1             18\n",
       "           2            177\n",
       "           3            103\n",
       "10s        0             52\n",
       "           1          17496\n",
       "           2             93\n",
       "           3             31\n",
       "20s        0             22\n",
       "           1          15245\n",
       "           2           1873\n",
       "           3            356\n",
       "30s        0             16\n",
       "           1           4361\n",
       "           2           4042\n",
       "           3           1203\n",
       "40s        0             19\n",
       "           1           1350\n",
       "           2           3366\n",
       "           3           1482\n",
       "50s        0              4\n",
       "           1            494\n",
       "           2           1908\n",
       "           3           1104\n",
       "60s        0              5\n",
       "           1            136\n",
       "           2            865\n",
       "           3            440\n",
       "dtype: int64"
      ]
     },
     "metadata": {},
     "execution_count": 120
    }
   ],
   "source": [
    "groupall = nonzerodata.groupby(['age_group','married']).size()\n",
    "groupall"
   ]
  },
  {
   "cell_type": "code",
   "execution_count": 121,
   "metadata": {},
   "outputs": [
    {
     "output_type": "execute_result",
     "data": {
      "text/plain": [
       "age_group  married  education\n",
       "+70s       0        4            1.000000\n",
       "           1        1            0.111111\n",
       "                    2            0.333333\n",
       "                    3            0.222222\n",
       "                    4            0.333333\n",
       "                                   ...   \n",
       "60s        2        4            0.337572\n",
       "           3        1            0.015909\n",
       "                    2            0.313636\n",
       "                    3            0.350000\n",
       "                    4            0.320455\n",
       "Length: 104, dtype: float64"
      ]
     },
     "metadata": {},
     "execution_count": 121
    }
   ],
   "source": [
    "groupper = groupnon / groupall\n",
    "groupper # '+70s'"
   ]
  },
  {
   "cell_type": "code",
   "execution_count": 122,
   "metadata": {},
   "outputs": [
    {
     "output_type": "execute_result",
     "data": {
      "text/plain": [
       "MultiIndex([('+70s', 0, 4),\n",
       "            ('+70s', 1, 1),\n",
       "            ('+70s', 1, 2),\n",
       "            ('+70s', 1, 3),\n",
       "            ('+70s', 1, 4),\n",
       "            ('+70s', 2, 1),\n",
       "            ('+70s', 2, 2),\n",
       "            ('+70s', 2, 3),\n",
       "            ('+70s', 2, 4),\n",
       "            ('+70s', 3, 1),\n",
       "            ...\n",
       "            ( '60s', 1, 3),\n",
       "            ( '60s', 1, 4),\n",
       "            ( '60s', 2, 1),\n",
       "            ( '60s', 2, 2),\n",
       "            ( '60s', 2, 3),\n",
       "            ( '60s', 2, 4),\n",
       "            ( '60s', 3, 1),\n",
       "            ( '60s', 3, 2),\n",
       "            ( '60s', 3, 3),\n",
       "            ( '60s', 3, 4)],\n",
       "           names=['age_group', 'married', 'education'], length=104)"
      ]
     },
     "metadata": {},
     "execution_count": 122
    }
   ],
   "source": [
    "groupper.index"
   ]
  },
  {
   "cell_type": "code",
   "execution_count": 123,
   "metadata": {
    "tags": []
   },
   "outputs": [],
   "source": [
    "num = len(zerodata)\n",
    "na = []\n",
    "for i in range(num):\n",
    "    ll = list(zerodata[['age_group','married']].values[i])\n",
    "    \n",
    "    try:\n",
    "        per = list(groupper[ll[0],ll[1]].values)\n",
    "        number = list(groupper[ll[0],ll[1]].index)\n",
    "    except Exception as e:\n",
    "        print(i, e)\n",
    "        per = [0.25,0.25,0.25,0.25]\n",
    "        number = [1,2,3,4]\n",
    "    na.append(np.random.choice(number,p=per))\n",
    "    \n",
    "zerodata['education'][zerodata['education'] == 0] = na\n",
    "#zerodata[['age_group','engnat','married']].values"
   ]
  },
  {
   "cell_type": "code",
   "execution_count": 124,
   "metadata": {},
   "outputs": [
    {
     "output_type": "execute_result",
     "data": {
      "text/plain": [
       "(3    234\n",
       " 2    224\n",
       " 4    132\n",
       " 1     60\n",
       " Name: education, dtype: int64,\n",
       " 650)"
      ]
     },
     "metadata": {},
     "execution_count": 124
    }
   ],
   "source": [
    "zerodata['education'].value_counts(),len(zerodata['education'])"
   ]
  },
  {
   "cell_type": "code",
   "execution_count": 125,
   "metadata": {},
   "outputs": [
    {
     "output_type": "execute_result",
     "data": {
      "text/plain": [
       "(56912, 77)"
      ]
     },
     "metadata": {},
     "execution_count": 125
    }
   ],
   "source": [
    "datas = pd.concat([zerodata,nonzerodata])\n",
    "datas.shape"
   ]
  },
  {
   "cell_type": "code",
   "execution_count": 126,
   "metadata": {},
   "outputs": [
    {
     "output_type": "execute_result",
     "data": {
      "text/plain": [
       "2    21292\n",
       "3    19259\n",
       "4     9949\n",
       "1     6412\n",
       "Name: education, dtype: int64"
      ]
     },
     "metadata": {},
     "execution_count": 126
    }
   ],
   "source": [
    "datas['education'].value_counts()"
   ]
  },
  {
   "cell_type": "code",
   "execution_count": 127,
   "metadata": {},
   "outputs": [],
   "source": []
  },
  {
   "cell_type": "code",
   "execution_count": null,
   "metadata": {},
   "outputs": [],
   "source": []
  }
 ]
}