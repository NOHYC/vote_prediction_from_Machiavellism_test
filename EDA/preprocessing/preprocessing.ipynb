{
 "cells": [
  {
   "cell_type": "code",
   "execution_count": 1,
   "metadata": {},
   "outputs": [],
   "source": [
    "import pandas as pd\n",
    "import numpy as np\n",
    "import matplotlib.pyplot as plt\n",
    "import seaborn as sns\n",
    "sns.set()"
   ]
  },
  {
   "cell_type": "code",
   "execution_count": 2,
   "metadata": {},
   "outputs": [],
   "source": [
    "filepath_home= 'D:/Dacon_Psychological_disposition/'\n",
    "filepath_out = 'C:/임시/Dacon_Psychological_disposition/' \n",
    "train = pd.read_csv(filepath_home+'train_na_filled.csv')\n",
    "test = pd.read_csv(filepath_home+'test_na_filled.csv')"
   ]
  },
  {
   "cell_type": "code",
   "execution_count": 3,
   "metadata": {},
   "outputs": [],
   "source": [
    "# 분할 지점 저장해두고 데이터 통합 후 전처리\n",
    "split_point = train.shape[0]\n",
    "data = pd.concat([train.drop('voted',axis=1),test],ignore_index=True)"
   ]
  },
  {
   "cell_type": "code",
   "execution_count": 4,
   "metadata": {},
   "outputs": [],
   "source": [
    "# 마키아 스코어 계산\n",
    "total_negative_cols = [\"QeA\", \"QfA\", \"QkA\", \"QqA\", \"QrA\", \"QaA\", \"QdA\", \"QgA\", \"QiA\", \"QnA\"]\n",
    "data[total_negative_cols] = 6-data[total_negative_cols]\n",
    "data['mach_score'] = data.apply(lambda x:x.iloc[0:40:2].mean(),axis=1)"
   ]
  },
  {
   "cell_type": "code",
   "execution_count": 5,
   "metadata": {},
   "outputs": [],
   "source": [
    "# tipi 성격 구분 5 칼럼 추가\n",
    "data[['tp02','tp04','tp06','tp08','tp10']]= 7-data[['tp02','tp04','tp06','tp08','tp10']]\n",
    "\n",
    "data['Extraversion']=(data.tp01+data.tp06)/2\n",
    "data['Agreeableness']=(data.tp02+data.tp07)/2\n",
    "data['Conscientiousness']=(data.tp03+data.tp08)/2\n",
    "data['Emotional Stability']=(data.tp04+data.tp09)/2\n",
    "data['Openness to Experiences']=(data.tp05+data.tp10)/2"
   ]
  },
  {
   "cell_type": "code",
   "execution_count": 6,
   "metadata": {},
   "outputs": [],
   "source": [
    "# 각 답변 시간을 빠르다/느리다 로 이분화 후 전체 설문의 답변시간을 0~20 사이로 수치화\n",
    "total_median = np.median(np.ravel(train.iloc[:,1:40:2]))\n",
    "temp_df = np.where(data.iloc[:,1:40:2]>total_median,1,0)\n",
    "data['Q_total_E'] = temp_df.sum(axis=1) # 0~20"
   ]
  },
  {
   "cell_type": "code",
   "execution_count": 7,
   "metadata": {},
   "outputs": [
    {
     "data": {
      "text/plain": [
       "((56912, 83),\n",
       " Index(['QaA', 'QaE', 'QbA', 'QbE', 'QcA', 'QcE', 'QdA', 'QdE', 'QeA', 'QeE',\n",
       "        'QfA', 'QfE', 'QgA', 'QgE', 'QhA', 'QhE', 'QiA', 'QiE', 'QjA', 'QjE',\n",
       "        'QkA', 'QkE', 'QlA', 'QlE', 'QmA', 'QmE', 'QnA', 'QnE', 'QoA', 'QoE',\n",
       "        'QpA', 'QpE', 'QqA', 'QqE', 'QrA', 'QrE', 'QsA', 'QsE', 'QtA', 'QtE',\n",
       "        'age_group', 'education', 'engnat', 'familysize', 'gender', 'hand',\n",
       "        'married', 'race', 'religion', 'tp01', 'tp02', 'tp03', 'tp04', 'tp05',\n",
       "        'tp06', 'tp07', 'tp08', 'tp09', 'tp10', 'urban', 'wf_01', 'wf_02',\n",
       "        'wf_03', 'wr_01', 'wr_02', 'wr_03', 'wr_04', 'wr_05', 'wr_06', 'wr_07',\n",
       "        'wr_08', 'wr_09', 'wr_10', 'wr_11', 'wr_12', 'wr_13', 'mach_score',\n",
       "        'Extraversion', 'Agreeableness', 'Conscientiousness',\n",
       "        'Emotional Stability', 'Openness to Experiences', 'Q_total_E'],\n",
       "       dtype='object'))"
      ]
     },
     "execution_count": 7,
     "metadata": {},
     "output_type": "execute_result"
    }
   ],
   "source": [
    "data.shape,data.columns"
   ]
  },
  {
   "cell_type": "code",
   "execution_count": 8,
   "metadata": {},
   "outputs": [],
   "source": [
    "from sklearn.preprocessing import StandardScaler, MinMaxScaler"
   ]
  },
  {
   "cell_type": "code",
   "execution_count": 9,
   "metadata": {},
   "outputs": [],
   "source": [
    "data.iloc[:,0:40:2] = MinMaxScaler().fit_transform(data.iloc[:,0:40:2]) # 질문 답변 내용 정보 정규화"
   ]
  },
  {
   "cell_type": "code",
   "execution_count": 10,
   "metadata": {},
   "outputs": [],
   "source": [
    "data['mach_score'] = MinMaxScaler().fit_transform(data['mach_score'].values.reshape(-1,1)) # 마키아벨리니즘 스코어 정규화"
   ]
  },
  {
   "cell_type": "code",
   "execution_count": 11,
   "metadata": {},
   "outputs": [],
   "source": [
    "big_5_personality_list = ['Extraversion','Agreeableness','Conscientiousness','Emotional Stability','Openness to Experiences']\n",
    "data[big_5_personality_list] = MinMaxScaler().fit_transform(data[big_5_personality_list]) # TIPI 5 유형 점수 정규화"
   ]
  },
  {
   "cell_type": "code",
   "execution_count": 12,
   "metadata": {},
   "outputs": [],
   "source": [
    "data['Q_total_E'] = MinMaxScaler().fit_transform(data['Q_total_E'].values.reshape(-1,1)) # 마키아벨리니즘 스코어 정규화"
   ]
  },
  {
   "cell_type": "code",
   "execution_count": 13,
   "metadata": {},
   "outputs": [],
   "source": [
    "data['familysize'] = StandardScaler().fit_transform(data['familysize'].values.reshape(-1,1)) # 형제자매 정보 표준화"
   ]
  },
  {
   "cell_type": "code",
   "execution_count": 14,
   "metadata": {},
   "outputs": [],
   "source": [
    "object_cols = ['gender','race','religion','married','hand','urban']\n",
    "for col in object_cols:\n",
    "    dummy = pd.get_dummies(data[col],prefix=col)\n",
    "    data=data.join(dummy[dummy.columns[:-1]])\n",
    "    data=data.drop([col],axis=1)"
   ]
  },
  {
   "cell_type": "code",
   "execution_count": 15,
   "metadata": {},
   "outputs": [],
   "source": [
    "data.age_group = data.age_group.map({ # 연령대 정보 순서 데이터 변환\n",
    "    '10s':1,'20s':2,'30s':3,\n",
    "    '40s':4,'50s':5,'60s':6,'+70s':7\n",
    "})\n",
    "data['age_group'] = MinMaxScaler().fit_transform(data['age_group'].values.reshape(-1,1)) # 연령대 정보 정규화"
   ]
  },
  {
   "cell_type": "code",
   "execution_count": 16,
   "metadata": {},
   "outputs": [],
   "source": [
    "data['education'] = MinMaxScaler().fit_transform(data['education'].values.reshape(-1,1)) # 교육수준 정보 정규화"
   ]
  },
  {
   "cell_type": "code",
   "execution_count": 17,
   "metadata": {},
   "outputs": [],
   "source": [
    "data.iloc[:,1:40:2] = MinMaxScaler().fit_transform(np.log10(data.iloc[:,1:40:2]+1)) # 질문 답변시간 정보 로그 스케일"
   ]
  },
  {
   "cell_type": "code",
   "execution_count": 18,
   "metadata": {},
   "outputs": [
    {
     "data": {
      "text/plain": [
       "((45529, 102), (11383, 101))"
      ]
     },
     "execution_count": 18,
     "metadata": {},
     "output_type": "execute_result"
    }
   ],
   "source": [
    "train_preprocessed = data.iloc[:split_point].join(train.voted)\n",
    "test_preprocessed = data.iloc[split_point:]\n",
    "train_preprocessed.shape,test_preprocessed.shape"
   ]
  },
  {
   "cell_type": "code",
   "execution_count": 19,
   "metadata": {},
   "outputs": [],
   "source": [
    "train_preprocessed.to_csv(filepath_home+'train_preprocessed.csv',index=False)\n",
    "test_preprocessed.to_csv(filepath_home+'test_preprocessed.csv',index=False)"
   ]
  }
 ],
 "metadata": {
  "kernelspec": {
   "display_name": "Python 3",
   "language": "python",
   "name": "python3"
  },
  "language_info": {
   "codemirror_mode": {
    "name": "ipython",
    "version": 3
   },
   "file_extension": ".py",
   "mimetype": "text/x-python",
   "name": "python",
   "nbconvert_exporter": "python",
   "pygments_lexer": "ipython3",
   "version": "3.8.3"
  }
 },
 "nbformat": 4,
 "nbformat_minor": 4
}
