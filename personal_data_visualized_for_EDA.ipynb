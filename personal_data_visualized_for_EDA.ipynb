{
 "cells": [
  {
   "cell_type": "code",
   "execution_count": 1,
   "metadata": {
    "slideshow": {
     "slide_type": "slide"
    }
   },
   "outputs": [],
   "source": [
    "import pandas as pd\n",
    "import numpy as np\n",
    "import matplotlib.pyplot as plt\n",
    "import seaborn as sns\n",
    "sns.set()"
   ]
  },
  {
   "cell_type": "code",
   "execution_count": 2,
   "metadata": {
    "slideshow": {
     "slide_type": "slide"
    }
   },
   "outputs": [],
   "source": [
    "filepath_home= 'D:/Dacon_Psychological_disposition/'\n",
    "filepath_out = 'C:/임시/Dacon_Psychological_disposition/' \n",
    "train = pd.read_csv(filepath_out+'train.csv')\n",
    "test = pd.read_csv(filepath_out+'test_x.csv')"
   ]
  },
  {
   "cell_type": "code",
   "execution_count": 3,
   "metadata": {
    "slideshow": {
     "slide_type": "skip"
    }
   },
   "outputs": [
    {
     "data": {
      "text/plain": [
       "(45532, 78)"
      ]
     },
     "execution_count": 3,
     "metadata": {},
     "output_type": "execute_result"
    }
   ],
   "source": [
    "train.shape"
   ]
  },
  {
   "cell_type": "code",
   "execution_count": 4,
   "metadata": {
    "slideshow": {
     "slide_type": "skip"
    }
   },
   "outputs": [
    {
     "data": {
      "text/plain": [
       "(11383, 77)"
      ]
     },
     "execution_count": 4,
     "metadata": {},
     "output_type": "execute_result"
    }
   ],
   "source": [
    "test.shape"
   ]
  },
  {
   "cell_type": "code",
   "execution_count": 5,
   "metadata": {
    "slideshow": {
     "slide_type": "skip"
    }
   },
   "outputs": [
    {
     "data": {
      "text/plain": [
       "Index(['index', 'QaA', 'QaE', 'QbA', 'QbE', 'QcA', 'QcE', 'QdA', 'QdE', 'QeA',\n",
       "       'QeE', 'QfA', 'QfE', 'QgA', 'QgE', 'QhA', 'QhE', 'QiA', 'QiE', 'QjA',\n",
       "       'QjE', 'QkA', 'QkE', 'QlA', 'QlE', 'QmA', 'QmE', 'QnA', 'QnE', 'QoA',\n",
       "       'QoE', 'QpA', 'QpE', 'QqA', 'QqE', 'QrA', 'QrE', 'QsA', 'QsE', 'QtA',\n",
       "       'QtE', 'age_group', 'education', 'engnat', 'familysize', 'gender',\n",
       "       'hand', 'married', 'race', 'religion', 'tp01', 'tp02', 'tp03', 'tp04',\n",
       "       'tp05', 'tp06', 'tp07', 'tp08', 'tp09', 'tp10', 'urban', 'voted',\n",
       "       'wf_01', 'wf_02', 'wf_03', 'wr_01', 'wr_02', 'wr_03', 'wr_04', 'wr_05',\n",
       "       'wr_06', 'wr_07', 'wr_08', 'wr_09', 'wr_10', 'wr_11', 'wr_12', 'wr_13'],\n",
       "      dtype='object')"
      ]
     },
     "execution_count": 5,
     "metadata": {},
     "output_type": "execute_result"
    }
   ],
   "source": [
    "train.columns"
   ]
  },
  {
   "cell_type": "code",
   "execution_count": 6,
   "metadata": {
    "slideshow": {
     "slide_type": "skip"
    }
   },
   "outputs": [
    {
     "data": {
      "text/plain": [
       "0"
      ]
     },
     "execution_count": 6,
     "metadata": {},
     "output_type": "execute_result"
    }
   ],
   "source": [
    "# 출력 데이터를 제외한 나머지 컬럼이 모두 동일한가 = okay\n",
    "(train.columns.drop('voted') != test.columns).sum()"
   ]
  },
  {
   "cell_type": "code",
   "execution_count": 7,
   "metadata": {},
   "outputs": [],
   "source": [
    "# 분할 지점 저장해두고 데이터 통합 후 전처리\n",
    "split_point = train.shape[0]\n",
    "data = pd.concat([train.drop('voted',axis=1),test],ignore_index=True)"
   ]
  },
  {
   "cell_type": "code",
   "execution_count": 8,
   "metadata": {},
   "outputs": [
    {
     "data": {
      "text/plain": [
       "(56915, 77)"
      ]
     },
     "execution_count": 8,
     "metadata": {},
     "output_type": "execute_result"
    }
   ],
   "source": [
    "data.shape"
   ]
  },
  {
   "cell_type": "code",
   "execution_count": 9,
   "metadata": {},
   "outputs": [
    {
     "data": {
      "text/plain": [
       "int64      53\n",
       "float64    20\n",
       "object      4\n",
       "dtype: int64"
      ]
     },
     "execution_count": 9,
     "metadata": {},
     "output_type": "execute_result"
    }
   ],
   "source": [
    "data.dtypes.value_counts() # 대부분 양적 데이터"
   ]
  },
  {
   "cell_type": "markdown",
   "metadata": {},
   "source": [
    "# 10.13"
   ]
  },
  {
   "cell_type": "code",
   "execution_count": 10,
   "metadata": {},
   "outputs": [],
   "source": [
    "personal_cols =['age_group','education','engnat','familysize','gender','hand','married','race','religion','urban']\n",
    "Personal_info = data[personal_cols].copy()"
   ]
  },
  {
   "cell_type": "markdown",
   "metadata": {},
   "source": [
    "### 연령대"
   ]
  },
  {
   "cell_type": "code",
   "execution_count": 11,
   "metadata": {},
   "outputs": [
    {
     "data": {
      "text/plain": [
       "array(['30s', '20s', '40s', '50s', '10s', '60s', '+70s'], dtype=object)"
      ]
     },
     "execution_count": 11,
     "metadata": {},
     "output_type": "execute_result"
    }
   ],
   "source": [
    "Personal_info['age_group'].unique() # No NA"
   ]
  },
  {
   "cell_type": "code",
   "execution_count": 12,
   "metadata": {
    "scrolled": false,
    "slideshow": {
     "slide_type": "slide"
    }
   },
   "outputs": [
    {
     "data": {
      "text/plain": [
       "<matplotlib.axes._subplots.AxesSubplot at 0x25437236e88>"
      ]
     },
     "execution_count": 12,
     "metadata": {},
     "output_type": "execute_result"
    },
    {
     "data": {
      "image/png": "[encoded data removed]",
      "text/plain": [
       "<Figure size 576x576 with 1 Axes>"
      ]
     },
     "metadata": {},
     "output_type": "display_data"
    }
   ],
   "source": [
    "Personal_info.age_group.value_counts(normalize=True).plot(kind='barh',\n",
    "                                                         figsize=(8,8),\n",
    "                                                         title='Age groups (%)')"
   ]
  },
  {
   "cell_type": "markdown",
   "metadata": {},
   "source": [
    "### 교육 수준"
   ]
  },
  {
   "cell_type": "code",
   "execution_count": 13,
   "metadata": {},
   "outputs": [
    {
     "data": {
      "text/plain": [
       "array([2, 4, 3, 1, 0], dtype=int64)"
      ]
     },
     "execution_count": 13,
     "metadata": {},
     "output_type": "execute_result"
    }
   ],
   "source": [
    "Personal_info.education.unique() # 0 = 무응답 = NA ?"
   ]
  },
  {
   "cell_type": "code",
   "execution_count": 14,
   "metadata": {},
   "outputs": [
    {
     "data": {
      "text/plain": [
       "650"
      ]
     },
     "execution_count": 14,
     "metadata": {},
     "output_type": "execute_result"
    }
   ],
   "source": [
    "(Personal_info.education==0).sum() # 무응답 : 650"
   ]
  },
  {
   "cell_type": "code",
   "execution_count": 15,
   "metadata": {},
   "outputs": [
    {
     "data": {
      "text/plain": [
       "[Text(0, 0, 'High school'),\n",
       " Text(0, 0, 'University degree'),\n",
       " Text(0, 0, 'Graduate degree'),\n",
       " Text(0, 0, 'Less than high school'),\n",
       " Text(0, 0, 'No reply')]"
      ]
     },
     "execution_count": 15,
     "metadata": {},
     "output_type": "execute_result"
    },
    {
     "data": {
      "image/png": "[encoded data removed]",
      "text/plain": [
       "<Figure size 576x576 with 1 Axes>"
      ]
     },
     "metadata": {},
     "output_type": "display_data"
    }
   ],
   "source": [
    "ax1 = Personal_info.education.value_counts(normalize=True).plot(kind='barh',\n",
    "                                                         figsize=(8,8),\n",
    "                                                         title='Education (%)')\n",
    "ax1.set_yticklabels(['High school','University degree','Graduate degree','Less than high school','No reply'])"
   ]
  },
  {
   "cell_type": "markdown",
   "metadata": {},
   "source": [
    "### 모국어 영어 여부"
   ]
  },
  {
   "cell_type": "code",
   "execution_count": 16,
   "metadata": {},
   "outputs": [
    {
     "data": {
      "text/plain": [
       "array([1, 2, 0], dtype=int64)"
      ]
     },
     "execution_count": 16,
     "metadata": {},
     "output_type": "execute_result"
    }
   ],
   "source": [
    "Personal_info.engnat.unique() # 무응답 존재"
   ]
  },
  {
   "cell_type": "code",
   "execution_count": 17,
   "metadata": {},
   "outputs": [
    {
     "data": {
      "text/plain": [
       "94"
      ]
     },
     "execution_count": 17,
     "metadata": {},
     "output_type": "execute_result"
    }
   ],
   "source": [
    "(Personal_info.engnat==0).sum() # 무응답 : 94"
   ]
  },
  {
   "cell_type": "code",
   "execution_count": 18,
   "metadata": {},
   "outputs": [
    {
     "data": {
      "text/plain": [
       "[Text(0, 0, 'YES'), Text(0, 0, 'NO'), Text(0, 0, 'No reply')]"
      ]
     },
     "execution_count": 18,
     "metadata": {},
     "output_type": "execute_result"
    },
    {
     "data": {
      "image/png": "[encoded data removed]",
      "text/plain": [
       "<Figure size 576x576 with 1 Axes>"
      ]
     },
     "metadata": {},
     "output_type": "display_data"
    }
   ],
   "source": [
    "ax2 = Personal_info.engnat.value_counts(normalize=True).plot(kind='barh',\n",
    "                                                         figsize=(8,8),\n",
    "                                                         title='Is his/her native language English (%)')\n",
    "ax2.set_yticklabels(['YES','NO','No reply'])"
   ]
  },
  {
   "cell_type": "markdown",
   "metadata": {},
   "source": [
    "### 형제자매 수"
   ]
  },
  {
   "cell_type": "code",
   "execution_count": 19,
   "metadata": {},
   "outputs": [
    {
     "data": {
      "text/plain": [
       "array([         4,          3,          0,          2,          6,\n",
       "                1,          5,          8,          7,          9,\n",
       "              999,         11,         10,         15,         14,\n",
       "               12,         21,         13,         20,         44,\n",
       "               16, 2147483647,         17,        100,         34,\n",
       "               30,         18,         23], dtype=int64)"
      ]
     },
     "execution_count": 19,
     "metadata": {},
     "output_type": "execute_result"
    }
   ],
   "source": [
    "Personal_info.familysize.unique() # 999? 100? 2147483647? 이상치로 보이는 셋 , 음수나 NA는 없음"
   ]
  },
  {
   "cell_type": "code",
   "execution_count": 20,
   "metadata": {},
   "outputs": [
    {
     "data": {
      "text/plain": [
       "2             22372\n",
       "3             14092\n",
       "1              8214\n",
       "4              6144\n",
       "5              2457\n",
       "0              1504\n",
       "6              1023\n",
       "7               484\n",
       "8               272\n",
       "9               154\n",
       "10               77\n",
       "11               45\n",
       "12               27\n",
       "13               11\n",
       "14               10\n",
       "15                9\n",
       "44                3\n",
       "17                3\n",
       "20                3\n",
       "21                2\n",
       "16                2\n",
       "100               1\n",
       "18                1\n",
       "34                1\n",
       "999               1\n",
       "23                1\n",
       "2147483647        1\n",
       "30                1\n",
       "Name: familysize, dtype: int64"
      ]
     },
     "execution_count": 20,
     "metadata": {},
     "output_type": "execute_result"
    }
   ],
   "source": [
    "Personal_info.familysize.value_counts()"
   ]
  },
  {
   "cell_type": "code",
   "execution_count": 21,
   "metadata": {},
   "outputs": [
    {
     "data": {
      "text/plain": [
       "<matplotlib.axes._subplots.AxesSubplot at 0x254375e7848>"
      ]
     },
     "execution_count": 21,
     "metadata": {},
     "output_type": "execute_result"
    },
    {
     "data": {
      "image/png": "[encoded data removed]",
      "text/plain": [
       "<Figure size 576x576 with 1 Axes>"
      ]
     },
     "metadata": {},
     "output_type": "display_data"
    }
   ],
   "source": [
    "Personal_info.familysize.value_counts(normalize=True).plot(kind='pie',\n",
    "                                                         figsize=(8,8),\n",
    "                                                         title='Siblings')"
   ]
  },
  {
   "cell_type": "markdown",
   "metadata": {},
   "source": [
    "### 성별"
   ]
  },
  {
   "cell_type": "code",
   "execution_count": 22,
   "metadata": {},
   "outputs": [
    {
     "data": {
      "text/plain": [
       "array(['Female', 'Male'], dtype=object)"
      ]
     },
     "execution_count": 22,
     "metadata": {},
     "output_type": "execute_result"
    }
   ],
   "source": [
    "Personal_info.gender.unique() # No NA"
   ]
  },
  {
   "cell_type": "code",
   "execution_count": 23,
   "metadata": {},
   "outputs": [
    {
     "data": {
      "text/plain": [
       "<matplotlib.axes._subplots.AxesSubplot at 0x2543769b848>"
      ]
     },
     "execution_count": 23,
     "metadata": {},
     "output_type": "execute_result"
    },
    {
     "data": {
      "image/png": "[encoded data removed]",
      "text/plain": [
       "<Figure size 576x576 with 1 Axes>"
      ]
     },
     "metadata": {},
     "output_type": "display_data"
    }
   ],
   "source": [
    "Personal_info.gender.value_counts(normalize=True).plot(kind='barh',\n",
    "                                                         figsize=(8,8),\n",
    "                                                         title='Gender (%)')"
   ]
  },
  {
   "cell_type": "markdown",
   "metadata": {},
   "source": [
    "### 필기하는 손"
   ]
  },
  {
   "cell_type": "code",
   "execution_count": 24,
   "metadata": {},
   "outputs": [
    {
     "data": {
      "text/plain": [
       "array([1, 2, 3, 0], dtype=int64)"
      ]
     },
     "execution_count": 24,
     "metadata": {},
     "output_type": "execute_result"
    }
   ],
   "source": [
    "Personal_info.hand.unique() # 무응답 존재"
   ]
  },
  {
   "cell_type": "code",
   "execution_count": 25,
   "metadata": {},
   "outputs": [
    {
     "data": {
      "text/plain": [
       "201"
      ]
     },
     "execution_count": 25,
     "metadata": {},
     "output_type": "execute_result"
    }
   ],
   "source": [
    "(Personal_info.hand == 0).sum() # 무응답 : 201건"
   ]
  },
  {
   "cell_type": "code",
   "execution_count": 26,
   "metadata": {},
   "outputs": [
    {
     "data": {
      "text/plain": [
       "[Text(0, 0, 'Right handed'),\n",
       " Text(0, 0, 'Left handed'),\n",
       " Text(0, 0, 'Both handed'),\n",
       " Text(0, 0, 'No reply')]"
      ]
     },
     "execution_count": 26,
     "metadata": {},
     "output_type": "execute_result"
    },
    {
     "data": {
      "image/png": "[encoded data removed]",
      "text/plain": [
       "<Figure size 576x576 with 1 Axes>"
      ]
     },
     "metadata": {},
     "output_type": "display_data"
    }
   ],
   "source": [
    "ax3 = Personal_info.hand.value_counts(normalize=True).plot(kind='barh',\n",
    "                                                         figsize=(8,8),\n",
    "                                                         title='Right/Left handed (%)')\n",
    "ax3.set_yticklabels(['Right handed','Left handed','Both handed','No reply'])"
   ]
  },
  {
   "cell_type": "markdown",
   "metadata": {},
   "source": [
    "### 결혼 여부"
   ]
  },
  {
   "cell_type": "code",
   "execution_count": 27,
   "metadata": {},
   "outputs": [
    {
     "data": {
      "text/plain": [
       "array([3, 1, 2, 0], dtype=int64)"
      ]
     },
     "execution_count": 27,
     "metadata": {},
     "output_type": "execute_result"
    }
   ],
   "source": [
    "Personal_info.married.unique() # 무응답 존재"
   ]
  },
  {
   "cell_type": "code",
   "execution_count": 28,
   "metadata": {},
   "outputs": [
    {
     "data": {
      "text/plain": [
       "121"
      ]
     },
     "execution_count": 28,
     "metadata": {},
     "output_type": "execute_result"
    }
   ],
   "source": [
    "(Personal_info.married==0).sum() # 무응답 :121 건"
   ]
  },
  {
   "cell_type": "code",
   "execution_count": 29,
   "metadata": {},
   "outputs": [
    {
     "data": {
      "text/plain": [
       "[Text(0, 0, 'Never married'),\n",
       " Text(0, 0, 'Currently married'),\n",
       " Text(0, 0, 'Previously married'),\n",
       " Text(0, 0, 'Other')]"
      ]
     },
     "execution_count": 29,
     "metadata": {},
     "output_type": "execute_result"
    },
    {
     "data": {
      "image/png": "[encoded data removed]",
      "text/plain": [
       "<Figure size 576x576 with 1 Axes>"
      ]
     },
     "metadata": {},
     "output_type": "display_data"
    }
   ],
   "source": [
    "ax4 = Personal_info.hand.value_counts(normalize=True).plot(kind='barh',\n",
    "                                                         figsize=(8,8),\n",
    "                                                         title='Married (%)')\n",
    "ax4.set_yticklabels(['Never married','Currently married','Previously married','Other'])"
   ]
  },
  {
   "cell_type": "markdown",
   "metadata": {},
   "source": [
    "### 인종"
   ]
  },
  {
   "cell_type": "code",
   "execution_count": 30,
   "metadata": {},
   "outputs": [
    {
     "data": {
      "text/plain": [
       "array(['White', 'Asian', 'Other', 'Black', 'Native American', 'Arab',\n",
       "       'Indigenous Australian'], dtype=object)"
      ]
     },
     "execution_count": 30,
     "metadata": {},
     "output_type": "execute_result"
    }
   ],
   "source": [
    "Personal_info.race.unique() # No NA"
   ]
  },
  {
   "cell_type": "code",
   "execution_count": 31,
   "metadata": {},
   "outputs": [
    {
     "data": {
      "text/plain": [
       "White                    39166\n",
       "Asian                     8498\n",
       "Other                     5383\n",
       "Black                     2705\n",
       "Native American            665\n",
       "Arab                       434\n",
       "Indigenous Australian       64\n",
       "Name: race, dtype: int64"
      ]
     },
     "execution_count": 31,
     "metadata": {},
     "output_type": "execute_result"
    }
   ],
   "source": [
    "Personal_info.race.value_counts()"
   ]
  },
  {
   "cell_type": "code",
   "execution_count": 32,
   "metadata": {},
   "outputs": [
    {
     "data": {
      "text/plain": [
       "<matplotlib.axes._subplots.AxesSubplot at 0x25437903d08>"
      ]
     },
     "execution_count": 32,
     "metadata": {},
     "output_type": "execute_result"
    },
    {
     "data": {
      "image/png": "[encoded data removed]",
      "text/plain": [
       "<Figure size 576x576 with 1 Axes>"
      ]
     },
     "metadata": {},
     "output_type": "display_data"
    }
   ],
   "source": [
    "Personal_info.race.value_counts(normalize=True).plot(kind='pie',\n",
    "                                                         figsize=(8,8),\n",
    "                                                         title='Race',\n",
    "                                                         )"
   ]
  },
  {
   "cell_type": "markdown",
   "metadata": {},
   "source": [
    "### 종교"
   ]
  },
  {
   "cell_type": "code",
   "execution_count": 33,
   "metadata": {
    "scrolled": true
   },
   "outputs": [
    {
     "data": {
      "text/plain": [
       "array(['Other', 'Hindu', 'Agnostic', 'Atheist', 'Christian_Other',\n",
       "       'Christian_Catholic', 'Muslim', 'Buddhist', 'Christian_Protestant',\n",
       "       'Jewish', 'Christian_Mormon', 'Sikh'], dtype=object)"
      ]
     },
     "execution_count": 33,
     "metadata": {},
     "output_type": "execute_result"
    }
   ],
   "source": [
    "Personal_info.religion.unique() # No NA"
   ]
  },
  {
   "cell_type": "code",
   "execution_count": 34,
   "metadata": {
    "scrolled": true
   },
   "outputs": [
    {
     "data": {
      "text/plain": [
       "Atheist                 12816\n",
       "Agnostic                11933\n",
       "Christian_Catholic       8014\n",
       "Christian_Other          6488\n",
       "Christian_Protestant     6071\n",
       "Other                    5995\n",
       "Hindu                    1772\n",
       "Muslim                   1464\n",
       "Buddhist                 1073\n",
       "Jewish                    599\n",
       "Christian_Mormon          540\n",
       "Sikh                      150\n",
       "Name: religion, dtype: int64"
      ]
     },
     "execution_count": 34,
     "metadata": {},
     "output_type": "execute_result"
    }
   ],
   "source": [
    "Personal_info.religion.value_counts()"
   ]
  },
  {
   "cell_type": "code",
   "execution_count": 35,
   "metadata": {
    "scrolled": false
   },
   "outputs": [
    {
     "data": {
      "text/plain": [
       "<matplotlib.axes._subplots.AxesSubplot at 0x2543796b1c8>"
      ]
     },
     "execution_count": 35,
     "metadata": {},
     "output_type": "execute_result"
    },
    {
     "data": {
      "image/png": "[encoded data removed]",
      "text/plain": [
       "<Figure size 576x576 with 1 Axes>"
      ]
     },
     "metadata": {},
     "output_type": "display_data"
    }
   ],
   "source": [
    "Personal_info.religion.value_counts(normalize=True).plot(kind='pie',\n",
    "                                                         figsize=(8,8),\n",
    "                                                         title='Religion')"
   ]
  },
  {
   "cell_type": "markdown",
   "metadata": {},
   "source": [
    "### 유년기 거주 지역"
   ]
  },
  {
   "cell_type": "code",
   "execution_count": 36,
   "metadata": {},
   "outputs": [
    {
     "data": {
      "text/plain": [
       "array([1, 3, 2, 0], dtype=int64)"
      ]
     },
     "execution_count": 36,
     "metadata": {},
     "output_type": "execute_result"
    }
   ],
   "source": [
    "Personal_info.urban.unique() # 무응답 존재"
   ]
  },
  {
   "cell_type": "code",
   "execution_count": 37,
   "metadata": {},
   "outputs": [
    {
     "data": {
      "text/plain": [
       "2    23085\n",
       "3    22206\n",
       "1    11208\n",
       "0      416\n",
       "Name: urban, dtype: int64"
      ]
     },
     "execution_count": 37,
     "metadata": {},
     "output_type": "execute_result"
    }
   ],
   "source": [
    "Personal_info.urban.value_counts()"
   ]
  },
  {
   "cell_type": "code",
   "execution_count": 38,
   "metadata": {},
   "outputs": [
    {
     "data": {
      "text/plain": [
       "[Text(0, 0, 'Suburban'),\n",
       " Text(0, 0, 'Urban (town, city)'),\n",
       " Text(0, 0, 'Rural (country side)'),\n",
       " Text(0, 0, 'No reply')]"
      ]
     },
     "execution_count": 38,
     "metadata": {},
     "output_type": "execute_result"
    },
    {
     "data": {
      "image/png": "[encoded data removed]",
      "text/plain": [
       "<Figure size 576x576 with 1 Axes>"
      ]
     },
     "metadata": {},
     "output_type": "display_data"
    }
   ],
   "source": [
    "ax5 = Personal_info.urban.value_counts(normalize=True).plot(kind='barh',\n",
    "                                                         figsize=(8,8),\n",
    "                                                         title='Hometown when young (%)')\n",
    "ax5.set_yticklabels(['Suburban','Urban (town, city)','Rural (country side)','No reply'])"
   ]
  },
  {
   "cell_type": "markdown",
   "metadata": {},
   "source": [
    "# Summary\n",
    "age_group : safe   \n",
    "***\n",
    "education : 650 NA  \n",
    "***\n",
    "engnat : 94 NA  \n",
    "***\n",
    "familysize : 3 outliers (2147483647 , 999 , 100)  \n",
    "***\n",
    "gender : safe  \n",
    "***\n",
    "hand : 201 NA  \n",
    "***\n",
    "married : 121 NA  \n",
    "***\n",
    "race : No NA , but rather huge 'Other' category (5383)  \n",
    "***\n",
    "religion : No NA , but rather huge 'Other' category (5995)  \n",
    "***\n",
    "urban : 416 NA"
   ]
  },
  {
   "cell_type": "markdown",
   "metadata": {},
   "source": [
    "# 10.14"
   ]
  },
  {
   "cell_type": "code",
   "execution_count": 39,
   "metadata": {},
   "outputs": [
    {
     "data": {
      "text/plain": [
       "24598    2147483647\n",
       "379             999\n",
       "25661           100\n",
       "Name: familysize, dtype: int64"
      ]
     },
     "execution_count": 39,
     "metadata": {},
     "output_type": "execute_result"
    }
   ],
   "source": [
    "data.familysize.sort_values(ascending=False)[:3]"
   ]
  },
  {
   "cell_type": "code",
   "execution_count": 40,
   "metadata": {},
   "outputs": [],
   "source": [
    "# 각 행별로 무응답(0) 한 질문 수가 몇개씩 있나\n",
    "row_zero_count = data[['education','engnat','hand','married','urban']].apply(lambda x:(x==0).sum(),axis=1)"
   ]
  },
  {
   "cell_type": "code",
   "execution_count": 41,
   "metadata": {
    "scrolled": true
   },
   "outputs": [
    {
     "data": {
      "text/plain": [
       "45592    3\n",
       "28918    2\n",
       "24704    2\n",
       "13494    2\n",
       "3669     2\n",
       "        ..\n",
       "38400    1\n",
       "38481    1\n",
       "38500    1\n",
       "38554    1\n",
       "92       1\n",
       "Length: 1432, dtype: int64"
      ]
     },
     "execution_count": 41,
     "metadata": {},
     "output_type": "execute_result"
    }
   ],
   "source": [
    "# 1개라도 무응답 항목이 있는 행은 총 1432 개나 있는 반면,\n",
    "row_zero_count[row_zero_count>0].sort_values(ascending=False)"
   ]
  },
  {
   "cell_type": "code",
   "execution_count": 42,
   "metadata": {
    "scrolled": true
   },
   "outputs": [
    {
     "data": {
      "text/plain": [
       "45592    3\n",
       "55920    2\n",
       "13494    2\n",
       "26041    2\n",
       "25433    2\n",
       "25011    2\n",
       "24704    2\n",
       "24103    2\n",
       "21046    2\n",
       "19984    2\n",
       "17769    2\n",
       "17061    2\n",
       "15491    2\n",
       "11254    2\n",
       "26920    2\n",
       "11197    2\n",
       "9928     2\n",
       "6727     2\n",
       "5813     2\n",
       "4113     2\n",
       "3669     2\n",
       "3422     2\n",
       "3068     2\n",
       "1100     2\n",
       "26784    2\n",
       "28318    2\n",
       "53885    2\n",
       "44421    2\n",
       "53434    2\n",
       "52945    2\n",
       "51994    2\n",
       "51407    2\n",
       "51099    2\n",
       "48729    2\n",
       "48485    2\n",
       "47705    2\n",
       "44743    2\n",
       "43475    2\n",
       "28918    2\n",
       "42001    2\n",
       "38240    2\n",
       "37385    2\n",
       "36649    2\n",
       "35442    2\n",
       "33648    2\n",
       "31542    2\n",
       "30746    2\n",
       "30076    2\n",
       "746      2\n",
       "dtype: int64"
      ]
     },
     "execution_count": 42,
     "metadata": {},
     "output_type": "execute_result"
    }
   ],
   "source": [
    "# 2개 이상 있는 행은 몇 개 없음 : 49개\n",
    "row_zero_count[row_zero_count>1].sort_values(ascending=False)"
   ]
  },
  {
   "cell_type": "markdown",
   "metadata": {},
   "source": [
    "### 즉 , 무응답한 질문 수가 많은 설문자의 데이터는 과감히 버리려 했는데 딱히 그럴만한 데이터도 없네.."
   ]
  },
  {
   "cell_type": "markdown",
   "metadata": {},
   "source": [
    "# Summary  \n",
    "|name|status|remarks|\n",
    "|:--:|:--:|:--:|\n",
    "|age_group|safe|   |\n",
    "|education|650 NA|  |\n",
    "|engnat|94 NA|  |  \n",
    "|familysize|3 outliers|(2147483647 , 999 , 100)|  \n",
    "|gender|safe|  |\n",
    "|hand|201 NA|  |\n",
    "|married|121 NA|  |  \n",
    "|race|No NA|but rather huge 'Other' category (5383)|  \n",
    "|religion|No NA|but rather huge 'Other' category (5995)|  \n",
    "|urban|416 NA|  |  \n",
    "\n",
    "- rows with at least 1 `No reply (0)` : 1432\n",
    "- rows with at more than 1 `No reply (0)` : 49"
   ]
  },
  {
   "cell_type": "markdown",
   "metadata": {},
   "source": [
    "### 결측값을 개인정보끼리 관계로 예측가능한가 : heatmap"
   ]
  },
  {
   "cell_type": "code",
   "execution_count": 43,
   "metadata": {},
   "outputs": [
    {
     "ename": "NameError",
     "evalue": "name 'sample' is not defined",
     "output_type": "error",
     "traceback": [
      "\u001b[1;31m---------------------------------------------------------------------------\u001b[0m",
      "\u001b[1;31mNameError\u001b[0m                                 Traceback (most recent call last)",
      "\u001b[1;32m<ipython-input-43-d2224bf96ff5>\u001b[0m in \u001b[0;36m<module>\u001b[1;34m\u001b[0m\n\u001b[1;32m----> 1\u001b[1;33m \u001b[0mcorr\u001b[0m \u001b[1;33m=\u001b[0m \u001b[0mpd\u001b[0m\u001b[1;33m.\u001b[0m\u001b[0mDataFrame\u001b[0m\u001b[1;33m(\u001b[0m\u001b[0msample\u001b[0m\u001b[1;33m,\u001b[0m\u001b[0mcolumns\u001b[0m\u001b[1;33m=\u001b[0m\u001b[1;33m[\u001b[0m\u001b[1;34m'education'\u001b[0m\u001b[1;33m,\u001b[0m\u001b[1;34m'engnat'\u001b[0m\u001b[1;33m,\u001b[0m\u001b[1;34m'hand'\u001b[0m\u001b[1;33m,\u001b[0m\u001b[1;34m'married'\u001b[0m\u001b[1;33m,\u001b[0m\u001b[1;34m'urban'\u001b[0m\u001b[1;33m]\u001b[0m\u001b[1;33m)\u001b[0m\u001b[1;33m.\u001b[0m\u001b[0mcorr\u001b[0m\u001b[1;33m(\u001b[0m\u001b[0mmethod\u001b[0m\u001b[1;33m=\u001b[0m\u001b[1;34m'spearman'\u001b[0m\u001b[1;33m)\u001b[0m\u001b[1;33m\u001b[0m\u001b[1;33m\u001b[0m\u001b[0m\n\u001b[0m",
      "\u001b[1;31mNameError\u001b[0m: name 'sample' is not defined"
     ]
    }
   ],
   "source": [
    "corr = pd.DataFrame(sample,columns=['education','engnat','hand','married','urban']).corr(method='spearman')"
   ]
  },
  {
   "cell_type": "code",
   "execution_count": null,
   "metadata": {},
   "outputs": [],
   "source": [
    "corr"
   ]
  },
  {
   "cell_type": "code",
   "execution_count": null,
   "metadata": {
    "scrolled": false
   },
   "outputs": [],
   "source": [
    "plt.figure(figsize=(11,11))\n",
    "sns.heatmap(corr,vmin=corr.min().min(),vmax=1,square=True,cmap='ocean')"
   ]
  },
  {
   "cell_type": "markdown",
   "metadata": {},
   "source": [
    "# 택도없다!"
   ]
  },
  {
   "cell_type": "code",
   "execution_count": null,
   "metadata": {},
   "outputs": [],
   "source": []
  },
  {
   "cell_type": "code",
   "execution_count": 44,
   "metadata": {},
   "outputs": [
    {
     "data": {
      "text/html": [
       "<div>\n",
       "<style scoped>\n",
       "    .dataframe tbody tr th:only-of-type {\n",
       "        vertical-align: middle;\n",
       "    }\n",
       "\n",
       "    .dataframe tbody tr th {\n",
       "        vertical-align: top;\n",
       "    }\n",
       "\n",
       "    .dataframe thead th {\n",
       "        text-align: right;\n",
       "    }\n",
       "</style>\n",
       "<table border=\"1\" class=\"dataframe\">\n",
       "  <thead>\n",
       "    <tr style=\"text-align: right;\">\n",
       "      <th></th>\n",
       "      <th>education</th>\n",
       "      <th>engnat</th>\n",
       "      <th>hand</th>\n",
       "      <th>married</th>\n",
       "      <th>urban</th>\n",
       "    </tr>\n",
       "  </thead>\n",
       "  <tbody>\n",
       "    <tr>\n",
       "      <th>education</th>\n",
       "      <td>1.000000</td>\n",
       "      <td>0.133836</td>\n",
       "      <td>-0.033611</td>\n",
       "      <td>0.241355</td>\n",
       "      <td>-0.010077</td>\n",
       "    </tr>\n",
       "    <tr>\n",
       "      <th>engnat</th>\n",
       "      <td>0.133836</td>\n",
       "      <td>1.000000</td>\n",
       "      <td>-0.032106</td>\n",
       "      <td>-0.115358</td>\n",
       "      <td>0.138914</td>\n",
       "    </tr>\n",
       "    <tr>\n",
       "      <th>hand</th>\n",
       "      <td>-0.033611</td>\n",
       "      <td>-0.032106</td>\n",
       "      <td>1.000000</td>\n",
       "      <td>-0.010756</td>\n",
       "      <td>-0.008659</td>\n",
       "    </tr>\n",
       "    <tr>\n",
       "      <th>married</th>\n",
       "      <td>0.241355</td>\n",
       "      <td>-0.115358</td>\n",
       "      <td>-0.010756</td>\n",
       "      <td>1.000000</td>\n",
       "      <td>-0.065273</td>\n",
       "    </tr>\n",
       "    <tr>\n",
       "      <th>urban</th>\n",
       "      <td>-0.010077</td>\n",
       "      <td>0.138914</td>\n",
       "      <td>-0.008659</td>\n",
       "      <td>-0.065273</td>\n",
       "      <td>1.000000</td>\n",
       "    </tr>\n",
       "  </tbody>\n",
       "</table>\n",
       "</div>"
      ],
      "text/plain": [
       "           education    engnat      hand   married     urban\n",
       "education   1.000000  0.133836 -0.033611  0.241355 -0.010077\n",
       "engnat      0.133836  1.000000 -0.032106 -0.115358  0.138914\n",
       "hand       -0.033611 -0.032106  1.000000 -0.010756 -0.008659\n",
       "married     0.241355 -0.115358 -0.010756  1.000000 -0.065273\n",
       "urban      -0.010077  0.138914 -0.008659 -0.065273  1.000000"
      ]
     },
     "execution_count": 44,
     "metadata": {},
     "output_type": "execute_result"
    }
   ],
   "source": [
    "data[['education','engnat','hand','married','urban']].dropna().corr(method='pearson')"
   ]
  },
  {
   "cell_type": "code",
   "execution_count": 45,
   "metadata": {
    "scrolled": true
   },
   "outputs": [
    {
     "data": {
      "text/plain": [
       "2    24898\n",
       "1    20634\n",
       "Name: voted, dtype: int64"
      ]
     },
     "execution_count": 45,
     "metadata": {},
     "output_type": "execute_result"
    }
   ],
   "source": [
    "train.voted.value_counts()"
   ]
  },
  {
   "cell_type": "code",
   "execution_count": null,
   "metadata": {},
   "outputs": [],
   "source": []
  }
 ],
 "metadata": {
  "celltoolbar": "Slideshow",
  "kernelspec": {
   "display_name": "Python 3",
   "language": "python",
   "name": "python3"
  },
  "language_info": {
   "codemirror_mode": {
    "name": "ipython",
    "version": 3
   },
   "file_extension": ".py",
   "mimetype": "text/x-python",
   "name": "python",
   "nbconvert_exporter": "python",
   "pygments_lexer": "ipython3",
   "version": "3.7.6"
  }
 },
 "nbformat": 4,
 "nbformat_minor": 4
}
